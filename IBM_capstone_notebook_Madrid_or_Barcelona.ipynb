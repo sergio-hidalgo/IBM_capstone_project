{
 "cells": [
  {
   "cell_type": "markdown",
   "metadata": {},
   "source": [
    "# Capstone Project - Moving to Madrid or to Barcelona?\n",
    "### A data-driven approach"
   ]
  },
  {
   "cell_type": "markdown",
   "metadata": {
    "ExecuteTime": {
     "end_time": "2021-03-23T20:19:25.475197Z",
     "start_time": "2021-03-23T20:19:25.461203Z"
    }
   },
   "source": [
    "## Table of contents\n",
    "* Introduction: Business Problem\n",
    "* Data\n",
    "* Methodology\n",
    "* Analysis\n",
    "* Results and Discussion\n",
    "* Conclusion"
   ]
  },
  {
   "cell_type": "markdown",
   "metadata": {},
   "source": [
    "## Introduction: Business Problem"
   ]
  },
  {
   "cell_type": "markdown",
   "metadata": {},
   "source": [
    "Madrid and Barcelona are the main destination cities for both national people willing to progress and foreigners moving to Spain. This is mainly based on their huge facilities portfolio, their overall business structure and a rich high-quality jobs offer.\n",
    "\n",
    "But, where to move? There are countless online and offline resources from which you can pull information about where your dreamed job may be. But little to no remote options are available to check objective information about what you can do in your personal life, when the working time is over, and how to compare those two cities in regards to such aspect of your life.\n",
    "\n",
    "Everybody has their own needs, so we will focus on a given ‘persona’ profile very likely to be a national and/or international migrant. This ‘persona’ profile consists of:\n",
    "* young people without children,\n",
    "* likely with pets,\n",
    "* and lovers of the natural life.\n",
    "\n",
    "These people usually have a higher than average level of spending, which is a driver for local entities to attract such kind of talent too.\n",
    "\n",
    "We will use data science to chose which of the two cities is the most appropriate one for such 'persona' profile looking for a downtown 'natural way of life', and later to provide options on the most promising neighborhoods based on this criteria and the economic capabilities of the possible diverse migrants."
   ]
  },
  {
   "cell_type": "markdown",
   "metadata": {},
   "source": [
    "## Data"
   ]
  },
  {
   "cell_type": "markdown",
   "metadata": {},
   "source": [
    "Based on the definition of our problem, the main factors to decide which of the two cities is the most appropriated destination for a migrant looking for a natural and high standard way of life will be:\n",
    "* which one has the biggest amount of venues linked to natural way of life (healthy restaurants and shops, sport areas, natural walkways, etc.)\n",
    "* which one has those natural venues more equally distributed across neighborhoods, so that once chosen a destination city there might be more options to find the right neighborhood amongst a wider offer. \n",
    "\n",
    "Once the final destination city is chosen, neighborhoods of similar characteristics will be clustered. Once the most 'natural' candidate cluster is chosen, there will be a cross-reference between possible migrant salary and the affordable renting options amongst neighborhoods in such cluster. \n",
    "\n",
    "Following data sources will be needed to extract/generate the required information:\n",
    "* Wikipedia sites will be parsed with `BeautifulSoup` library for districts and neighborhoods structure\n",
    "* obtain coordiantes data from a mix of Wikipedia and `Geohack` sites\n",
    "* use the `Foursquare API` to extract the most relevant venues per neighborhood\n",
    "* summarize information per city based on a selection of venues\n",
    "* incorporate datsets of information around: average building measures by neighborhoods, average renting price by neighborhood and average salaries for a set of alternative jobs for the migrant."
   ]
  },
  {
   "cell_type": "markdown",
   "metadata": {},
   "source": [
    "### Madrid and Barcelona districts and neighborhoods structure and coordinates"
   ]
  },
  {
   "cell_type": "markdown",
   "metadata": {},
   "source": [
    "The process to extract the diverse districts and neighborhoods as well as their respective coordinates for both Madrid and Barcelona was:\n",
    "\n",
    "- extract districts and neighborhoods structure from Wikipedia sites for Madrid $^{ (1)}$ and Barcelona $^{ (2)}$\n",
    "- since in Spain there is a complete lack of alignment between postal codes and neighborhoods it was impossible to use geolocation libraries like `geopy` or `pgeocode` to extract dynamically the coordinates from those; thus, some manual work was required to pool data from Wikipedia + Geohack $^{ (3)}$ site to get coordinates information\n",
    "- the coordinates information was included as dictionaries and converted into dataframes for later processing."
   ]
  },
  {
   "cell_type": "code",
   "execution_count": 1,
   "metadata": {
    "ExecuteTime": {
     "end_time": "2021-03-27T18:02:56.861617Z",
     "start_time": "2021-03-27T18:02:56.389732Z"
    }
   },
   "outputs": [],
   "source": [
    "#import required libraries\n",
    "import pandas as pd\n",
    "import requests\n",
    "from bs4 import BeautifulSoup\n",
    "\n",
    "# set the options of the dataframe display\n",
    "pd.set_option('display.max_columns', None)\n",
    "pd.set_option('display.max_rows', None)"
   ]
  },
  {
   "cell_type": "markdown",
   "metadata": {},
   "source": [
    "#### Madrid districts and neighborhoods extraction"
   ]
  },
  {
   "cell_type": "markdown",
   "metadata": {},
   "source": [
    "As a first step, we need to extract the information from Wikipedia Madrid districts and neighborhoods site by parsing the table including such content:"
   ]
  },
  {
   "cell_type": "code",
   "execution_count": 2,
   "metadata": {
    "ExecuteTime": {
     "end_time": "2021-03-27T18:02:57.204777Z",
     "start_time": "2021-03-27T18:02:56.862615Z"
    }
   },
   "outputs": [],
   "source": [
    "# define seed url\n",
    "url_mad = 'https://en.wikipedia.org/wiki/List_of_neighborhoods_of_Madrid'\n",
    "\n",
    "# identify table class\n",
    "table_class = \"wikitable sortable jquery-tablesorter\"\n",
    "\n",
    "# define headers to avoid banning\n",
    "headers = {\n",
    "    \"user-agent\": \"Mozilla/5.0 (X11; Linux x86_64) AppleWebKit/537.36 (KHTML, like Gecko) Ubuntu Chromium/71.0.3578.80 Chrome/71.0.3578.80 Safari/537.36\"\n",
    "}\n",
    "\n",
    "# make a request\n",
    "response_mad = requests.get(url_mad, headers = headers)\n",
    "\n",
    "# parse data from the html into a beautifulsoup object\n",
    "soup_mad = BeautifulSoup(response_mad.text, 'html.parser')\n",
    "mad_table = soup_mad.find('table', {'class':\"wikitable\"})\n",
    "\n",
    "# read html and covert into a dataframe\n",
    "df_mad = pd.read_html(str(mad_table))\n",
    "df_mad = pd.DataFrame(df_mad[0])\n",
    "\n",
    "# repurpose dataframe to include only some columns\n",
    "df_mad = df_mad.drop(['District location', 'Number', 'Image'], axis = 1)\n",
    "\n",
    "# rename columns for easier display\n",
    "df_mad = df_mad.rename(columns = {\"District name (number)\": \"District\", \"Name\": \"Neighborhood\"})"
   ]
  },
  {
   "cell_type": "markdown",
   "metadata": {},
   "source": [
    "Since in the Wikipedia table the diverse districts of Madrid are listed with a number within the same string and also we need to remove the stress signs and the 'ñ' letters to avoid latter issues with mapping in both districts and neighborhoods, we need to do some additional work on the data:"
   ]
  },
  {
   "cell_type": "code",
   "execution_count": 3,
   "metadata": {
    "ExecuteTime": {
     "end_time": "2021-03-27T18:02:57.235697Z",
     "start_time": "2021-03-27T18:02:57.205778Z"
    }
   },
   "outputs": [],
   "source": [
    "# define old and new values lists for districts\n",
    "old_district = ['Centro (1)', 'Arganzuela (2)', 'Retiro (3)', 'Salamanca (4)', 'Chamartín (5)', 'Tetuán (6)', 'Chamberí (7)', 'Fuencarral-El Pardo (8)', 'Moncloa-Aravaca (9)', 'Latina (10)', 'Carabanchel (11)', 'Usera (12)', 'Puente de Vallecas (13)', 'Moratalaz (14)', 'Ciudad Lineal (15)', 'Hortaleza (16)', 'Villaverde (17)', 'Villa de Vallecas (18)', 'Vicálvaro (19)', 'San Blas-Canillejas (20)', 'Barajas (21)']\n",
    "new_district = ['Centro', 'Arganzuela', 'Retiro', 'Salamanca', 'Chamartin', 'Tetuan', 'Chamberi', 'Fuencarral-El Pardo', 'Moncloa-Aravaca', 'Latina', 'Carabanchel', 'Usera', 'Puente de Vallecas', 'Moratalaz', 'Ciudad Lineal', 'Hortaleza', 'Villaverde', 'Villa de Vallecas', 'Vicalvaro', 'San Blas-Canillejas', 'Barajas']\n",
    "\n",
    "# generate a loop to replace all elements in the districts list\n",
    "for i in range(len(old_district)):\n",
    "    df_mad['District'] = df_mad['District'].astype(str).replace(old_district[i], new_district[i])\n",
    "\n",
    "# define old and new values lists for neighborhoods\n",
    "old_neigh = ['Pacífico', 'Los Jerónimos', 'Niño Jesús', 'Ciudad Jardín', 'Hispanoamérica', 'Nueva España', 'Ríos Rosas', 'Peñagrande', 'Argüelles', 'Valdemarín', 'El Plantío', 'Los Cármenes', 'Puerta del Ángel', 'Las Águilas', 'Opañel', 'San Fermín', 'Moscardó', 'Entrevías', 'Fontarrón', 'Concepción', 'Apóstol Santiago', 'San Cristóbal', 'Los Ángeles', 'Casco Histórico de Vallecas', 'El Cañaveral', 'Hellín', 'Casco Histórico de Barajas', 'Timón']\n",
    "new_neigh = ['Pacifico', 'Los Jeronimos', 'Nino Jesus', 'Ciudad Jardin', 'Hispanoamerica', 'Nueva Espana', 'Rios Rosas', 'Penagrande', 'Arguelles', 'Valdemarin', 'El Plantio', 'Los Carmenes', 'Puerta del Angel', 'Las Aguilas', 'Opanel', 'San Fermin', 'Moscardo', 'Entrevias', 'Fontarron', 'Concepcion', 'Apostol Santiago', 'San Cristobal', 'Los Angeles', 'Casco Historico de Vallecas', 'El Canaveral', 'Hellin', 'Casco Historico de Barajas', 'Timon']\n",
    "\n",
    "# generate a loop to replace all elements in the districts list\n",
    "for i in range(len(old_neigh)):\n",
    "    df_mad['Neighborhood'] = df_mad['Neighborhood'].astype(str).replace(old_neigh[i], new_neigh[i])"
   ]
  },
  {
   "cell_type": "markdown",
   "metadata": {},
   "source": [
    "#### Madrid neighborhood coordinates"
   ]
  },
  {
   "cell_type": "markdown",
   "metadata": {},
   "source": [
    "We will incorporate the coordinates information for the Madrid neighborhoods into a dictionary which will be immediately converted into a dataframe:"
   ]
  },
  {
   "cell_type": "code",
   "execution_count": 4,
   "metadata": {
    "ExecuteTime": {
     "end_time": "2021-03-27T18:02:57.266614Z",
     "start_time": "2021-03-27T18:02:57.237691Z"
    }
   },
   "outputs": [],
   "source": [
    "# dictionary extracted from Geohack with Madrid neighborhoods coordinates\n",
    "mad_coord = {'Palacio': [40.415, -3.713333], 'Embajadores': [40.408889, -3.699722], 'Cortes': [40.414167, -3.698056], 'Justicia': [40.423889, -3.696389], 'Universidad': [40.425278, -3.708333], 'Sol': [40.416667, -3.703889], 'Imperial': [40.406667, -3.716944], 'Acacias': [40.401422, -3.704936], 'Chopera': [40.395, -3.699444], 'Legazpi': [40.388611, -3.695178], 'Delicias': [40.395833, -3.689444], 'Palos de Moguer': [40.403889, -3.693889], 'Atocha': [40.400819, -3.683681], 'Pacifico': [40.404722, -3.675833], 'Adelfas': [40.400278, -3.670833], 'Estrella': [40.413611, -3.664167], 'Ibiza': [40.418889, -3.674167], 'Los Jeronimos': [40.413889, -3.690833], 'Nino Jesus': [40.411667, -3.673889], 'Recoletos': [40.424167, -3.686389], 'Goya': [40.425278, -3.674722], 'Fuente del Berro': [40.424722, -3.663889], 'Guindalera': [40.435833, -3.668333], 'Lista': [40.432778, -3.674444], 'Castellana': [40.433333, -3.684722], 'El Viso': [40.4444, -3.6888], 'Prosperidad': [40.445, -3.67], 'Ciudad Jardin': [40.446944, -3.671667], 'Hispanoamerica': [40.455556, -3.676667], 'Nueva Espana': [40.463056, -3.6775], 'Castilla': [40.475, -3.678889], 'Bellas Vistas': [40.452458, -3.70719], 'Cuatro Caminos': [40.450278, -3.695833], 'Castillejos': [40.461389, -3.6925], 'Almenara': [40.4713, -3.6955], 'Valdeacederas': [40.468611, -3.705556], 'Berruguete': [40.4575, -3.705556], 'Gaztambide': [40.434722, -3.714722], 'Arapiles': [40.434167, -3.707778], 'Trafalgar': [40.433056, -3.700556], 'Almagro': [40.431667, -3.694167], 'Rios Rosas': [40.442222, -3.697222], 'Vallehermoso': [40.442778, -3.711667], 'El Pardo': [40.516667, -3.766667], 'Fuentelarreina': [40.481944, -3.7425], 'Penagrande': [40.478056, -3.725556], 'Pilar': [40.476944, -3.7125], 'La Paz': [40.481389, -3.696944], 'Valverde': [40.505833, -3.685833], 'Mirasierra': [40.491667, -3.708056], 'El Goloso': [40.556111, -3.703333], 'Casa de Campo': [40.481944, -3.7425], 'Arguelles': [40.427778, -3.717778], 'Ciudad Universitaria': [40.443772, -3.726136], 'Valdezarza': [40.465, -3.718333], 'Valdemarin': [40.472561, -3.780239], 'El Plantio': [40.4708, -3.825561], 'Aravaca': [40.45, -3.783333], 'Los Carmenes': [40.406944, -3.726389], 'Puerta del Angel': [40.411944, -3.729722], 'Lucero': [40.410556, -3.735833], 'Aluche': [40.3875, -3.754167], 'Campamento': [40.3875, -3.781944], 'Cuatro Vientos': [40.3775, -3.791111], 'Las Aguilas': [40.3775, -3.764167], 'Comillas': [40.392778, -3.713889], 'Opanel': [40.388889, -3.728056], 'San Isidro': [40.398889, -3.726389], 'Vista Alegre': [40.386111, -3.738889], 'Puerta Bonita': [40.381944, -3.736389], 'Buenavista': [40.366667, -3.755], 'Abrantes': [40.380556, -3.723889], 'Orcasitas': [40.368611, -3.711944], 'Orcasur': [40.367222, -3.699167], 'San Fermin': [40.371667, -3.688333], 'Almendrales': [40.383611, -3.698889], 'Moscardo': [40.39, -3.707778], 'Zofío': [40.379167, -3.715278], 'Pradolongo': [40.378333, -3.706111], 'Entrevias': [40.4, -3.683333], 'San Diego': [40.396389, -3.667222], 'Palomeras Bajas': [40.387222, -3.657222], 'Palomeras Sureste': [40.387778, -3.639444], 'Portazgo': [40.3925, -3.649722], 'Numancia': [40.400833, -3.663056], 'Pavones': [40.394722, -3.633056], 'Horcajo': [40.411389, -3.626944], 'Marroquina': [40.411111, -3.641111], 'Media Legua': [40.414167, -3.654722], 'Fontarron': [40.40139, -3.64528], 'Vinateros': [40.403056, -3.640278], 'Ventas': [40.428333, -3.6575], 'Pueblo Nuevo': [40.425278, -3.635278], 'Quintana': [40.4375, -3.642222], 'Concepcion': [40.440278, -3.648056], 'San Pascual': [40.4425, -3.6525], 'San Juan Bautista': [40.45, -3.656667], 'Colina': [40.456667, -3.661944], 'Atalaya': [40.466111, -3.666944], 'Costillares': [40.4744, -3.6697], 'Palomas': [40.453611, -3.618056], 'Piovera': [40.453611, -3.640278], 'Canillas': [40.459722, -3.645556], 'Pinar del Rey': [40.464722, -3.655556], 'Apostol Santiago': [40.476389, -3.658056], 'Valdefuentes': [40.490556, -3.623889], 'Villaverde Alto': [40.347778, -3.711667], 'San Cristobal': [40.343333, -3.688611], 'Butarque': [40.343611, -3.679722], 'Los Rosales': [40.360278, -3.685556], 'Los Angeles': [40.356667, -3.699167], 'Casco Historico de Vallecas': [40.359444, -3.636389], 'Santa Eugenia': [40.383333, -3.611389], 'Ensanche de Vallecas': [40.365528, -3.603264], 'Casco Histórico de Vicálvaro': [40.396944, -3.615], 'Valdebernardo': [40.400046, -3.621561], 'Valderrivas': [40.401583, -3.599094], 'El Canaveral': [40.401433, -3.552617], 'Simancas': [40.428056, -3.625278], 'Hellin': [40.430278, -3.618889], 'Amposta': [40.430278, -3.619444], 'Arcos': [40.423889, -3.613056], 'Rosas': [40.436111, -3.599444], 'Rejas': [40.443611, -3.595], 'Canillejas': [40.45, -3.616667], 'El Salvador': [40.444444, -3.633056], 'Alameda de Osuna': [40.428056, -3.625278], 'Aeropuerto': [40.494167, -3.566944], 'Casco Historico de Barajas': [40.473611, -3.577222], 'Timon': [40.476667, -3.614167], 'Corralejos': [40.464444, -3.59]}\n",
    "\n",
    "# generate a dataframe from dictionary\n",
    "df_mad_coord = pd.DataFrame.from_dict(mad_coord, orient = 'index')\n",
    "df_mad_coord.reset_index(level = 0, inplace = True)\n",
    "df_mad_coord.columns = ['Neighborhood', 'Latitude', 'Longitude']"
   ]
  },
  {
   "cell_type": "markdown",
   "metadata": {},
   "source": [
    "Once information on the Madrid neighborhoods coordinates captured into a dataframe, we will merge it with the parsed info from Wikipedia into a single dataframe for Madrid:"
   ]
  },
  {
   "cell_type": "code",
   "execution_count": 5,
   "metadata": {
    "ExecuteTime": {
     "end_time": "2021-03-27T18:02:57.298557Z",
     "start_time": "2021-03-27T18:02:57.268609Z"
    }
   },
   "outputs": [
    {
     "name": "stdout",
     "output_type": "stream",
     "text": [
      "(131, 4)\n"
     ]
    },
    {
     "data": {
      "text/html": [
       "<div>\n",
       "<style scoped>\n",
       "    .dataframe tbody tr th:only-of-type {\n",
       "        vertical-align: middle;\n",
       "    }\n",
       "\n",
       "    .dataframe tbody tr th {\n",
       "        vertical-align: top;\n",
       "    }\n",
       "\n",
       "    .dataframe thead th {\n",
       "        text-align: right;\n",
       "    }\n",
       "</style>\n",
       "<table border=\"1\" class=\"dataframe\">\n",
       "  <thead>\n",
       "    <tr style=\"text-align: right;\">\n",
       "      <th></th>\n",
       "      <th>District</th>\n",
       "      <th>Neighborhood</th>\n",
       "      <th>Latitude</th>\n",
       "      <th>Longitude</th>\n",
       "    </tr>\n",
       "  </thead>\n",
       "  <tbody>\n",
       "    <tr>\n",
       "      <th>0</th>\n",
       "      <td>Centro</td>\n",
       "      <td>Palacio</td>\n",
       "      <td>40.415000</td>\n",
       "      <td>-3.713333</td>\n",
       "    </tr>\n",
       "    <tr>\n",
       "      <th>1</th>\n",
       "      <td>Centro</td>\n",
       "      <td>Embajadores</td>\n",
       "      <td>40.408889</td>\n",
       "      <td>-3.699722</td>\n",
       "    </tr>\n",
       "    <tr>\n",
       "      <th>2</th>\n",
       "      <td>Centro</td>\n",
       "      <td>Cortes</td>\n",
       "      <td>40.414167</td>\n",
       "      <td>-3.698056</td>\n",
       "    </tr>\n",
       "    <tr>\n",
       "      <th>3</th>\n",
       "      <td>Centro</td>\n",
       "      <td>Justicia</td>\n",
       "      <td>40.423889</td>\n",
       "      <td>-3.696389</td>\n",
       "    </tr>\n",
       "    <tr>\n",
       "      <th>4</th>\n",
       "      <td>Centro</td>\n",
       "      <td>Universidad</td>\n",
       "      <td>40.425278</td>\n",
       "      <td>-3.708333</td>\n",
       "    </tr>\n",
       "  </tbody>\n",
       "</table>\n",
       "</div>"
      ],
      "text/plain": [
       "  District Neighborhood   Latitude  Longitude\n",
       "0   Centro      Palacio  40.415000  -3.713333\n",
       "1   Centro  Embajadores  40.408889  -3.699722\n",
       "2   Centro       Cortes  40.414167  -3.698056\n",
       "3   Centro     Justicia  40.423889  -3.696389\n",
       "4   Centro  Universidad  40.425278  -3.708333"
      ]
     },
     "execution_count": 5,
     "metadata": {},
     "output_type": "execute_result"
    }
   ],
   "source": [
    "mad_neigh_coord = pd.merge(df_mad, df_mad_coord, on='Neighborhood')\n",
    "\n",
    "# display shape and dataframe head\n",
    "print(mad_neigh_coord.shape)\n",
    "mad_neigh_coord.head()"
   ]
  },
  {
   "cell_type": "markdown",
   "metadata": {},
   "source": [
    "#### Barcelona districts and neighborhoods extraction"
   ]
  },
  {
   "cell_type": "markdown",
   "metadata": {},
   "source": [
    "As a first step, we need to extract the information from Wikipedia Barcelona districts and neighborhoods site by parsing the table including such content:"
   ]
  },
  {
   "cell_type": "code",
   "execution_count": 6,
   "metadata": {
    "ExecuteTime": {
     "end_time": "2021-03-27T18:02:57.798358Z",
     "start_time": "2021-03-27T18:02:57.300524Z"
    },
    "scrolled": true
   },
   "outputs": [],
   "source": [
    "# define seed url\n",
    "url_bcn = 'https://en.wikipedia.org/wiki/Districts_of_Barcelona'\n",
    "\n",
    "# identify table class\n",
    "table_class = \"wikitable\"\n",
    "\n",
    "# define headers to avoid banning\n",
    "headers = {\n",
    "    \"user-agent\": \"Mozilla/5.0 (X11; Linux x86_64) AppleWebKit/537.36 (KHTML, like Gecko) Ubuntu Chromium/71.0.3578.80 Chrome/71.0.3578.80 Safari/537.36\"\n",
    "}\n",
    "\n",
    "# make a request\n",
    "response_bcn = requests.get(url_bcn, headers = headers)\n",
    "\n",
    "# parse data from the html into a beautifulsoup object\n",
    "soup_bcn = BeautifulSoup(response_bcn.text, 'html.parser')\n",
    "bcn_table = soup_bcn.find('table', {'class':\"wikitable\"})\n",
    "\n",
    "# read html and covert into a dataframe\n",
    "df_bcn = pd.read_html(str(bcn_table))\n",
    "df_bcn = pd.DataFrame(df_bcn[0])\n",
    "\n",
    "# repurpose dataframe to include only some columns\n",
    "df_bcn = df_bcn.drop(['Number', 'Size km2', 'Population', 'Density inhabitants/km2', 'Councilman[2]', 'Party'], axis = 1)\n",
    "\n",
    "# rename columns for easier display\n",
    "df_bcn = df_bcn.rename(columns = {\"Neighbourhoods\": \"Neighborhood\"})"
   ]
  },
  {
   "cell_type": "markdown",
   "metadata": {},
   "source": [
    "Since in the Wikipedia table the diverse neighborhoods of Barcelona are listed by district row as a comma-separated list, and there are some typos and mismatching which may influence later when trying to merge info from another sources into a single dataframe, we need to do some additional work on the data, including separating elements within row and to explode each of those elements into a different row: "
   ]
  },
  {
   "cell_type": "code",
   "execution_count": 7,
   "metadata": {
    "ExecuteTime": {
     "end_time": "2021-03-27T18:02:57.830238Z",
     "start_time": "2021-03-27T18:02:57.802327Z"
    }
   },
   "outputs": [],
   "source": [
    "# generate lists of elements to replace and those replacing the former \n",
    "old = []\n",
    "for i in range(df_bcn.shape[0]):\n",
    "    old.append(df_bcn['Neighborhood'][i])\n",
    "\n",
    "new = [\"La Barceloneta,El Gotic,El Raval,Sant Pere Santa Caterina i la Ribera\",\"LAntiga Esquerra de lEixample,La Nova Esquerra de lEixample,Dreta de lEixample,Fort Pienc,Sagrada Familia,Sant Antoni\",\"La Bordeta,La Font de la Guatlla,Hostafrancs,La Marina de Port,La Marina del Prat Vermell,El Poblesec,Sants,Sants Badal,Montjuic,Zona Franca Port\",\"Les Corts,La Maternitat i Sant Ramon,Pedralbes\",\"Vallvidrera el Tibidabo i les Planes,Sarria,El Puget i Farro,Les Tres Torres,Sant Gervasi la Bonanova,Sant Gervasi Galvany\",\"Vila de Gracia,El Camp den Grassot i Gracia Nova,La Salut,El Coll,Vallcarca i els Penitents\",\"El Baix Guinardo,El Guinardo,Can Baro,El Carmel,La Font den Fargues,Horta,La Clota,Montbau,Sant Genis dels Agudells,La Teixonera,La Vall dHebron\",\"Can Peguera,Canyelles,Ciutat Meridiana,La Guineueta,Porta,La Prosperitat,Les Roquetes,Torre Baro,La Trinitat Nova,El Turo de la Peira,Vallbona,Verdum,Vilapicina i la Torre Llobeta\",\"Baro de Viver,Bon Pastor,El Congres i els Indians,Navas,Sant Andreu de Palomar,La Sagrera,La Trinitat Vella\",\"El Besos i el Maresme,El Clot,El Camp de lArpa del Clot,Diagonal Mar i el Front Maritim del Poblenou,El Parc i la Llacuna del Poblenou,Poblenou,Provencals del Poblenou,Sant Marti de Provencals,La Verneda i la Pau,La Vila Olimpica del Poblenou\"]\n",
    "\n",
    "# generate a loop to replace all elements in the list\n",
    "for i in range(df_bcn.shape[0]):\n",
    "    df_bcn['Neighborhood'] = df_bcn['Neighborhood'].astype(str).replace(old[i], new[i])\n",
    "\n",
    "# explode list of elements into different rows\n",
    "df_bcn = df_bcn.assign(Neighborhood = df_bcn.Neighborhood.str.split(\",\")).explode('Neighborhood').reset_index().drop('index', axis = 1)"
   ]
  },
  {
   "cell_type": "markdown",
   "metadata": {},
   "source": [
    "#### Barcelona neighborhood coordinates"
   ]
  },
  {
   "cell_type": "markdown",
   "metadata": {},
   "source": [
    "We will incorporate the coordinates information for the Barcelona neighborhoods into a dictionary which will be immediately converted into a dataframe:"
   ]
  },
  {
   "cell_type": "code",
   "execution_count": 8,
   "metadata": {
    "ExecuteTime": {
     "end_time": "2021-03-27T18:02:57.861155Z",
     "start_time": "2021-03-27T18:02:57.832232Z"
    }
   },
   "outputs": [],
   "source": [
    "# dictionary extracted from Geohack with Barcelona neighborhoods coordinates\n",
    "bcn_coord = {'El Raval': [41.380000, 2.168610], 'El Gotic': [41.382778, 2.176944], 'La Barceloneta': [41.379440, 2.189170], 'Sant Pere Santa Caterina i la Ribera': [41.384700, 2.182600], 'Fort Pienc': [41.395675, 2.183703], 'Sagrada Familia': [41.403561, 2.174347], \"Dreta de lEixample\": [41.395278, 2.166667], \"LAntiga Esquerra de lEixample\": [41.390061, 2.155061], \"La Nova Esquerra de lEixample\": [41.383389, 2.149000], 'Sant Antoni': [41.378010, 2.159490], 'El Poblesec': [41.372780, 2.162500], 'La Marina del Prat Vermell': [41.352103, 2.139436], 'La Marina de Port': [41.359583, 2.140972], 'La Font de la Guatlla': [41.369681, 2.144811], 'Hostafrancs': [41.375556, 2.143056], 'La Bordeta': [41.370494, 2.137097], 'Sants Badal': [41.375278, 2.126667], 'Sants': [41.383333, 2.150000], 'Zona Franca Port': [41.333333, 2.138611], 'Montjuic': [41.364167, 2.158056], 'Les Corts': [41.384167, 2.132778], 'La Maternitat i Sant Ramon': [41.384342, 2.122206], 'Pedralbes': [41.394722, 2.113056], 'Vallvidrera el Tibidabo i les Planes': [41.416667, 2.100000], 'Sarria': [41.399431, 2.121867], 'Les Tres Torres': [41.398611, 2.131111], 'Sant Gervasi la Bonanova': [41.406389, 2.133611], 'Sant Gervasi Galvany': [41.396667, 2.143889], 'El Puget i Farro': [41.405556, 2.145278], 'Vallcarca i els Penitents': [41.412778, 2.143056], 'El Coll': [41.418056, 2.145833], 'La Salut': [41.412478, 2.151431], 'Vila de Gracia': [41.404047, 2.155894], \"El Camp den Grassot i Gracia Nova\": [41.406110, 2.167220], 'El Baix Guinardo': [41.409228, 2.166922], 'Can Baro': [41.416384, 2.162356], 'El Guinardo': [41.418378, 2.175561], \"La Font den Fargues\": [41.424917, 2.165528], 'El Carmel': [41.418336, 2.154436], 'La Teixonera': [41.423131, 2.145853], 'Sant Genis dels Agudells': [41.428506, 2.132547], 'Montbau': [41.430925, 2.142967], \"La Vall dHebron\": [41.431624, 2.148853], 'La Clota': [41.429444, 2.153611], 'Horta': [41.429503, 2.160100], 'Vilapicina i la Torre Llobeta': [41.428761, 2.170872], 'Porta': [41.434650, 2.174947], 'El Turo de la Peira': [41.433008, 2.165808], 'Can Peguera': [41.434900, 2.166188], 'La Guineueta': [41.441342, 2.171986], 'Canyelles': [41.442684, 2.166015], 'Les Roquetes': [41.448644, 2.172031], 'Verdum': [41.443333, 2.175000], 'La Prosperitat': [41.442661, 2.181686], 'La Trinitat Nova': [41.448581, 2.185247], 'Torre Baro': [41.458356, 2.180782], 'Ciutat Meridiana': [41.460914, 2.174433], 'Vallbona': [41.462331, 2.182908], 'La Trinitat Vella': [41.450180, 2.191360], 'Baro de Viver': [41.447906, 2.200742], 'Bon Pastor': [41.436347, 2.201328], 'Sant Andreu de Palomar': [41.436111, 2.191667], 'La Sagrera': [41.422358, 2.186319], 'El Congres i els Indians': [41.425881, 2.180678], 'Navas': [41.415744, 2.186900], \"El Camp de lArpa del Clot\": [41.411433, 2.182500], 'El Clot': [41.407848, 2.188822], 'El Parc i la Llacuna del Poblenou': [41.399167, 2.190833], 'La Vila Olimpica del Poblenou': [41.389800, 2.196590], 'Poblenou': [41.399167, 2.203889], 'Diagonal Mar i el Front Maritim del Poblenou': [41.409600, 2.216306], 'El Besos i el Maresme': [41.417178, 2.213572], 'Provencals del Poblenou': [41.409400, 2.200560], 'Sant Marti de Provencals': [41.417222, 2.198056], 'La Verneda i la Pau': [41.421950, 2.205311]}\n",
    "\n",
    "# generate a dataframe from dictionary\n",
    "df_bcn_coord = pd.DataFrame.from_dict(bcn_coord, orient = 'index')\n",
    "df_bcn_coord.reset_index(level = 0, inplace = True)\n",
    "df_bcn_coord.columns = ['Neighborhood', 'Latitude', 'Longitude']"
   ]
  },
  {
   "cell_type": "markdown",
   "metadata": {},
   "source": [
    "Once information on the Barcelona neighborhoods coordinates captured into a dataframe, we will merge it with the parsed info from Wikipedia into a single dataframe for Barcelona:"
   ]
  },
  {
   "cell_type": "code",
   "execution_count": 9,
   "metadata": {
    "ExecuteTime": {
     "end_time": "2021-03-27T18:02:57.877113Z",
     "start_time": "2021-03-27T18:02:57.862152Z"
    }
   },
   "outputs": [
    {
     "name": "stdout",
     "output_type": "stream",
     "text": [
      "(75, 4)\n"
     ]
    },
    {
     "data": {
      "text/html": [
       "<div>\n",
       "<style scoped>\n",
       "    .dataframe tbody tr th:only-of-type {\n",
       "        vertical-align: middle;\n",
       "    }\n",
       "\n",
       "    .dataframe tbody tr th {\n",
       "        vertical-align: top;\n",
       "    }\n",
       "\n",
       "    .dataframe thead th {\n",
       "        text-align: right;\n",
       "    }\n",
       "</style>\n",
       "<table border=\"1\" class=\"dataframe\">\n",
       "  <thead>\n",
       "    <tr style=\"text-align: right;\">\n",
       "      <th></th>\n",
       "      <th>District</th>\n",
       "      <th>Neighborhood</th>\n",
       "      <th>Latitude</th>\n",
       "      <th>Longitude</th>\n",
       "    </tr>\n",
       "  </thead>\n",
       "  <tbody>\n",
       "    <tr>\n",
       "      <th>0</th>\n",
       "      <td>Ciutat Vella</td>\n",
       "      <td>La Barceloneta</td>\n",
       "      <td>41.379440</td>\n",
       "      <td>2.189170</td>\n",
       "    </tr>\n",
       "    <tr>\n",
       "      <th>1</th>\n",
       "      <td>Ciutat Vella</td>\n",
       "      <td>El Gotic</td>\n",
       "      <td>41.382778</td>\n",
       "      <td>2.176944</td>\n",
       "    </tr>\n",
       "    <tr>\n",
       "      <th>2</th>\n",
       "      <td>Ciutat Vella</td>\n",
       "      <td>El Raval</td>\n",
       "      <td>41.380000</td>\n",
       "      <td>2.168610</td>\n",
       "    </tr>\n",
       "    <tr>\n",
       "      <th>3</th>\n",
       "      <td>Ciutat Vella</td>\n",
       "      <td>Sant Pere Santa Caterina i la Ribera</td>\n",
       "      <td>41.384700</td>\n",
       "      <td>2.182600</td>\n",
       "    </tr>\n",
       "    <tr>\n",
       "      <th>4</th>\n",
       "      <td>Eixample</td>\n",
       "      <td>LAntiga Esquerra de lEixample</td>\n",
       "      <td>41.390061</td>\n",
       "      <td>2.155061</td>\n",
       "    </tr>\n",
       "  </tbody>\n",
       "</table>\n",
       "</div>"
      ],
      "text/plain": [
       "       District                          Neighborhood   Latitude  Longitude\n",
       "0  Ciutat Vella                        La Barceloneta  41.379440   2.189170\n",
       "1  Ciutat Vella                              El Gotic  41.382778   2.176944\n",
       "2  Ciutat Vella                              El Raval  41.380000   2.168610\n",
       "3  Ciutat Vella  Sant Pere Santa Caterina i la Ribera  41.384700   2.182600\n",
       "4      Eixample         LAntiga Esquerra de lEixample  41.390061   2.155061"
      ]
     },
     "execution_count": 9,
     "metadata": {},
     "output_type": "execute_result"
    }
   ],
   "source": [
    "bcn_neigh_coord = pd.merge(df_bcn, df_bcn_coord, on='Neighborhood')\n",
    "\n",
    "# display shape and dataframe head\n",
    "print(bcn_neigh_coord.shape)\n",
    "bcn_neigh_coord.head()"
   ]
  },
  {
   "cell_type": "markdown",
   "metadata": {
    "ExecuteTime": {
     "end_time": "2021-03-25T18:13:06.118938Z",
     "start_time": "2021-03-25T18:13:06.107967Z"
    }
   },
   "source": [
    "### Madrid and Barcelona categorized venues"
   ]
  },
  {
   "cell_type": "markdown",
   "metadata": {
    "ExecuteTime": {
     "end_time": "2021-03-25T18:10:50.228888Z",
     "start_time": "2021-03-25T18:10:50.211963Z"
    }
   },
   "source": [
    "#### Foursquare API settings"
   ]
  },
  {
   "cell_type": "markdown",
   "metadata": {},
   "source": [
    "Once we have extracted the neighborhoods´ coordinates for both cities, let's use the Foursquare API to get info on venues by neighborhood.\n",
    "\n",
    "We're looking for venues in general. We will use 1km of radius around each neighborhood center coordinate and later we will de-dupe possible repeated venues based on areas overlap. This would make venues collection more exhaustive.\n",
    "\n",
    "Foursquare credentials are defined in hidden cell bellow."
   ]
  },
  {
   "cell_type": "code",
   "execution_count": 10,
   "metadata": {
    "ExecuteTime": {
     "end_time": "2021-03-27T18:02:57.892072Z",
     "start_time": "2021-03-27T18:02:57.879113Z"
    }
   },
   "outputs": [],
   "source": [
    "# Foursquare ID\n",
    "CLIENT_ID = 'CLIENT_ID' \n",
    "\n",
    "# Foursquare Secret\n",
    "CLIENT_SECRET = 'CLIENT_SECRET' \n",
    "\n",
    "# FourSquare Access Token\n",
    "ACCESS_TOKEN = 'ACCESS_TOKEN' "
   ]
  },
  {
   "cell_type": "code",
   "execution_count": 11,
   "metadata": {
    "ExecuteTime": {
     "end_time": "2021-03-27T18:02:57.908031Z",
     "start_time": "2021-03-27T18:02:57.894067Z"
    }
   },
   "outputs": [],
   "source": [
    "# Foursquare API version\n",
    "VERSION = '20180605'\n",
    "\n",
    "# a default Foursquare API limit value\n",
    "LIMIT = 100 \n",
    "\n",
    "# set a big radius value to cover all possible space\n",
    "RADIUS = 1000"
   ]
  },
  {
   "cell_type": "code",
   "execution_count": 12,
   "metadata": {
    "ExecuteTime": {
     "end_time": "2021-03-27T18:02:57.922991Z",
     "start_time": "2021-03-27T18:02:57.910025Z"
    }
   },
   "outputs": [],
   "source": [
    "# define a function to extract the venues per neighborhood\n",
    "def getNearbyVenues(districts, hoods, latitudes, longitudes, radius = RADIUS):\n",
    "\n",
    "    venues_list = []\n",
    "    print('Obtaining venues around candidate locations:', end='')\n",
    "    for district, hood, lat, lng in zip(districts, hoods, latitudes, longitudes):\n",
    "\n",
    "        # create the API request URL\n",
    "        url = 'https://api.foursquare.com/v2/venues/explore?&client_id={}&client_secret={}&v={}&ll={},{}&radius={}&limit={}'.format(CLIENT_ID, CLIENT_SECRET, VERSION, lat, lng, RADIUS, LIMIT)\n",
    "\n",
    "        # make the GET request\n",
    "        results = requests.get(url).json()[\"response\"]['groups'][0]['items']\n",
    "\n",
    "        # return only relevant information for each nearby venue\n",
    "        venues_list.append([(\n",
    "            district,\n",
    "            hood,\n",
    "            lat,\n",
    "            lng,\n",
    "            v['venue']['name'],\n",
    "            v['venue']['location']['lat'],\n",
    "            v['venue']['location']['lng'],\n",
    "            v['venue']['categories'][0]['name']) for v in results])\n",
    "        print(' .', end='')\n",
    "    print(' done.')\n",
    "\n",
    "    nearby_venues = pd.DataFrame(\n",
    "        [item for venue_list in venues_list for item in venue_list])\n",
    "    nearby_venues.columns = ['District', 'Neighborhood', 'Neighborhood Lat',\n",
    "                             'Neighborhood Lon', 'Venue', 'Venue Lat', 'Venue Lon', 'Venue Category']\n",
    "\n",
    "    return(nearby_venues)"
   ]
  },
  {
   "cell_type": "markdown",
   "metadata": {},
   "source": [
    "#### Foursquare venues collection by neighborhood in Madrid"
   ]
  },
  {
   "cell_type": "code",
   "execution_count": 13,
   "metadata": {
    "ExecuteTime": {
     "end_time": "2021-03-27T18:02:57.938947Z",
     "start_time": "2021-03-27T18:02:57.923989Z"
    }
   },
   "outputs": [],
   "source": [
    "# neighborhood latitude values\n",
    "lat = mad_neigh_coord.loc[:, 'Latitude']\n",
    "\n",
    "# neighborhood longitude values\n",
    "lng = mad_neigh_coord.loc[:, 'Longitude'] "
   ]
  },
  {
   "cell_type": "code",
   "execution_count": 14,
   "metadata": {
    "ExecuteTime": {
     "end_time": "2021-03-27T18:02:57.970863Z",
     "start_time": "2021-03-27T18:02:57.939946Z"
    }
   },
   "outputs": [
    {
     "name": "stdout",
     "output_type": "stream",
     "text": [
      "Madrid venues data loaded.\n",
      "There are 3356 venues in 290 unique categories.\n"
     ]
    },
    {
     "data": {
      "text/html": [
       "<div>\n",
       "<style scoped>\n",
       "    .dataframe tbody tr th:only-of-type {\n",
       "        vertical-align: middle;\n",
       "    }\n",
       "\n",
       "    .dataframe tbody tr th {\n",
       "        vertical-align: top;\n",
       "    }\n",
       "\n",
       "    .dataframe thead th {\n",
       "        text-align: right;\n",
       "    }\n",
       "</style>\n",
       "<table border=\"1\" class=\"dataframe\">\n",
       "  <thead>\n",
       "    <tr style=\"text-align: right;\">\n",
       "      <th></th>\n",
       "      <th>District</th>\n",
       "      <th>Neighborhood</th>\n",
       "      <th>Neighborhood Lat</th>\n",
       "      <th>Neighborhood Lon</th>\n",
       "      <th>Venue</th>\n",
       "      <th>Venue Lat</th>\n",
       "      <th>Venue Lon</th>\n",
       "      <th>Venue Category</th>\n",
       "    </tr>\n",
       "  </thead>\n",
       "  <tbody>\n",
       "    <tr>\n",
       "      <th>0</th>\n",
       "      <td>Centro</td>\n",
       "      <td>Palacio</td>\n",
       "      <td>40.415</td>\n",
       "      <td>-3.713333</td>\n",
       "      <td>Santa Iglesia Catedral de Santa María la Real ...</td>\n",
       "      <td>40.415767</td>\n",
       "      <td>-3.714516</td>\n",
       "      <td>Church</td>\n",
       "    </tr>\n",
       "    <tr>\n",
       "      <th>1</th>\n",
       "      <td>Centro</td>\n",
       "      <td>Palacio</td>\n",
       "      <td>40.415</td>\n",
       "      <td>-3.713333</td>\n",
       "      <td>Taberna Rayuela</td>\n",
       "      <td>40.413179</td>\n",
       "      <td>-3.713496</td>\n",
       "      <td>Tapas Restaurant</td>\n",
       "    </tr>\n",
       "    <tr>\n",
       "      <th>2</th>\n",
       "      <td>Centro</td>\n",
       "      <td>Palacio</td>\n",
       "      <td>40.415</td>\n",
       "      <td>-3.713333</td>\n",
       "      <td>Cervecería La Mayor</td>\n",
       "      <td>40.415218</td>\n",
       "      <td>-3.712194</td>\n",
       "      <td>Beer Bar</td>\n",
       "    </tr>\n",
       "    <tr>\n",
       "      <th>3</th>\n",
       "      <td>Centro</td>\n",
       "      <td>Palacio</td>\n",
       "      <td>40.415</td>\n",
       "      <td>-3.713333</td>\n",
       "      <td>Zuccaru</td>\n",
       "      <td>40.417179</td>\n",
       "      <td>-3.711674</td>\n",
       "      <td>Ice Cream Shop</td>\n",
       "    </tr>\n",
       "    <tr>\n",
       "      <th>4</th>\n",
       "      <td>Centro</td>\n",
       "      <td>Palacio</td>\n",
       "      <td>40.415</td>\n",
       "      <td>-3.713333</td>\n",
       "      <td>Plaza de La Almudena</td>\n",
       "      <td>40.416320</td>\n",
       "      <td>-3.713777</td>\n",
       "      <td>Plaza</td>\n",
       "    </tr>\n",
       "  </tbody>\n",
       "</table>\n",
       "</div>"
      ],
      "text/plain": [
       "  District Neighborhood  Neighborhood Lat  Neighborhood Lon  \\\n",
       "0   Centro      Palacio            40.415         -3.713333   \n",
       "1   Centro      Palacio            40.415         -3.713333   \n",
       "2   Centro      Palacio            40.415         -3.713333   \n",
       "3   Centro      Palacio            40.415         -3.713333   \n",
       "4   Centro      Palacio            40.415         -3.713333   \n",
       "\n",
       "                                               Venue  Venue Lat  Venue Lon  \\\n",
       "0  Santa Iglesia Catedral de Santa María la Real ...  40.415767  -3.714516   \n",
       "1                                    Taberna Rayuela  40.413179  -3.713496   \n",
       "2                                Cervecería La Mayor  40.415218  -3.712194   \n",
       "3                                            Zuccaru  40.417179  -3.711674   \n",
       "4                               Plaza de La Almudena  40.416320  -3.713777   \n",
       "\n",
       "     Venue Category  \n",
       "0            Church  \n",
       "1  Tapas Restaurant  \n",
       "2          Beer Bar  \n",
       "3    Ice Cream Shop  \n",
       "4             Plaza  "
      ]
     },
     "execution_count": 14,
     "metadata": {},
     "output_type": "execute_result"
    }
   ],
   "source": [
    "# try to load from local file system in case we did this before\n",
    "\n",
    "loaded = False\n",
    "try:\n",
    "    mad_venues = pd.read_csv('csv/mad_venues.csv', index_col = 0)\n",
    "    print('Madrid venues data loaded.')\n",
    "    loaded = True\n",
    "except:\n",
    "    pass\n",
    "\n",
    "# if load failed use the Foursquare API to get the data\n",
    "if not loaded:\n",
    "    mad_venues = getNearbyVenues(districts = mad_neigh_coord['District'], hoods = mad_neigh_coord['Neighborhood'],\n",
    "                                 latitudes = mad_neigh_coord['Latitude'], longitudes = mad_neigh_coord['Longitude'])\n",
    "    \n",
    "    print('This is the original shape of the dataframe before de-duping venues: ' + str(mad_venues.shape))\n",
    "    \n",
    "    # drop duplicated venues due to cross-neighborhood occurrences\n",
    "    mad_venues = mad_venues.drop_duplicates(subset = ['Venue']).reset_index()\n",
    "    mad_venues = mad_venues.drop(['index'], axis = 1)\n",
    "    \n",
    "    # let's persists this in local file system\n",
    "    mad_venues.to_csv('csv/mad_venues.csv')\n",
    "\n",
    "# display dataframe head and additional information\n",
    "print('There are {} venues in {} unique categories.'.format(mad_venues.shape[0], len(mad_venues['Venue Category'].unique())))\n",
    "mad_venues.head()"
   ]
  },
  {
   "cell_type": "markdown",
   "metadata": {},
   "source": [
    "#### Foursquare venues collection by neighborhood in Barcelona"
   ]
  },
  {
   "cell_type": "code",
   "execution_count": 15,
   "metadata": {
    "ExecuteTime": {
     "end_time": "2021-03-27T18:02:57.985823Z",
     "start_time": "2021-03-27T18:02:57.971861Z"
    }
   },
   "outputs": [],
   "source": [
    "# neighborhood latitude values\n",
    "lat = bcn_neigh_coord.loc[:, 'Latitude']\n",
    "\n",
    "# neighborhood longitude values\n",
    "lng = bcn_neigh_coord.loc[:, 'Longitude'] "
   ]
  },
  {
   "cell_type": "code",
   "execution_count": 16,
   "metadata": {
    "ExecuteTime": {
     "end_time": "2021-03-27T18:02:58.016739Z",
     "start_time": "2021-03-27T18:02:57.987822Z"
    }
   },
   "outputs": [
    {
     "name": "stdout",
     "output_type": "stream",
     "text": [
      "Barcelona venues data loaded.\n",
      "There are 2582 venues in 285 unique categories.\n"
     ]
    },
    {
     "data": {
      "text/html": [
       "<div>\n",
       "<style scoped>\n",
       "    .dataframe tbody tr th:only-of-type {\n",
       "        vertical-align: middle;\n",
       "    }\n",
       "\n",
       "    .dataframe tbody tr th {\n",
       "        vertical-align: top;\n",
       "    }\n",
       "\n",
       "    .dataframe thead th {\n",
       "        text-align: right;\n",
       "    }\n",
       "</style>\n",
       "<table border=\"1\" class=\"dataframe\">\n",
       "  <thead>\n",
       "    <tr style=\"text-align: right;\">\n",
       "      <th></th>\n",
       "      <th>District</th>\n",
       "      <th>Neighborhood</th>\n",
       "      <th>Neighborhood Lat</th>\n",
       "      <th>Neighborhood Lon</th>\n",
       "      <th>Venue</th>\n",
       "      <th>Venue Lat</th>\n",
       "      <th>Venue Lon</th>\n",
       "      <th>Venue Category</th>\n",
       "    </tr>\n",
       "  </thead>\n",
       "  <tbody>\n",
       "    <tr>\n",
       "      <th>0</th>\n",
       "      <td>Ciutat Vella</td>\n",
       "      <td>La Barceloneta</td>\n",
       "      <td>41.37944</td>\n",
       "      <td>2.18917</td>\n",
       "      <td>Baluard Barceloneta</td>\n",
       "      <td>41.380047</td>\n",
       "      <td>2.189250</td>\n",
       "      <td>Bakery</td>\n",
       "    </tr>\n",
       "    <tr>\n",
       "      <th>1</th>\n",
       "      <td>Ciutat Vella</td>\n",
       "      <td>La Barceloneta</td>\n",
       "      <td>41.37944</td>\n",
       "      <td>2.18917</td>\n",
       "      <td>La Cova Fumada</td>\n",
       "      <td>41.379254</td>\n",
       "      <td>2.189254</td>\n",
       "      <td>Tapas Restaurant</td>\n",
       "    </tr>\n",
       "    <tr>\n",
       "      <th>2</th>\n",
       "      <td>Ciutat Vella</td>\n",
       "      <td>La Barceloneta</td>\n",
       "      <td>41.37944</td>\n",
       "      <td>2.18917</td>\n",
       "      <td>Plaça de la Barceloneta</td>\n",
       "      <td>41.379739</td>\n",
       "      <td>2.188135</td>\n",
       "      <td>Plaza</td>\n",
       "    </tr>\n",
       "    <tr>\n",
       "      <th>3</th>\n",
       "      <td>Ciutat Vella</td>\n",
       "      <td>La Barceloneta</td>\n",
       "      <td>41.37944</td>\n",
       "      <td>2.18917</td>\n",
       "      <td>NAP Mar</td>\n",
       "      <td>41.377530</td>\n",
       "      <td>2.190055</td>\n",
       "      <td>Pizza Place</td>\n",
       "    </tr>\n",
       "    <tr>\n",
       "      <th>4</th>\n",
       "      <td>Ciutat Vella</td>\n",
       "      <td>La Barceloneta</td>\n",
       "      <td>41.37944</td>\n",
       "      <td>2.18917</td>\n",
       "      <td>acqua&amp;farina</td>\n",
       "      <td>41.381023</td>\n",
       "      <td>2.190152</td>\n",
       "      <td>Pizza Place</td>\n",
       "    </tr>\n",
       "  </tbody>\n",
       "</table>\n",
       "</div>"
      ],
      "text/plain": [
       "       District    Neighborhood  Neighborhood Lat  Neighborhood Lon  \\\n",
       "0  Ciutat Vella  La Barceloneta          41.37944           2.18917   \n",
       "1  Ciutat Vella  La Barceloneta          41.37944           2.18917   \n",
       "2  Ciutat Vella  La Barceloneta          41.37944           2.18917   \n",
       "3  Ciutat Vella  La Barceloneta          41.37944           2.18917   \n",
       "4  Ciutat Vella  La Barceloneta          41.37944           2.18917   \n",
       "\n",
       "                     Venue  Venue Lat  Venue Lon    Venue Category  \n",
       "0      Baluard Barceloneta  41.380047   2.189250            Bakery  \n",
       "1           La Cova Fumada  41.379254   2.189254  Tapas Restaurant  \n",
       "2  Plaça de la Barceloneta  41.379739   2.188135             Plaza  \n",
       "3                  NAP Mar  41.377530   2.190055       Pizza Place  \n",
       "4             acqua&farina  41.381023   2.190152       Pizza Place  "
      ]
     },
     "execution_count": 16,
     "metadata": {},
     "output_type": "execute_result"
    }
   ],
   "source": [
    "# try to load from local file system in case we did this before\n",
    "\n",
    "loaded = False\n",
    "try:\n",
    "    bcn_venues = pd.read_csv('csv/bcn_venues.csv', index_col = 0)\n",
    "    print('Barcelona venues data loaded.')\n",
    "    loaded = True\n",
    "except:\n",
    "    pass\n",
    "\n",
    "# if load failed use the Foursquare API to get the data\n",
    "if not loaded:\n",
    "    bcn_venues = getNearbyVenues(districts = bcn_neigh_coord['District'], hoods = bcn_neigh_coord['Neighborhood'],\n",
    "                                 latitudes = bcn_neigh_coord['Latitude'], longitudes = bcn_neigh_coord['Longitude'])\n",
    "    \n",
    "    print('This is the original shape of the dataframe before de-duping venues: ' + str(bcn_venues.shape))\n",
    "    \n",
    "    # drop duplicated venues due to cross-neighborhood occurrences\n",
    "    bcn_venues = bcn_venues.drop_duplicates(subset = ['Venue']).reset_index()\n",
    "    bcn_venues = bcn_venues.drop(['index'], axis = 1)\n",
    "    \n",
    "    # let's persists this in local file system\n",
    "    bcn_venues.to_csv('csv/bcn_venues.csv')\n",
    "\n",
    "# display dataframe head and additional information\n",
    "print('There are {} venues in {} unique categories.'.format(bcn_venues.shape[0], len(bcn_venues['Venue Category'].unique())))\n",
    "bcn_venues.head()"
   ]
  },
  {
   "cell_type": "markdown",
   "metadata": {
    "ExecuteTime": {
     "end_time": "2021-03-25T19:22:44.259650Z",
     "start_time": "2021-03-25T19:22:44.245659Z"
    }
   },
   "source": [
    "### Madrid and Barcelona 'natural' venues extraction"
   ]
  },
  {
   "cell_type": "markdown",
   "metadata": {
    "ExecuteTime": {
     "end_time": "2021-03-25T19:34:32.396162Z",
     "start_time": "2021-03-25T19:34:32.383195Z"
    }
   },
   "source": [
    "#### Natural venues extraction in Madrid"
   ]
  },
  {
   "cell_type": "markdown",
   "metadata": {},
   "source": [
    "First, we need to generate a summary dataframe for Madrid city in which we will select a sub-set of venues based on their link with natural life, which will be define based on a subjective criteria: "
   ]
  },
  {
   "cell_type": "code",
   "execution_count": 17,
   "metadata": {
    "ExecuteTime": {
     "end_time": "2021-03-27T18:02:58.047656Z",
     "start_time": "2021-03-27T18:02:58.017737Z"
    }
   },
   "outputs": [
    {
     "data": {
      "text/html": [
       "<div>\n",
       "<style scoped>\n",
       "    .dataframe tbody tr th:only-of-type {\n",
       "        vertical-align: middle;\n",
       "    }\n",
       "\n",
       "    .dataframe tbody tr th {\n",
       "        vertical-align: top;\n",
       "    }\n",
       "\n",
       "    .dataframe thead th {\n",
       "        text-align: right;\n",
       "    }\n",
       "</style>\n",
       "<table border=\"1\" class=\"dataframe\">\n",
       "  <thead>\n",
       "    <tr style=\"text-align: right;\">\n",
       "      <th></th>\n",
       "      <th>Natural Category</th>\n",
       "      <th>Venue Count</th>\n",
       "    </tr>\n",
       "  </thead>\n",
       "  <tbody>\n",
       "    <tr>\n",
       "      <th>0</th>\n",
       "      <td>healthy restaurants</td>\n",
       "      <td>28</td>\n",
       "    </tr>\n",
       "    <tr>\n",
       "      <th>1</th>\n",
       "      <td>healthy shops</td>\n",
       "      <td>71</td>\n",
       "    </tr>\n",
       "    <tr>\n",
       "      <th>2</th>\n",
       "      <td>pet places</td>\n",
       "      <td>6</td>\n",
       "    </tr>\n",
       "    <tr>\n",
       "      <th>3</th>\n",
       "      <td>sports</td>\n",
       "      <td>194</td>\n",
       "    </tr>\n",
       "    <tr>\n",
       "      <th>4</th>\n",
       "      <td>walkways</td>\n",
       "      <td>117</td>\n",
       "    </tr>\n",
       "  </tbody>\n",
       "</table>\n",
       "</div>"
      ],
      "text/plain": [
       "      Natural Category  Venue Count\n",
       "0  healthy restaurants           28\n",
       "1        healthy shops           71\n",
       "2           pet places            6\n",
       "3               sports          194\n",
       "4             walkways          117"
      ]
     },
     "execution_count": 17,
     "metadata": {},
     "output_type": "execute_result"
    }
   ],
   "source": [
    "# generate a new dataframe based on grouped data by venue category\n",
    "mad_grouped = mad_venues.groupby('Venue Category').count().reset_index()\n",
    "mad_grouped = mad_grouped.rename(columns = {\"Venue\": \"Venue Count\"})\n",
    "mad_grouped = mad_grouped[['Venue Category', 'Venue Count']]\n",
    "\n",
    "# define list of venues linked to natural life\n",
    "mad_nat_venues = ['Athletics & Sports', 'Basketball Court', 'Beach', 'Bike Shop', 'Comfort Food Restaurant', 'Dog Run', 'Falafel Restaurant', 'Farmers Market', 'Fruit & Vegetable Store', 'Garden', 'Grocery Store', 'Gym', 'Gym / Fitness Center', 'Gym Pool', 'Health Food Store', 'Juice Bar', 'Market', 'Park', 'Pet Café', 'Pet Store', 'Pool', 'Salad Place', 'Soccer Field', 'Sporting Goods Shop', 'Tennis Court', 'Vegetarian / Vegan Restaurant', 'Yoga Studio']\n",
    "\n",
    "# subset grouped dataframe based on natural life\n",
    "mad_nat_grouped = mad_grouped.loc[mad_grouped['Venue Category'].isin(mad_nat_venues)].reset_index().drop(['index'], axis = 1)\n",
    "\n",
    "# create a new category grouping based on items: sports, walkways, healthy shops, healthy restaurants, pet places\n",
    "mad_nat_grouped['Venue Category'] = mad_nat_grouped['Venue Category'].replace(['Athletics & Sports', 'Basketball Court', 'Bike Shop', 'Gym', 'Gym / Fitness Center', 'Gym Pool', 'Pool', 'Soccer Field', 'Sporting Goods Shop', 'Tennis Court', 'Yoga Studio'], 'sports')\n",
    "mad_nat_grouped['Venue Category'] = mad_nat_grouped['Venue Category'].replace(['Beach', 'Garden', 'Park'], 'walkways')\n",
    "mad_nat_grouped['Venue Category'] = mad_nat_grouped['Venue Category'].replace(['Farmers Market', 'Fruit & Vegetable Store', 'Grocery Store', 'Health Food Store', 'Market'], 'healthy shops')\n",
    "mad_nat_grouped['Venue Category'] = mad_nat_grouped['Venue Category'].replace(['Comfort Food Restaurant', 'Falafel Restaurant', 'Juice Bar', 'Salad Place', 'Vegetarian / Vegan Restaurant'], 'healthy restaurants')\n",
    "mad_nat_grouped['Venue Category'] = mad_nat_grouped['Venue Category'].replace(['Dog Run', 'Pet Café', 'Pet Store'], 'pet places')\n",
    "\n",
    "# group data rename column\n",
    "mad_nat_grouped = mad_nat_grouped.groupby('Venue Category').sum().reset_index()\n",
    "mad_nat_grouped = mad_nat_grouped.rename(columns = {\"Venue Category\": \"Natural Category\"})\n",
    "\n",
    "# review dataframe\n",
    "mad_nat_grouped"
   ]
  },
  {
   "cell_type": "markdown",
   "metadata": {},
   "source": [
    "Later, we need to generate a detailed dataframe for Madrid city in which we will select venues based on their link with natural life:"
   ]
  },
  {
   "cell_type": "code",
   "execution_count": 18,
   "metadata": {
    "ExecuteTime": {
     "end_time": "2021-03-27T18:02:58.079571Z",
     "start_time": "2021-03-27T18:02:58.048654Z"
    }
   },
   "outputs": [
    {
     "name": "stdout",
     "output_type": "stream",
     "text": [
      "(78, 3)\n"
     ]
    },
    {
     "data": {
      "text/html": [
       "<div>\n",
       "<style scoped>\n",
       "    .dataframe tbody tr th:only-of-type {\n",
       "        vertical-align: middle;\n",
       "    }\n",
       "\n",
       "    .dataframe tbody tr th {\n",
       "        vertical-align: top;\n",
       "    }\n",
       "\n",
       "    .dataframe thead th {\n",
       "        text-align: right;\n",
       "    }\n",
       "</style>\n",
       "<table border=\"1\" class=\"dataframe\">\n",
       "  <thead>\n",
       "    <tr style=\"text-align: right;\">\n",
       "      <th></th>\n",
       "      <th>Natural Category</th>\n",
       "      <th>District</th>\n",
       "      <th>Venue Count</th>\n",
       "    </tr>\n",
       "  </thead>\n",
       "  <tbody>\n",
       "    <tr>\n",
       "      <th>0</th>\n",
       "      <td>healthy restaurants</td>\n",
       "      <td>Arganzuela</td>\n",
       "      <td>2</td>\n",
       "    </tr>\n",
       "    <tr>\n",
       "      <th>1</th>\n",
       "      <td>healthy restaurants</td>\n",
       "      <td>Centro</td>\n",
       "      <td>8</td>\n",
       "    </tr>\n",
       "    <tr>\n",
       "      <th>2</th>\n",
       "      <td>healthy restaurants</td>\n",
       "      <td>Chamartin</td>\n",
       "      <td>2</td>\n",
       "    </tr>\n",
       "    <tr>\n",
       "      <th>3</th>\n",
       "      <td>healthy restaurants</td>\n",
       "      <td>Chamberi</td>\n",
       "      <td>4</td>\n",
       "    </tr>\n",
       "    <tr>\n",
       "      <th>4</th>\n",
       "      <td>healthy restaurants</td>\n",
       "      <td>Fuencarral-El Pardo</td>\n",
       "      <td>1</td>\n",
       "    </tr>\n",
       "  </tbody>\n",
       "</table>\n",
       "</div>"
      ],
      "text/plain": [
       "      Natural Category             District  Venue Count\n",
       "0  healthy restaurants           Arganzuela            2\n",
       "1  healthy restaurants               Centro            8\n",
       "2  healthy restaurants            Chamartin            2\n",
       "3  healthy restaurants             Chamberi            4\n",
       "4  healthy restaurants  Fuencarral-El Pardo            1"
      ]
     },
     "execution_count": 18,
     "metadata": {},
     "output_type": "execute_result"
    }
   ],
   "source": [
    "# subset complete dataframe based on natural life venues\n",
    "mad_natural = mad_venues.loc[mad_venues['Venue Category'].isin(mad_nat_venues)].reset_index().drop(['index'], axis = 1)\n",
    "\n",
    "# create a new category grouping based on items: sports, walkways, healthy shops, healthy restaurants, pet places\n",
    "mad_natural['Venue Category'] = mad_natural['Venue Category'].replace(['Athletics & Sports', 'Basketball Court', 'Bike Shop', 'Gym', 'Gym / Fitness Center', 'Gym Pool', 'Pool', 'Soccer Field', 'Sporting Goods Shop', 'Tennis Court', 'Yoga Studio'], 'sports')\n",
    "mad_natural['Venue Category'] = mad_natural['Venue Category'].replace(['Beach', 'Garden', 'Park'], 'walkways')\n",
    "mad_natural['Venue Category'] = mad_natural['Venue Category'].replace(['Farmers Market', 'Fruit & Vegetable Store', 'Grocery Store', 'Health Food Store', 'Market'], 'healthy shops')\n",
    "mad_natural['Venue Category'] = mad_natural['Venue Category'].replace(['Comfort Food Restaurant', 'Falafel Restaurant', 'Juice Bar', 'Salad Place', 'Vegetarian / Vegan Restaurant'], 'healthy restaurants')\n",
    "mad_natural['Venue Category'] = mad_natural['Venue Category'].replace(['Dog Run', 'Pet Café', 'Pet Store'], 'pet places')\n",
    "\n",
    "# group data and rename columns\n",
    "mad_natural = mad_natural.groupby(['Venue Category', 'District']).count().reset_index()\n",
    "mad_natural = mad_natural.rename(columns = {\"Venue Category\": \"Natural Category\", \"Venue\": \"Venue Count\"})\n",
    "mad_natural = mad_natural[['Natural Category', 'District', 'Venue Count']]\n",
    "\n",
    "# review shape and head of dataframe\n",
    "print(mad_natural.shape)\n",
    "mad_natural.head()"
   ]
  },
  {
   "cell_type": "markdown",
   "metadata": {},
   "source": [
    "#### Natural venues extraction in Barcelona"
   ]
  },
  {
   "cell_type": "markdown",
   "metadata": {},
   "source": [
    "Again, we need to generate a summary dataframe for Barcelona city in which we will select a sub-set of venues based on their link with natural life:"
   ]
  },
  {
   "cell_type": "code",
   "execution_count": 19,
   "metadata": {
    "ExecuteTime": {
     "end_time": "2021-03-27T18:02:58.111486Z",
     "start_time": "2021-03-27T18:02:58.080568Z"
    }
   },
   "outputs": [
    {
     "data": {
      "text/html": [
       "<div>\n",
       "<style scoped>\n",
       "    .dataframe tbody tr th:only-of-type {\n",
       "        vertical-align: middle;\n",
       "    }\n",
       "\n",
       "    .dataframe tbody tr th {\n",
       "        vertical-align: top;\n",
       "    }\n",
       "\n",
       "    .dataframe thead th {\n",
       "        text-align: right;\n",
       "    }\n",
       "</style>\n",
       "<table border=\"1\" class=\"dataframe\">\n",
       "  <thead>\n",
       "    <tr style=\"text-align: right;\">\n",
       "      <th></th>\n",
       "      <th>Natural Category</th>\n",
       "      <th>Venue Count</th>\n",
       "    </tr>\n",
       "  </thead>\n",
       "  <tbody>\n",
       "    <tr>\n",
       "      <th>0</th>\n",
       "      <td>healthy restaurants</td>\n",
       "      <td>43</td>\n",
       "    </tr>\n",
       "    <tr>\n",
       "      <th>1</th>\n",
       "      <td>healthy shops</td>\n",
       "      <td>48</td>\n",
       "    </tr>\n",
       "    <tr>\n",
       "      <th>2</th>\n",
       "      <td>pet places</td>\n",
       "      <td>5</td>\n",
       "    </tr>\n",
       "    <tr>\n",
       "      <th>3</th>\n",
       "      <td>sports</td>\n",
       "      <td>110</td>\n",
       "    </tr>\n",
       "    <tr>\n",
       "      <th>4</th>\n",
       "      <td>walkways</td>\n",
       "      <td>86</td>\n",
       "    </tr>\n",
       "  </tbody>\n",
       "</table>\n",
       "</div>"
      ],
      "text/plain": [
       "      Natural Category  Venue Count\n",
       "0  healthy restaurants           43\n",
       "1        healthy shops           48\n",
       "2           pet places            5\n",
       "3               sports          110\n",
       "4             walkways           86"
      ]
     },
     "execution_count": 19,
     "metadata": {},
     "output_type": "execute_result"
    }
   ],
   "source": [
    "# generate a new dataframe based on grouped data by venue category\n",
    "bcn_grouped = bcn_venues.groupby('Venue Category').count().reset_index()\n",
    "bcn_grouped = bcn_grouped.rename(columns = {\"Venue\": \"Venue Count\"})\n",
    "bcn_grouped = bcn_grouped[['Venue Category', 'Venue Count']]\n",
    "\n",
    "# define list of venues linked to natural life\n",
    "bcn_nat_venues = ['Athletics & Sports', 'Basketball Court', 'Bathing Area', 'Beach', 'Botanical Garden', 'Climbing Gym', 'Comfort Food Restaurant', 'Dog Run', 'Falafel Restaurant', 'Farmers Market', 'Fruit & Vegetable Store', 'Garden', 'Gluten-free Restaurant', 'Grocery Store', 'Gym', 'Gym / Fitness Center', 'Gym Pool', 'Health Food Store', 'Hill', 'Juice Bar', 'Lake', 'Market', 'Park', 'Pet Café', 'Pet Store', 'Poke Place', 'Pool', 'Rock Climbing Spot', 'Salad Place', 'Soccer Field', 'Sporting Goods Shop', 'Tennis Court', 'Vegetarian / Vegan Restaurant', 'Yoga Studio']\n",
    "\n",
    "# subset grouped dataframe based on natural life\n",
    "bcn_nat_grouped = bcn_grouped.loc[bcn_grouped['Venue Category'].isin(bcn_nat_venues)].reset_index().drop(['index'], axis = 1)\n",
    "\n",
    "# create a new category grouping based on items: sports, walkways, healthy shops, healthy restaurants, pet places\n",
    "bcn_nat_grouped['Venue Category'] = bcn_nat_grouped['Venue Category'].replace(['Athletics & Sports', 'Basketball Court', 'Bathing Area', 'Climbing Gym', 'Gym', 'Gym / Fitness Center', 'Gym Pool', 'Pool', 'Rock Climbing Spot', 'Soccer Field', 'Sporting Goods Shop', 'Tennis Court', 'Yoga Studio'], 'sports')\n",
    "bcn_nat_grouped['Venue Category'] = bcn_nat_grouped['Venue Category'].replace(['Beach', 'Botanical Garden', 'Bathing Area', 'Garden', 'Hill', 'Lake', 'Park'], 'walkways')\n",
    "bcn_nat_grouped['Venue Category'] = bcn_nat_grouped['Venue Category'].replace(['Farmers Market', 'Fruit & Vegetable Store', 'Grocery Store', 'Health Food Store', 'Market'], 'healthy shops')\n",
    "bcn_nat_grouped['Venue Category'] = bcn_nat_grouped['Venue Category'].replace(['Comfort Food Restaurant', 'Falafel Restaurant', 'Gluten-free Restaurant', 'Juice Bar', 'Poke Place', 'Salad Place', 'Vegetarian / Vegan Restaurant'], 'healthy restaurants')\n",
    "bcn_nat_grouped['Venue Category'] = bcn_nat_grouped['Venue Category'].replace(['Dog Run', 'Pet Café', 'Pet Store'], 'pet places')\n",
    "\n",
    "# group data rename column\n",
    "bcn_nat_grouped = bcn_nat_grouped.groupby('Venue Category').sum().reset_index()\n",
    "bcn_nat_grouped = bcn_nat_grouped.rename(columns = {\"Venue Category\": \"Natural Category\"})\n",
    "\n",
    "# review dataframe\n",
    "bcn_nat_grouped"
   ]
  },
  {
   "cell_type": "markdown",
   "metadata": {},
   "source": [
    "Finally, we need to generate a detailed dataframe for Barcelona city in which we will select venues based on their link with natural life:"
   ]
  },
  {
   "cell_type": "code",
   "execution_count": 20,
   "metadata": {
    "ExecuteTime": {
     "end_time": "2021-03-27T18:02:58.142403Z",
     "start_time": "2021-03-27T18:02:58.112483Z"
    }
   },
   "outputs": [
    {
     "name": "stdout",
     "output_type": "stream",
     "text": [
      "(43, 3)\n"
     ]
    },
    {
     "data": {
      "text/html": [
       "<div>\n",
       "<style scoped>\n",
       "    .dataframe tbody tr th:only-of-type {\n",
       "        vertical-align: middle;\n",
       "    }\n",
       "\n",
       "    .dataframe tbody tr th {\n",
       "        vertical-align: top;\n",
       "    }\n",
       "\n",
       "    .dataframe thead th {\n",
       "        text-align: right;\n",
       "    }\n",
       "</style>\n",
       "<table border=\"1\" class=\"dataframe\">\n",
       "  <thead>\n",
       "    <tr style=\"text-align: right;\">\n",
       "      <th></th>\n",
       "      <th>Natural Category</th>\n",
       "      <th>District</th>\n",
       "      <th>Venue Count</th>\n",
       "    </tr>\n",
       "  </thead>\n",
       "  <tbody>\n",
       "    <tr>\n",
       "      <th>0</th>\n",
       "      <td>healthy restaurants</td>\n",
       "      <td>Ciutat Vella</td>\n",
       "      <td>7</td>\n",
       "    </tr>\n",
       "    <tr>\n",
       "      <th>1</th>\n",
       "      <td>healthy restaurants</td>\n",
       "      <td>Eixample</td>\n",
       "      <td>6</td>\n",
       "    </tr>\n",
       "    <tr>\n",
       "      <th>2</th>\n",
       "      <td>healthy restaurants</td>\n",
       "      <td>Gràcia</td>\n",
       "      <td>4</td>\n",
       "    </tr>\n",
       "    <tr>\n",
       "      <th>3</th>\n",
       "      <td>healthy restaurants</td>\n",
       "      <td>Horta-Guinardó</td>\n",
       "      <td>3</td>\n",
       "    </tr>\n",
       "    <tr>\n",
       "      <th>4</th>\n",
       "      <td>healthy restaurants</td>\n",
       "      <td>Les Corts</td>\n",
       "      <td>2</td>\n",
       "    </tr>\n",
       "  </tbody>\n",
       "</table>\n",
       "</div>"
      ],
      "text/plain": [
       "      Natural Category        District  Venue Count\n",
       "0  healthy restaurants    Ciutat Vella            7\n",
       "1  healthy restaurants        Eixample            6\n",
       "2  healthy restaurants          Gràcia            4\n",
       "3  healthy restaurants  Horta-Guinardó            3\n",
       "4  healthy restaurants       Les Corts            2"
      ]
     },
     "execution_count": 20,
     "metadata": {},
     "output_type": "execute_result"
    }
   ],
   "source": [
    "# subset complete dataframe based on natural life venues\n",
    "bcn_natural = bcn_venues.loc[bcn_venues['Venue Category'].isin(bcn_nat_venues)].reset_index().drop(['index'], axis = 1)\n",
    "\n",
    "# create a new category grouping based on items: sports, walkways, healthy shops, healthy restaurants, pet places\n",
    "bcn_natural['Venue Category'] = bcn_natural['Venue Category'].replace(['Athletics & Sports', 'Basketball Court', 'Bathing Area', 'Climbing Gym', 'Gym', 'Gym / Fitness Center', 'Gym Pool', 'Pool', 'Rock Climbing Spot', 'Soccer Field', 'Sporting Goods Shop', 'Tennis Court', 'Yoga Studio'], 'sports')\n",
    "bcn_natural['Venue Category'] = bcn_natural['Venue Category'].replace(['Beach', 'Botanical Garden', 'Bathing Area', 'Garden', 'Hill', 'Lake', 'Park'], 'walkways')\n",
    "bcn_natural['Venue Category'] = bcn_natural['Venue Category'].replace(['Farmers Market', 'Fruit & Vegetable Store', 'Grocery Store', 'Health Food Store', 'Market'], 'healthy shops')\n",
    "bcn_natural['Venue Category'] = bcn_natural['Venue Category'].replace(['Comfort Food Restaurant', 'Falafel Restaurant', 'Gluten-free Restaurant', 'Juice Bar', 'Poke Place', 'Salad Place', 'Vegetarian / Vegan Restaurant'], 'healthy restaurants')\n",
    "bcn_natural['Venue Category'] = bcn_natural['Venue Category'].replace(['Dog Run', 'Pet Café', 'Pet Store'], 'pet places')\n",
    "\n",
    "# group data and rename columns\n",
    "bcn_natural = bcn_natural.groupby(['Venue Category', 'District']).count().reset_index()\n",
    "bcn_natural = bcn_natural.rename(columns = {\"Venue Category\": \"Natural Category\", \"Venue\": \"Venue Count\"})\n",
    "bcn_natural = bcn_natural[['Natural Category', 'District', 'Venue Count']]\n",
    "\n",
    "# review shape and head of dataframe\n",
    "print(bcn_natural.shape)\n",
    "bcn_natural.head()"
   ]
  },
  {
   "cell_type": "markdown",
   "metadata": {},
   "source": [
    "### Madrid additional data collection"
   ]
  },
  {
   "cell_type": "markdown",
   "metadata": {},
   "source": [
    "Generate a dataframe based on information extracted from the `National Statistics Institute (INE)`$^{ (4, 5)}$ of Spain on information about building types and characteristics in the diverse Madrid neighborhoods:"
   ]
  },
  {
   "cell_type": "code",
   "execution_count": 21,
   "metadata": {
    "ExecuteTime": {
     "end_time": "2021-03-27T18:02:58.173320Z",
     "start_time": "2021-03-27T18:02:58.143400Z"
    }
   },
   "outputs": [
    {
     "name": "stdout",
     "output_type": "stream",
     "text": [
      "(131, 2)\n"
     ]
    },
    {
     "data": {
      "text/html": [
       "<div>\n",
       "<style scoped>\n",
       "    .dataframe tbody tr th:only-of-type {\n",
       "        vertical-align: middle;\n",
       "    }\n",
       "\n",
       "    .dataframe tbody tr th {\n",
       "        vertical-align: top;\n",
       "    }\n",
       "\n",
       "    .dataframe thead th {\n",
       "        text-align: right;\n",
       "    }\n",
       "</style>\n",
       "<table border=\"1\" class=\"dataframe\">\n",
       "  <thead>\n",
       "    <tr style=\"text-align: right;\">\n",
       "      <th></th>\n",
       "      <th>Neighborhood</th>\n",
       "      <th>Average Home Size m2</th>\n",
       "    </tr>\n",
       "    <tr>\n",
       "      <th>District</th>\n",
       "      <th></th>\n",
       "      <th></th>\n",
       "    </tr>\n",
       "  </thead>\n",
       "  <tbody>\n",
       "    <tr>\n",
       "      <th>Centro</th>\n",
       "      <td>Palacio</td>\n",
       "      <td>101</td>\n",
       "    </tr>\n",
       "    <tr>\n",
       "      <th>Centro</th>\n",
       "      <td>Embajadores</td>\n",
       "      <td>78</td>\n",
       "    </tr>\n",
       "    <tr>\n",
       "      <th>Centro</th>\n",
       "      <td>Cortes</td>\n",
       "      <td>116</td>\n",
       "    </tr>\n",
       "    <tr>\n",
       "      <th>Centro</th>\n",
       "      <td>Justicia</td>\n",
       "      <td>125</td>\n",
       "    </tr>\n",
       "    <tr>\n",
       "      <th>Centro</th>\n",
       "      <td>Universidad</td>\n",
       "      <td>90</td>\n",
       "    </tr>\n",
       "  </tbody>\n",
       "</table>\n",
       "</div>"
      ],
      "text/plain": [
       "         Neighborhood  Average Home Size m2\n",
       "District                                   \n",
       "Centro        Palacio                   101\n",
       "Centro    Embajadores                    78\n",
       "Centro         Cortes                   116\n",
       "Centro       Justicia                   125\n",
       "Centro    Universidad                    90"
      ]
     },
     "execution_count": 21,
     "metadata": {},
     "output_type": "execute_result"
    }
   ],
   "source": [
    "# import buildings data\n",
    "buildings = pd.read_csv('csv/buildings.csv', index_col = 0)\n",
    "buildings = buildings[buildings['Use'] == 'Residential']\n",
    "buildings = buildings.rename(columns = {'avg surface': 'Average Home Size m2'})\n",
    "buildings = buildings[['Neighborhood', 'Average Home Size m2']] \n",
    "\n",
    "# define old and new values lists for neighborhoods\n",
    "old_neigh = ['Pacífico', 'Jeronimos', 'Niño Jesus', 'Ciudad Jardín', 'Hispanoamérica', 'Nueva España', 'Ríos Rosas', 'Peñagrande', 'Argüelles', 'Valdemarín', 'El Plantío', 'Los Cármenes', 'Puerta del Ángel', 'Las Águilas', 'Opañel', 'San Fermín', 'Moscardó', 'Entrevías', 'Fontarrón', 'Concepción', 'Apóstol Santiago', 'San Cristóbal', 'Los Ángeles', 'Casco Histórico de Vallecas', 'El Cañaveral', 'Hellín', 'Casco Histórico de Barajas', 'Timón']\n",
    "new_neigh = ['Pacifico', 'Los Jeronimos', 'Nino Jesus', 'Ciudad Jardin', 'Hispanoamerica', 'Nueva Espana', 'Rios Rosas', 'Penagrande', 'Arguelles', 'Valdemarin', 'El Plantio', 'Los Carmenes', 'Puerta del Angel', 'Las Aguilas', 'Opanel', 'San Fermin', 'Moscardo', 'Entrevias', 'Fontarron', 'Concepcion', 'Apostol Santiago', 'San Cristobal', 'Los Angeles', 'Casco Historico de Vallecas', 'El Canaveral', 'Hellin', 'Casco Historico de Barajas', 'Timon']\n",
    "\n",
    "# generate a loop to replace all elements in the districts list\n",
    "for i in range(len(old_neigh)):\n",
    "    buildings['Neighborhood'] = buildings['Neighborhood'].astype(str).replace(old_neigh[i], new_neigh[i])\n",
    "\n",
    "# print shape and dataframe\n",
    "print(buildings.shape)\n",
    "buildings.head()"
   ]
  },
  {
   "cell_type": "markdown",
   "metadata": {},
   "source": [
    "Generate a dataframe based on information extracted from `Idealista` $^{ (6)}$ site on information about average renting prices in the diverse Madrid neighborhoods:"
   ]
  },
  {
   "cell_type": "code",
   "execution_count": 22,
   "metadata": {
    "ExecuteTime": {
     "end_time": "2021-03-27T18:02:58.205235Z",
     "start_time": "2021-03-27T18:02:58.176312Z"
    }
   },
   "outputs": [
    {
     "name": "stdout",
     "output_type": "stream",
     "text": [
      "(131, 2)\n"
     ]
    },
    {
     "data": {
      "text/html": [
       "<div>\n",
       "<style scoped>\n",
       "    .dataframe tbody tr th:only-of-type {\n",
       "        vertical-align: middle;\n",
       "    }\n",
       "\n",
       "    .dataframe tbody tr th {\n",
       "        vertical-align: top;\n",
       "    }\n",
       "\n",
       "    .dataframe thead th {\n",
       "        text-align: right;\n",
       "    }\n",
       "</style>\n",
       "<table border=\"1\" class=\"dataframe\">\n",
       "  <thead>\n",
       "    <tr style=\"text-align: right;\">\n",
       "      <th></th>\n",
       "      <th>Neighborhood</th>\n",
       "      <th>Rental m2 EUR</th>\n",
       "    </tr>\n",
       "    <tr>\n",
       "      <th>District</th>\n",
       "      <th></th>\n",
       "      <th></th>\n",
       "    </tr>\n",
       "  </thead>\n",
       "  <tbody>\n",
       "    <tr>\n",
       "      <th>Arganzuela</th>\n",
       "      <td>Acacias</td>\n",
       "      <td>14.5</td>\n",
       "    </tr>\n",
       "    <tr>\n",
       "      <th>Arganzuela</th>\n",
       "      <td>Chopera</td>\n",
       "      <td>14.0</td>\n",
       "    </tr>\n",
       "    <tr>\n",
       "      <th>Arganzuela</th>\n",
       "      <td>Delicias</td>\n",
       "      <td>14.3</td>\n",
       "    </tr>\n",
       "    <tr>\n",
       "      <th>Arganzuela</th>\n",
       "      <td>Imperial</td>\n",
       "      <td>13.8</td>\n",
       "    </tr>\n",
       "    <tr>\n",
       "      <th>Arganzuela</th>\n",
       "      <td>Legazpi</td>\n",
       "      <td>13.6</td>\n",
       "    </tr>\n",
       "  </tbody>\n",
       "</table>\n",
       "</div>"
      ],
      "text/plain": [
       "           Neighborhood  Rental m2 EUR\n",
       "District                              \n",
       "Arganzuela      Acacias           14.5\n",
       "Arganzuela      Chopera           14.0\n",
       "Arganzuela     Delicias           14.3\n",
       "Arganzuela     Imperial           13.8\n",
       "Arganzuela      Legazpi           13.6"
      ]
     },
     "execution_count": 22,
     "metadata": {},
     "output_type": "execute_result"
    }
   ],
   "source": [
    "# import rental data\n",
    "rental = pd.read_csv('csv/rental.csv', index_col = 0)\n",
    "rental = rental.rename(columns = {'Price m2': 'Rental m2 EUR'})\n",
    "rental = rental[['Neighborhood', 'Rental m2 EUR']] \n",
    "\n",
    "# define old and new values lists for neighborhoods\n",
    "old_neigh = ['Pacífico', 'Jeronimos', 'Niño Jesus', 'Ciudad Jardín', 'Hispanoamérica', 'Nueva España', 'Ríos Rosas', 'Peñagrande', 'Argüelles', 'Valdemarín', 'El Plantío', 'Los Cármenes', 'Puerta del Ángel', 'Las Águilas', 'Opañel', 'San Fermín', 'Moscardó', 'Entrevías', 'Fontarrón', 'Concepción', 'Apóstol Santiago', 'San Cristóbal', 'Los Ángeles', 'Casco Histórico de Vallecas', 'El Cañaveral', 'Hellín', 'Casco Histórico de Barajas', 'Timón']\n",
    "new_neigh = ['Pacifico', 'Los Jeronimos', 'Nino Jesus', 'Ciudad Jardin', 'Hispanoamerica', 'Nueva Espana', 'Rios Rosas', 'Penagrande', 'Arguelles', 'Valdemarin', 'El Plantio', 'Los Carmenes', 'Puerta del Angel', 'Las Aguilas', 'Opanel', 'San Fermin', 'Moscardo', 'Entrevias', 'Fontarron', 'Concepcion', 'Apostol Santiago', 'San Cristobal', 'Los Angeles', 'Casco Historico de Vallecas', 'El Canaveral', 'Hellin', 'Casco Historico de Barajas', 'Timon']\n",
    "\n",
    "# generate a loop to replace all elements in the districts list\n",
    "for i in range(len(old_neigh)):\n",
    "    rental['Neighborhood'] = rental['Neighborhood'].astype(str).replace(old_neigh[i], new_neigh[i])\n",
    "\n",
    "# print shape and dataframe\n",
    "print(rental.shape)\n",
    "rental.head()"
   ]
  },
  {
   "cell_type": "markdown",
   "metadata": {},
   "source": [
    "Generate a dataframe based on information extracted from `Glassdoor`$^{ (7)}$ site for possible job positions and average salaries in Madrid:"
   ]
  },
  {
   "cell_type": "code",
   "execution_count": 23,
   "metadata": {
    "ExecuteTime": {
     "end_time": "2021-03-27T18:02:58.221192Z",
     "start_time": "2021-03-27T18:02:58.207229Z"
    }
   },
   "outputs": [
    {
     "data": {
      "text/html": [
       "<div>\n",
       "<style scoped>\n",
       "    .dataframe tbody tr th:only-of-type {\n",
       "        vertical-align: middle;\n",
       "    }\n",
       "\n",
       "    .dataframe tbody tr th {\n",
       "        vertical-align: top;\n",
       "    }\n",
       "\n",
       "    .dataframe thead th {\n",
       "        text-align: right;\n",
       "    }\n",
       "</style>\n",
       "<table border=\"1\" class=\"dataframe\">\n",
       "  <thead>\n",
       "    <tr style=\"text-align: right;\">\n",
       "      <th></th>\n",
       "      <th>Job</th>\n",
       "      <th>Year Salary</th>\n",
       "      <th>Range</th>\n",
       "    </tr>\n",
       "  </thead>\n",
       "  <tbody>\n",
       "    <tr>\n",
       "      <th>0</th>\n",
       "      <td>Customer Service</td>\n",
       "      <td>24719</td>\n",
       "      <td>1</td>\n",
       "    </tr>\n",
       "    <tr>\n",
       "      <th>1</th>\n",
       "      <td>Data Analyst</td>\n",
       "      <td>28678</td>\n",
       "      <td>1</td>\n",
       "    </tr>\n",
       "    <tr>\n",
       "      <th>2</th>\n",
       "      <td>Business Analyst</td>\n",
       "      <td>29618</td>\n",
       "      <td>1</td>\n",
       "    </tr>\n",
       "    <tr>\n",
       "      <th>3</th>\n",
       "      <td>IT Developer</td>\n",
       "      <td>33290</td>\n",
       "      <td>2</td>\n",
       "    </tr>\n",
       "    <tr>\n",
       "      <th>4</th>\n",
       "      <td>Account Manager</td>\n",
       "      <td>31335</td>\n",
       "      <td>2</td>\n",
       "    </tr>\n",
       "    <tr>\n",
       "      <th>5</th>\n",
       "      <td>Industrial Engineer</td>\n",
       "      <td>32086</td>\n",
       "      <td>2</td>\n",
       "    </tr>\n",
       "    <tr>\n",
       "      <th>6</th>\n",
       "      <td>Sales Manager</td>\n",
       "      <td>48923</td>\n",
       "      <td>3</td>\n",
       "    </tr>\n",
       "    <tr>\n",
       "      <th>7</th>\n",
       "      <td>Doctor</td>\n",
       "      <td>47835</td>\n",
       "      <td>3</td>\n",
       "    </tr>\n",
       "    <tr>\n",
       "      <th>8</th>\n",
       "      <td>Architect</td>\n",
       "      <td>47630</td>\n",
       "      <td>3</td>\n",
       "    </tr>\n",
       "  </tbody>\n",
       "</table>\n",
       "</div>"
      ],
      "text/plain": [
       "                   Job Year Salary Range\n",
       "0     Customer Service       24719     1\n",
       "1         Data Analyst       28678     1\n",
       "2     Business Analyst       29618     1\n",
       "3         IT Developer       33290     2\n",
       "4      Account Manager       31335     2\n",
       "5  Industrial Engineer       32086     2\n",
       "6        Sales Manager       48923     3\n",
       "7               Doctor       47835     3\n",
       "8            Architect       47630     3"
      ]
     },
     "execution_count": 23,
     "metadata": {},
     "output_type": "execute_result"
    }
   ],
   "source": [
    "# create a list with salaries info\n",
    "list = [['Customer Service', '24719', '1'], ['Data Analyst', '28678', '1'], ['Business Analyst', '29618', '1'], ['IT Developer', '33290', '2'], ['Account Manager', '31335', '2'], ['Industrial Engineer', '32086', '2'], ['Sales Manager', '48923', '3'], ['Doctor', '47835', '3'], ['Architect', '47630', '3']]\n",
    "\n",
    "# create a dataframe of salaries based on the list above\n",
    "salary = pd.DataFrame(list, columns = ['Job', 'Year Salary', 'Range'])\n",
    "salary"
   ]
  },
  {
   "cell_type": "markdown",
   "metadata": {
    "ExecuteTime": {
     "end_time": "2021-03-26T17:56:40.596456Z",
     "start_time": "2021-03-26T17:56:40.582928Z"
    }
   },
   "source": [
    "**References:**\n",
    "\n",
    "(1) *Wikipedia - Madrid districts:* https://es.wikipedia.org/wiki/Anexo:Distritos_de_Madrid\n",
    "\n",
    "(2) *Wikipedia - Barcelona districts:* https://en.wikipedia.org/wiki/Districts_of_Barcelona\n",
    "\n",
    "(3) *Geohack:* https://geohack.toolforge.org/geohack.php?pagename=Corralejos&params=40_27_52_N_3_35_24_W_type:city(150000)_region:ES\n",
    "\n",
    "(4) *INE - sub-municipal data:* https://www.ine.es/jaxiT3/Tabla.htm?t=30139\n",
    "\n",
    "(5) *INEBase - economy:* https://www.ine.es/dyngs/INEbase/es/categoria.htm?c=Estadistica_P&cid=1254735570541\n",
    "\n",
    "(6) *Idealista:* https://www.idealista.com/sala-de-prensa/informes-precio-vivienda/alquiler/madrid-comunidad/madrid-provincia/madrid/\n",
    "\n",
    "(7) *Glassdoor:* https://www.glassdoor.es/index.htm"
   ]
  },
  {
   "cell_type": "markdown",
   "metadata": {
    "ExecuteTime": {
     "end_time": "2021-03-23T20:27:00.396147Z",
     "start_time": "2021-03-23T20:27:00.381187Z"
    }
   },
   "source": [
    "## Methodology"
   ]
  },
  {
   "cell_type": "markdown",
   "metadata": {},
   "source": [
    "In this project we will try to determine whether Madrid or Barcelona is the best city to move to when trying to look for a downtown but natural way of life.\n",
    "\n",
    "In first step we have collected the required data: neighborhoods and coordinates for both cities (using `BeautifulSoup`library to scrape the info from the web), most relevant venues (linked to natural way of life) within those neighborhoods (via the `Foursquare API`), and additional information of relevance which would help us later to understand the average renting price of flats by neighborhood in the destination city and the possible salaries migrants could access to in order to make their dream come true.\n",
    "\n",
    "The second step in our analysis is to understand which is the most suitable of the two cities. For that we will run some exploratory displays (using `matplotlib` and `seaborn` libraries) around natural venues amounts in both cities and we will run a t-test (using `scipy` library) to understand if there is a statistical difference between those based on their districts structure and which is the 'winner' option. \n",
    "\n",
    "In the third step we will aggregate neighborhoods by common venues profiles (using a k-means clustering process run with `SciKit-learn`library) and choose the cluster which seems to include the most amount of 'natural' venues within their top 10 most frequent venues.\n",
    "\n",
    "We will shortlist also the neighborhoods in the winning cluster just to the top 10 ones based on a ranking for more 'natural' venues within their top venues. \n",
    "\n",
    "In the final step we will determine the average renting price for accommodation in the diverse neighborhoods of the selected pool, and cross-reference those with the possible economic capacity by the migrant depending on their average salary, being able thus to narrow possible destination options. "
   ]
  },
  {
   "cell_type": "markdown",
   "metadata": {},
   "source": [
    "## Analysis"
   ]
  },
  {
   "cell_type": "markdown",
   "metadata": {},
   "source": [
    "### Natural venues differences between cities - a visual approach"
   ]
  },
  {
   "cell_type": "markdown",
   "metadata": {},
   "source": [
    "In first place we will generate the required consolidated dataframes for both cities together on which to later base the visual displays:"
   ]
  },
  {
   "cell_type": "code",
   "execution_count": 24,
   "metadata": {
    "ExecuteTime": {
     "end_time": "2021-03-27T18:02:58.236153Z",
     "start_time": "2021-03-27T18:02:58.222190Z"
    }
   },
   "outputs": [
    {
     "data": {
      "text/html": [
       "<div>\n",
       "<style scoped>\n",
       "    .dataframe tbody tr th:only-of-type {\n",
       "        vertical-align: middle;\n",
       "    }\n",
       "\n",
       "    .dataframe tbody tr th {\n",
       "        vertical-align: top;\n",
       "    }\n",
       "\n",
       "    .dataframe thead th {\n",
       "        text-align: right;\n",
       "    }\n",
       "</style>\n",
       "<table border=\"1\" class=\"dataframe\">\n",
       "  <thead>\n",
       "    <tr style=\"text-align: right;\">\n",
       "      <th></th>\n",
       "      <th>Natural Category</th>\n",
       "      <th>Madrid</th>\n",
       "      <th>Barcelona</th>\n",
       "    </tr>\n",
       "  </thead>\n",
       "  <tbody>\n",
       "    <tr>\n",
       "      <th>0</th>\n",
       "      <td>healthy restaurants</td>\n",
       "      <td>28</td>\n",
       "      <td>43</td>\n",
       "    </tr>\n",
       "    <tr>\n",
       "      <th>1</th>\n",
       "      <td>healthy shops</td>\n",
       "      <td>71</td>\n",
       "      <td>48</td>\n",
       "    </tr>\n",
       "    <tr>\n",
       "      <th>2</th>\n",
       "      <td>pet places</td>\n",
       "      <td>6</td>\n",
       "      <td>5</td>\n",
       "    </tr>\n",
       "    <tr>\n",
       "      <th>3</th>\n",
       "      <td>sports</td>\n",
       "      <td>194</td>\n",
       "      <td>110</td>\n",
       "    </tr>\n",
       "    <tr>\n",
       "      <th>4</th>\n",
       "      <td>walkways</td>\n",
       "      <td>117</td>\n",
       "      <td>86</td>\n",
       "    </tr>\n",
       "  </tbody>\n",
       "</table>\n",
       "</div>"
      ],
      "text/plain": [
       "      Natural Category  Madrid  Barcelona\n",
       "0  healthy restaurants      28         43\n",
       "1        healthy shops      71         48\n",
       "2           pet places       6          5\n",
       "3               sports     194        110\n",
       "4             walkways     117         86"
      ]
     },
     "execution_count": 24,
     "metadata": {},
     "output_type": "execute_result"
    }
   ],
   "source": [
    "# build the consolidated dataframes for the visual analyses\n",
    "grouped_natural = pd.merge(mad_nat_grouped, bcn_nat_grouped, on='Natural Category')\n",
    "\n",
    "# rename columns\n",
    "grouped_natural = grouped_natural.rename(columns = {\"Venue Count_x\": \"Madrid\", \"Venue Count_y\": \"Barcelona\"})\n",
    "\n",
    "# display new dataframe\n",
    "grouped_natural"
   ]
  },
  {
   "cell_type": "code",
   "execution_count": 25,
   "metadata": {
    "ExecuteTime": {
     "end_time": "2021-03-27T18:02:58.252110Z",
     "start_time": "2021-03-27T18:02:58.237150Z"
    }
   },
   "outputs": [
    {
     "name": "stdout",
     "output_type": "stream",
     "text": [
      "(121, 4)\n"
     ]
    },
    {
     "data": {
      "text/html": [
       "<div>\n",
       "<style scoped>\n",
       "    .dataframe tbody tr th:only-of-type {\n",
       "        vertical-align: middle;\n",
       "    }\n",
       "\n",
       "    .dataframe tbody tr th {\n",
       "        vertical-align: top;\n",
       "    }\n",
       "\n",
       "    .dataframe thead th {\n",
       "        text-align: right;\n",
       "    }\n",
       "</style>\n",
       "<table border=\"1\" class=\"dataframe\">\n",
       "  <thead>\n",
       "    <tr style=\"text-align: right;\">\n",
       "      <th></th>\n",
       "      <th>Natural Category</th>\n",
       "      <th>District</th>\n",
       "      <th>Venue Count</th>\n",
       "      <th>City</th>\n",
       "    </tr>\n",
       "  </thead>\n",
       "  <tbody>\n",
       "    <tr>\n",
       "      <th>0</th>\n",
       "      <td>healthy restaurants</td>\n",
       "      <td>Arganzuela</td>\n",
       "      <td>2</td>\n",
       "      <td>Madrid</td>\n",
       "    </tr>\n",
       "    <tr>\n",
       "      <th>1</th>\n",
       "      <td>healthy restaurants</td>\n",
       "      <td>Centro</td>\n",
       "      <td>8</td>\n",
       "      <td>Madrid</td>\n",
       "    </tr>\n",
       "    <tr>\n",
       "      <th>2</th>\n",
       "      <td>healthy restaurants</td>\n",
       "      <td>Chamartin</td>\n",
       "      <td>2</td>\n",
       "      <td>Madrid</td>\n",
       "    </tr>\n",
       "    <tr>\n",
       "      <th>3</th>\n",
       "      <td>healthy restaurants</td>\n",
       "      <td>Chamberi</td>\n",
       "      <td>4</td>\n",
       "      <td>Madrid</td>\n",
       "    </tr>\n",
       "    <tr>\n",
       "      <th>4</th>\n",
       "      <td>healthy restaurants</td>\n",
       "      <td>Fuencarral-El Pardo</td>\n",
       "      <td>1</td>\n",
       "      <td>Madrid</td>\n",
       "    </tr>\n",
       "  </tbody>\n",
       "</table>\n",
       "</div>"
      ],
      "text/plain": [
       "      Natural Category             District  Venue Count    City\n",
       "0  healthy restaurants           Arganzuela            2  Madrid\n",
       "1  healthy restaurants               Centro            8  Madrid\n",
       "2  healthy restaurants            Chamartin            2  Madrid\n",
       "3  healthy restaurants             Chamberi            4  Madrid\n",
       "4  healthy restaurants  Fuencarral-El Pardo            1  Madrid"
      ]
     },
     "execution_count": 25,
     "metadata": {},
     "output_type": "execute_result"
    }
   ],
   "source": [
    "# add an additional column to the original dataframes including the city value\n",
    "mad_natural['City'] = 'Madrid'\n",
    "bcn_natural['City'] = 'Barcelona'\n",
    "\n",
    "# build the consolidated dataframes for the visual analyses\n",
    "natural = pd.concat([mad_natural, bcn_natural], axis=0).reset_index().drop(['index'], axis = 1) \n",
    "\n",
    "# display new merged dataframe\n",
    "print(natural.shape)\n",
    "natural.head()"
   ]
  },
  {
   "cell_type": "markdown",
   "metadata": {},
   "source": [
    "Let's now plot a `bar chart` to compare the diverse natural categories of venues by city:"
   ]
  },
  {
   "cell_type": "code",
   "execution_count": 26,
   "metadata": {
    "ExecuteTime": {
     "end_time": "2021-03-27T18:02:58.735355Z",
     "start_time": "2021-03-27T18:02:58.253108Z"
    }
   },
   "outputs": [
    {
     "name": "stdout",
     "output_type": "stream",
     "text": [
      "libraries imported!\n"
     ]
    }
   ],
   "source": [
    "# import libraries\n",
    "import matplotlib\n",
    "import matplotlib.pyplot as plt\n",
    "import numpy as np\n",
    "import seaborn as sns\n",
    "\n",
    "print('libraries imported!')"
   ]
  },
  {
   "cell_type": "code",
   "execution_count": 27,
   "metadata": {
    "ExecuteTime": {
     "end_time": "2021-03-27T18:02:58.956613Z",
     "start_time": "2021-03-27T18:02:58.736148Z"
    }
   },
   "outputs": [
    {
     "data": {
      "image/png": "[encoded data removed]",
      "text/plain": [
       "<Figure size 432x288 with 1 Axes>"
      ]
     },
     "metadata": {
      "needs_background": "light"
     },
     "output_type": "display_data"
    }
   ],
   "source": [
    "# define labels and datasets\n",
    "labels = ['healthy \\nrestaurants', 'healthy \\nshops', 'pet places', 'sports', 'walkways']\n",
    "madrid_data = grouped_natural['Madrid']\n",
    "barcelona_data = grouped_natural['Barcelona']\n",
    "\n",
    "# the label locations\n",
    "x = np.arange(len(labels))  \n",
    "\n",
    "# the width of the bars\n",
    "width = 0.35  \n",
    "\n",
    "# define figure and axes\n",
    "fig, ax = plt.subplots()\n",
    "rects1 = ax.bar(x - width/2, madrid_data, width, color = '#abc3d3', edgecolor = 'black', label = 'Madrid')\n",
    "rects2 = ax.bar(x + width/2, barcelona_data, width, color = '#d8d5e5', edgecolor = 'black', label = 'Barcelona')\n",
    "\n",
    "# define y-axis max value\n",
    "ax.set_ylim([0,240])\n",
    "\n",
    "# add text for labels, title and custom x-axis tick labels\n",
    "ax.set_ylabel('Number of venues')\n",
    "ax.set_title('Comparison between Madrid and Barcelona \\n on natural venues counts')\n",
    "ax.set_xticks(x)\n",
    "ax.set_xticklabels(labels)\n",
    "ax.legend(loc = 'upper left')\n",
    "\n",
    "# define a function to stick text labels to the plot\n",
    "def autolabel(rects):\n",
    "    \"\"\"Attach a text label above each bar in *rects*, displaying its height.\"\"\"\n",
    "    for rect in rects:\n",
    "        height = rect.get_height()\n",
    "        ax.annotate('{}'.format(height),\n",
    "                    xy = (rect.get_x() + rect.get_width() / 2, height),\n",
    "                    \n",
    "                    # 3 points vertical offset\n",
    "                    xytext = (0, 3),  \n",
    "                    textcoords = \"offset points\",\n",
    "                    ha = 'center', va = 'bottom')\n",
    "\n",
    "autolabel(rects1)\n",
    "autolabel(rects2)\n",
    "\n",
    "fig.tight_layout()\n",
    "\n",
    "plt.show()"
   ]
  },
  {
   "cell_type": "markdown",
   "metadata": {},
   "source": [
    "Following, let´s plot a `box plot` to compare the dispersion in the amount of natural venues per district by city:"
   ]
  },
  {
   "cell_type": "code",
   "execution_count": 28,
   "metadata": {
    "ExecuteTime": {
     "end_time": "2021-03-27T18:02:59.192890Z",
     "start_time": "2021-03-27T18:02:58.957428Z"
    }
   },
   "outputs": [
    {
     "data": {
      "text/plain": [
       "[Text(0, 0, 'healthy\\n restaurants'),\n",
       " Text(0, 0, 'healthy\\n shops'),\n",
       " Text(0, 0, 'pet places'),\n",
       " Text(0, 0, 'sports'),\n",
       " Text(0, 0, 'walkways')]"
      ]
     },
     "execution_count": 28,
     "metadata": {},
     "output_type": "execute_result"
    },
    {
     "data": {
      "image/png": "[encoded data removed]",
      "text/plain": [
       "<Figure size 504x288 with 1 Axes>"
      ]
     },
     "metadata": {},
     "output_type": "display_data"
    }
   ],
   "source": [
    "# define some styling to the seaborne plot\n",
    "sns.set(font_scale = 1.1)\n",
    "sns.set_style('ticks')\n",
    "\n",
    "# define custom category labels\n",
    "label_text = ['healthy\\n restaurants', 'healthy\\n shops', 'pet places', 'sports', 'walkways']\n",
    "\n",
    "# define figure size\n",
    "plt.figure(figsize = (7,4))\n",
    "plt.ylim(0, 20)\n",
    "\n",
    "# plot dataset as boxplot\n",
    "ax = sns.boxplot(x = natural['Natural Category'], y = natural['Venue Count'], hue = natural['City'], data = natural, palette=['#abc3d3', '#d8d5e5'])\n",
    "\n",
    "# format the plot display\n",
    "legend = ax.legend()\n",
    "ax.set(xlabel = None)\n",
    "ax.set_title('Venue count diversity\\n between Madrid and Barcelona')\n",
    "ax.set_ylabel('Diversity in number of venues')\n",
    "ax.set_xticklabels(label_text)"
   ]
  },
  {
   "cell_type": "markdown",
   "metadata": {
    "ExecuteTime": {
     "end_time": "2021-03-26T19:50:33.947578Z",
     "start_time": "2021-03-26T19:50:33.943589Z"
    }
   },
   "source": [
    "### Madrid vs Barcelona - a statistical approach to chose the right destination"
   ]
  },
  {
   "cell_type": "markdown",
   "metadata": {},
   "source": [
    "We need first to redefine the dataframe we are going to work with by consolidating all natural venues by district and getting a simpler dataset:"
   ]
  },
  {
   "cell_type": "code",
   "execution_count": 29,
   "metadata": {
    "ExecuteTime": {
     "end_time": "2021-03-27T18:02:59.208847Z",
     "start_time": "2021-03-27T18:02:59.193888Z"
    }
   },
   "outputs": [],
   "source": [
    "# redefine the dataframe to group by district, regardless of category type\n",
    "natural_ttest = natural.groupby(['City', 'District']).sum().reset_index()"
   ]
  },
  {
   "cell_type": "markdown",
   "metadata": {},
   "source": [
    "Let´s now define a set for each city which we may need to compare later on:"
   ]
  },
  {
   "cell_type": "code",
   "execution_count": 30,
   "metadata": {
    "ExecuteTime": {
     "end_time": "2021-03-27T18:02:59.224804Z",
     "start_time": "2021-03-27T18:02:59.209845Z"
    }
   },
   "outputs": [],
   "source": [
    "# extract list from Madrid data\n",
    "natural_tt_mad = natural_ttest[natural_ttest['City'] == 'Madrid']\n",
    "set1 = natural_tt_mad['Venue Count'].values.tolist()\n",
    "\n",
    "# extract list from Barcelona data\n",
    "natural_tt_bcn = natural_ttest[natural_ttest['City'] == 'Barcelona']\n",
    "set2 = natural_tt_bcn['Venue Count'].values.tolist()"
   ]
  },
  {
   "cell_type": "markdown",
   "metadata": {},
   "source": [
    "In order to understand which type of t-test we need to use we will run a prior set of descriptive statistics over the two generated datasets:"
   ]
  },
  {
   "cell_type": "code",
   "execution_count": 31,
   "metadata": {
    "ExecuteTime": {
     "end_time": "2021-03-27T18:02:59.239764Z",
     "start_time": "2021-03-27T18:02:59.225803Z"
    }
   },
   "outputs": [
    {
     "name": "stdout",
     "output_type": "stream",
     "text": [
      "Madrid districts have a mean of 19.80952380952381 venues and a variance of 119.36190476190477\n",
      "Barcelona districts have a mean of 29.2 venues and a variance of 131.51111111111112\n"
     ]
    }
   ],
   "source": [
    "# import library\n",
    "import statistics\n",
    "\n",
    "# get mean and variance of both sets\n",
    "print('Madrid districts have a mean of ' + str(statistics.mean(set1)) + ' venues and a variance of ' + str(statistics.variance(set1)))\n",
    "print('Barcelona districts have a mean of ' + str(statistics.mean(set2)) + ' venues and a variance of ' + str(statistics.variance(set2)))"
   ]
  },
  {
   "cell_type": "markdown",
   "metadata": {},
   "source": [
    "Since both groups have different sample values, different means and different variances, we'd need to run a t-test for unequal groups:"
   ]
  },
  {
   "cell_type": "code",
   "execution_count": 32,
   "metadata": {
    "ExecuteTime": {
     "end_time": "2021-03-27T18:02:59.254749Z",
     "start_time": "2021-03-27T18:02:59.240762Z"
    }
   },
   "outputs": [
    {
     "data": {
      "text/plain": [
       "Ttest_indResult(statistic=-2.163738002875141, pvalue=0.044989635653748576)"
      ]
     },
     "execution_count": 32,
     "metadata": {},
     "output_type": "execute_result"
    }
   ],
   "source": [
    "# import scypy library\n",
    "from scipy import stats\n",
    "\n",
    "# t-test for uniqual mean, var and n groups\n",
    "stats.ttest_ind(set1, set2, equal_var = False)"
   ]
  },
  {
   "cell_type": "markdown",
   "metadata": {
    "ExecuteTime": {
     "end_time": "2021-03-26T21:21:22.251284Z",
     "start_time": "2021-03-26T21:21:22.242283Z"
    }
   },
   "source": [
    "### Madrid neighborhoods clustering based on their natural venues profile"
   ]
  },
  {
   "cell_type": "markdown",
   "metadata": {
    "ExecuteTime": {
     "end_time": "2021-03-26T23:48:06.674751Z",
     "start_time": "2021-03-26T23:48:06.663802Z"
    }
   },
   "source": [
    "#### Generate one-hot encoding dataframe for cluster analysis "
   ]
  },
  {
   "cell_type": "markdown",
   "metadata": {},
   "source": [
    "In order to be able to cluster neighborhoods based on their venues' structure (here we are including all venues, not only the 'natural' ones), we need to re-structure our dataframe and generate a one-hot encoding process to distribute in different columns each venue category.\n",
    "\n",
    "In our case we will also use additional weighting based on the categories occurrence instead of the traditional 1/0 values approach of regular one-hot encoding processes. "
   ]
  },
  {
   "cell_type": "code",
   "execution_count": 33,
   "metadata": {
    "ExecuteTime": {
     "end_time": "2021-03-27T18:02:59.407316Z",
     "start_time": "2021-03-27T18:02:59.255722Z"
    }
   },
   "outputs": [
    {
     "name": "stdout",
     "output_type": "stream",
     "text": [
      "Libraries imported\n"
     ]
    }
   ],
   "source": [
    "# map rendering library\n",
    "import folium \n",
    "\n",
    "# library to handle JSON files\n",
    "import json\n",
    "from pandas import json_normalize \n",
    "\n",
    "# Matplotlib and associated plotting modules\n",
    "import matplotlib.cm as cm\n",
    "import matplotlib.colors as colors\n",
    "\n",
    "# import k-means from clustering stage\n",
    "from sklearn.cluster import KMeans\n",
    "\n",
    "print('Libraries imported')"
   ]
  },
  {
   "cell_type": "code",
   "execution_count": 34,
   "metadata": {
    "ExecuteTime": {
     "end_time": "2021-03-27T18:02:59.439231Z",
     "start_time": "2021-03-27T18:02:59.408314Z"
    }
   },
   "outputs": [
    {
     "name": "stdout",
     "output_type": "stream",
     "text": [
      "There are 290 categories in the dataset\n",
      "(2231, 6)\n"
     ]
    },
    {
     "data": {
      "text/html": [
       "<div>\n",
       "<style scoped>\n",
       "    .dataframe tbody tr th:only-of-type {\n",
       "        vertical-align: middle;\n",
       "    }\n",
       "\n",
       "    .dataframe tbody tr th {\n",
       "        vertical-align: top;\n",
       "    }\n",
       "\n",
       "    .dataframe thead th {\n",
       "        text-align: right;\n",
       "    }\n",
       "</style>\n",
       "<table border=\"1\" class=\"dataframe\">\n",
       "  <thead>\n",
       "    <tr style=\"text-align: right;\">\n",
       "      <th></th>\n",
       "      <th>District</th>\n",
       "      <th>Neighborhood</th>\n",
       "      <th>Neighborhood Lat</th>\n",
       "      <th>Neighborhood Lon</th>\n",
       "      <th>Venue Category</th>\n",
       "      <th>Venue Count</th>\n",
       "    </tr>\n",
       "  </thead>\n",
       "  <tbody>\n",
       "    <tr>\n",
       "      <th>0</th>\n",
       "      <td>Arganzuela</td>\n",
       "      <td>Acacias</td>\n",
       "      <td>40.401422</td>\n",
       "      <td>-3.704936</td>\n",
       "      <td>Art Gallery</td>\n",
       "      <td>1</td>\n",
       "    </tr>\n",
       "    <tr>\n",
       "      <th>1</th>\n",
       "      <td>Arganzuela</td>\n",
       "      <td>Acacias</td>\n",
       "      <td>40.401422</td>\n",
       "      <td>-3.704936</td>\n",
       "      <td>Bakery</td>\n",
       "      <td>1</td>\n",
       "    </tr>\n",
       "    <tr>\n",
       "      <th>2</th>\n",
       "      <td>Arganzuela</td>\n",
       "      <td>Acacias</td>\n",
       "      <td>40.401422</td>\n",
       "      <td>-3.704936</td>\n",
       "      <td>Bar</td>\n",
       "      <td>3</td>\n",
       "    </tr>\n",
       "    <tr>\n",
       "      <th>3</th>\n",
       "      <td>Arganzuela</td>\n",
       "      <td>Acacias</td>\n",
       "      <td>40.401422</td>\n",
       "      <td>-3.704936</td>\n",
       "      <td>Beach</td>\n",
       "      <td>1</td>\n",
       "    </tr>\n",
       "    <tr>\n",
       "      <th>4</th>\n",
       "      <td>Arganzuela</td>\n",
       "      <td>Acacias</td>\n",
       "      <td>40.401422</td>\n",
       "      <td>-3.704936</td>\n",
       "      <td>Beer Bar</td>\n",
       "      <td>2</td>\n",
       "    </tr>\n",
       "  </tbody>\n",
       "</table>\n",
       "</div>"
      ],
      "text/plain": [
       "     District Neighborhood  Neighborhood Lat  Neighborhood Lon Venue Category  \\\n",
       "0  Arganzuela      Acacias         40.401422         -3.704936    Art Gallery   \n",
       "1  Arganzuela      Acacias         40.401422         -3.704936         Bakery   \n",
       "2  Arganzuela      Acacias         40.401422         -3.704936            Bar   \n",
       "3  Arganzuela      Acacias         40.401422         -3.704936          Beach   \n",
       "4  Arganzuela      Acacias         40.401422         -3.704936       Beer Bar   \n",
       "\n",
       "   Venue Count  \n",
       "0            1  \n",
       "1            1  \n",
       "2            3  \n",
       "3            1  \n",
       "4            2  "
      ]
     },
     "execution_count": 34,
     "metadata": {},
     "output_type": "execute_result"
    }
   ],
   "source": [
    "# consolidate the dataframe per district and neighborhood\n",
    "mad_venues = mad_venues.groupby(['District', 'Neighborhood', 'Neighborhood Lat', 'Neighborhood Lon', 'Venue Category']).count().reset_index()\n",
    "mad_venues = mad_venues[['District', 'Neighborhood', 'Neighborhood Lat', 'Neighborhood Lon', 'Venue Category', 'Venue']]\n",
    "mad_venues = mad_venues.rename(columns = {\"Venue\": \"Venue Count\"})\n",
    "mad_venues['Neighborhood'] = mad_venues['Neighborhood'].replace(['El Cañaveral', 'Niño Jesus', 'Nueva España', 'Opañel', 'Peñagrande'], ['El Canaveral', 'Nino Jesus', 'Nueva Espana', 'Opanel', 'Penagrande'])\n",
    "\n",
    "# display dataframes\n",
    "print('There are ' + str(mad_venues['Venue Category'].nunique()) + ' categories in the dataset')\n",
    "print(mad_venues.shape)\n",
    "mad_venues.head()"
   ]
  },
  {
   "cell_type": "code",
   "execution_count": 35,
   "metadata": {
    "ExecuteTime": {
     "end_time": "2021-03-27T18:02:59.487103Z",
     "start_time": "2021-03-27T18:02:59.440232Z"
    }
   },
   "outputs": [
    {
     "name": "stdout",
     "output_type": "stream",
     "text": [
      "One-hot encoding dataframe size is: (2231, 290)\n",
      "Temporal dataframe size is: (2231, 294)\n",
      "Grouped dataframe size is: (127, 294)\n"
     ]
    }
   ],
   "source": [
    "# one hot encoding\n",
    "mad_onehot = pd.get_dummies(mad_venues[['Venue Category']], prefix=\"\", prefix_sep=\"\")\n",
    "\n",
    "# multiply dataframe by values\n",
    "mad_onehot = mad_onehot * mad_venues[['Venue Count']].values\n",
    "\n",
    "# changng one venue category name to avoid later conflict on grouping with Neighborhood main variable\n",
    "mad_onehot = mad_onehot.rename(columns = {\"Neighborhood\": \"Residential\"})\n",
    "print('One-hot encoding dataframe size is: ' + str(mad_onehot.shape))\n",
    "\n",
    "# create a joined dataframe\n",
    "mad_temp = pd.concat([mad_venues, mad_onehot], axis = 1)\n",
    "\n",
    "# drop columns Venue Category and Venue Count\n",
    "mad_temp = mad_temp.drop(['Venue Category', 'Venue Count'], axis = 1)\n",
    "print('Temporal dataframe size is: ' + str(mad_temp.shape))\n",
    "\n",
    "# identify the columns we want to aggregate\n",
    "group_cols = mad_temp.columns[:4].tolist()\n",
    "\n",
    "# identify the columns which we want to average\n",
    "metric_cols = mad_temp.columns[4:].tolist()\n",
    "\n",
    "# consolidate the dataframe per district and neighborhood\n",
    "mad_neigh_venues = mad_temp.groupby(group_cols)[metric_cols].sum().reset_index()\n",
    "\n",
    "# display dataframes\n",
    "print('Grouped dataframe size is: ' + str(mad_neigh_venues.shape))"
   ]
  },
  {
   "cell_type": "markdown",
   "metadata": {},
   "source": [
    "Since after generating the dataframe we see 4 neighborhoods are missing, likely due to lack of venues represented, we needed to generate an additonal 'fake' dataframe for these ones and merge it with the upper dataframe:"
   ]
  },
  {
   "cell_type": "code",
   "execution_count": 36,
   "metadata": {
    "ExecuteTime": {
     "end_time": "2021-03-27T18:02:59.502063Z",
     "start_time": "2021-03-27T18:02:59.488101Z"
    }
   },
   "outputs": [
    {
     "name": "stdout",
     "output_type": "stream",
     "text": [
      "(4, 294)\n"
     ]
    }
   ],
   "source": [
    "# generate data for the 4 missing neighborhoods\n",
    "cols = mad_neigh_venues.columns\n",
    "missing = pd.DataFrame(np.zeros([4, 294]), columns = cols)\n",
    "\n",
    "# replace first 4 columns by known data\n",
    "missing['District'] = ['Barajas', 'Moncloa-Aravaca', 'Moratalaz', 'Puente de Vallecas']\n",
    "missing['Neighborhood'] = ['Alameda de Osuna', 'Casa de Campo', 'Vinateros', 'Entrevias']\n",
    "missing['Neighborhood Lat'] = [40.428056, 40.481944, 40.403056, 40.400000]\n",
    "missing['Neighborhood Lon'] = [-3.625278, -3.742500, -3.640278, -3.683333]\n",
    "\n",
    "# display shape and dataframe\n",
    "print(missing.shape)"
   ]
  },
  {
   "cell_type": "code",
   "execution_count": 37,
   "metadata": {
    "ExecuteTime": {
     "end_time": "2021-03-27T18:02:59.517022Z",
     "start_time": "2021-03-27T18:02:59.503061Z"
    }
   },
   "outputs": [
    {
     "name": "stdout",
     "output_type": "stream",
     "text": [
      "(131, 294)\n"
     ]
    }
   ],
   "source": [
    "# create a joined dataframe\n",
    "mad_neigh_venues = pd.concat([mad_neigh_venues, missing], axis = 0).reset_index()\n",
    "mad_neigh_venues = mad_neigh_venues.drop(['index'], axis = 1)\n",
    "\n",
    "# display shape and dataframe\n",
    "print(mad_neigh_venues.shape)"
   ]
  },
  {
   "cell_type": "markdown",
   "metadata": {},
   "source": [
    "#### Generate top 10 venues per neighborhood dataframe"
   ]
  },
  {
   "cell_type": "markdown",
   "metadata": {},
   "source": [
    "The next step is to focus on the top 10 venues per neighborhood in all the dataset, based on their frequency of appearance over the total amount of venues of every neighborhood:"
   ]
  },
  {
   "cell_type": "code",
   "execution_count": 38,
   "metadata": {
    "ExecuteTime": {
     "end_time": "2021-03-27T18:02:59.532980Z",
     "start_time": "2021-03-27T18:02:59.518021Z"
    }
   },
   "outputs": [],
   "source": [
    "# define a function to sort the venues in descending order\n",
    "def return_top_venues(row, num_top_venues):\n",
    "    row_categories = row.iloc[1:]\n",
    "    row_categories_sorted = row_categories.sort_values(ascending = False)\n",
    "    \n",
    "    return row_categories_sorted.index.values[0:num_top_venues]"
   ]
  },
  {
   "cell_type": "code",
   "execution_count": 39,
   "metadata": {
    "ExecuteTime": {
     "end_time": "2021-03-27T18:02:59.673604Z",
     "start_time": "2021-03-27T18:02:59.533979Z"
    }
   },
   "outputs": [
    {
     "name": "stdout",
     "output_type": "stream",
     "text": [
      "(131, 11)\n"
     ]
    },
    {
     "data": {
      "text/html": [
       "<div>\n",
       "<style scoped>\n",
       "    .dataframe tbody tr th:only-of-type {\n",
       "        vertical-align: middle;\n",
       "    }\n",
       "\n",
       "    .dataframe tbody tr th {\n",
       "        vertical-align: top;\n",
       "    }\n",
       "\n",
       "    .dataframe thead th {\n",
       "        text-align: right;\n",
       "    }\n",
       "</style>\n",
       "<table border=\"1\" class=\"dataframe\">\n",
       "  <thead>\n",
       "    <tr style=\"text-align: right;\">\n",
       "      <th></th>\n",
       "      <th>Neighborhood</th>\n",
       "      <th>1st Most Common Venue</th>\n",
       "      <th>2nd Most Common Venue</th>\n",
       "      <th>3rd Most Common Venue</th>\n",
       "      <th>4th Most Common Venue</th>\n",
       "      <th>5th Most Common Venue</th>\n",
       "      <th>6th Most Common Venue</th>\n",
       "      <th>7th Most Common Venue</th>\n",
       "      <th>8th Most Common Venue</th>\n",
       "      <th>9th Most Common Venue</th>\n",
       "      <th>10th Most Common Venue</th>\n",
       "    </tr>\n",
       "  </thead>\n",
       "  <tbody>\n",
       "    <tr>\n",
       "      <th>0</th>\n",
       "      <td>Acacias</td>\n",
       "      <td>Park</td>\n",
       "      <td>Spanish Restaurant</td>\n",
       "      <td>Indie Theater</td>\n",
       "      <td>Tapas Restaurant</td>\n",
       "      <td>Bar</td>\n",
       "      <td>Café</td>\n",
       "      <td>Beer Bar</td>\n",
       "      <td>Gym / Fitness Center</td>\n",
       "      <td>Pool</td>\n",
       "      <td>Burger Joint</td>\n",
       "    </tr>\n",
       "    <tr>\n",
       "      <th>1</th>\n",
       "      <td>Atocha</td>\n",
       "      <td>Spanish Restaurant</td>\n",
       "      <td>Museum</td>\n",
       "      <td>Bar</td>\n",
       "      <td>Café</td>\n",
       "      <td>Brewery</td>\n",
       "      <td>Bakery</td>\n",
       "      <td>Diner</td>\n",
       "      <td>Gym</td>\n",
       "      <td>Restaurant</td>\n",
       "      <td>Italian Restaurant</td>\n",
       "    </tr>\n",
       "    <tr>\n",
       "      <th>2</th>\n",
       "      <td>Chopera</td>\n",
       "      <td>Spanish Restaurant</td>\n",
       "      <td>Restaurant</td>\n",
       "      <td>Bar</td>\n",
       "      <td>Gym</td>\n",
       "      <td>Coffee Shop</td>\n",
       "      <td>Beer Garden</td>\n",
       "      <td>Burger Joint</td>\n",
       "      <td>Mediterranean Restaurant</td>\n",
       "      <td>Flea Market</td>\n",
       "      <td>Argentinian Restaurant</td>\n",
       "    </tr>\n",
       "    <tr>\n",
       "      <th>3</th>\n",
       "      <td>Delicias</td>\n",
       "      <td>Restaurant</td>\n",
       "      <td>Spanish Restaurant</td>\n",
       "      <td>Chinese Restaurant</td>\n",
       "      <td>Breakfast Spot</td>\n",
       "      <td>Italian Restaurant</td>\n",
       "      <td>Plaza</td>\n",
       "      <td>Tapas Restaurant</td>\n",
       "      <td>Beer Garden</td>\n",
       "      <td>Electronics Store</td>\n",
       "      <td>Bar</td>\n",
       "    </tr>\n",
       "    <tr>\n",
       "      <th>4</th>\n",
       "      <td>Imperial</td>\n",
       "      <td>Tapas Restaurant</td>\n",
       "      <td>Park</td>\n",
       "      <td>Gym / Fitness Center</td>\n",
       "      <td>Hotel</td>\n",
       "      <td>Theater</td>\n",
       "      <td>Pizza Place</td>\n",
       "      <td>Plaza</td>\n",
       "      <td>Spanish Restaurant</td>\n",
       "      <td>Bar</td>\n",
       "      <td>Spa</td>\n",
       "    </tr>\n",
       "  </tbody>\n",
       "</table>\n",
       "</div>"
      ],
      "text/plain": [
       "  Neighborhood 1st Most Common Venue 2nd Most Common Venue  \\\n",
       "0      Acacias                  Park    Spanish Restaurant   \n",
       "1       Atocha    Spanish Restaurant                Museum   \n",
       "2      Chopera    Spanish Restaurant            Restaurant   \n",
       "3     Delicias            Restaurant    Spanish Restaurant   \n",
       "4     Imperial      Tapas Restaurant                  Park   \n",
       "\n",
       "  3rd Most Common Venue 4th Most Common Venue 5th Most Common Venue  \\\n",
       "0         Indie Theater      Tapas Restaurant                   Bar   \n",
       "1                   Bar                  Café               Brewery   \n",
       "2                   Bar                   Gym           Coffee Shop   \n",
       "3    Chinese Restaurant        Breakfast Spot    Italian Restaurant   \n",
       "4  Gym / Fitness Center                 Hotel               Theater   \n",
       "\n",
       "  6th Most Common Venue 7th Most Common Venue     8th Most Common Venue  \\\n",
       "0                  Café              Beer Bar      Gym / Fitness Center   \n",
       "1                Bakery                 Diner                       Gym   \n",
       "2           Beer Garden          Burger Joint  Mediterranean Restaurant   \n",
       "3                 Plaza      Tapas Restaurant               Beer Garden   \n",
       "4           Pizza Place                 Plaza        Spanish Restaurant   \n",
       "\n",
       "  9th Most Common Venue  10th Most Common Venue  \n",
       "0                  Pool            Burger Joint  \n",
       "1            Restaurant      Italian Restaurant  \n",
       "2           Flea Market  Argentinian Restaurant  \n",
       "3     Electronics Store                     Bar  \n",
       "4                   Bar                     Spa  "
      ]
     },
     "execution_count": 39,
     "metadata": {},
     "output_type": "execute_result"
    }
   ],
   "source": [
    "# dropped columns not required\n",
    "mad_for_top10 = mad_neigh_venues.drop(['District', 'Neighborhood Lat', 'Neighborhood Lon'], 1)\n",
    "\n",
    "# define the number of top venues\n",
    "num_top_venues = 10\n",
    "\n",
    "# include some position indicators\n",
    "indicators = ['st', 'nd', 'rd']\n",
    "\n",
    "# create columns according to number of top venues\n",
    "columns = ['Neighborhood']\n",
    "for ind in np.arange(num_top_venues):\n",
    "    try:\n",
    "        columns.append('{}{} Most Common Venue'.format(ind+1, indicators[ind]))\n",
    "    except:\n",
    "        columns.append('{}th Most Common Venue'.format(ind+1))\n",
    "\n",
    "# create a new dataframe\n",
    "neighborhoods_venues_sorted = pd.DataFrame(columns = columns)\n",
    "neighborhoods_venues_sorted['Neighborhood'] = mad_for_top10['Neighborhood']\n",
    "\n",
    "for ind in np.arange(mad_neigh_venues.shape[0]):\n",
    "    neighborhoods_venues_sorted.iloc[ind, 1:] = return_top_venues(mad_for_top10.iloc[ind, :], num_top_venues)\n",
    "\n",
    "# display shape and dataframe\n",
    "print(neighborhoods_venues_sorted.shape)\n",
    "neighborhoods_venues_sorted.head()"
   ]
  },
  {
   "cell_type": "markdown",
   "metadata": {},
   "source": [
    "#### Define clusters of neighborhoods"
   ]
  },
  {
   "cell_type": "markdown",
   "metadata": {},
   "source": [
    "A fundamental step in the process is defining the clusters of neighborhoods based on their overall venues profile. As we used a k-means clustering process, the first step required is to define the suitable k value or number of clusters:"
   ]
  },
  {
   "cell_type": "code",
   "execution_count": 40,
   "metadata": {
    "ExecuteTime": {
     "end_time": "2021-03-27T18:02:59.876062Z",
     "start_time": "2021-03-27T18:02:59.674602Z"
    }
   },
   "outputs": [
    {
     "name": "stdout",
     "output_type": "stream",
     "text": [
      "---- 2 cluster ----\n",
      "0     28.0\n",
      "1    103.0\n",
      "Name: cluster, dtype: float64\n",
      "\n",
      "---- 3 cluster ----\n",
      "0    78.0\n",
      "1     8.0\n",
      "2    45.0\n",
      "Name: cluster, dtype: float64\n",
      "\n",
      "---- 4 cluster ----\n",
      "0    80.0\n",
      "1    41.0\n",
      "2     2.0\n",
      "3     8.0\n",
      "Name: cluster, dtype: float64\n",
      "\n",
      "---- 5 cluster ----\n",
      "0    78.0\n",
      "1     4.0\n",
      "2     5.0\n",
      "3    37.0\n",
      "4     7.0\n",
      "Name: cluster, dtype: float64\n",
      "\n",
      "---- 6 cluster ----\n",
      "0    62.0\n",
      "1     4.0\n",
      "2     5.0\n",
      "3    12.0\n",
      "4     6.0\n",
      "5    42.0\n",
      "Name: cluster, dtype: float64\n",
      "\n"
     ]
    }
   ],
   "source": [
    "# prepare dataframe for clustering with k-means\n",
    "madrid_clustering = mad_for_top10.drop(['Neighborhood'], 1)\n",
    "\n",
    "# run k-means clustering\n",
    "for i in range(1,6):\n",
    "    kmeans = KMeans(n_clusters = i + 1, random_state = 0).fit(madrid_clustering)\n",
    "    \n",
    "    # check cluster labels generated for each row in the dataframe\n",
    "    labels = kmeans.labels_.tolist()\n",
    "    df = pd.DataFrame({'cluster': labels})\n",
    "    df['cluster'] = df.groupby(['cluster'])['cluster'].count().astype(int)\n",
    "    df = df['cluster'][:i+1]\n",
    "    print(\"---- \" + str(i + 1) + \" cluster ----\")\n",
    "    print(df)\n",
    "    print()"
   ]
  },
  {
   "cell_type": "markdown",
   "metadata": {},
   "source": [
    "By inspecting the distribution of neighborhoods by cluster and the number of clusters in each iteration, we found the best balanced approach was to use k = 4. Based on that value, we run the full clustering process with k-means:"
   ]
  },
  {
   "cell_type": "code",
   "execution_count": 41,
   "metadata": {
    "ExecuteTime": {
     "end_time": "2021-03-27T18:02:59.922969Z",
     "start_time": "2021-03-27T18:02:59.877059Z"
    }
   },
   "outputs": [
    {
     "data": {
      "text/plain": [
       "0    80.0\n",
       "1    41.0\n",
       "2     2.0\n",
       "3     8.0\n",
       "Name: cluster, dtype: float64"
      ]
     },
     "execution_count": 41,
     "metadata": {},
     "output_type": "execute_result"
    }
   ],
   "source": [
    "# set number of clusters with the most spread of neighborhoods by cluster\n",
    "kclusters = 4\n",
    "\n",
    "# run k-means clustering\n",
    "kmeans = KMeans(n_clusters = kclusters, random_state = 0).fit(madrid_clustering)\n",
    "\n",
    "# check cluster labels generated for each row in the dataframe\n",
    "labels = kmeans.labels_.tolist()\n",
    "df = pd.DataFrame({'cluster': labels})\n",
    "df['cluster'] = df.groupby(['cluster'])['cluster'].count().astype(int)\n",
    "df = df['cluster'][:kclusters]\n",
    "df"
   ]
  },
  {
   "cell_type": "code",
   "execution_count": 42,
   "metadata": {
    "ExecuteTime": {
     "end_time": "2021-03-27T18:02:59.954852Z",
     "start_time": "2021-03-27T18:02:59.923935Z"
    }
   },
   "outputs": [
    {
     "name": "stdout",
     "output_type": "stream",
     "text": [
      "(131, 15)\n"
     ]
    },
    {
     "data": {
      "text/html": [
       "<div>\n",
       "<style scoped>\n",
       "    .dataframe tbody tr th:only-of-type {\n",
       "        vertical-align: middle;\n",
       "    }\n",
       "\n",
       "    .dataframe tbody tr th {\n",
       "        vertical-align: top;\n",
       "    }\n",
       "\n",
       "    .dataframe thead th {\n",
       "        text-align: right;\n",
       "    }\n",
       "</style>\n",
       "<table border=\"1\" class=\"dataframe\">\n",
       "  <thead>\n",
       "    <tr style=\"text-align: right;\">\n",
       "      <th></th>\n",
       "      <th>District</th>\n",
       "      <th>Neighborhood</th>\n",
       "      <th>Latitude</th>\n",
       "      <th>Longitude</th>\n",
       "      <th>Cluster Number</th>\n",
       "      <th>1st Most Common Venue</th>\n",
       "      <th>2nd Most Common Venue</th>\n",
       "      <th>3rd Most Common Venue</th>\n",
       "      <th>4th Most Common Venue</th>\n",
       "      <th>5th Most Common Venue</th>\n",
       "      <th>6th Most Common Venue</th>\n",
       "      <th>7th Most Common Venue</th>\n",
       "      <th>8th Most Common Venue</th>\n",
       "      <th>9th Most Common Venue</th>\n",
       "      <th>10th Most Common Venue</th>\n",
       "    </tr>\n",
       "  </thead>\n",
       "  <tbody>\n",
       "    <tr>\n",
       "      <th>0</th>\n",
       "      <td>Centro</td>\n",
       "      <td>Palacio</td>\n",
       "      <td>40.415000</td>\n",
       "      <td>-3.713333</td>\n",
       "      <td>3</td>\n",
       "      <td>Tapas Restaurant</td>\n",
       "      <td>Spanish Restaurant</td>\n",
       "      <td>Plaza</td>\n",
       "      <td>Bar</td>\n",
       "      <td>Hotel</td>\n",
       "      <td>Ice Cream Shop</td>\n",
       "      <td>Restaurant</td>\n",
       "      <td>Italian Restaurant</td>\n",
       "      <td>Bistro</td>\n",
       "      <td>Mexican Restaurant</td>\n",
       "    </tr>\n",
       "    <tr>\n",
       "      <th>1</th>\n",
       "      <td>Centro</td>\n",
       "      <td>Embajadores</td>\n",
       "      <td>40.408889</td>\n",
       "      <td>-3.699722</td>\n",
       "      <td>2</td>\n",
       "      <td>Restaurant</td>\n",
       "      <td>Plaza</td>\n",
       "      <td>Tapas Restaurant</td>\n",
       "      <td>Bar</td>\n",
       "      <td>Theater</td>\n",
       "      <td>Coffee Shop</td>\n",
       "      <td>Pizza Place</td>\n",
       "      <td>Hotel</td>\n",
       "      <td>Breakfast Spot</td>\n",
       "      <td>Market</td>\n",
       "    </tr>\n",
       "    <tr>\n",
       "      <th>2</th>\n",
       "      <td>Centro</td>\n",
       "      <td>Cortes</td>\n",
       "      <td>40.414167</td>\n",
       "      <td>-3.698056</td>\n",
       "      <td>1</td>\n",
       "      <td>Hotel</td>\n",
       "      <td>Plaza</td>\n",
       "      <td>Spanish Restaurant</td>\n",
       "      <td>Theater</td>\n",
       "      <td>Gift Shop</td>\n",
       "      <td>Tapas Restaurant</td>\n",
       "      <td>Art Museum</td>\n",
       "      <td>Garden</td>\n",
       "      <td>Noodle House</td>\n",
       "      <td>Nightclub</td>\n",
       "    </tr>\n",
       "    <tr>\n",
       "      <th>3</th>\n",
       "      <td>Centro</td>\n",
       "      <td>Justicia</td>\n",
       "      <td>40.423889</td>\n",
       "      <td>-3.696389</td>\n",
       "      <td>2</td>\n",
       "      <td>Restaurant</td>\n",
       "      <td>Cocktail Bar</td>\n",
       "      <td>Plaza</td>\n",
       "      <td>Clothing Store</td>\n",
       "      <td>Hotel</td>\n",
       "      <td>Café</td>\n",
       "      <td>Coffee Shop</td>\n",
       "      <td>Bar</td>\n",
       "      <td>Tapas Restaurant</td>\n",
       "      <td>Bookstore</td>\n",
       "    </tr>\n",
       "    <tr>\n",
       "      <th>4</th>\n",
       "      <td>Centro</td>\n",
       "      <td>Universidad</td>\n",
       "      <td>40.425278</td>\n",
       "      <td>-3.708333</td>\n",
       "      <td>1</td>\n",
       "      <td>Hotel</td>\n",
       "      <td>Bookstore</td>\n",
       "      <td>Café</td>\n",
       "      <td>Plaza</td>\n",
       "      <td>Cocktail Bar</td>\n",
       "      <td>Art Museum</td>\n",
       "      <td>Bar</td>\n",
       "      <td>Spanish Restaurant</td>\n",
       "      <td>Breakfast Spot</td>\n",
       "      <td>Mediterranean Restaurant</td>\n",
       "    </tr>\n",
       "  </tbody>\n",
       "</table>\n",
       "</div>"
      ],
      "text/plain": [
       "  District Neighborhood   Latitude  Longitude  Cluster Number  \\\n",
       "0   Centro      Palacio  40.415000  -3.713333               3   \n",
       "1   Centro  Embajadores  40.408889  -3.699722               2   \n",
       "2   Centro       Cortes  40.414167  -3.698056               1   \n",
       "3   Centro     Justicia  40.423889  -3.696389               2   \n",
       "4   Centro  Universidad  40.425278  -3.708333               1   \n",
       "\n",
       "  1st Most Common Venue 2nd Most Common Venue 3rd Most Common Venue  \\\n",
       "0      Tapas Restaurant    Spanish Restaurant                 Plaza   \n",
       "1            Restaurant                 Plaza      Tapas Restaurant   \n",
       "2                 Hotel                 Plaza    Spanish Restaurant   \n",
       "3            Restaurant          Cocktail Bar                 Plaza   \n",
       "4                 Hotel             Bookstore                  Café   \n",
       "\n",
       "  4th Most Common Venue 5th Most Common Venue 6th Most Common Venue  \\\n",
       "0                   Bar                 Hotel        Ice Cream Shop   \n",
       "1                   Bar               Theater           Coffee Shop   \n",
       "2               Theater             Gift Shop      Tapas Restaurant   \n",
       "3        Clothing Store                 Hotel                  Café   \n",
       "4                 Plaza          Cocktail Bar            Art Museum   \n",
       "\n",
       "  7th Most Common Venue 8th Most Common Venue 9th Most Common Venue  \\\n",
       "0            Restaurant    Italian Restaurant                Bistro   \n",
       "1           Pizza Place                 Hotel        Breakfast Spot   \n",
       "2            Art Museum                Garden          Noodle House   \n",
       "3           Coffee Shop                   Bar      Tapas Restaurant   \n",
       "4                   Bar    Spanish Restaurant        Breakfast Spot   \n",
       "\n",
       "     10th Most Common Venue  \n",
       "0        Mexican Restaurant  \n",
       "1                    Market  \n",
       "2                 Nightclub  \n",
       "3                 Bookstore  \n",
       "4  Mediterranean Restaurant  "
      ]
     },
     "execution_count": 42,
     "metadata": {},
     "output_type": "execute_result"
    }
   ],
   "source": [
    "# add clustering labels to the dataframe\n",
    "neighborhoods_venues_sorted.insert(0, 'Cluster Number', kmeans.labels_)\n",
    "\n",
    "# merge = venues_sorted + neigh_coord\n",
    "mad_for_cluster = pd.merge(mad_neigh_coord, neighborhoods_venues_sorted, on='Neighborhood')\n",
    "\n",
    "# print shape and dataframe\n",
    "print(mad_for_cluster.shape)\n",
    "mad_for_cluster.head()"
   ]
  },
  {
   "cell_type": "markdown",
   "metadata": {},
   "source": [
    "Once we have fully defined to which cluster belongs every neighborhood we can display such grouping in a visual way over a map with `Folium` library:"
   ]
  },
  {
   "cell_type": "code",
   "execution_count": 43,
   "metadata": {
    "ExecuteTime": {
     "end_time": "2021-03-27T18:03:00.985986Z",
     "start_time": "2021-03-27T18:02:59.955850Z"
    }
   },
   "outputs": [
    {
     "data": {
      "text/html": [
       "<div style=\"width:100%;\"><div style=\"position:relative;width:100%;height:0;padding-bottom:60%;\"><span style=\"color:#565656\">Make this Notebook Trusted to load map: File -> Trust Notebook</span><iframe src=\"about:blank\" style=\"position:absolute;width:100%;height:100%;left:0;top:0;border:none !important;\" data-html=%3C%21DOCTYPE%20html%3E%0A%3Chead%3E%20%20%20%20%0A%20%20%20%20%3Cmeta%20http-equiv%3D%22content-type%22%20content%3D%22text/html%3B%20charset%3DUTF-8%22%20/%3E%0A%20%20%20%20%3Cscript%3EL_PREFER_CANVAS%20%3D%20false%3B%20L_NO_TOUCH%20%3D%20false%3B%20L_DISABLE_3D%20%3D%20false%3B%3C/script%3E%0A%20%20%20%20%3Cscript%20src%3D%22https%3A//cdn.jsdelivr.net/npm/leaflet%401.2.0/dist/leaflet.js%22%3E%3C/script%3E%0A%20%20%20%20%3Cscript%20src%3D%22https%3A//ajax.googleapis.com/ajax/libs/jquery/1.11.1/jquery.min.js%22%3E%3C/script%3E%0A%20%20%20%20%3Cscript%20src%3D%22https%3A//maxcdn.bootstrapcdn.com/bootstrap/3.2.0/js/bootstrap.min.js%22%3E%3C/script%3E%0A%20%20%20%20%3Cscript%20src%3D%22https%3A//cdnjs.cloudflare.com/ajax/libs/Leaflet.awesome-markers/2.0.2/leaflet.awesome-markers.js%22%3E%3C/script%3E%0A%20%20%20%20%3Clink%20rel%3D%22stylesheet%22%20href%3D%22https%3A//cdn.jsdelivr.net/npm/leaflet%401.2.0/dist/leaflet.css%22/%3E%0A%20%20%20%20%3Clink%20rel%3D%22stylesheet%22%20href%3D%22https%3A//maxcdn.bootstrapcdn.com/bootstrap/3.2.0/css/bootstrap.min.css%22/%3E%0A%20%20%20%20%3Clink%20rel%3D%22stylesheet%22%20href%3D%22https%3A//maxcdn.bootstrapcdn.com/bootstrap/3.2.0/css/bootstrap-theme.min.css%22/%3E%0A%20%20%20%20%3Clink%20rel%3D%22stylesheet%22%20href%3D%22https%3A//maxcdn.bootstrapcdn.com/font-awesome/4.6.3/css/font-awesome.min.css%22/%3E%0A%20%20%20%20%3Clink%20rel%3D%22stylesheet%22%20href%3D%22https%3A//cdnjs.cloudflare.com/ajax/libs/Leaflet.awesome-markers/2.0.2/leaflet.awesome-markers.css%22/%3E%0A%20%20%20%20%3Clink%20rel%3D%22stylesheet%22%20href%3D%22https%3A//rawgit.com/python-visualization/folium/master/folium/templates/leaflet.awesome.rotate.css%22/%3E%0A%20%20%20%20%3Cstyle%3Ehtml%2C%20body%20%7Bwidth%3A%20100%25%3Bheight%3A%20100%25%3Bmargin%3A%200%3Bpadding%3A%200%3B%7D%3C/style%3E%0A%20%20%20%20%3Cstyle%3E%23map%20%7Bposition%3Aabsolute%3Btop%3A0%3Bbottom%3A0%3Bright%3A0%3Bleft%3A0%3B%7D%3C/style%3E%0A%20%20%20%20%0A%20%20%20%20%20%20%20%20%20%20%20%20%3Cstyle%3E%20%23map_eff47c844de245779793ccb2f8172862%20%7B%0A%20%20%20%20%20%20%20%20%20%20%20%20%20%20%20%20position%20%3A%20relative%3B%0A%20%20%20%20%20%20%20%20%20%20%20%20%20%20%20%20width%20%3A%20100.0%25%3B%0A%20%20%20%20%20%20%20%20%20%20%20%20%20%20%20%20height%3A%20100.0%25%3B%0A%20%20%20%20%20%20%20%20%20%20%20%20%20%20%20%20left%3A%200.0%25%3B%0A%20%20%20%20%20%20%20%20%20%20%20%20%20%20%20%20top%3A%200.0%25%3B%0A%20%20%20%20%20%20%20%20%20%20%20%20%20%20%20%20%7D%0A%20%20%20%20%20%20%20%20%20%20%20%20%3C/style%3E%0A%20%20%20%20%20%20%20%20%0A%3C/head%3E%0A%3Cbody%3E%20%20%20%20%0A%20%20%20%20%0A%20%20%20%20%20%20%20%20%20%20%20%20%3Cdiv%20class%3D%22folium-map%22%20id%3D%22map_eff47c844de245779793ccb2f8172862%22%20%3E%3C/div%3E%0A%20%20%20%20%20%20%20%20%0A%3C/body%3E%0A%3Cscript%3E%20%20%20%20%0A%20%20%20%20%0A%0A%20%20%20%20%20%20%20%20%20%20%20%20%0A%20%20%20%20%20%20%20%20%20%20%20%20%20%20%20%20var%20bounds%20%3D%20null%3B%0A%20%20%20%20%20%20%20%20%20%20%20%20%0A%0A%20%20%20%20%20%20%20%20%20%20%20%20var%20map_eff47c844de245779793ccb2f8172862%20%3D%20L.map%28%0A%20%20%20%20%20%20%20%20%20%20%20%20%20%20%20%20%20%20%20%20%20%20%20%20%20%20%20%20%20%20%20%20%20%20%27map_eff47c844de245779793ccb2f8172862%27%2C%0A%20%20%20%20%20%20%20%20%20%20%20%20%20%20%20%20%20%20%20%20%20%20%20%20%20%20%20%20%20%20%20%20%20%20%7Bcenter%3A%20%5B40.415%2C-3.713333%5D%2C%0A%20%20%20%20%20%20%20%20%20%20%20%20%20%20%20%20%20%20%20%20%20%20%20%20%20%20%20%20%20%20%20%20%20%20zoom%3A%2011%2C%0A%20%20%20%20%20%20%20%20%20%20%20%20%20%20%20%20%20%20%20%20%20%20%20%20%20%20%20%20%20%20%20%20%20%20maxBounds%3A%20bounds%2C%0A%20%20%20%20%20%20%20%20%20%20%20%20%20%20%20%20%20%20%20%20%20%20%20%20%20%20%20%20%20%20%20%20%20%20layers%3A%20%5B%5D%2C%0A%20%20%20%20%20%20%20%20%20%20%20%20%20%20%20%20%20%20%20%20%20%20%20%20%20%20%20%20%20%20%20%20%20%20worldCopyJump%3A%20false%2C%0A%20%20%20%20%20%20%20%20%20%20%20%20%20%20%20%20%20%20%20%20%20%20%20%20%20%20%20%20%20%20%20%20%20%20crs%3A%20L.CRS.EPSG3857%0A%20%20%20%20%20%20%20%20%20%20%20%20%20%20%20%20%20%20%20%20%20%20%20%20%20%20%20%20%20%20%20%20%20%7D%29%3B%0A%20%20%20%20%20%20%20%20%20%20%20%20%0A%20%20%20%20%20%20%20%20%0A%20%20%20%20%0A%20%20%20%20%20%20%20%20%20%20%20%20var%20tile_layer_982d5ae5f643428a9cbf4bc208826e32%20%3D%20L.tileLayer%28%0A%20%20%20%20%20%20%20%20%20%20%20%20%20%20%20%20%27https%3A//%7Bs%7D.tile.openstreetmap.org/%7Bz%7D/%7Bx%7D/%7By%7D.png%27%2C%0A%20%20%20%20%20%20%20%20%20%20%20%20%20%20%20%20%7B%0A%20%20%22attribution%22%3A%20null%2C%0A%20%20%22detectRetina%22%3A%20false%2C%0A%20%20%22maxZoom%22%3A%2018%2C%0A%20%20%22minZoom%22%3A%201%2C%0A%20%20%22noWrap%22%3A%20false%2C%0A%20%20%22subdomains%22%3A%20%22abc%22%0A%7D%0A%20%20%20%20%20%20%20%20%20%20%20%20%20%20%20%20%29.addTo%28map_eff47c844de245779793ccb2f8172862%29%3B%0A%20%20%20%20%20%20%20%20%0A%20%20%20%20%0A%20%20%20%20%20%20%20%20%20%20%20%20var%20circle_marker_1d791b8eff5c4f93b61162931c8a3ef2%20%3D%20L.circleMarker%28%0A%20%20%20%20%20%20%20%20%20%20%20%20%20%20%20%20%5B40.415%2C-3.713333%5D%2C%0A%20%20%20%20%20%20%20%20%20%20%20%20%20%20%20%20%7B%0A%20%20%22bubblingMouseEvents%22%3A%20true%2C%0A%20%20%22color%22%3A%20%22%23d4dd80%22%2C%0A%20%20%22dashArray%22%3A%20null%2C%0A%20%20%22dashOffset%22%3A%20null%2C%0A%20%20%22fill%22%3A%20true%2C%0A%20%20%22fillColor%22%3A%20%22%23d4dd80%22%2C%0A%20%20%22fillOpacity%22%3A%200.7%2C%0A%20%20%22fillRule%22%3A%20%22evenodd%22%2C%0A%20%20%22lineCap%22%3A%20%22round%22%2C%0A%20%20%22lineJoin%22%3A%20%22round%22%2C%0A%20%20%22opacity%22%3A%201.0%2C%0A%20%20%22radius%22%3A%205%2C%0A%20%20%22stroke%22%3A%20true%2C%0A%20%20%22weight%22%3A%203%0A%7D%0A%20%20%20%20%20%20%20%20%20%20%20%20%20%20%20%20%29.addTo%28map_eff47c844de245779793ccb2f8172862%29%3B%0A%20%20%20%20%20%20%20%20%20%20%20%20%0A%20%20%20%20%0A%20%20%20%20%20%20%20%20%20%20%20%20var%20popup_0be2e97a3c274ee087d8447fe0058202%20%3D%20L.popup%28%7BmaxWidth%3A%20%27300%27%7D%29%3B%0A%0A%20%20%20%20%20%20%20%20%20%20%20%20%0A%20%20%20%20%20%20%20%20%20%20%20%20%20%20%20%20var%20html_2fb045e703534530b8189d80c5dd8a7a%20%3D%20%24%28%27%3Cdiv%20id%3D%22html_2fb045e703534530b8189d80c5dd8a7a%22%20style%3D%22width%3A%20100.0%25%3B%20height%3A%20100.0%25%3B%22%3EPalacio%20Cluster%203%3C/div%3E%27%29%5B0%5D%3B%0A%20%20%20%20%20%20%20%20%20%20%20%20%20%20%20%20popup_0be2e97a3c274ee087d8447fe0058202.setContent%28html_2fb045e703534530b8189d80c5dd8a7a%29%3B%0A%20%20%20%20%20%20%20%20%20%20%20%20%0A%0A%20%20%20%20%20%20%20%20%20%20%20%20circle_marker_1d791b8eff5c4f93b61162931c8a3ef2.bindPopup%28popup_0be2e97a3c274ee087d8447fe0058202%29%3B%0A%0A%20%20%20%20%20%20%20%20%20%20%20%20%0A%20%20%20%20%20%20%20%20%0A%20%20%20%20%0A%20%20%20%20%20%20%20%20%20%20%20%20var%20circle_marker_1a611b931de34dfab94069c0b53ba137%20%3D%20L.circleMarker%28%0A%20%20%20%20%20%20%20%20%20%20%20%20%20%20%20%20%5B40.408889%2C-3.699722%5D%2C%0A%20%20%20%20%20%20%20%20%20%20%20%20%20%20%20%20%7B%0A%20%20%22bubblingMouseEvents%22%3A%20true%2C%0A%20%20%22color%22%3A%20%22%232adddd%22%2C%0A%20%20%22dashArray%22%3A%20null%2C%0A%20%20%22dashOffset%22%3A%20null%2C%0A%20%20%22fill%22%3A%20true%2C%0A%20%20%22fillColor%22%3A%20%22%232adddd%22%2C%0A%20%20%22fillOpacity%22%3A%200.7%2C%0A%20%20%22fillRule%22%3A%20%22evenodd%22%2C%0A%20%20%22lineCap%22%3A%20%22round%22%2C%0A%20%20%22lineJoin%22%3A%20%22round%22%2C%0A%20%20%22opacity%22%3A%201.0%2C%0A%20%20%22radius%22%3A%205%2C%0A%20%20%22stroke%22%3A%20true%2C%0A%20%20%22weight%22%3A%203%0A%7D%0A%20%20%20%20%20%20%20%20%20%20%20%20%20%20%20%20%29.addTo%28map_eff47c844de245779793ccb2f8172862%29%3B%0A%20%20%20%20%20%20%20%20%20%20%20%20%0A%20%20%20%20%0A%20%20%20%20%20%20%20%20%20%20%20%20var%20popup_91d9b8731cc04f788e73d13f73315916%20%3D%20L.popup%28%7BmaxWidth%3A%20%27300%27%7D%29%3B%0A%0A%20%20%20%20%20%20%20%20%20%20%20%20%0A%20%20%20%20%20%20%20%20%20%20%20%20%20%20%20%20var%20html_ea9d135dc6ee4eaabad1064c2f1a19ec%20%3D%20%24%28%27%3Cdiv%20id%3D%22html_ea9d135dc6ee4eaabad1064c2f1a19ec%22%20style%3D%22width%3A%20100.0%25%3B%20height%3A%20100.0%25%3B%22%3EEmbajadores%20Cluster%202%3C/div%3E%27%29%5B0%5D%3B%0A%20%20%20%20%20%20%20%20%20%20%20%20%20%20%20%20popup_91d9b8731cc04f788e73d13f73315916.setContent%28html_ea9d135dc6ee4eaabad1064c2f1a19ec%29%3B%0A%20%20%20%20%20%20%20%20%20%20%20%20%0A%0A%20%20%20%20%20%20%20%20%20%20%20%20circle_marker_1a611b931de34dfab94069c0b53ba137.bindPopup%28popup_91d9b8731cc04f788e73d13f73315916%29%3B%0A%0A%20%20%20%20%20%20%20%20%20%20%20%20%0A%20%20%20%20%20%20%20%20%0A%20%20%20%20%0A%20%20%20%20%20%20%20%20%20%20%20%20var%20circle_marker_2701868ec8f64791a27c868b5a55d212%20%3D%20L.circleMarker%28%0A%20%20%20%20%20%20%20%20%20%20%20%20%20%20%20%20%5B40.414167%2C-3.698056%5D%2C%0A%20%20%20%20%20%20%20%20%20%20%20%20%20%20%20%20%7B%0A%20%20%22bubblingMouseEvents%22%3A%20true%2C%0A%20%20%22color%22%3A%20%22%238000ff%22%2C%0A%20%20%22dashArray%22%3A%20null%2C%0A%20%20%22dashOffset%22%3A%20null%2C%0A%20%20%22fill%22%3A%20true%2C%0A%20%20%22fillColor%22%3A%20%22%238000ff%22%2C%0A%20%20%22fillOpacity%22%3A%200.7%2C%0A%20%20%22fillRule%22%3A%20%22evenodd%22%2C%0A%20%20%22lineCap%22%3A%20%22round%22%2C%0A%20%20%22lineJoin%22%3A%20%22round%22%2C%0A%20%20%22opacity%22%3A%201.0%2C%0A%20%20%22radius%22%3A%205%2C%0A%20%20%22stroke%22%3A%20true%2C%0A%20%20%22weight%22%3A%203%0A%7D%0A%20%20%20%20%20%20%20%20%20%20%20%20%20%20%20%20%29.addTo%28map_eff47c844de245779793ccb2f8172862%29%3B%0A%20%20%20%20%20%20%20%20%20%20%20%20%0A%20%20%20%20%0A%20%20%20%20%20%20%20%20%20%20%20%20var%20popup_607080951ee64d9c9eb5d3646c917fce%20%3D%20L.popup%28%7BmaxWidth%3A%20%27300%27%7D%29%3B%0A%0A%20%20%20%20%20%20%20%20%20%20%20%20%0A%20%20%20%20%20%20%20%20%20%20%20%20%20%20%20%20var%20html_032dc7f69a4d4636b8fda5d32cc80313%20%3D%20%24%28%27%3Cdiv%20id%3D%22html_032dc7f69a4d4636b8fda5d32cc80313%22%20style%3D%22width%3A%20100.0%25%3B%20height%3A%20100.0%25%3B%22%3ECortes%20Cluster%201%3C/div%3E%27%29%5B0%5D%3B%0A%20%20%20%20%20%20%20%20%20%20%20%20%20%20%20%20popup_607080951ee64d9c9eb5d3646c917fce.setContent%28html_032dc7f69a4d4636b8fda5d32cc80313%29%3B%0A%20%20%20%20%20%20%20%20%20%20%20%20%0A%0A%20%20%20%20%20%20%20%20%20%20%20%20circle_marker_2701868ec8f64791a27c868b5a55d212.bindPopup%28popup_607080951ee64d9c9eb5d3646c917fce%29%3B%0A%0A%20%20%20%20%20%20%20%20%20%20%20%20%0A%20%20%20%20%20%20%20%20%0A%20%20%20%20%0A%20%20%20%20%20%20%20%20%20%20%20%20var%20circle_marker_1507ff1d687d41569b4ec45c916c92ea%20%3D%20L.circleMarker%28%0A%20%20%20%20%20%20%20%20%20%20%20%20%20%20%20%20%5B40.423889%2C-3.696389%5D%2C%0A%20%20%20%20%20%20%20%20%20%20%20%20%20%20%20%20%7B%0A%20%20%22bubblingMouseEvents%22%3A%20true%2C%0A%20%20%22color%22%3A%20%22%232adddd%22%2C%0A%20%20%22dashArray%22%3A%20null%2C%0A%20%20%22dashOffset%22%3A%20null%2C%0A%20%20%22fill%22%3A%20true%2C%0A%20%20%22fillColor%22%3A%20%22%232adddd%22%2C%0A%20%20%22fillOpacity%22%3A%200.7%2C%0A%20%20%22fillRule%22%3A%20%22evenodd%22%2C%0A%20%20%22lineCap%22%3A%20%22round%22%2C%0A%20%20%22lineJoin%22%3A%20%22round%22%2C%0A%20%20%22opacity%22%3A%201.0%2C%0A%20%20%22radius%22%3A%205%2C%0A%20%20%22stroke%22%3A%20true%2C%0A%20%20%22weight%22%3A%203%0A%7D%0A%20%20%20%20%20%20%20%20%20%20%20%20%20%20%20%20%29.addTo%28map_eff47c844de245779793ccb2f8172862%29%3B%0A%20%20%20%20%20%20%20%20%20%20%20%20%0A%20%20%20%20%0A%20%20%20%20%20%20%20%20%20%20%20%20var%20popup_145784bfe400433bbeec5679d947af10%20%3D%20L.popup%28%7BmaxWidth%3A%20%27300%27%7D%29%3B%0A%0A%20%20%20%20%20%20%20%20%20%20%20%20%0A%20%20%20%20%20%20%20%20%20%20%20%20%20%20%20%20var%20html_cdbfbaa2992448eabb82cfca83c4227e%20%3D%20%24%28%27%3Cdiv%20id%3D%22html_cdbfbaa2992448eabb82cfca83c4227e%22%20style%3D%22width%3A%20100.0%25%3B%20height%3A%20100.0%25%3B%22%3EJusticia%20Cluster%202%3C/div%3E%27%29%5B0%5D%3B%0A%20%20%20%20%20%20%20%20%20%20%20%20%20%20%20%20popup_145784bfe400433bbeec5679d947af10.setContent%28html_cdbfbaa2992448eabb82cfca83c4227e%29%3B%0A%20%20%20%20%20%20%20%20%20%20%20%20%0A%0A%20%20%20%20%20%20%20%20%20%20%20%20circle_marker_1507ff1d687d41569b4ec45c916c92ea.bindPopup%28popup_145784bfe400433bbeec5679d947af10%29%3B%0A%0A%20%20%20%20%20%20%20%20%20%20%20%20%0A%20%20%20%20%20%20%20%20%0A%20%20%20%20%0A%20%20%20%20%20%20%20%20%20%20%20%20var%20circle_marker_cf3160e23180407597cad219adcb62cc%20%3D%20L.circleMarker%28%0A%20%20%20%20%20%20%20%20%20%20%20%20%20%20%20%20%5B40.425278%2C-3.708333%5D%2C%0A%20%20%20%20%20%20%20%20%20%20%20%20%20%20%20%20%7B%0A%20%20%22bubblingMouseEvents%22%3A%20true%2C%0A%20%20%22color%22%3A%20%22%238000ff%22%2C%0A%20%20%22dashArray%22%3A%20null%2C%0A%20%20%22dashOffset%22%3A%20null%2C%0A%20%20%22fill%22%3A%20true%2C%0A%20%20%22fillColor%22%3A%20%22%238000ff%22%2C%0A%20%20%22fillOpacity%22%3A%200.7%2C%0A%20%20%22fillRule%22%3A%20%22evenodd%22%2C%0A%20%20%22lineCap%22%3A%20%22round%22%2C%0A%20%20%22lineJoin%22%3A%20%22round%22%2C%0A%20%20%22opacity%22%3A%201.0%2C%0A%20%20%22radius%22%3A%205%2C%0A%20%20%22stroke%22%3A%20true%2C%0A%20%20%22weight%22%3A%203%0A%7D%0A%20%20%20%20%20%20%20%20%20%20%20%20%20%20%20%20%29.addTo%28map_eff47c844de245779793ccb2f8172862%29%3B%0A%20%20%20%20%20%20%20%20%20%20%20%20%0A%20%20%20%20%0A%20%20%20%20%20%20%20%20%20%20%20%20var%20popup_e6508217c94d459ca03c5d34f91b58a0%20%3D%20L.popup%28%7BmaxWidth%3A%20%27300%27%7D%29%3B%0A%0A%20%20%20%20%20%20%20%20%20%20%20%20%0A%20%20%20%20%20%20%20%20%20%20%20%20%20%20%20%20var%20html_5b9fd645a6a84d6ebc1d1316b9a8ddd6%20%3D%20%24%28%27%3Cdiv%20id%3D%22html_5b9fd645a6a84d6ebc1d1316b9a8ddd6%22%20style%3D%22width%3A%20100.0%25%3B%20height%3A%20100.0%25%3B%22%3EUniversidad%20Cluster%201%3C/div%3E%27%29%5B0%5D%3B%0A%20%20%20%20%20%20%20%20%20%20%20%20%20%20%20%20popup_e6508217c94d459ca03c5d34f91b58a0.setContent%28html_5b9fd645a6a84d6ebc1d1316b9a8ddd6%29%3B%0A%20%20%20%20%20%20%20%20%20%20%20%20%0A%0A%20%20%20%20%20%20%20%20%20%20%20%20circle_marker_cf3160e23180407597cad219adcb62cc.bindPopup%28popup_e6508217c94d459ca03c5d34f91b58a0%29%3B%0A%0A%20%20%20%20%20%20%20%20%20%20%20%20%0A%20%20%20%20%20%20%20%20%0A%20%20%20%20%0A%20%20%20%20%20%20%20%20%20%20%20%20var%20circle_marker_28d1ebf6402d43e6abf8917a724d9520%20%3D%20L.circleMarker%28%0A%20%20%20%20%20%20%20%20%20%20%20%20%20%20%20%20%5B40.416667%2C-3.703889%5D%2C%0A%20%20%20%20%20%20%20%20%20%20%20%20%20%20%20%20%7B%0A%20%20%22bubblingMouseEvents%22%3A%20true%2C%0A%20%20%22color%22%3A%20%22%23ff0000%22%2C%0A%20%20%22dashArray%22%3A%20null%2C%0A%20%20%22dashOffset%22%3A%20null%2C%0A%20%20%22fill%22%3A%20true%2C%0A%20%20%22fillColor%22%3A%20%22%23ff0000%22%2C%0A%20%20%22fillOpacity%22%3A%200.7%2C%0A%20%20%22fillRule%22%3A%20%22evenodd%22%2C%0A%20%20%22lineCap%22%3A%20%22round%22%2C%0A%20%20%22lineJoin%22%3A%20%22round%22%2C%0A%20%20%22opacity%22%3A%201.0%2C%0A%20%20%22radius%22%3A%205%2C%0A%20%20%22stroke%22%3A%20true%2C%0A%20%20%22weight%22%3A%203%0A%7D%0A%20%20%20%20%20%20%20%20%20%20%20%20%20%20%20%20%29.addTo%28map_eff47c844de245779793ccb2f8172862%29%3B%0A%20%20%20%20%20%20%20%20%20%20%20%20%0A%20%20%20%20%0A%20%20%20%20%20%20%20%20%20%20%20%20var%20popup_eb177f97d3494902a8d69bee93066498%20%3D%20L.popup%28%7BmaxWidth%3A%20%27300%27%7D%29%3B%0A%0A%20%20%20%20%20%20%20%20%20%20%20%20%0A%20%20%20%20%20%20%20%20%20%20%20%20%20%20%20%20var%20html_05fbc76cf4214b1ba42ac4ee48f50735%20%3D%20%24%28%27%3Cdiv%20id%3D%22html_05fbc76cf4214b1ba42ac4ee48f50735%22%20style%3D%22width%3A%20100.0%25%3B%20height%3A%20100.0%25%3B%22%3ESol%20Cluster%200%3C/div%3E%27%29%5B0%5D%3B%0A%20%20%20%20%20%20%20%20%20%20%20%20%20%20%20%20popup_eb177f97d3494902a8d69bee93066498.setContent%28html_05fbc76cf4214b1ba42ac4ee48f50735%29%3B%0A%20%20%20%20%20%20%20%20%20%20%20%20%0A%0A%20%20%20%20%20%20%20%20%20%20%20%20circle_marker_28d1ebf6402d43e6abf8917a724d9520.bindPopup%28popup_eb177f97d3494902a8d69bee93066498%29%3B%0A%0A%20%20%20%20%20%20%20%20%20%20%20%20%0A%20%20%20%20%20%20%20%20%0A%20%20%20%20%0A%20%20%20%20%20%20%20%20%20%20%20%20var%20circle_marker_0bfc2ad5bb774727bf2c300e1e1fae22%20%3D%20L.circleMarker%28%0A%20%20%20%20%20%20%20%20%20%20%20%20%20%20%20%20%5B40.406667%2C-3.716944%5D%2C%0A%20%20%20%20%20%20%20%20%20%20%20%20%20%20%20%20%7B%0A%20%20%22bubblingMouseEvents%22%3A%20true%2C%0A%20%20%22color%22%3A%20%22%238000ff%22%2C%0A%20%20%22dashArray%22%3A%20null%2C%0A%20%20%22dashOffset%22%3A%20null%2C%0A%20%20%22fill%22%3A%20true%2C%0A%20%20%22fillColor%22%3A%20%22%238000ff%22%2C%0A%20%20%22fillOpacity%22%3A%200.7%2C%0A%20%20%22fillRule%22%3A%20%22evenodd%22%2C%0A%20%20%22lineCap%22%3A%20%22round%22%2C%0A%20%20%22lineJoin%22%3A%20%22round%22%2C%0A%20%20%22opacity%22%3A%201.0%2C%0A%20%20%22radius%22%3A%205%2C%0A%20%20%22stroke%22%3A%20true%2C%0A%20%20%22weight%22%3A%203%0A%7D%0A%20%20%20%20%20%20%20%20%20%20%20%20%20%20%20%20%29.addTo%28map_eff47c844de245779793ccb2f8172862%29%3B%0A%20%20%20%20%20%20%20%20%20%20%20%20%0A%20%20%20%20%0A%20%20%20%20%20%20%20%20%20%20%20%20var%20popup_dfdfed74eb7a4ba2b3948b279d5ce807%20%3D%20L.popup%28%7BmaxWidth%3A%20%27300%27%7D%29%3B%0A%0A%20%20%20%20%20%20%20%20%20%20%20%20%0A%20%20%20%20%20%20%20%20%20%20%20%20%20%20%20%20var%20html_2e26a855da7f4d2a8783aaee5b157b8b%20%3D%20%24%28%27%3Cdiv%20id%3D%22html_2e26a855da7f4d2a8783aaee5b157b8b%22%20style%3D%22width%3A%20100.0%25%3B%20height%3A%20100.0%25%3B%22%3EImperial%20Cluster%201%3C/div%3E%27%29%5B0%5D%3B%0A%20%20%20%20%20%20%20%20%20%20%20%20%20%20%20%20popup_dfdfed74eb7a4ba2b3948b279d5ce807.setContent%28html_2e26a855da7f4d2a8783aaee5b157b8b%29%3B%0A%20%20%20%20%20%20%20%20%20%20%20%20%0A%0A%20%20%20%20%20%20%20%20%20%20%20%20circle_marker_0bfc2ad5bb774727bf2c300e1e1fae22.bindPopup%28popup_dfdfed74eb7a4ba2b3948b279d5ce807%29%3B%0A%0A%20%20%20%20%20%20%20%20%20%20%20%20%0A%20%20%20%20%20%20%20%20%0A%20%20%20%20%0A%20%20%20%20%20%20%20%20%20%20%20%20var%20circle_marker_54598ff3fe5a4aaf9358df85d3043bbf%20%3D%20L.circleMarker%28%0A%20%20%20%20%20%20%20%20%20%20%20%20%20%20%20%20%5B40.401422%2C-3.704936%5D%2C%0A%20%20%20%20%20%20%20%20%20%20%20%20%20%20%20%20%7B%0A%20%20%22bubblingMouseEvents%22%3A%20true%2C%0A%20%20%22color%22%3A%20%22%238000ff%22%2C%0A%20%20%22dashArray%22%3A%20null%2C%0A%20%20%22dashOffset%22%3A%20null%2C%0A%20%20%22fill%22%3A%20true%2C%0A%20%20%22fillColor%22%3A%20%22%238000ff%22%2C%0A%20%20%22fillOpacity%22%3A%200.7%2C%0A%20%20%22fillRule%22%3A%20%22evenodd%22%2C%0A%20%20%22lineCap%22%3A%20%22round%22%2C%0A%20%20%22lineJoin%22%3A%20%22round%22%2C%0A%20%20%22opacity%22%3A%201.0%2C%0A%20%20%22radius%22%3A%205%2C%0A%20%20%22stroke%22%3A%20true%2C%0A%20%20%22weight%22%3A%203%0A%7D%0A%20%20%20%20%20%20%20%20%20%20%20%20%20%20%20%20%29.addTo%28map_eff47c844de245779793ccb2f8172862%29%3B%0A%20%20%20%20%20%20%20%20%20%20%20%20%0A%20%20%20%20%0A%20%20%20%20%20%20%20%20%20%20%20%20var%20popup_a716fe543a514c1f87487d8f4079e587%20%3D%20L.popup%28%7BmaxWidth%3A%20%27300%27%7D%29%3B%0A%0A%20%20%20%20%20%20%20%20%20%20%20%20%0A%20%20%20%20%20%20%20%20%20%20%20%20%20%20%20%20var%20html_b2e09943e9374e6bb760c1c367984b8e%20%3D%20%24%28%27%3Cdiv%20id%3D%22html_b2e09943e9374e6bb760c1c367984b8e%22%20style%3D%22width%3A%20100.0%25%3B%20height%3A%20100.0%25%3B%22%3EAcacias%20Cluster%201%3C/div%3E%27%29%5B0%5D%3B%0A%20%20%20%20%20%20%20%20%20%20%20%20%20%20%20%20popup_a716fe543a514c1f87487d8f4079e587.setContent%28html_b2e09943e9374e6bb760c1c367984b8e%29%3B%0A%20%20%20%20%20%20%20%20%20%20%20%20%0A%0A%20%20%20%20%20%20%20%20%20%20%20%20circle_marker_54598ff3fe5a4aaf9358df85d3043bbf.bindPopup%28popup_a716fe543a514c1f87487d8f4079e587%29%3B%0A%0A%20%20%20%20%20%20%20%20%20%20%20%20%0A%20%20%20%20%20%20%20%20%0A%20%20%20%20%0A%20%20%20%20%20%20%20%20%20%20%20%20var%20circle_marker_6ded7c2046b3480a9b779d32bcc51912%20%3D%20L.circleMarker%28%0A%20%20%20%20%20%20%20%20%20%20%20%20%20%20%20%20%5B40.395%2C-3.699444%5D%2C%0A%20%20%20%20%20%20%20%20%20%20%20%20%20%20%20%20%7B%0A%20%20%22bubblingMouseEvents%22%3A%20true%2C%0A%20%20%22color%22%3A%20%22%238000ff%22%2C%0A%20%20%22dashArray%22%3A%20null%2C%0A%20%20%22dashOffset%22%3A%20null%2C%0A%20%20%22fill%22%3A%20true%2C%0A%20%20%22fillColor%22%3A%20%22%238000ff%22%2C%0A%20%20%22fillOpacity%22%3A%200.7%2C%0A%20%20%22fillRule%22%3A%20%22evenodd%22%2C%0A%20%20%22lineCap%22%3A%20%22round%22%2C%0A%20%20%22lineJoin%22%3A%20%22round%22%2C%0A%20%20%22opacity%22%3A%201.0%2C%0A%20%20%22radius%22%3A%205%2C%0A%20%20%22stroke%22%3A%20true%2C%0A%20%20%22weight%22%3A%203%0A%7D%0A%20%20%20%20%20%20%20%20%20%20%20%20%20%20%20%20%29.addTo%28map_eff47c844de245779793ccb2f8172862%29%3B%0A%20%20%20%20%20%20%20%20%20%20%20%20%0A%20%20%20%20%0A%20%20%20%20%20%20%20%20%20%20%20%20var%20popup_9a58830cce8e4022b443885896b9799b%20%3D%20L.popup%28%7BmaxWidth%3A%20%27300%27%7D%29%3B%0A%0A%20%20%20%20%20%20%20%20%20%20%20%20%0A%20%20%20%20%20%20%20%20%20%20%20%20%20%20%20%20var%20html_63c78835b8de410f8a52e2cc49a154d4%20%3D%20%24%28%27%3Cdiv%20id%3D%22html_63c78835b8de410f8a52e2cc49a154d4%22%20style%3D%22width%3A%20100.0%25%3B%20height%3A%20100.0%25%3B%22%3EChopera%20Cluster%201%3C/div%3E%27%29%5B0%5D%3B%0A%20%20%20%20%20%20%20%20%20%20%20%20%20%20%20%20popup_9a58830cce8e4022b443885896b9799b.setContent%28html_63c78835b8de410f8a52e2cc49a154d4%29%3B%0A%20%20%20%20%20%20%20%20%20%20%20%20%0A%0A%20%20%20%20%20%20%20%20%20%20%20%20circle_marker_6ded7c2046b3480a9b779d32bcc51912.bindPopup%28popup_9a58830cce8e4022b443885896b9799b%29%3B%0A%0A%20%20%20%20%20%20%20%20%20%20%20%20%0A%20%20%20%20%20%20%20%20%0A%20%20%20%20%0A%20%20%20%20%20%20%20%20%20%20%20%20var%20circle_marker_f1e0a93859ea4deb8aaa01a94c2e085c%20%3D%20L.circleMarker%28%0A%20%20%20%20%20%20%20%20%20%20%20%20%20%20%20%20%5B40.388611%2C-3.695178%5D%2C%0A%20%20%20%20%20%20%20%20%20%20%20%20%20%20%20%20%7B%0A%20%20%22bubblingMouseEvents%22%3A%20true%2C%0A%20%20%22color%22%3A%20%22%238000ff%22%2C%0A%20%20%22dashArray%22%3A%20null%2C%0A%20%20%22dashOffset%22%3A%20null%2C%0A%20%20%22fill%22%3A%20true%2C%0A%20%20%22fillColor%22%3A%20%22%238000ff%22%2C%0A%20%20%22fillOpacity%22%3A%200.7%2C%0A%20%20%22fillRule%22%3A%20%22evenodd%22%2C%0A%20%20%22lineCap%22%3A%20%22round%22%2C%0A%20%20%22lineJoin%22%3A%20%22round%22%2C%0A%20%20%22opacity%22%3A%201.0%2C%0A%20%20%22radius%22%3A%205%2C%0A%20%20%22stroke%22%3A%20true%2C%0A%20%20%22weight%22%3A%203%0A%7D%0A%20%20%20%20%20%20%20%20%20%20%20%20%20%20%20%20%29.addTo%28map_eff47c844de245779793ccb2f8172862%29%3B%0A%20%20%20%20%20%20%20%20%20%20%20%20%0A%20%20%20%20%0A%20%20%20%20%20%20%20%20%20%20%20%20var%20popup_d60cd862a4c14696993f73533cf6f85f%20%3D%20L.popup%28%7BmaxWidth%3A%20%27300%27%7D%29%3B%0A%0A%20%20%20%20%20%20%20%20%20%20%20%20%0A%20%20%20%20%20%20%20%20%20%20%20%20%20%20%20%20var%20html_2445d5f2c5124ffebaa88c23433d7c27%20%3D%20%24%28%27%3Cdiv%20id%3D%22html_2445d5f2c5124ffebaa88c23433d7c27%22%20style%3D%22width%3A%20100.0%25%3B%20height%3A%20100.0%25%3B%22%3ELegazpi%20Cluster%201%3C/div%3E%27%29%5B0%5D%3B%0A%20%20%20%20%20%20%20%20%20%20%20%20%20%20%20%20popup_d60cd862a4c14696993f73533cf6f85f.setContent%28html_2445d5f2c5124ffebaa88c23433d7c27%29%3B%0A%20%20%20%20%20%20%20%20%20%20%20%20%0A%0A%20%20%20%20%20%20%20%20%20%20%20%20circle_marker_f1e0a93859ea4deb8aaa01a94c2e085c.bindPopup%28popup_d60cd862a4c14696993f73533cf6f85f%29%3B%0A%0A%20%20%20%20%20%20%20%20%20%20%20%20%0A%20%20%20%20%20%20%20%20%0A%20%20%20%20%0A%20%20%20%20%20%20%20%20%20%20%20%20var%20circle_marker_357f8b5b28ca4ef982dc3185cee41c46%20%3D%20L.circleMarker%28%0A%20%20%20%20%20%20%20%20%20%20%20%20%20%20%20%20%5B40.395833%2C-3.689444%5D%2C%0A%20%20%20%20%20%20%20%20%20%20%20%20%20%20%20%20%7B%0A%20%20%22bubblingMouseEvents%22%3A%20true%2C%0A%20%20%22color%22%3A%20%22%238000ff%22%2C%0A%20%20%22dashArray%22%3A%20null%2C%0A%20%20%22dashOffset%22%3A%20null%2C%0A%20%20%22fill%22%3A%20true%2C%0A%20%20%22fillColor%22%3A%20%22%238000ff%22%2C%0A%20%20%22fillOpacity%22%3A%200.7%2C%0A%20%20%22fillRule%22%3A%20%22evenodd%22%2C%0A%20%20%22lineCap%22%3A%20%22round%22%2C%0A%20%20%22lineJoin%22%3A%20%22round%22%2C%0A%20%20%22opacity%22%3A%201.0%2C%0A%20%20%22radius%22%3A%205%2C%0A%20%20%22stroke%22%3A%20true%2C%0A%20%20%22weight%22%3A%203%0A%7D%0A%20%20%20%20%20%20%20%20%20%20%20%20%20%20%20%20%29.addTo%28map_eff47c844de245779793ccb2f8172862%29%3B%0A%20%20%20%20%20%20%20%20%20%20%20%20%0A%20%20%20%20%0A%20%20%20%20%20%20%20%20%20%20%20%20var%20popup_d78534d7a67049308617f127855ff5d7%20%3D%20L.popup%28%7BmaxWidth%3A%20%27300%27%7D%29%3B%0A%0A%20%20%20%20%20%20%20%20%20%20%20%20%0A%20%20%20%20%20%20%20%20%20%20%20%20%20%20%20%20var%20html_e1e5111f4914423d9153a6e819f0fd05%20%3D%20%24%28%27%3Cdiv%20id%3D%22html_e1e5111f4914423d9153a6e819f0fd05%22%20style%3D%22width%3A%20100.0%25%3B%20height%3A%20100.0%25%3B%22%3EDelicias%20Cluster%201%3C/div%3E%27%29%5B0%5D%3B%0A%20%20%20%20%20%20%20%20%20%20%20%20%20%20%20%20popup_d78534d7a67049308617f127855ff5d7.setContent%28html_e1e5111f4914423d9153a6e819f0fd05%29%3B%0A%20%20%20%20%20%20%20%20%20%20%20%20%0A%0A%20%20%20%20%20%20%20%20%20%20%20%20circle_marker_357f8b5b28ca4ef982dc3185cee41c46.bindPopup%28popup_d78534d7a67049308617f127855ff5d7%29%3B%0A%0A%20%20%20%20%20%20%20%20%20%20%20%20%0A%20%20%20%20%20%20%20%20%0A%20%20%20%20%0A%20%20%20%20%20%20%20%20%20%20%20%20var%20circle_marker_0ad1e7c4ade3486cad8b664ece7950de%20%3D%20L.circleMarker%28%0A%20%20%20%20%20%20%20%20%20%20%20%20%20%20%20%20%5B40.403889%2C-3.693889%5D%2C%0A%20%20%20%20%20%20%20%20%20%20%20%20%20%20%20%20%7B%0A%20%20%22bubblingMouseEvents%22%3A%20true%2C%0A%20%20%22color%22%3A%20%22%23ff0000%22%2C%0A%20%20%22dashArray%22%3A%20null%2C%0A%20%20%22dashOffset%22%3A%20null%2C%0A%20%20%22fill%22%3A%20true%2C%0A%20%20%22fillColor%22%3A%20%22%23ff0000%22%2C%0A%20%20%22fillOpacity%22%3A%200.7%2C%0A%20%20%22fillRule%22%3A%20%22evenodd%22%2C%0A%20%20%22lineCap%22%3A%20%22round%22%2C%0A%20%20%22lineJoin%22%3A%20%22round%22%2C%0A%20%20%22opacity%22%3A%201.0%2C%0A%20%20%22radius%22%3A%205%2C%0A%20%20%22stroke%22%3A%20true%2C%0A%20%20%22weight%22%3A%203%0A%7D%0A%20%20%20%20%20%20%20%20%20%20%20%20%20%20%20%20%29.addTo%28map_eff47c844de245779793ccb2f8172862%29%3B%0A%20%20%20%20%20%20%20%20%20%20%20%20%0A%20%20%20%20%0A%20%20%20%20%20%20%20%20%20%20%20%20var%20popup_4c35bdab6c1d4614a1e305f028133220%20%3D%20L.popup%28%7BmaxWidth%3A%20%27300%27%7D%29%3B%0A%0A%20%20%20%20%20%20%20%20%20%20%20%20%0A%20%20%20%20%20%20%20%20%20%20%20%20%20%20%20%20var%20html_13d93d61291841beb21e7c9518b5f9a1%20%3D%20%24%28%27%3Cdiv%20id%3D%22html_13d93d61291841beb21e7c9518b5f9a1%22%20style%3D%22width%3A%20100.0%25%3B%20height%3A%20100.0%25%3B%22%3EPalos%20de%20Moguer%20Cluster%200%3C/div%3E%27%29%5B0%5D%3B%0A%20%20%20%20%20%20%20%20%20%20%20%20%20%20%20%20popup_4c35bdab6c1d4614a1e305f028133220.setContent%28html_13d93d61291841beb21e7c9518b5f9a1%29%3B%0A%20%20%20%20%20%20%20%20%20%20%20%20%0A%0A%20%20%20%20%20%20%20%20%20%20%20%20circle_marker_0ad1e7c4ade3486cad8b664ece7950de.bindPopup%28popup_4c35bdab6c1d4614a1e305f028133220%29%3B%0A%0A%20%20%20%20%20%20%20%20%20%20%20%20%0A%20%20%20%20%20%20%20%20%0A%20%20%20%20%0A%20%20%20%20%20%20%20%20%20%20%20%20var%20circle_marker_607e1bb9c99f4378b0725aa77d64e8cc%20%3D%20L.circleMarker%28%0A%20%20%20%20%20%20%20%20%20%20%20%20%20%20%20%20%5B40.400819%2C-3.683681%5D%2C%0A%20%20%20%20%20%20%20%20%20%20%20%20%20%20%20%20%7B%0A%20%20%22bubblingMouseEvents%22%3A%20true%2C%0A%20%20%22color%22%3A%20%22%238000ff%22%2C%0A%20%20%22dashArray%22%3A%20null%2C%0A%20%20%22dashOffset%22%3A%20null%2C%0A%20%20%22fill%22%3A%20true%2C%0A%20%20%22fillColor%22%3A%20%22%238000ff%22%2C%0A%20%20%22fillOpacity%22%3A%200.7%2C%0A%20%20%22fillRule%22%3A%20%22evenodd%22%2C%0A%20%20%22lineCap%22%3A%20%22round%22%2C%0A%20%20%22lineJoin%22%3A%20%22round%22%2C%0A%20%20%22opacity%22%3A%201.0%2C%0A%20%20%22radius%22%3A%205%2C%0A%20%20%22stroke%22%3A%20true%2C%0A%20%20%22weight%22%3A%203%0A%7D%0A%20%20%20%20%20%20%20%20%20%20%20%20%20%20%20%20%29.addTo%28map_eff47c844de245779793ccb2f8172862%29%3B%0A%20%20%20%20%20%20%20%20%20%20%20%20%0A%20%20%20%20%0A%20%20%20%20%20%20%20%20%20%20%20%20var%20popup_248c36ef50e94f9bbdc587dd29bd7820%20%3D%20L.popup%28%7BmaxWidth%3A%20%27300%27%7D%29%3B%0A%0A%20%20%20%20%20%20%20%20%20%20%20%20%0A%20%20%20%20%20%20%20%20%20%20%20%20%20%20%20%20var%20html_6fd65da1c4c34239bceca6cd19cb5ac2%20%3D%20%24%28%27%3Cdiv%20id%3D%22html_6fd65da1c4c34239bceca6cd19cb5ac2%22%20style%3D%22width%3A%20100.0%25%3B%20height%3A%20100.0%25%3B%22%3EAtocha%20Cluster%201%3C/div%3E%27%29%5B0%5D%3B%0A%20%20%20%20%20%20%20%20%20%20%20%20%20%20%20%20popup_248c36ef50e94f9bbdc587dd29bd7820.setContent%28html_6fd65da1c4c34239bceca6cd19cb5ac2%29%3B%0A%20%20%20%20%20%20%20%20%20%20%20%20%0A%0A%20%20%20%20%20%20%20%20%20%20%20%20circle_marker_607e1bb9c99f4378b0725aa77d64e8cc.bindPopup%28popup_248c36ef50e94f9bbdc587dd29bd7820%29%3B%0A%0A%20%20%20%20%20%20%20%20%20%20%20%20%0A%20%20%20%20%20%20%20%20%0A%20%20%20%20%0A%20%20%20%20%20%20%20%20%20%20%20%20var%20circle_marker_f1d77b25074841a2b8b9149ecde36348%20%3D%20L.circleMarker%28%0A%20%20%20%20%20%20%20%20%20%20%20%20%20%20%20%20%5B40.404722%2C-3.675833%5D%2C%0A%20%20%20%20%20%20%20%20%20%20%20%20%20%20%20%20%7B%0A%20%20%22bubblingMouseEvents%22%3A%20true%2C%0A%20%20%22color%22%3A%20%22%23ff0000%22%2C%0A%20%20%22dashArray%22%3A%20null%2C%0A%20%20%22dashOffset%22%3A%20null%2C%0A%20%20%22fill%22%3A%20true%2C%0A%20%20%22fillColor%22%3A%20%22%23ff0000%22%2C%0A%20%20%22fillOpacity%22%3A%200.7%2C%0A%20%20%22fillRule%22%3A%20%22evenodd%22%2C%0A%20%20%22lineCap%22%3A%20%22round%22%2C%0A%20%20%22lineJoin%22%3A%20%22round%22%2C%0A%20%20%22opacity%22%3A%201.0%2C%0A%20%20%22radius%22%3A%205%2C%0A%20%20%22stroke%22%3A%20true%2C%0A%20%20%22weight%22%3A%203%0A%7D%0A%20%20%20%20%20%20%20%20%20%20%20%20%20%20%20%20%29.addTo%28map_eff47c844de245779793ccb2f8172862%29%3B%0A%20%20%20%20%20%20%20%20%20%20%20%20%0A%20%20%20%20%0A%20%20%20%20%20%20%20%20%20%20%20%20var%20popup_c9ae389d6e1349c1a6e761f8acd9c15b%20%3D%20L.popup%28%7BmaxWidth%3A%20%27300%27%7D%29%3B%0A%0A%20%20%20%20%20%20%20%20%20%20%20%20%0A%20%20%20%20%20%20%20%20%20%20%20%20%20%20%20%20var%20html_6b7d35ebc4cf4caf95a54a891d71c7ad%20%3D%20%24%28%27%3Cdiv%20id%3D%22html_6b7d35ebc4cf4caf95a54a891d71c7ad%22%20style%3D%22width%3A%20100.0%25%3B%20height%3A%20100.0%25%3B%22%3EPacifico%20Cluster%200%3C/div%3E%27%29%5B0%5D%3B%0A%20%20%20%20%20%20%20%20%20%20%20%20%20%20%20%20popup_c9ae389d6e1349c1a6e761f8acd9c15b.setContent%28html_6b7d35ebc4cf4caf95a54a891d71c7ad%29%3B%0A%20%20%20%20%20%20%20%20%20%20%20%20%0A%0A%20%20%20%20%20%20%20%20%20%20%20%20circle_marker_f1d77b25074841a2b8b9149ecde36348.bindPopup%28popup_c9ae389d6e1349c1a6e761f8acd9c15b%29%3B%0A%0A%20%20%20%20%20%20%20%20%20%20%20%20%0A%20%20%20%20%20%20%20%20%0A%20%20%20%20%0A%20%20%20%20%20%20%20%20%20%20%20%20var%20circle_marker_4fbc9817e8cd4785bd7129902f6da4e9%20%3D%20L.circleMarker%28%0A%20%20%20%20%20%20%20%20%20%20%20%20%20%20%20%20%5B40.400278%2C-3.670833%5D%2C%0A%20%20%20%20%20%20%20%20%20%20%20%20%20%20%20%20%7B%0A%20%20%22bubblingMouseEvents%22%3A%20true%2C%0A%20%20%22color%22%3A%20%22%238000ff%22%2C%0A%20%20%22dashArray%22%3A%20null%2C%0A%20%20%22dashOffset%22%3A%20null%2C%0A%20%20%22fill%22%3A%20true%2C%0A%20%20%22fillColor%22%3A%20%22%238000ff%22%2C%0A%20%20%22fillOpacity%22%3A%200.7%2C%0A%20%20%22fillRule%22%3A%20%22evenodd%22%2C%0A%20%20%22lineCap%22%3A%20%22round%22%2C%0A%20%20%22lineJoin%22%3A%20%22round%22%2C%0A%20%20%22opacity%22%3A%201.0%2C%0A%20%20%22radius%22%3A%205%2C%0A%20%20%22stroke%22%3A%20true%2C%0A%20%20%22weight%22%3A%203%0A%7D%0A%20%20%20%20%20%20%20%20%20%20%20%20%20%20%20%20%29.addTo%28map_eff47c844de245779793ccb2f8172862%29%3B%0A%20%20%20%20%20%20%20%20%20%20%20%20%0A%20%20%20%20%0A%20%20%20%20%20%20%20%20%20%20%20%20var%20popup_48c9f95b1a564057a10d7fe3bb72b463%20%3D%20L.popup%28%7BmaxWidth%3A%20%27300%27%7D%29%3B%0A%0A%20%20%20%20%20%20%20%20%20%20%20%20%0A%20%20%20%20%20%20%20%20%20%20%20%20%20%20%20%20var%20html_f55043fb58f84a5992b49f7f1812097e%20%3D%20%24%28%27%3Cdiv%20id%3D%22html_f55043fb58f84a5992b49f7f1812097e%22%20style%3D%22width%3A%20100.0%25%3B%20height%3A%20100.0%25%3B%22%3EAdelfas%20Cluster%201%3C/div%3E%27%29%5B0%5D%3B%0A%20%20%20%20%20%20%20%20%20%20%20%20%20%20%20%20popup_48c9f95b1a564057a10d7fe3bb72b463.setContent%28html_f55043fb58f84a5992b49f7f1812097e%29%3B%0A%20%20%20%20%20%20%20%20%20%20%20%20%0A%0A%20%20%20%20%20%20%20%20%20%20%20%20circle_marker_4fbc9817e8cd4785bd7129902f6da4e9.bindPopup%28popup_48c9f95b1a564057a10d7fe3bb72b463%29%3B%0A%0A%20%20%20%20%20%20%20%20%20%20%20%20%0A%20%20%20%20%20%20%20%20%0A%20%20%20%20%0A%20%20%20%20%20%20%20%20%20%20%20%20var%20circle_marker_5ee72d45b7f84e1a93b31e95e59d916a%20%3D%20L.circleMarker%28%0A%20%20%20%20%20%20%20%20%20%20%20%20%20%20%20%20%5B40.413611%2C-3.664167%5D%2C%0A%20%20%20%20%20%20%20%20%20%20%20%20%20%20%20%20%7B%0A%20%20%22bubblingMouseEvents%22%3A%20true%2C%0A%20%20%22color%22%3A%20%22%238000ff%22%2C%0A%20%20%22dashArray%22%3A%20null%2C%0A%20%20%22dashOffset%22%3A%20null%2C%0A%20%20%22fill%22%3A%20true%2C%0A%20%20%22fillColor%22%3A%20%22%238000ff%22%2C%0A%20%20%22fillOpacity%22%3A%200.7%2C%0A%20%20%22fillRule%22%3A%20%22evenodd%22%2C%0A%20%20%22lineCap%22%3A%20%22round%22%2C%0A%20%20%22lineJoin%22%3A%20%22round%22%2C%0A%20%20%22opacity%22%3A%201.0%2C%0A%20%20%22radius%22%3A%205%2C%0A%20%20%22stroke%22%3A%20true%2C%0A%20%20%22weight%22%3A%203%0A%7D%0A%20%20%20%20%20%20%20%20%20%20%20%20%20%20%20%20%29.addTo%28map_eff47c844de245779793ccb2f8172862%29%3B%0A%20%20%20%20%20%20%20%20%20%20%20%20%0A%20%20%20%20%0A%20%20%20%20%20%20%20%20%20%20%20%20var%20popup_2e83b74e0d644005b8eaa129d4498426%20%3D%20L.popup%28%7BmaxWidth%3A%20%27300%27%7D%29%3B%0A%0A%20%20%20%20%20%20%20%20%20%20%20%20%0A%20%20%20%20%20%20%20%20%20%20%20%20%20%20%20%20var%20html_a30cc74787e24418986cb96dc36c040a%20%3D%20%24%28%27%3Cdiv%20id%3D%22html_a30cc74787e24418986cb96dc36c040a%22%20style%3D%22width%3A%20100.0%25%3B%20height%3A%20100.0%25%3B%22%3EEstrella%20Cluster%201%3C/div%3E%27%29%5B0%5D%3B%0A%20%20%20%20%20%20%20%20%20%20%20%20%20%20%20%20popup_2e83b74e0d644005b8eaa129d4498426.setContent%28html_a30cc74787e24418986cb96dc36c040a%29%3B%0A%20%20%20%20%20%20%20%20%20%20%20%20%0A%0A%20%20%20%20%20%20%20%20%20%20%20%20circle_marker_5ee72d45b7f84e1a93b31e95e59d916a.bindPopup%28popup_2e83b74e0d644005b8eaa129d4498426%29%3B%0A%0A%20%20%20%20%20%20%20%20%20%20%20%20%0A%20%20%20%20%20%20%20%20%0A%20%20%20%20%0A%20%20%20%20%20%20%20%20%20%20%20%20var%20circle_marker_cf7b6c818c2d46afa6fcf205c86985fd%20%3D%20L.circleMarker%28%0A%20%20%20%20%20%20%20%20%20%20%20%20%20%20%20%20%5B40.418889%2C-3.674167%5D%2C%0A%20%20%20%20%20%20%20%20%20%20%20%20%20%20%20%20%7B%0A%20%20%22bubblingMouseEvents%22%3A%20true%2C%0A%20%20%22color%22%3A%20%22%23d4dd80%22%2C%0A%20%20%22dashArray%22%3A%20null%2C%0A%20%20%22dashOffset%22%3A%20null%2C%0A%20%20%22fill%22%3A%20true%2C%0A%20%20%22fillColor%22%3A%20%22%23d4dd80%22%2C%0A%20%20%22fillOpacity%22%3A%200.7%2C%0A%20%20%22fillRule%22%3A%20%22evenodd%22%2C%0A%20%20%22lineCap%22%3A%20%22round%22%2C%0A%20%20%22lineJoin%22%3A%20%22round%22%2C%0A%20%20%22opacity%22%3A%201.0%2C%0A%20%20%22radius%22%3A%205%2C%0A%20%20%22stroke%22%3A%20true%2C%0A%20%20%22weight%22%3A%203%0A%7D%0A%20%20%20%20%20%20%20%20%20%20%20%20%20%20%20%20%29.addTo%28map_eff47c844de245779793ccb2f8172862%29%3B%0A%20%20%20%20%20%20%20%20%20%20%20%20%0A%20%20%20%20%0A%20%20%20%20%20%20%20%20%20%20%20%20var%20popup_81a6e5649e4848dab37f533a43193f11%20%3D%20L.popup%28%7BmaxWidth%3A%20%27300%27%7D%29%3B%0A%0A%20%20%20%20%20%20%20%20%20%20%20%20%0A%20%20%20%20%20%20%20%20%20%20%20%20%20%20%20%20var%20html_37ac65ebdd1e4a179c218ac84e080175%20%3D%20%24%28%27%3Cdiv%20id%3D%22html_37ac65ebdd1e4a179c218ac84e080175%22%20style%3D%22width%3A%20100.0%25%3B%20height%3A%20100.0%25%3B%22%3EIbiza%20Cluster%203%3C/div%3E%27%29%5B0%5D%3B%0A%20%20%20%20%20%20%20%20%20%20%20%20%20%20%20%20popup_81a6e5649e4848dab37f533a43193f11.setContent%28html_37ac65ebdd1e4a179c218ac84e080175%29%3B%0A%20%20%20%20%20%20%20%20%20%20%20%20%0A%0A%20%20%20%20%20%20%20%20%20%20%20%20circle_marker_cf7b6c818c2d46afa6fcf205c86985fd.bindPopup%28popup_81a6e5649e4848dab37f533a43193f11%29%3B%0A%0A%20%20%20%20%20%20%20%20%20%20%20%20%0A%20%20%20%20%20%20%20%20%0A%20%20%20%20%0A%20%20%20%20%20%20%20%20%20%20%20%20var%20circle_marker_3750df220cfd44c4b3f097cfe7f324f2%20%3D%20L.circleMarker%28%0A%20%20%20%20%20%20%20%20%20%20%20%20%20%20%20%20%5B40.413889%2C-3.690833%5D%2C%0A%20%20%20%20%20%20%20%20%20%20%20%20%20%20%20%20%7B%0A%20%20%22bubblingMouseEvents%22%3A%20true%2C%0A%20%20%22color%22%3A%20%22%23ff0000%22%2C%0A%20%20%22dashArray%22%3A%20null%2C%0A%20%20%22dashOffset%22%3A%20null%2C%0A%20%20%22fill%22%3A%20true%2C%0A%20%20%22fillColor%22%3A%20%22%23ff0000%22%2C%0A%20%20%22fillOpacity%22%3A%200.7%2C%0A%20%20%22fillRule%22%3A%20%22evenodd%22%2C%0A%20%20%22lineCap%22%3A%20%22round%22%2C%0A%20%20%22lineJoin%22%3A%20%22round%22%2C%0A%20%20%22opacity%22%3A%201.0%2C%0A%20%20%22radius%22%3A%205%2C%0A%20%20%22stroke%22%3A%20true%2C%0A%20%20%22weight%22%3A%203%0A%7D%0A%20%20%20%20%20%20%20%20%20%20%20%20%20%20%20%20%29.addTo%28map_eff47c844de245779793ccb2f8172862%29%3B%0A%20%20%20%20%20%20%20%20%20%20%20%20%0A%20%20%20%20%0A%20%20%20%20%20%20%20%20%20%20%20%20var%20popup_afc2f522a0c24cb49f676651c17d50f5%20%3D%20L.popup%28%7BmaxWidth%3A%20%27300%27%7D%29%3B%0A%0A%20%20%20%20%20%20%20%20%20%20%20%20%0A%20%20%20%20%20%20%20%20%20%20%20%20%20%20%20%20var%20html_f091d621b69948558f2e9bfda1d2acd3%20%3D%20%24%28%27%3Cdiv%20id%3D%22html_f091d621b69948558f2e9bfda1d2acd3%22%20style%3D%22width%3A%20100.0%25%3B%20height%3A%20100.0%25%3B%22%3ELos%20Jeronimos%20Cluster%200%3C/div%3E%27%29%5B0%5D%3B%0A%20%20%20%20%20%20%20%20%20%20%20%20%20%20%20%20popup_afc2f522a0c24cb49f676651c17d50f5.setContent%28html_f091d621b69948558f2e9bfda1d2acd3%29%3B%0A%20%20%20%20%20%20%20%20%20%20%20%20%0A%0A%20%20%20%20%20%20%20%20%20%20%20%20circle_marker_3750df220cfd44c4b3f097cfe7f324f2.bindPopup%28popup_afc2f522a0c24cb49f676651c17d50f5%29%3B%0A%0A%20%20%20%20%20%20%20%20%20%20%20%20%0A%20%20%20%20%20%20%20%20%0A%20%20%20%20%0A%20%20%20%20%20%20%20%20%20%20%20%20var%20circle_marker_c9c46bafaed24c1a8fca57499718428e%20%3D%20L.circleMarker%28%0A%20%20%20%20%20%20%20%20%20%20%20%20%20%20%20%20%5B40.411667%2C-3.673889%5D%2C%0A%20%20%20%20%20%20%20%20%20%20%20%20%20%20%20%20%7B%0A%20%20%22bubblingMouseEvents%22%3A%20true%2C%0A%20%20%22color%22%3A%20%22%23ff0000%22%2C%0A%20%20%22dashArray%22%3A%20null%2C%0A%20%20%22dashOffset%22%3A%20null%2C%0A%20%20%22fill%22%3A%20true%2C%0A%20%20%22fillColor%22%3A%20%22%23ff0000%22%2C%0A%20%20%22fillOpacity%22%3A%200.7%2C%0A%20%20%22fillRule%22%3A%20%22evenodd%22%2C%0A%20%20%22lineCap%22%3A%20%22round%22%2C%0A%20%20%22lineJoin%22%3A%20%22round%22%2C%0A%20%20%22opacity%22%3A%201.0%2C%0A%20%20%22radius%22%3A%205%2C%0A%20%20%22stroke%22%3A%20true%2C%0A%20%20%22weight%22%3A%203%0A%7D%0A%20%20%20%20%20%20%20%20%20%20%20%20%20%20%20%20%29.addTo%28map_eff47c844de245779793ccb2f8172862%29%3B%0A%20%20%20%20%20%20%20%20%20%20%20%20%0A%20%20%20%20%0A%20%20%20%20%20%20%20%20%20%20%20%20var%20popup_1fd296cc66f3432ea51b66434acb1ce7%20%3D%20L.popup%28%7BmaxWidth%3A%20%27300%27%7D%29%3B%0A%0A%20%20%20%20%20%20%20%20%20%20%20%20%0A%20%20%20%20%20%20%20%20%20%20%20%20%20%20%20%20var%20html_dbb7491094a94a969ba64fc336058db3%20%3D%20%24%28%27%3Cdiv%20id%3D%22html_dbb7491094a94a969ba64fc336058db3%22%20style%3D%22width%3A%20100.0%25%3B%20height%3A%20100.0%25%3B%22%3ENino%20Jesus%20Cluster%200%3C/div%3E%27%29%5B0%5D%3B%0A%20%20%20%20%20%20%20%20%20%20%20%20%20%20%20%20popup_1fd296cc66f3432ea51b66434acb1ce7.setContent%28html_dbb7491094a94a969ba64fc336058db3%29%3B%0A%20%20%20%20%20%20%20%20%20%20%20%20%0A%0A%20%20%20%20%20%20%20%20%20%20%20%20circle_marker_c9c46bafaed24c1a8fca57499718428e.bindPopup%28popup_1fd296cc66f3432ea51b66434acb1ce7%29%3B%0A%0A%20%20%20%20%20%20%20%20%20%20%20%20%0A%20%20%20%20%20%20%20%20%0A%20%20%20%20%0A%20%20%20%20%20%20%20%20%20%20%20%20var%20circle_marker_f1d3763724154260ad4c5303087985ef%20%3D%20L.circleMarker%28%0A%20%20%20%20%20%20%20%20%20%20%20%20%20%20%20%20%5B40.424167%2C-3.686389%5D%2C%0A%20%20%20%20%20%20%20%20%20%20%20%20%20%20%20%20%7B%0A%20%20%22bubblingMouseEvents%22%3A%20true%2C%0A%20%20%22color%22%3A%20%22%23d4dd80%22%2C%0A%20%20%22dashArray%22%3A%20null%2C%0A%20%20%22dashOffset%22%3A%20null%2C%0A%20%20%22fill%22%3A%20true%2C%0A%20%20%22fillColor%22%3A%20%22%23d4dd80%22%2C%0A%20%20%22fillOpacity%22%3A%200.7%2C%0A%20%20%22fillRule%22%3A%20%22evenodd%22%2C%0A%20%20%22lineCap%22%3A%20%22round%22%2C%0A%20%20%22lineJoin%22%3A%20%22round%22%2C%0A%20%20%22opacity%22%3A%201.0%2C%0A%20%20%22radius%22%3A%205%2C%0A%20%20%22stroke%22%3A%20true%2C%0A%20%20%22weight%22%3A%203%0A%7D%0A%20%20%20%20%20%20%20%20%20%20%20%20%20%20%20%20%29.addTo%28map_eff47c844de245779793ccb2f8172862%29%3B%0A%20%20%20%20%20%20%20%20%20%20%20%20%0A%20%20%20%20%0A%20%20%20%20%20%20%20%20%20%20%20%20var%20popup_825cdf76c2cf4baf88104ea3412e5ac6%20%3D%20L.popup%28%7BmaxWidth%3A%20%27300%27%7D%29%3B%0A%0A%20%20%20%20%20%20%20%20%20%20%20%20%0A%20%20%20%20%20%20%20%20%20%20%20%20%20%20%20%20var%20html_61c4983950f747aebed354aa5b393cd5%20%3D%20%24%28%27%3Cdiv%20id%3D%22html_61c4983950f747aebed354aa5b393cd5%22%20style%3D%22width%3A%20100.0%25%3B%20height%3A%20100.0%25%3B%22%3ERecoletos%20Cluster%203%3C/div%3E%27%29%5B0%5D%3B%0A%20%20%20%20%20%20%20%20%20%20%20%20%20%20%20%20popup_825cdf76c2cf4baf88104ea3412e5ac6.setContent%28html_61c4983950f747aebed354aa5b393cd5%29%3B%0A%20%20%20%20%20%20%20%20%20%20%20%20%0A%0A%20%20%20%20%20%20%20%20%20%20%20%20circle_marker_f1d3763724154260ad4c5303087985ef.bindPopup%28popup_825cdf76c2cf4baf88104ea3412e5ac6%29%3B%0A%0A%20%20%20%20%20%20%20%20%20%20%20%20%0A%20%20%20%20%20%20%20%20%0A%20%20%20%20%0A%20%20%20%20%20%20%20%20%20%20%20%20var%20circle_marker_e48993cc4c1a4683bccfd39f402f6024%20%3D%20L.circleMarker%28%0A%20%20%20%20%20%20%20%20%20%20%20%20%20%20%20%20%5B40.425278%2C-3.674722%5D%2C%0A%20%20%20%20%20%20%20%20%20%20%20%20%20%20%20%20%7B%0A%20%20%22bubblingMouseEvents%22%3A%20true%2C%0A%20%20%22color%22%3A%20%22%238000ff%22%2C%0A%20%20%22dashArray%22%3A%20null%2C%0A%20%20%22dashOffset%22%3A%20null%2C%0A%20%20%22fill%22%3A%20true%2C%0A%20%20%22fillColor%22%3A%20%22%238000ff%22%2C%0A%20%20%22fillOpacity%22%3A%200.7%2C%0A%20%20%22fillRule%22%3A%20%22evenodd%22%2C%0A%20%20%22lineCap%22%3A%20%22round%22%2C%0A%20%20%22lineJoin%22%3A%20%22round%22%2C%0A%20%20%22opacity%22%3A%201.0%2C%0A%20%20%22radius%22%3A%205%2C%0A%20%20%22stroke%22%3A%20true%2C%0A%20%20%22weight%22%3A%203%0A%7D%0A%20%20%20%20%20%20%20%20%20%20%20%20%20%20%20%20%29.addTo%28map_eff47c844de245779793ccb2f8172862%29%3B%0A%20%20%20%20%20%20%20%20%20%20%20%20%0A%20%20%20%20%0A%20%20%20%20%20%20%20%20%20%20%20%20var%20popup_185f3bd2b55e438091162dbbd3034398%20%3D%20L.popup%28%7BmaxWidth%3A%20%27300%27%7D%29%3B%0A%0A%20%20%20%20%20%20%20%20%20%20%20%20%0A%20%20%20%20%20%20%20%20%20%20%20%20%20%20%20%20var%20html_6c1c1cb34d094dcc9ef581ac35ee40f6%20%3D%20%24%28%27%3Cdiv%20id%3D%22html_6c1c1cb34d094dcc9ef581ac35ee40f6%22%20style%3D%22width%3A%20100.0%25%3B%20height%3A%20100.0%25%3B%22%3EGoya%20Cluster%201%3C/div%3E%27%29%5B0%5D%3B%0A%20%20%20%20%20%20%20%20%20%20%20%20%20%20%20%20popup_185f3bd2b55e438091162dbbd3034398.setContent%28html_6c1c1cb34d094dcc9ef581ac35ee40f6%29%3B%0A%20%20%20%20%20%20%20%20%20%20%20%20%0A%0A%20%20%20%20%20%20%20%20%20%20%20%20circle_marker_e48993cc4c1a4683bccfd39f402f6024.bindPopup%28popup_185f3bd2b55e438091162dbbd3034398%29%3B%0A%0A%20%20%20%20%20%20%20%20%20%20%20%20%0A%20%20%20%20%20%20%20%20%0A%20%20%20%20%0A%20%20%20%20%20%20%20%20%20%20%20%20var%20circle_marker_28250f4c17fc40c08f1f09559a0cd285%20%3D%20L.circleMarker%28%0A%20%20%20%20%20%20%20%20%20%20%20%20%20%20%20%20%5B40.424722%2C-3.663889%5D%2C%0A%20%20%20%20%20%20%20%20%20%20%20%20%20%20%20%20%7B%0A%20%20%22bubblingMouseEvents%22%3A%20true%2C%0A%20%20%22color%22%3A%20%22%23d4dd80%22%2C%0A%20%20%22dashArray%22%3A%20null%2C%0A%20%20%22dashOffset%22%3A%20null%2C%0A%20%20%22fill%22%3A%20true%2C%0A%20%20%22fillColor%22%3A%20%22%23d4dd80%22%2C%0A%20%20%22fillOpacity%22%3A%200.7%2C%0A%20%20%22fillRule%22%3A%20%22evenodd%22%2C%0A%20%20%22lineCap%22%3A%20%22round%22%2C%0A%20%20%22lineJoin%22%3A%20%22round%22%2C%0A%20%20%22opacity%22%3A%201.0%2C%0A%20%20%22radius%22%3A%205%2C%0A%20%20%22stroke%22%3A%20true%2C%0A%20%20%22weight%22%3A%203%0A%7D%0A%20%20%20%20%20%20%20%20%20%20%20%20%20%20%20%20%29.addTo%28map_eff47c844de245779793ccb2f8172862%29%3B%0A%20%20%20%20%20%20%20%20%20%20%20%20%0A%20%20%20%20%0A%20%20%20%20%20%20%20%20%20%20%20%20var%20popup_4989258302ea49ce9d989e11f13c5217%20%3D%20L.popup%28%7BmaxWidth%3A%20%27300%27%7D%29%3B%0A%0A%20%20%20%20%20%20%20%20%20%20%20%20%0A%20%20%20%20%20%20%20%20%20%20%20%20%20%20%20%20var%20html_f93f5ccf21b6470eacc16cd9946b2b22%20%3D%20%24%28%27%3Cdiv%20id%3D%22html_f93f5ccf21b6470eacc16cd9946b2b22%22%20style%3D%22width%3A%20100.0%25%3B%20height%3A%20100.0%25%3B%22%3EFuente%20del%20Berro%20Cluster%203%3C/div%3E%27%29%5B0%5D%3B%0A%20%20%20%20%20%20%20%20%20%20%20%20%20%20%20%20popup_4989258302ea49ce9d989e11f13c5217.setContent%28html_f93f5ccf21b6470eacc16cd9946b2b22%29%3B%0A%20%20%20%20%20%20%20%20%20%20%20%20%0A%0A%20%20%20%20%20%20%20%20%20%20%20%20circle_marker_28250f4c17fc40c08f1f09559a0cd285.bindPopup%28popup_4989258302ea49ce9d989e11f13c5217%29%3B%0A%0A%20%20%20%20%20%20%20%20%20%20%20%20%0A%20%20%20%20%20%20%20%20%0A%20%20%20%20%0A%20%20%20%20%20%20%20%20%20%20%20%20var%20circle_marker_8b2f176b60a74a7999b3949dbde4c143%20%3D%20L.circleMarker%28%0A%20%20%20%20%20%20%20%20%20%20%20%20%20%20%20%20%5B40.435833%2C-3.668333%5D%2C%0A%20%20%20%20%20%20%20%20%20%20%20%20%20%20%20%20%7B%0A%20%20%22bubblingMouseEvents%22%3A%20true%2C%0A%20%20%22color%22%3A%20%22%238000ff%22%2C%0A%20%20%22dashArray%22%3A%20null%2C%0A%20%20%22dashOffset%22%3A%20null%2C%0A%20%20%22fill%22%3A%20true%2C%0A%20%20%22fillColor%22%3A%20%22%238000ff%22%2C%0A%20%20%22fillOpacity%22%3A%200.7%2C%0A%20%20%22fillRule%22%3A%20%22evenodd%22%2C%0A%20%20%22lineCap%22%3A%20%22round%22%2C%0A%20%20%22lineJoin%22%3A%20%22round%22%2C%0A%20%20%22opacity%22%3A%201.0%2C%0A%20%20%22radius%22%3A%205%2C%0A%20%20%22stroke%22%3A%20true%2C%0A%20%20%22weight%22%3A%203%0A%7D%0A%20%20%20%20%20%20%20%20%20%20%20%20%20%20%20%20%29.addTo%28map_eff47c844de245779793ccb2f8172862%29%3B%0A%20%20%20%20%20%20%20%20%20%20%20%20%0A%20%20%20%20%0A%20%20%20%20%20%20%20%20%20%20%20%20var%20popup_c9e05ddaa182449dbee1e489d05e4272%20%3D%20L.popup%28%7BmaxWidth%3A%20%27300%27%7D%29%3B%0A%0A%20%20%20%20%20%20%20%20%20%20%20%20%0A%20%20%20%20%20%20%20%20%20%20%20%20%20%20%20%20var%20html_03749452618a415e91a4267e7bf9f919%20%3D%20%24%28%27%3Cdiv%20id%3D%22html_03749452618a415e91a4267e7bf9f919%22%20style%3D%22width%3A%20100.0%25%3B%20height%3A%20100.0%25%3B%22%3EGuindalera%20Cluster%201%3C/div%3E%27%29%5B0%5D%3B%0A%20%20%20%20%20%20%20%20%20%20%20%20%20%20%20%20popup_c9e05ddaa182449dbee1e489d05e4272.setContent%28html_03749452618a415e91a4267e7bf9f919%29%3B%0A%20%20%20%20%20%20%20%20%20%20%20%20%0A%0A%20%20%20%20%20%20%20%20%20%20%20%20circle_marker_8b2f176b60a74a7999b3949dbde4c143.bindPopup%28popup_c9e05ddaa182449dbee1e489d05e4272%29%3B%0A%0A%20%20%20%20%20%20%20%20%20%20%20%20%0A%20%20%20%20%20%20%20%20%0A%20%20%20%20%0A%20%20%20%20%20%20%20%20%20%20%20%20var%20circle_marker_27f54211e9d04902a4e32638af6500a5%20%3D%20L.circleMarker%28%0A%20%20%20%20%20%20%20%20%20%20%20%20%20%20%20%20%5B40.432778%2C-3.674444%5D%2C%0A%20%20%20%20%20%20%20%20%20%20%20%20%20%20%20%20%7B%0A%20%20%22bubblingMouseEvents%22%3A%20true%2C%0A%20%20%22color%22%3A%20%22%238000ff%22%2C%0A%20%20%22dashArray%22%3A%20null%2C%0A%20%20%22dashOffset%22%3A%20null%2C%0A%20%20%22fill%22%3A%20true%2C%0A%20%20%22fillColor%22%3A%20%22%238000ff%22%2C%0A%20%20%22fillOpacity%22%3A%200.7%2C%0A%20%20%22fillRule%22%3A%20%22evenodd%22%2C%0A%20%20%22lineCap%22%3A%20%22round%22%2C%0A%20%20%22lineJoin%22%3A%20%22round%22%2C%0A%20%20%22opacity%22%3A%201.0%2C%0A%20%20%22radius%22%3A%205%2C%0A%20%20%22stroke%22%3A%20true%2C%0A%20%20%22weight%22%3A%203%0A%7D%0A%20%20%20%20%20%20%20%20%20%20%20%20%20%20%20%20%29.addTo%28map_eff47c844de245779793ccb2f8172862%29%3B%0A%20%20%20%20%20%20%20%20%20%20%20%20%0A%20%20%20%20%0A%20%20%20%20%20%20%20%20%20%20%20%20var%20popup_26fd16c609a5431db395072ed5dad3be%20%3D%20L.popup%28%7BmaxWidth%3A%20%27300%27%7D%29%3B%0A%0A%20%20%20%20%20%20%20%20%20%20%20%20%0A%20%20%20%20%20%20%20%20%20%20%20%20%20%20%20%20var%20html_82af7d4145ad4afda22b09e7eb81812f%20%3D%20%24%28%27%3Cdiv%20id%3D%22html_82af7d4145ad4afda22b09e7eb81812f%22%20style%3D%22width%3A%20100.0%25%3B%20height%3A%20100.0%25%3B%22%3ELista%20Cluster%201%3C/div%3E%27%29%5B0%5D%3B%0A%20%20%20%20%20%20%20%20%20%20%20%20%20%20%20%20popup_26fd16c609a5431db395072ed5dad3be.setContent%28html_82af7d4145ad4afda22b09e7eb81812f%29%3B%0A%20%20%20%20%20%20%20%20%20%20%20%20%0A%0A%20%20%20%20%20%20%20%20%20%20%20%20circle_marker_27f54211e9d04902a4e32638af6500a5.bindPopup%28popup_26fd16c609a5431db395072ed5dad3be%29%3B%0A%0A%20%20%20%20%20%20%20%20%20%20%20%20%0A%20%20%20%20%20%20%20%20%0A%20%20%20%20%0A%20%20%20%20%20%20%20%20%20%20%20%20var%20circle_marker_7b306428dd8d4bb5af58e2b8577d67d8%20%3D%20L.circleMarker%28%0A%20%20%20%20%20%20%20%20%20%20%20%20%20%20%20%20%5B40.433333%2C-3.684722%5D%2C%0A%20%20%20%20%20%20%20%20%20%20%20%20%20%20%20%20%7B%0A%20%20%22bubblingMouseEvents%22%3A%20true%2C%0A%20%20%22color%22%3A%20%22%238000ff%22%2C%0A%20%20%22dashArray%22%3A%20null%2C%0A%20%20%22dashOffset%22%3A%20null%2C%0A%20%20%22fill%22%3A%20true%2C%0A%20%20%22fillColor%22%3A%20%22%238000ff%22%2C%0A%20%20%22fillOpacity%22%3A%200.7%2C%0A%20%20%22fillRule%22%3A%20%22evenodd%22%2C%0A%20%20%22lineCap%22%3A%20%22round%22%2C%0A%20%20%22lineJoin%22%3A%20%22round%22%2C%0A%20%20%22opacity%22%3A%201.0%2C%0A%20%20%22radius%22%3A%205%2C%0A%20%20%22stroke%22%3A%20true%2C%0A%20%20%22weight%22%3A%203%0A%7D%0A%20%20%20%20%20%20%20%20%20%20%20%20%20%20%20%20%29.addTo%28map_eff47c844de245779793ccb2f8172862%29%3B%0A%20%20%20%20%20%20%20%20%20%20%20%20%0A%20%20%20%20%0A%20%20%20%20%20%20%20%20%20%20%20%20var%20popup_679af5417b234fab86adc23669b4b22e%20%3D%20L.popup%28%7BmaxWidth%3A%20%27300%27%7D%29%3B%0A%0A%20%20%20%20%20%20%20%20%20%20%20%20%0A%20%20%20%20%20%20%20%20%20%20%20%20%20%20%20%20var%20html_91379b7a95304d2cbe616c582441b089%20%3D%20%24%28%27%3Cdiv%20id%3D%22html_91379b7a95304d2cbe616c582441b089%22%20style%3D%22width%3A%20100.0%25%3B%20height%3A%20100.0%25%3B%22%3ECastellana%20Cluster%201%3C/div%3E%27%29%5B0%5D%3B%0A%20%20%20%20%20%20%20%20%20%20%20%20%20%20%20%20popup_679af5417b234fab86adc23669b4b22e.setContent%28html_91379b7a95304d2cbe616c582441b089%29%3B%0A%20%20%20%20%20%20%20%20%20%20%20%20%0A%0A%20%20%20%20%20%20%20%20%20%20%20%20circle_marker_7b306428dd8d4bb5af58e2b8577d67d8.bindPopup%28popup_679af5417b234fab86adc23669b4b22e%29%3B%0A%0A%20%20%20%20%20%20%20%20%20%20%20%20%0A%20%20%20%20%20%20%20%20%0A%20%20%20%20%0A%20%20%20%20%20%20%20%20%20%20%20%20var%20circle_marker_0147f805e1034d27ae95734180281a91%20%3D%20L.circleMarker%28%0A%20%20%20%20%20%20%20%20%20%20%20%20%20%20%20%20%5B40.4444%2C-3.6888%5D%2C%0A%20%20%20%20%20%20%20%20%20%20%20%20%20%20%20%20%7B%0A%20%20%22bubblingMouseEvents%22%3A%20true%2C%0A%20%20%22color%22%3A%20%22%23d4dd80%22%2C%0A%20%20%22dashArray%22%3A%20null%2C%0A%20%20%22dashOffset%22%3A%20null%2C%0A%20%20%22fill%22%3A%20true%2C%0A%20%20%22fillColor%22%3A%20%22%23d4dd80%22%2C%0A%20%20%22fillOpacity%22%3A%200.7%2C%0A%20%20%22fillRule%22%3A%20%22evenodd%22%2C%0A%20%20%22lineCap%22%3A%20%22round%22%2C%0A%20%20%22lineJoin%22%3A%20%22round%22%2C%0A%20%20%22opacity%22%3A%201.0%2C%0A%20%20%22radius%22%3A%205%2C%0A%20%20%22stroke%22%3A%20true%2C%0A%20%20%22weight%22%3A%203%0A%7D%0A%20%20%20%20%20%20%20%20%20%20%20%20%20%20%20%20%29.addTo%28map_eff47c844de245779793ccb2f8172862%29%3B%0A%20%20%20%20%20%20%20%20%20%20%20%20%0A%20%20%20%20%0A%20%20%20%20%20%20%20%20%20%20%20%20var%20popup_f80f15b1f86a46669c2c3fc68a5b8da5%20%3D%20L.popup%28%7BmaxWidth%3A%20%27300%27%7D%29%3B%0A%0A%20%20%20%20%20%20%20%20%20%20%20%20%0A%20%20%20%20%20%20%20%20%20%20%20%20%20%20%20%20var%20html_7e61b03edd2d4cb1ab701de2cb6b0836%20%3D%20%24%28%27%3Cdiv%20id%3D%22html_7e61b03edd2d4cb1ab701de2cb6b0836%22%20style%3D%22width%3A%20100.0%25%3B%20height%3A%20100.0%25%3B%22%3EEl%20Viso%20Cluster%203%3C/div%3E%27%29%5B0%5D%3B%0A%20%20%20%20%20%20%20%20%20%20%20%20%20%20%20%20popup_f80f15b1f86a46669c2c3fc68a5b8da5.setContent%28html_7e61b03edd2d4cb1ab701de2cb6b0836%29%3B%0A%20%20%20%20%20%20%20%20%20%20%20%20%0A%0A%20%20%20%20%20%20%20%20%20%20%20%20circle_marker_0147f805e1034d27ae95734180281a91.bindPopup%28popup_f80f15b1f86a46669c2c3fc68a5b8da5%29%3B%0A%0A%20%20%20%20%20%20%20%20%20%20%20%20%0A%20%20%20%20%20%20%20%20%0A%20%20%20%20%0A%20%20%20%20%20%20%20%20%20%20%20%20var%20circle_marker_3f2f0579fc9c4b15a753dd2f95b23250%20%3D%20L.circleMarker%28%0A%20%20%20%20%20%20%20%20%20%20%20%20%20%20%20%20%5B40.445%2C-3.67%5D%2C%0A%20%20%20%20%20%20%20%20%20%20%20%20%20%20%20%20%7B%0A%20%20%22bubblingMouseEvents%22%3A%20true%2C%0A%20%20%22color%22%3A%20%22%238000ff%22%2C%0A%20%20%22dashArray%22%3A%20null%2C%0A%20%20%22dashOffset%22%3A%20null%2C%0A%20%20%22fill%22%3A%20true%2C%0A%20%20%22fillColor%22%3A%20%22%238000ff%22%2C%0A%20%20%22fillOpacity%22%3A%200.7%2C%0A%20%20%22fillRule%22%3A%20%22evenodd%22%2C%0A%20%20%22lineCap%22%3A%20%22round%22%2C%0A%20%20%22lineJoin%22%3A%20%22round%22%2C%0A%20%20%22opacity%22%3A%201.0%2C%0A%20%20%22radius%22%3A%205%2C%0A%20%20%22stroke%22%3A%20true%2C%0A%20%20%22weight%22%3A%203%0A%7D%0A%20%20%20%20%20%20%20%20%20%20%20%20%20%20%20%20%29.addTo%28map_eff47c844de245779793ccb2f8172862%29%3B%0A%20%20%20%20%20%20%20%20%20%20%20%20%0A%20%20%20%20%0A%20%20%20%20%20%20%20%20%20%20%20%20var%20popup_3481cc9259cf45549030c9819b6faf12%20%3D%20L.popup%28%7BmaxWidth%3A%20%27300%27%7D%29%3B%0A%0A%20%20%20%20%20%20%20%20%20%20%20%20%0A%20%20%20%20%20%20%20%20%20%20%20%20%20%20%20%20var%20html_c129505c068346c69b3bce7356e65a14%20%3D%20%24%28%27%3Cdiv%20id%3D%22html_c129505c068346c69b3bce7356e65a14%22%20style%3D%22width%3A%20100.0%25%3B%20height%3A%20100.0%25%3B%22%3EProsperidad%20Cluster%201%3C/div%3E%27%29%5B0%5D%3B%0A%20%20%20%20%20%20%20%20%20%20%20%20%20%20%20%20popup_3481cc9259cf45549030c9819b6faf12.setContent%28html_c129505c068346c69b3bce7356e65a14%29%3B%0A%20%20%20%20%20%20%20%20%20%20%20%20%0A%0A%20%20%20%20%20%20%20%20%20%20%20%20circle_marker_3f2f0579fc9c4b15a753dd2f95b23250.bindPopup%28popup_3481cc9259cf45549030c9819b6faf12%29%3B%0A%0A%20%20%20%20%20%20%20%20%20%20%20%20%0A%20%20%20%20%20%20%20%20%0A%20%20%20%20%0A%20%20%20%20%20%20%20%20%20%20%20%20var%20circle_marker_6a1b7a779b9945afb4ce83720ad41e25%20%3D%20L.circleMarker%28%0A%20%20%20%20%20%20%20%20%20%20%20%20%20%20%20%20%5B40.446944%2C-3.671667%5D%2C%0A%20%20%20%20%20%20%20%20%20%20%20%20%20%20%20%20%7B%0A%20%20%22bubblingMouseEvents%22%3A%20true%2C%0A%20%20%22color%22%3A%20%22%23ff0000%22%2C%0A%20%20%22dashArray%22%3A%20null%2C%0A%20%20%22dashOffset%22%3A%20null%2C%0A%20%20%22fill%22%3A%20true%2C%0A%20%20%22fillColor%22%3A%20%22%23ff0000%22%2C%0A%20%20%22fillOpacity%22%3A%200.7%2C%0A%20%20%22fillRule%22%3A%20%22evenodd%22%2C%0A%20%20%22lineCap%22%3A%20%22round%22%2C%0A%20%20%22lineJoin%22%3A%20%22round%22%2C%0A%20%20%22opacity%22%3A%201.0%2C%0A%20%20%22radius%22%3A%205%2C%0A%20%20%22stroke%22%3A%20true%2C%0A%20%20%22weight%22%3A%203%0A%7D%0A%20%20%20%20%20%20%20%20%20%20%20%20%20%20%20%20%29.addTo%28map_eff47c844de245779793ccb2f8172862%29%3B%0A%20%20%20%20%20%20%20%20%20%20%20%20%0A%20%20%20%20%0A%20%20%20%20%20%20%20%20%20%20%20%20var%20popup_8972a7e09a7042faabe45834557c7b48%20%3D%20L.popup%28%7BmaxWidth%3A%20%27300%27%7D%29%3B%0A%0A%20%20%20%20%20%20%20%20%20%20%20%20%0A%20%20%20%20%20%20%20%20%20%20%20%20%20%20%20%20var%20html_c0e8ff38a31e4d63b9e643004904b84b%20%3D%20%24%28%27%3Cdiv%20id%3D%22html_c0e8ff38a31e4d63b9e643004904b84b%22%20style%3D%22width%3A%20100.0%25%3B%20height%3A%20100.0%25%3B%22%3ECiudad%20Jardin%20Cluster%200%3C/div%3E%27%29%5B0%5D%3B%0A%20%20%20%20%20%20%20%20%20%20%20%20%20%20%20%20popup_8972a7e09a7042faabe45834557c7b48.setContent%28html_c0e8ff38a31e4d63b9e643004904b84b%29%3B%0A%20%20%20%20%20%20%20%20%20%20%20%20%0A%0A%20%20%20%20%20%20%20%20%20%20%20%20circle_marker_6a1b7a779b9945afb4ce83720ad41e25.bindPopup%28popup_8972a7e09a7042faabe45834557c7b48%29%3B%0A%0A%20%20%20%20%20%20%20%20%20%20%20%20%0A%20%20%20%20%20%20%20%20%0A%20%20%20%20%0A%20%20%20%20%20%20%20%20%20%20%20%20var%20circle_marker_926ecc69967840aaba1fc143de90c76c%20%3D%20L.circleMarker%28%0A%20%20%20%20%20%20%20%20%20%20%20%20%20%20%20%20%5B40.455556%2C-3.676667%5D%2C%0A%20%20%20%20%20%20%20%20%20%20%20%20%20%20%20%20%7B%0A%20%20%22bubblingMouseEvents%22%3A%20true%2C%0A%20%20%22color%22%3A%20%22%23d4dd80%22%2C%0A%20%20%22dashArray%22%3A%20null%2C%0A%20%20%22dashOffset%22%3A%20null%2C%0A%20%20%22fill%22%3A%20true%2C%0A%20%20%22fillColor%22%3A%20%22%23d4dd80%22%2C%0A%20%20%22fillOpacity%22%3A%200.7%2C%0A%20%20%22fillRule%22%3A%20%22evenodd%22%2C%0A%20%20%22lineCap%22%3A%20%22round%22%2C%0A%20%20%22lineJoin%22%3A%20%22round%22%2C%0A%20%20%22opacity%22%3A%201.0%2C%0A%20%20%22radius%22%3A%205%2C%0A%20%20%22stroke%22%3A%20true%2C%0A%20%20%22weight%22%3A%203%0A%7D%0A%20%20%20%20%20%20%20%20%20%20%20%20%20%20%20%20%29.addTo%28map_eff47c844de245779793ccb2f8172862%29%3B%0A%20%20%20%20%20%20%20%20%20%20%20%20%0A%20%20%20%20%0A%20%20%20%20%20%20%20%20%20%20%20%20var%20popup_c5ee0575522d4c789ac61d03a5dddee5%20%3D%20L.popup%28%7BmaxWidth%3A%20%27300%27%7D%29%3B%0A%0A%20%20%20%20%20%20%20%20%20%20%20%20%0A%20%20%20%20%20%20%20%20%20%20%20%20%20%20%20%20var%20html_cadcc53928a846b08ac77b8d339db2a6%20%3D%20%24%28%27%3Cdiv%20id%3D%22html_cadcc53928a846b08ac77b8d339db2a6%22%20style%3D%22width%3A%20100.0%25%3B%20height%3A%20100.0%25%3B%22%3EHispanoamerica%20Cluster%203%3C/div%3E%27%29%5B0%5D%3B%0A%20%20%20%20%20%20%20%20%20%20%20%20%20%20%20%20popup_c5ee0575522d4c789ac61d03a5dddee5.setContent%28html_cadcc53928a846b08ac77b8d339db2a6%29%3B%0A%20%20%20%20%20%20%20%20%20%20%20%20%0A%0A%20%20%20%20%20%20%20%20%20%20%20%20circle_marker_926ecc69967840aaba1fc143de90c76c.bindPopup%28popup_c5ee0575522d4c789ac61d03a5dddee5%29%3B%0A%0A%20%20%20%20%20%20%20%20%20%20%20%20%0A%20%20%20%20%20%20%20%20%0A%20%20%20%20%0A%20%20%20%20%20%20%20%20%20%20%20%20var%20circle_marker_63298a597952435b973a2293d7205a24%20%3D%20L.circleMarker%28%0A%20%20%20%20%20%20%20%20%20%20%20%20%20%20%20%20%5B40.463056%2C-3.6775%5D%2C%0A%20%20%20%20%20%20%20%20%20%20%20%20%20%20%20%20%7B%0A%20%20%22bubblingMouseEvents%22%3A%20true%2C%0A%20%20%22color%22%3A%20%22%238000ff%22%2C%0A%20%20%22dashArray%22%3A%20null%2C%0A%20%20%22dashOffset%22%3A%20null%2C%0A%20%20%22fill%22%3A%20true%2C%0A%20%20%22fillColor%22%3A%20%22%238000ff%22%2C%0A%20%20%22fillOpacity%22%3A%200.7%2C%0A%20%20%22fillRule%22%3A%20%22evenodd%22%2C%0A%20%20%22lineCap%22%3A%20%22round%22%2C%0A%20%20%22lineJoin%22%3A%20%22round%22%2C%0A%20%20%22opacity%22%3A%201.0%2C%0A%20%20%22radius%22%3A%205%2C%0A%20%20%22stroke%22%3A%20true%2C%0A%20%20%22weight%22%3A%203%0A%7D%0A%20%20%20%20%20%20%20%20%20%20%20%20%20%20%20%20%29.addTo%28map_eff47c844de245779793ccb2f8172862%29%3B%0A%20%20%20%20%20%20%20%20%20%20%20%20%0A%20%20%20%20%0A%20%20%20%20%20%20%20%20%20%20%20%20var%20popup_c6402fa27b9e42709870b6e1f93f9624%20%3D%20L.popup%28%7BmaxWidth%3A%20%27300%27%7D%29%3B%0A%0A%20%20%20%20%20%20%20%20%20%20%20%20%0A%20%20%20%20%20%20%20%20%20%20%20%20%20%20%20%20var%20html_d1b0fc72059144918d7795c99cb49b6a%20%3D%20%24%28%27%3Cdiv%20id%3D%22html_d1b0fc72059144918d7795c99cb49b6a%22%20style%3D%22width%3A%20100.0%25%3B%20height%3A%20100.0%25%3B%22%3ENueva%20Espana%20Cluster%201%3C/div%3E%27%29%5B0%5D%3B%0A%20%20%20%20%20%20%20%20%20%20%20%20%20%20%20%20popup_c6402fa27b9e42709870b6e1f93f9624.setContent%28html_d1b0fc72059144918d7795c99cb49b6a%29%3B%0A%20%20%20%20%20%20%20%20%20%20%20%20%0A%0A%20%20%20%20%20%20%20%20%20%20%20%20circle_marker_63298a597952435b973a2293d7205a24.bindPopup%28popup_c6402fa27b9e42709870b6e1f93f9624%29%3B%0A%0A%20%20%20%20%20%20%20%20%20%20%20%20%0A%20%20%20%20%20%20%20%20%0A%20%20%20%20%0A%20%20%20%20%20%20%20%20%20%20%20%20var%20circle_marker_4a0abc22e6e44ed7be8097e715ed7c75%20%3D%20L.circleMarker%28%0A%20%20%20%20%20%20%20%20%20%20%20%20%20%20%20%20%5B40.475%2C-3.678889%5D%2C%0A%20%20%20%20%20%20%20%20%20%20%20%20%20%20%20%20%7B%0A%20%20%22bubblingMouseEvents%22%3A%20true%2C%0A%20%20%22color%22%3A%20%22%238000ff%22%2C%0A%20%20%22dashArray%22%3A%20null%2C%0A%20%20%22dashOffset%22%3A%20null%2C%0A%20%20%22fill%22%3A%20true%2C%0A%20%20%22fillColor%22%3A%20%22%238000ff%22%2C%0A%20%20%22fillOpacity%22%3A%200.7%2C%0A%20%20%22fillRule%22%3A%20%22evenodd%22%2C%0A%20%20%22lineCap%22%3A%20%22round%22%2C%0A%20%20%22lineJoin%22%3A%20%22round%22%2C%0A%20%20%22opacity%22%3A%201.0%2C%0A%20%20%22radius%22%3A%205%2C%0A%20%20%22stroke%22%3A%20true%2C%0A%20%20%22weight%22%3A%203%0A%7D%0A%20%20%20%20%20%20%20%20%20%20%20%20%20%20%20%20%29.addTo%28map_eff47c844de245779793ccb2f8172862%29%3B%0A%20%20%20%20%20%20%20%20%20%20%20%20%0A%20%20%20%20%0A%20%20%20%20%20%20%20%20%20%20%20%20var%20popup_5a4adbf2804149adaed8e1ba74bde0ef%20%3D%20L.popup%28%7BmaxWidth%3A%20%27300%27%7D%29%3B%0A%0A%20%20%20%20%20%20%20%20%20%20%20%20%0A%20%20%20%20%20%20%20%20%20%20%20%20%20%20%20%20var%20html_e41984640e8d401b8520cc340fadc5d2%20%3D%20%24%28%27%3Cdiv%20id%3D%22html_e41984640e8d401b8520cc340fadc5d2%22%20style%3D%22width%3A%20100.0%25%3B%20height%3A%20100.0%25%3B%22%3ECastilla%20Cluster%201%3C/div%3E%27%29%5B0%5D%3B%0A%20%20%20%20%20%20%20%20%20%20%20%20%20%20%20%20popup_5a4adbf2804149adaed8e1ba74bde0ef.setContent%28html_e41984640e8d401b8520cc340fadc5d2%29%3B%0A%20%20%20%20%20%20%20%20%20%20%20%20%0A%0A%20%20%20%20%20%20%20%20%20%20%20%20circle_marker_4a0abc22e6e44ed7be8097e715ed7c75.bindPopup%28popup_5a4adbf2804149adaed8e1ba74bde0ef%29%3B%0A%0A%20%20%20%20%20%20%20%20%20%20%20%20%0A%20%20%20%20%20%20%20%20%0A%20%20%20%20%0A%20%20%20%20%20%20%20%20%20%20%20%20var%20circle_marker_700255f9dde34b2db188db529fbbd6bf%20%3D%20L.circleMarker%28%0A%20%20%20%20%20%20%20%20%20%20%20%20%20%20%20%20%5B40.452458%2C-3.70719%5D%2C%0A%20%20%20%20%20%20%20%20%20%20%20%20%20%20%20%20%7B%0A%20%20%22bubblingMouseEvents%22%3A%20true%2C%0A%20%20%22color%22%3A%20%22%23d4dd80%22%2C%0A%20%20%22dashArray%22%3A%20null%2C%0A%20%20%22dashOffset%22%3A%20null%2C%0A%20%20%22fill%22%3A%20true%2C%0A%20%20%22fillColor%22%3A%20%22%23d4dd80%22%2C%0A%20%20%22fillOpacity%22%3A%200.7%2C%0A%20%20%22fillRule%22%3A%20%22evenodd%22%2C%0A%20%20%22lineCap%22%3A%20%22round%22%2C%0A%20%20%22lineJoin%22%3A%20%22round%22%2C%0A%20%20%22opacity%22%3A%201.0%2C%0A%20%20%22radius%22%3A%205%2C%0A%20%20%22stroke%22%3A%20true%2C%0A%20%20%22weight%22%3A%203%0A%7D%0A%20%20%20%20%20%20%20%20%20%20%20%20%20%20%20%20%29.addTo%28map_eff47c844de245779793ccb2f8172862%29%3B%0A%20%20%20%20%20%20%20%20%20%20%20%20%0A%20%20%20%20%0A%20%20%20%20%20%20%20%20%20%20%20%20var%20popup_177828a3fff148ecb59b92266ede59c7%20%3D%20L.popup%28%7BmaxWidth%3A%20%27300%27%7D%29%3B%0A%0A%20%20%20%20%20%20%20%20%20%20%20%20%0A%20%20%20%20%20%20%20%20%20%20%20%20%20%20%20%20var%20html_480ac6bcbc5746919de5f93add497eb6%20%3D%20%24%28%27%3Cdiv%20id%3D%22html_480ac6bcbc5746919de5f93add497eb6%22%20style%3D%22width%3A%20100.0%25%3B%20height%3A%20100.0%25%3B%22%3EBellas%20Vistas%20Cluster%203%3C/div%3E%27%29%5B0%5D%3B%0A%20%20%20%20%20%20%20%20%20%20%20%20%20%20%20%20popup_177828a3fff148ecb59b92266ede59c7.setContent%28html_480ac6bcbc5746919de5f93add497eb6%29%3B%0A%20%20%20%20%20%20%20%20%20%20%20%20%0A%0A%20%20%20%20%20%20%20%20%20%20%20%20circle_marker_700255f9dde34b2db188db529fbbd6bf.bindPopup%28popup_177828a3fff148ecb59b92266ede59c7%29%3B%0A%0A%20%20%20%20%20%20%20%20%20%20%20%20%0A%20%20%20%20%20%20%20%20%0A%20%20%20%20%0A%20%20%20%20%20%20%20%20%20%20%20%20var%20circle_marker_be96d6b0b0bf464c815b871f49a3e894%20%3D%20L.circleMarker%28%0A%20%20%20%20%20%20%20%20%20%20%20%20%20%20%20%20%5B40.450278%2C-3.695833%5D%2C%0A%20%20%20%20%20%20%20%20%20%20%20%20%20%20%20%20%7B%0A%20%20%22bubblingMouseEvents%22%3A%20true%2C%0A%20%20%22color%22%3A%20%22%238000ff%22%2C%0A%20%20%22dashArray%22%3A%20null%2C%0A%20%20%22dashOffset%22%3A%20null%2C%0A%20%20%22fill%22%3A%20true%2C%0A%20%20%22fillColor%22%3A%20%22%238000ff%22%2C%0A%20%20%22fillOpacity%22%3A%200.7%2C%0A%20%20%22fillRule%22%3A%20%22evenodd%22%2C%0A%20%20%22lineCap%22%3A%20%22round%22%2C%0A%20%20%22lineJoin%22%3A%20%22round%22%2C%0A%20%20%22opacity%22%3A%201.0%2C%0A%20%20%22radius%22%3A%205%2C%0A%20%20%22stroke%22%3A%20true%2C%0A%20%20%22weight%22%3A%203%0A%7D%0A%20%20%20%20%20%20%20%20%20%20%20%20%20%20%20%20%29.addTo%28map_eff47c844de245779793ccb2f8172862%29%3B%0A%20%20%20%20%20%20%20%20%20%20%20%20%0A%20%20%20%20%0A%20%20%20%20%20%20%20%20%20%20%20%20var%20popup_a97eb6c4250f4ebfb7d11cdd42ab12b7%20%3D%20L.popup%28%7BmaxWidth%3A%20%27300%27%7D%29%3B%0A%0A%20%20%20%20%20%20%20%20%20%20%20%20%0A%20%20%20%20%20%20%20%20%20%20%20%20%20%20%20%20var%20html_128830aedee94e4dadd1107130daa1d2%20%3D%20%24%28%27%3Cdiv%20id%3D%22html_128830aedee94e4dadd1107130daa1d2%22%20style%3D%22width%3A%20100.0%25%3B%20height%3A%20100.0%25%3B%22%3ECuatro%20Caminos%20Cluster%201%3C/div%3E%27%29%5B0%5D%3B%0A%20%20%20%20%20%20%20%20%20%20%20%20%20%20%20%20popup_a97eb6c4250f4ebfb7d11cdd42ab12b7.setContent%28html_128830aedee94e4dadd1107130daa1d2%29%3B%0A%20%20%20%20%20%20%20%20%20%20%20%20%0A%0A%20%20%20%20%20%20%20%20%20%20%20%20circle_marker_be96d6b0b0bf464c815b871f49a3e894.bindPopup%28popup_a97eb6c4250f4ebfb7d11cdd42ab12b7%29%3B%0A%0A%20%20%20%20%20%20%20%20%20%20%20%20%0A%20%20%20%20%20%20%20%20%0A%20%20%20%20%0A%20%20%20%20%20%20%20%20%20%20%20%20var%20circle_marker_983efae6081146ee8f0cf568043ead2b%20%3D%20L.circleMarker%28%0A%20%20%20%20%20%20%20%20%20%20%20%20%20%20%20%20%5B40.461389%2C-3.6925%5D%2C%0A%20%20%20%20%20%20%20%20%20%20%20%20%20%20%20%20%7B%0A%20%20%22bubblingMouseEvents%22%3A%20true%2C%0A%20%20%22color%22%3A%20%22%238000ff%22%2C%0A%20%20%22dashArray%22%3A%20null%2C%0A%20%20%22dashOffset%22%3A%20null%2C%0A%20%20%22fill%22%3A%20true%2C%0A%20%20%22fillColor%22%3A%20%22%238000ff%22%2C%0A%20%20%22fillOpacity%22%3A%200.7%2C%0A%20%20%22fillRule%22%3A%20%22evenodd%22%2C%0A%20%20%22lineCap%22%3A%20%22round%22%2C%0A%20%20%22lineJoin%22%3A%20%22round%22%2C%0A%20%20%22opacity%22%3A%201.0%2C%0A%20%20%22radius%22%3A%205%2C%0A%20%20%22stroke%22%3A%20true%2C%0A%20%20%22weight%22%3A%203%0A%7D%0A%20%20%20%20%20%20%20%20%20%20%20%20%20%20%20%20%29.addTo%28map_eff47c844de245779793ccb2f8172862%29%3B%0A%20%20%20%20%20%20%20%20%20%20%20%20%0A%20%20%20%20%0A%20%20%20%20%20%20%20%20%20%20%20%20var%20popup_455a8f7409324d0aa2079dddba67cbaf%20%3D%20L.popup%28%7BmaxWidth%3A%20%27300%27%7D%29%3B%0A%0A%20%20%20%20%20%20%20%20%20%20%20%20%0A%20%20%20%20%20%20%20%20%20%20%20%20%20%20%20%20var%20html_508221bb06724a788da61d8151812d31%20%3D%20%24%28%27%3Cdiv%20id%3D%22html_508221bb06724a788da61d8151812d31%22%20style%3D%22width%3A%20100.0%25%3B%20height%3A%20100.0%25%3B%22%3ECastillejos%20Cluster%201%3C/div%3E%27%29%5B0%5D%3B%0A%20%20%20%20%20%20%20%20%20%20%20%20%20%20%20%20popup_455a8f7409324d0aa2079dddba67cbaf.setContent%28html_508221bb06724a788da61d8151812d31%29%3B%0A%20%20%20%20%20%20%20%20%20%20%20%20%0A%0A%20%20%20%20%20%20%20%20%20%20%20%20circle_marker_983efae6081146ee8f0cf568043ead2b.bindPopup%28popup_455a8f7409324d0aa2079dddba67cbaf%29%3B%0A%0A%20%20%20%20%20%20%20%20%20%20%20%20%0A%20%20%20%20%20%20%20%20%0A%20%20%20%20%0A%20%20%20%20%20%20%20%20%20%20%20%20var%20circle_marker_16132115ae534c3b9bc67fc119c4e1ea%20%3D%20L.circleMarker%28%0A%20%20%20%20%20%20%20%20%20%20%20%20%20%20%20%20%5B40.4713%2C-3.6955%5D%2C%0A%20%20%20%20%20%20%20%20%20%20%20%20%20%20%20%20%7B%0A%20%20%22bubblingMouseEvents%22%3A%20true%2C%0A%20%20%22color%22%3A%20%22%238000ff%22%2C%0A%20%20%22dashArray%22%3A%20null%2C%0A%20%20%22dashOffset%22%3A%20null%2C%0A%20%20%22fill%22%3A%20true%2C%0A%20%20%22fillColor%22%3A%20%22%238000ff%22%2C%0A%20%20%22fillOpacity%22%3A%200.7%2C%0A%20%20%22fillRule%22%3A%20%22evenodd%22%2C%0A%20%20%22lineCap%22%3A%20%22round%22%2C%0A%20%20%22lineJoin%22%3A%20%22round%22%2C%0A%20%20%22opacity%22%3A%201.0%2C%0A%20%20%22radius%22%3A%205%2C%0A%20%20%22stroke%22%3A%20true%2C%0A%20%20%22weight%22%3A%203%0A%7D%0A%20%20%20%20%20%20%20%20%20%20%20%20%20%20%20%20%29.addTo%28map_eff47c844de245779793ccb2f8172862%29%3B%0A%20%20%20%20%20%20%20%20%20%20%20%20%0A%20%20%20%20%0A%20%20%20%20%20%20%20%20%20%20%20%20var%20popup_ffc011be27874d51841cd3152b306488%20%3D%20L.popup%28%7BmaxWidth%3A%20%27300%27%7D%29%3B%0A%0A%20%20%20%20%20%20%20%20%20%20%20%20%0A%20%20%20%20%20%20%20%20%20%20%20%20%20%20%20%20var%20html_199002261a554261b5b6d5d4d3b857c8%20%3D%20%24%28%27%3Cdiv%20id%3D%22html_199002261a554261b5b6d5d4d3b857c8%22%20style%3D%22width%3A%20100.0%25%3B%20height%3A%20100.0%25%3B%22%3EAlmenara%20Cluster%201%3C/div%3E%27%29%5B0%5D%3B%0A%20%20%20%20%20%20%20%20%20%20%20%20%20%20%20%20popup_ffc011be27874d51841cd3152b306488.setContent%28html_199002261a554261b5b6d5d4d3b857c8%29%3B%0A%20%20%20%20%20%20%20%20%20%20%20%20%0A%0A%20%20%20%20%20%20%20%20%20%20%20%20circle_marker_16132115ae534c3b9bc67fc119c4e1ea.bindPopup%28popup_ffc011be27874d51841cd3152b306488%29%3B%0A%0A%20%20%20%20%20%20%20%20%20%20%20%20%0A%20%20%20%20%20%20%20%20%0A%20%20%20%20%0A%20%20%20%20%20%20%20%20%20%20%20%20var%20circle_marker_41d741aae6c84c3b82b7024fdfc0a953%20%3D%20L.circleMarker%28%0A%20%20%20%20%20%20%20%20%20%20%20%20%20%20%20%20%5B40.468611%2C-3.705556%5D%2C%0A%20%20%20%20%20%20%20%20%20%20%20%20%20%20%20%20%7B%0A%20%20%22bubblingMouseEvents%22%3A%20true%2C%0A%20%20%22color%22%3A%20%22%23ff0000%22%2C%0A%20%20%22dashArray%22%3A%20null%2C%0A%20%20%22dashOffset%22%3A%20null%2C%0A%20%20%22fill%22%3A%20true%2C%0A%20%20%22fillColor%22%3A%20%22%23ff0000%22%2C%0A%20%20%22fillOpacity%22%3A%200.7%2C%0A%20%20%22fillRule%22%3A%20%22evenodd%22%2C%0A%20%20%22lineCap%22%3A%20%22round%22%2C%0A%20%20%22lineJoin%22%3A%20%22round%22%2C%0A%20%20%22opacity%22%3A%201.0%2C%0A%20%20%22radius%22%3A%205%2C%0A%20%20%22stroke%22%3A%20true%2C%0A%20%20%22weight%22%3A%203%0A%7D%0A%20%20%20%20%20%20%20%20%20%20%20%20%20%20%20%20%29.addTo%28map_eff47c844de245779793ccb2f8172862%29%3B%0A%20%20%20%20%20%20%20%20%20%20%20%20%0A%20%20%20%20%0A%20%20%20%20%20%20%20%20%20%20%20%20var%20popup_ff58011014d84db89fcc4b8dc8d99f4c%20%3D%20L.popup%28%7BmaxWidth%3A%20%27300%27%7D%29%3B%0A%0A%20%20%20%20%20%20%20%20%20%20%20%20%0A%20%20%20%20%20%20%20%20%20%20%20%20%20%20%20%20var%20html_e236bd5e8f4447e6992252c689a9e1e7%20%3D%20%24%28%27%3Cdiv%20id%3D%22html_e236bd5e8f4447e6992252c689a9e1e7%22%20style%3D%22width%3A%20100.0%25%3B%20height%3A%20100.0%25%3B%22%3EValdeacederas%20Cluster%200%3C/div%3E%27%29%5B0%5D%3B%0A%20%20%20%20%20%20%20%20%20%20%20%20%20%20%20%20popup_ff58011014d84db89fcc4b8dc8d99f4c.setContent%28html_e236bd5e8f4447e6992252c689a9e1e7%29%3B%0A%20%20%20%20%20%20%20%20%20%20%20%20%0A%0A%20%20%20%20%20%20%20%20%20%20%20%20circle_marker_41d741aae6c84c3b82b7024fdfc0a953.bindPopup%28popup_ff58011014d84db89fcc4b8dc8d99f4c%29%3B%0A%0A%20%20%20%20%20%20%20%20%20%20%20%20%0A%20%20%20%20%20%20%20%20%0A%20%20%20%20%0A%20%20%20%20%20%20%20%20%20%20%20%20var%20circle_marker_f37ddf67dcc14b3b809709b940a09476%20%3D%20L.circleMarker%28%0A%20%20%20%20%20%20%20%20%20%20%20%20%20%20%20%20%5B40.4575%2C-3.705556%5D%2C%0A%20%20%20%20%20%20%20%20%20%20%20%20%20%20%20%20%7B%0A%20%20%22bubblingMouseEvents%22%3A%20true%2C%0A%20%20%22color%22%3A%20%22%238000ff%22%2C%0A%20%20%22dashArray%22%3A%20null%2C%0A%20%20%22dashOffset%22%3A%20null%2C%0A%20%20%22fill%22%3A%20true%2C%0A%20%20%22fillColor%22%3A%20%22%238000ff%22%2C%0A%20%20%22fillOpacity%22%3A%200.7%2C%0A%20%20%22fillRule%22%3A%20%22evenodd%22%2C%0A%20%20%22lineCap%22%3A%20%22round%22%2C%0A%20%20%22lineJoin%22%3A%20%22round%22%2C%0A%20%20%22opacity%22%3A%201.0%2C%0A%20%20%22radius%22%3A%205%2C%0A%20%20%22stroke%22%3A%20true%2C%0A%20%20%22weight%22%3A%203%0A%7D%0A%20%20%20%20%20%20%20%20%20%20%20%20%20%20%20%20%29.addTo%28map_eff47c844de245779793ccb2f8172862%29%3B%0A%20%20%20%20%20%20%20%20%20%20%20%20%0A%20%20%20%20%0A%20%20%20%20%20%20%20%20%20%20%20%20var%20popup_d7067083842947a4927b1c3a2d6964e4%20%3D%20L.popup%28%7BmaxWidth%3A%20%27300%27%7D%29%3B%0A%0A%20%20%20%20%20%20%20%20%20%20%20%20%0A%20%20%20%20%20%20%20%20%20%20%20%20%20%20%20%20var%20html_e5b3b05b3cab44fa970e8690bead8cc5%20%3D%20%24%28%27%3Cdiv%20id%3D%22html_e5b3b05b3cab44fa970e8690bead8cc5%22%20style%3D%22width%3A%20100.0%25%3B%20height%3A%20100.0%25%3B%22%3EBerruguete%20Cluster%201%3C/div%3E%27%29%5B0%5D%3B%0A%20%20%20%20%20%20%20%20%20%20%20%20%20%20%20%20popup_d7067083842947a4927b1c3a2d6964e4.setContent%28html_e5b3b05b3cab44fa970e8690bead8cc5%29%3B%0A%20%20%20%20%20%20%20%20%20%20%20%20%0A%0A%20%20%20%20%20%20%20%20%20%20%20%20circle_marker_f37ddf67dcc14b3b809709b940a09476.bindPopup%28popup_d7067083842947a4927b1c3a2d6964e4%29%3B%0A%0A%20%20%20%20%20%20%20%20%20%20%20%20%0A%20%20%20%20%20%20%20%20%0A%20%20%20%20%0A%20%20%20%20%20%20%20%20%20%20%20%20var%20circle_marker_cf8929faa970454db02abc354cbc20a3%20%3D%20L.circleMarker%28%0A%20%20%20%20%20%20%20%20%20%20%20%20%20%20%20%20%5B40.434722%2C-3.714722%5D%2C%0A%20%20%20%20%20%20%20%20%20%20%20%20%20%20%20%20%7B%0A%20%20%22bubblingMouseEvents%22%3A%20true%2C%0A%20%20%22color%22%3A%20%22%238000ff%22%2C%0A%20%20%22dashArray%22%3A%20null%2C%0A%20%20%22dashOffset%22%3A%20null%2C%0A%20%20%22fill%22%3A%20true%2C%0A%20%20%22fillColor%22%3A%20%22%238000ff%22%2C%0A%20%20%22fillOpacity%22%3A%200.7%2C%0A%20%20%22fillRule%22%3A%20%22evenodd%22%2C%0A%20%20%22lineCap%22%3A%20%22round%22%2C%0A%20%20%22lineJoin%22%3A%20%22round%22%2C%0A%20%20%22opacity%22%3A%201.0%2C%0A%20%20%22radius%22%3A%205%2C%0A%20%20%22stroke%22%3A%20true%2C%0A%20%20%22weight%22%3A%203%0A%7D%0A%20%20%20%20%20%20%20%20%20%20%20%20%20%20%20%20%29.addTo%28map_eff47c844de245779793ccb2f8172862%29%3B%0A%20%20%20%20%20%20%20%20%20%20%20%20%0A%20%20%20%20%0A%20%20%20%20%20%20%20%20%20%20%20%20var%20popup_0c85c8cb8b804539bf40fc3786503881%20%3D%20L.popup%28%7BmaxWidth%3A%20%27300%27%7D%29%3B%0A%0A%20%20%20%20%20%20%20%20%20%20%20%20%0A%20%20%20%20%20%20%20%20%20%20%20%20%20%20%20%20var%20html_3ee124d6715e40b3925b262123c5b7fd%20%3D%20%24%28%27%3Cdiv%20id%3D%22html_3ee124d6715e40b3925b262123c5b7fd%22%20style%3D%22width%3A%20100.0%25%3B%20height%3A%20100.0%25%3B%22%3EGaztambide%20Cluster%201%3C/div%3E%27%29%5B0%5D%3B%0A%20%20%20%20%20%20%20%20%20%20%20%20%20%20%20%20popup_0c85c8cb8b804539bf40fc3786503881.setContent%28html_3ee124d6715e40b3925b262123c5b7fd%29%3B%0A%20%20%20%20%20%20%20%20%20%20%20%20%0A%0A%20%20%20%20%20%20%20%20%20%20%20%20circle_marker_cf8929faa970454db02abc354cbc20a3.bindPopup%28popup_0c85c8cb8b804539bf40fc3786503881%29%3B%0A%0A%20%20%20%20%20%20%20%20%20%20%20%20%0A%20%20%20%20%20%20%20%20%0A%20%20%20%20%0A%20%20%20%20%20%20%20%20%20%20%20%20var%20circle_marker_b71bc746f11c4c0ca37aa3c42815b384%20%3D%20L.circleMarker%28%0A%20%20%20%20%20%20%20%20%20%20%20%20%20%20%20%20%5B40.434167%2C-3.707778%5D%2C%0A%20%20%20%20%20%20%20%20%20%20%20%20%20%20%20%20%7B%0A%20%20%22bubblingMouseEvents%22%3A%20true%2C%0A%20%20%22color%22%3A%20%22%238000ff%22%2C%0A%20%20%22dashArray%22%3A%20null%2C%0A%20%20%22dashOffset%22%3A%20null%2C%0A%20%20%22fill%22%3A%20true%2C%0A%20%20%22fillColor%22%3A%20%22%238000ff%22%2C%0A%20%20%22fillOpacity%22%3A%200.7%2C%0A%20%20%22fillRule%22%3A%20%22evenodd%22%2C%0A%20%20%22lineCap%22%3A%20%22round%22%2C%0A%20%20%22lineJoin%22%3A%20%22round%22%2C%0A%20%20%22opacity%22%3A%201.0%2C%0A%20%20%22radius%22%3A%205%2C%0A%20%20%22stroke%22%3A%20true%2C%0A%20%20%22weight%22%3A%203%0A%7D%0A%20%20%20%20%20%20%20%20%20%20%20%20%20%20%20%20%29.addTo%28map_eff47c844de245779793ccb2f8172862%29%3B%0A%20%20%20%20%20%20%20%20%20%20%20%20%0A%20%20%20%20%0A%20%20%20%20%20%20%20%20%20%20%20%20var%20popup_884e082be7794a47b56f487d100c2def%20%3D%20L.popup%28%7BmaxWidth%3A%20%27300%27%7D%29%3B%0A%0A%20%20%20%20%20%20%20%20%20%20%20%20%0A%20%20%20%20%20%20%20%20%20%20%20%20%20%20%20%20var%20html_1fe5185912d84deeb7f8ca3ff958419c%20%3D%20%24%28%27%3Cdiv%20id%3D%22html_1fe5185912d84deeb7f8ca3ff958419c%22%20style%3D%22width%3A%20100.0%25%3B%20height%3A%20100.0%25%3B%22%3EArapiles%20Cluster%201%3C/div%3E%27%29%5B0%5D%3B%0A%20%20%20%20%20%20%20%20%20%20%20%20%20%20%20%20popup_884e082be7794a47b56f487d100c2def.setContent%28html_1fe5185912d84deeb7f8ca3ff958419c%29%3B%0A%20%20%20%20%20%20%20%20%20%20%20%20%0A%0A%20%20%20%20%20%20%20%20%20%20%20%20circle_marker_b71bc746f11c4c0ca37aa3c42815b384.bindPopup%28popup_884e082be7794a47b56f487d100c2def%29%3B%0A%0A%20%20%20%20%20%20%20%20%20%20%20%20%0A%20%20%20%20%20%20%20%20%0A%20%20%20%20%0A%20%20%20%20%20%20%20%20%20%20%20%20var%20circle_marker_0956354a172245c9a9b78d9558497f7d%20%3D%20L.circleMarker%28%0A%20%20%20%20%20%20%20%20%20%20%20%20%20%20%20%20%5B40.433056%2C-3.700556%5D%2C%0A%20%20%20%20%20%20%20%20%20%20%20%20%20%20%20%20%7B%0A%20%20%22bubblingMouseEvents%22%3A%20true%2C%0A%20%20%22color%22%3A%20%22%238000ff%22%2C%0A%20%20%22dashArray%22%3A%20null%2C%0A%20%20%22dashOffset%22%3A%20null%2C%0A%20%20%22fill%22%3A%20true%2C%0A%20%20%22fillColor%22%3A%20%22%238000ff%22%2C%0A%20%20%22fillOpacity%22%3A%200.7%2C%0A%20%20%22fillRule%22%3A%20%22evenodd%22%2C%0A%20%20%22lineCap%22%3A%20%22round%22%2C%0A%20%20%22lineJoin%22%3A%20%22round%22%2C%0A%20%20%22opacity%22%3A%201.0%2C%0A%20%20%22radius%22%3A%205%2C%0A%20%20%22stroke%22%3A%20true%2C%0A%20%20%22weight%22%3A%203%0A%7D%0A%20%20%20%20%20%20%20%20%20%20%20%20%20%20%20%20%29.addTo%28map_eff47c844de245779793ccb2f8172862%29%3B%0A%20%20%20%20%20%20%20%20%20%20%20%20%0A%20%20%20%20%0A%20%20%20%20%20%20%20%20%20%20%20%20var%20popup_567678328ab14542be71fd95cbb4b58e%20%3D%20L.popup%28%7BmaxWidth%3A%20%27300%27%7D%29%3B%0A%0A%20%20%20%20%20%20%20%20%20%20%20%20%0A%20%20%20%20%20%20%20%20%20%20%20%20%20%20%20%20var%20html_59f4f38805184369bf18e0d6c9675edb%20%3D%20%24%28%27%3Cdiv%20id%3D%22html_59f4f38805184369bf18e0d6c9675edb%22%20style%3D%22width%3A%20100.0%25%3B%20height%3A%20100.0%25%3B%22%3ETrafalgar%20Cluster%201%3C/div%3E%27%29%5B0%5D%3B%0A%20%20%20%20%20%20%20%20%20%20%20%20%20%20%20%20popup_567678328ab14542be71fd95cbb4b58e.setContent%28html_59f4f38805184369bf18e0d6c9675edb%29%3B%0A%20%20%20%20%20%20%20%20%20%20%20%20%0A%0A%20%20%20%20%20%20%20%20%20%20%20%20circle_marker_0956354a172245c9a9b78d9558497f7d.bindPopup%28popup_567678328ab14542be71fd95cbb4b58e%29%3B%0A%0A%20%20%20%20%20%20%20%20%20%20%20%20%0A%20%20%20%20%20%20%20%20%0A%20%20%20%20%0A%20%20%20%20%20%20%20%20%20%20%20%20var%20circle_marker_04a6bf815dce40b198436ad7a605097e%20%3D%20L.circleMarker%28%0A%20%20%20%20%20%20%20%20%20%20%20%20%20%20%20%20%5B40.431667%2C-3.694167%5D%2C%0A%20%20%20%20%20%20%20%20%20%20%20%20%20%20%20%20%7B%0A%20%20%22bubblingMouseEvents%22%3A%20true%2C%0A%20%20%22color%22%3A%20%22%23ff0000%22%2C%0A%20%20%22dashArray%22%3A%20null%2C%0A%20%20%22dashOffset%22%3A%20null%2C%0A%20%20%22fill%22%3A%20true%2C%0A%20%20%22fillColor%22%3A%20%22%23ff0000%22%2C%0A%20%20%22fillOpacity%22%3A%200.7%2C%0A%20%20%22fillRule%22%3A%20%22evenodd%22%2C%0A%20%20%22lineCap%22%3A%20%22round%22%2C%0A%20%20%22lineJoin%22%3A%20%22round%22%2C%0A%20%20%22opacity%22%3A%201.0%2C%0A%20%20%22radius%22%3A%205%2C%0A%20%20%22stroke%22%3A%20true%2C%0A%20%20%22weight%22%3A%203%0A%7D%0A%20%20%20%20%20%20%20%20%20%20%20%20%20%20%20%20%29.addTo%28map_eff47c844de245779793ccb2f8172862%29%3B%0A%20%20%20%20%20%20%20%20%20%20%20%20%0A%20%20%20%20%0A%20%20%20%20%20%20%20%20%20%20%20%20var%20popup_624641d837e741cfbeb91620796ae2a3%20%3D%20L.popup%28%7BmaxWidth%3A%20%27300%27%7D%29%3B%0A%0A%20%20%20%20%20%20%20%20%20%20%20%20%0A%20%20%20%20%20%20%20%20%20%20%20%20%20%20%20%20var%20html_497e21086f6b47178f6ccfebda116236%20%3D%20%24%28%27%3Cdiv%20id%3D%22html_497e21086f6b47178f6ccfebda116236%22%20style%3D%22width%3A%20100.0%25%3B%20height%3A%20100.0%25%3B%22%3EAlmagro%20Cluster%200%3C/div%3E%27%29%5B0%5D%3B%0A%20%20%20%20%20%20%20%20%20%20%20%20%20%20%20%20popup_624641d837e741cfbeb91620796ae2a3.setContent%28html_497e21086f6b47178f6ccfebda116236%29%3B%0A%20%20%20%20%20%20%20%20%20%20%20%20%0A%0A%20%20%20%20%20%20%20%20%20%20%20%20circle_marker_04a6bf815dce40b198436ad7a605097e.bindPopup%28popup_624641d837e741cfbeb91620796ae2a3%29%3B%0A%0A%20%20%20%20%20%20%20%20%20%20%20%20%0A%20%20%20%20%20%20%20%20%0A%20%20%20%20%0A%20%20%20%20%20%20%20%20%20%20%20%20var%20circle_marker_4cbbe89b43be4e879bc4200e23facf84%20%3D%20L.circleMarker%28%0A%20%20%20%20%20%20%20%20%20%20%20%20%20%20%20%20%5B40.442222%2C-3.697222%5D%2C%0A%20%20%20%20%20%20%20%20%20%20%20%20%20%20%20%20%7B%0A%20%20%22bubblingMouseEvents%22%3A%20true%2C%0A%20%20%22color%22%3A%20%22%23ff0000%22%2C%0A%20%20%22dashArray%22%3A%20null%2C%0A%20%20%22dashOffset%22%3A%20null%2C%0A%20%20%22fill%22%3A%20true%2C%0A%20%20%22fillColor%22%3A%20%22%23ff0000%22%2C%0A%20%20%22fillOpacity%22%3A%200.7%2C%0A%20%20%22fillRule%22%3A%20%22evenodd%22%2C%0A%20%20%22lineCap%22%3A%20%22round%22%2C%0A%20%20%22lineJoin%22%3A%20%22round%22%2C%0A%20%20%22opacity%22%3A%201.0%2C%0A%20%20%22radius%22%3A%205%2C%0A%20%20%22stroke%22%3A%20true%2C%0A%20%20%22weight%22%3A%203%0A%7D%0A%20%20%20%20%20%20%20%20%20%20%20%20%20%20%20%20%29.addTo%28map_eff47c844de245779793ccb2f8172862%29%3B%0A%20%20%20%20%20%20%20%20%20%20%20%20%0A%20%20%20%20%0A%20%20%20%20%20%20%20%20%20%20%20%20var%20popup_03c170a535ab46d7b1cae8fe26c4e3b8%20%3D%20L.popup%28%7BmaxWidth%3A%20%27300%27%7D%29%3B%0A%0A%20%20%20%20%20%20%20%20%20%20%20%20%0A%20%20%20%20%20%20%20%20%20%20%20%20%20%20%20%20var%20html_215f65595f2a4dd7baaf76c88dda969b%20%3D%20%24%28%27%3Cdiv%20id%3D%22html_215f65595f2a4dd7baaf76c88dda969b%22%20style%3D%22width%3A%20100.0%25%3B%20height%3A%20100.0%25%3B%22%3ERios%20Rosas%20Cluster%200%3C/div%3E%27%29%5B0%5D%3B%0A%20%20%20%20%20%20%20%20%20%20%20%20%20%20%20%20popup_03c170a535ab46d7b1cae8fe26c4e3b8.setContent%28html_215f65595f2a4dd7baaf76c88dda969b%29%3B%0A%20%20%20%20%20%20%20%20%20%20%20%20%0A%0A%20%20%20%20%20%20%20%20%20%20%20%20circle_marker_4cbbe89b43be4e879bc4200e23facf84.bindPopup%28popup_03c170a535ab46d7b1cae8fe26c4e3b8%29%3B%0A%0A%20%20%20%20%20%20%20%20%20%20%20%20%0A%20%20%20%20%20%20%20%20%0A%20%20%20%20%0A%20%20%20%20%20%20%20%20%20%20%20%20var%20circle_marker_a606069c1cfb47d2a5edd39c148e2711%20%3D%20L.circleMarker%28%0A%20%20%20%20%20%20%20%20%20%20%20%20%20%20%20%20%5B40.442778%2C-3.711667%5D%2C%0A%20%20%20%20%20%20%20%20%20%20%20%20%20%20%20%20%7B%0A%20%20%22bubblingMouseEvents%22%3A%20true%2C%0A%20%20%22color%22%3A%20%22%23ff0000%22%2C%0A%20%20%22dashArray%22%3A%20null%2C%0A%20%20%22dashOffset%22%3A%20null%2C%0A%20%20%22fill%22%3A%20true%2C%0A%20%20%22fillColor%22%3A%20%22%23ff0000%22%2C%0A%20%20%22fillOpacity%22%3A%200.7%2C%0A%20%20%22fillRule%22%3A%20%22evenodd%22%2C%0A%20%20%22lineCap%22%3A%20%22round%22%2C%0A%20%20%22lineJoin%22%3A%20%22round%22%2C%0A%20%20%22opacity%22%3A%201.0%2C%0A%20%20%22radius%22%3A%205%2C%0A%20%20%22stroke%22%3A%20true%2C%0A%20%20%22weight%22%3A%203%0A%7D%0A%20%20%20%20%20%20%20%20%20%20%20%20%20%20%20%20%29.addTo%28map_eff47c844de245779793ccb2f8172862%29%3B%0A%20%20%20%20%20%20%20%20%20%20%20%20%0A%20%20%20%20%0A%20%20%20%20%20%20%20%20%20%20%20%20var%20popup_5a26e795a1d54d1f8a2471b025030d56%20%3D%20L.popup%28%7BmaxWidth%3A%20%27300%27%7D%29%3B%0A%0A%20%20%20%20%20%20%20%20%20%20%20%20%0A%20%20%20%20%20%20%20%20%20%20%20%20%20%20%20%20var%20html_a66264fe917a4af2ac546887fae3e9ad%20%3D%20%24%28%27%3Cdiv%20id%3D%22html_a66264fe917a4af2ac546887fae3e9ad%22%20style%3D%22width%3A%20100.0%25%3B%20height%3A%20100.0%25%3B%22%3EVallehermoso%20Cluster%200%3C/div%3E%27%29%5B0%5D%3B%0A%20%20%20%20%20%20%20%20%20%20%20%20%20%20%20%20popup_5a26e795a1d54d1f8a2471b025030d56.setContent%28html_a66264fe917a4af2ac546887fae3e9ad%29%3B%0A%20%20%20%20%20%20%20%20%20%20%20%20%0A%0A%20%20%20%20%20%20%20%20%20%20%20%20circle_marker_a606069c1cfb47d2a5edd39c148e2711.bindPopup%28popup_5a26e795a1d54d1f8a2471b025030d56%29%3B%0A%0A%20%20%20%20%20%20%20%20%20%20%20%20%0A%20%20%20%20%20%20%20%20%0A%20%20%20%20%0A%20%20%20%20%20%20%20%20%20%20%20%20var%20circle_marker_0be479fc600f4a2e9ce1dd7b5d47462d%20%3D%20L.circleMarker%28%0A%20%20%20%20%20%20%20%20%20%20%20%20%20%20%20%20%5B40.516667%2C-3.766667%5D%2C%0A%20%20%20%20%20%20%20%20%20%20%20%20%20%20%20%20%7B%0A%20%20%22bubblingMouseEvents%22%3A%20true%2C%0A%20%20%22color%22%3A%20%22%238000ff%22%2C%0A%20%20%22dashArray%22%3A%20null%2C%0A%20%20%22dashOffset%22%3A%20null%2C%0A%20%20%22fill%22%3A%20true%2C%0A%20%20%22fillColor%22%3A%20%22%238000ff%22%2C%0A%20%20%22fillOpacity%22%3A%200.7%2C%0A%20%20%22fillRule%22%3A%20%22evenodd%22%2C%0A%20%20%22lineCap%22%3A%20%22round%22%2C%0A%20%20%22lineJoin%22%3A%20%22round%22%2C%0A%20%20%22opacity%22%3A%201.0%2C%0A%20%20%22radius%22%3A%205%2C%0A%20%20%22stroke%22%3A%20true%2C%0A%20%20%22weight%22%3A%203%0A%7D%0A%20%20%20%20%20%20%20%20%20%20%20%20%20%20%20%20%29.addTo%28map_eff47c844de245779793ccb2f8172862%29%3B%0A%20%20%20%20%20%20%20%20%20%20%20%20%0A%20%20%20%20%0A%20%20%20%20%20%20%20%20%20%20%20%20var%20popup_8dc43c17bc7143e7917e064d9d06e1d8%20%3D%20L.popup%28%7BmaxWidth%3A%20%27300%27%7D%29%3B%0A%0A%20%20%20%20%20%20%20%20%20%20%20%20%0A%20%20%20%20%20%20%20%20%20%20%20%20%20%20%20%20var%20html_3ac6393580bf4de786139b7a473c18c4%20%3D%20%24%28%27%3Cdiv%20id%3D%22html_3ac6393580bf4de786139b7a473c18c4%22%20style%3D%22width%3A%20100.0%25%3B%20height%3A%20100.0%25%3B%22%3EEl%20Pardo%20Cluster%201%3C/div%3E%27%29%5B0%5D%3B%0A%20%20%20%20%20%20%20%20%20%20%20%20%20%20%20%20popup_8dc43c17bc7143e7917e064d9d06e1d8.setContent%28html_3ac6393580bf4de786139b7a473c18c4%29%3B%0A%20%20%20%20%20%20%20%20%20%20%20%20%0A%0A%20%20%20%20%20%20%20%20%20%20%20%20circle_marker_0be479fc600f4a2e9ce1dd7b5d47462d.bindPopup%28popup_8dc43c17bc7143e7917e064d9d06e1d8%29%3B%0A%0A%20%20%20%20%20%20%20%20%20%20%20%20%0A%20%20%20%20%20%20%20%20%0A%20%20%20%20%0A%20%20%20%20%20%20%20%20%20%20%20%20var%20circle_marker_91c5f58240d443868fabd51ee15d1627%20%3D%20L.circleMarker%28%0A%20%20%20%20%20%20%20%20%20%20%20%20%20%20%20%20%5B40.481944%2C-3.7425%5D%2C%0A%20%20%20%20%20%20%20%20%20%20%20%20%20%20%20%20%7B%0A%20%20%22bubblingMouseEvents%22%3A%20true%2C%0A%20%20%22color%22%3A%20%22%23ff0000%22%2C%0A%20%20%22dashArray%22%3A%20null%2C%0A%20%20%22dashOffset%22%3A%20null%2C%0A%20%20%22fill%22%3A%20true%2C%0A%20%20%22fillColor%22%3A%20%22%23ff0000%22%2C%0A%20%20%22fillOpacity%22%3A%200.7%2C%0A%20%20%22fillRule%22%3A%20%22evenodd%22%2C%0A%20%20%22lineCap%22%3A%20%22round%22%2C%0A%20%20%22lineJoin%22%3A%20%22round%22%2C%0A%20%20%22opacity%22%3A%201.0%2C%0A%20%20%22radius%22%3A%205%2C%0A%20%20%22stroke%22%3A%20true%2C%0A%20%20%22weight%22%3A%203%0A%7D%0A%20%20%20%20%20%20%20%20%20%20%20%20%20%20%20%20%29.addTo%28map_eff47c844de245779793ccb2f8172862%29%3B%0A%20%20%20%20%20%20%20%20%20%20%20%20%0A%20%20%20%20%0A%20%20%20%20%20%20%20%20%20%20%20%20var%20popup_47426471c2334c81a0fbf1d94ee5e75d%20%3D%20L.popup%28%7BmaxWidth%3A%20%27300%27%7D%29%3B%0A%0A%20%20%20%20%20%20%20%20%20%20%20%20%0A%20%20%20%20%20%20%20%20%20%20%20%20%20%20%20%20var%20html_7c7d9a542a224636bae4a306286b05ac%20%3D%20%24%28%27%3Cdiv%20id%3D%22html_7c7d9a542a224636bae4a306286b05ac%22%20style%3D%22width%3A%20100.0%25%3B%20height%3A%20100.0%25%3B%22%3EFuentelarreina%20Cluster%200%3C/div%3E%27%29%5B0%5D%3B%0A%20%20%20%20%20%20%20%20%20%20%20%20%20%20%20%20popup_47426471c2334c81a0fbf1d94ee5e75d.setContent%28html_7c7d9a542a224636bae4a306286b05ac%29%3B%0A%20%20%20%20%20%20%20%20%20%20%20%20%0A%0A%20%20%20%20%20%20%20%20%20%20%20%20circle_marker_91c5f58240d443868fabd51ee15d1627.bindPopup%28popup_47426471c2334c81a0fbf1d94ee5e75d%29%3B%0A%0A%20%20%20%20%20%20%20%20%20%20%20%20%0A%20%20%20%20%20%20%20%20%0A%20%20%20%20%0A%20%20%20%20%20%20%20%20%20%20%20%20var%20circle_marker_4ff757efe6ac4b3c8371e787c59799c4%20%3D%20L.circleMarker%28%0A%20%20%20%20%20%20%20%20%20%20%20%20%20%20%20%20%5B40.478056%2C-3.725556%5D%2C%0A%20%20%20%20%20%20%20%20%20%20%20%20%20%20%20%20%7B%0A%20%20%22bubblingMouseEvents%22%3A%20true%2C%0A%20%20%22color%22%3A%20%22%23ff0000%22%2C%0A%20%20%22dashArray%22%3A%20null%2C%0A%20%20%22dashOffset%22%3A%20null%2C%0A%20%20%22fill%22%3A%20true%2C%0A%20%20%22fillColor%22%3A%20%22%23ff0000%22%2C%0A%20%20%22fillOpacity%22%3A%200.7%2C%0A%20%20%22fillRule%22%3A%20%22evenodd%22%2C%0A%20%20%22lineCap%22%3A%20%22round%22%2C%0A%20%20%22lineJoin%22%3A%20%22round%22%2C%0A%20%20%22opacity%22%3A%201.0%2C%0A%20%20%22radius%22%3A%205%2C%0A%20%20%22stroke%22%3A%20true%2C%0A%20%20%22weight%22%3A%203%0A%7D%0A%20%20%20%20%20%20%20%20%20%20%20%20%20%20%20%20%29.addTo%28map_eff47c844de245779793ccb2f8172862%29%3B%0A%20%20%20%20%20%20%20%20%20%20%20%20%0A%20%20%20%20%0A%20%20%20%20%20%20%20%20%20%20%20%20var%20popup_b13ae64a41af4137a413ef1ba38b2fde%20%3D%20L.popup%28%7BmaxWidth%3A%20%27300%27%7D%29%3B%0A%0A%20%20%20%20%20%20%20%20%20%20%20%20%0A%20%20%20%20%20%20%20%20%20%20%20%20%20%20%20%20var%20html_a5b0bedf4a0c4516bc05ac128f1086a6%20%3D%20%24%28%27%3Cdiv%20id%3D%22html_a5b0bedf4a0c4516bc05ac128f1086a6%22%20style%3D%22width%3A%20100.0%25%3B%20height%3A%20100.0%25%3B%22%3EPenagrande%20Cluster%200%3C/div%3E%27%29%5B0%5D%3B%0A%20%20%20%20%20%20%20%20%20%20%20%20%20%20%20%20popup_b13ae64a41af4137a413ef1ba38b2fde.setContent%28html_a5b0bedf4a0c4516bc05ac128f1086a6%29%3B%0A%20%20%20%20%20%20%20%20%20%20%20%20%0A%0A%20%20%20%20%20%20%20%20%20%20%20%20circle_marker_4ff757efe6ac4b3c8371e787c59799c4.bindPopup%28popup_b13ae64a41af4137a413ef1ba38b2fde%29%3B%0A%0A%20%20%20%20%20%20%20%20%20%20%20%20%0A%20%20%20%20%20%20%20%20%0A%20%20%20%20%0A%20%20%20%20%20%20%20%20%20%20%20%20var%20circle_marker_7caf42deb3404c5b88c64a29f648a5e6%20%3D%20L.circleMarker%28%0A%20%20%20%20%20%20%20%20%20%20%20%20%20%20%20%20%5B40.476944%2C-3.7125%5D%2C%0A%20%20%20%20%20%20%20%20%20%20%20%20%20%20%20%20%7B%0A%20%20%22bubblingMouseEvents%22%3A%20true%2C%0A%20%20%22color%22%3A%20%22%23ff0000%22%2C%0A%20%20%22dashArray%22%3A%20null%2C%0A%20%20%22dashOffset%22%3A%20null%2C%0A%20%20%22fill%22%3A%20true%2C%0A%20%20%22fillColor%22%3A%20%22%23ff0000%22%2C%0A%20%20%22fillOpacity%22%3A%200.7%2C%0A%20%20%22fillRule%22%3A%20%22evenodd%22%2C%0A%20%20%22lineCap%22%3A%20%22round%22%2C%0A%20%20%22lineJoin%22%3A%20%22round%22%2C%0A%20%20%22opacity%22%3A%201.0%2C%0A%20%20%22radius%22%3A%205%2C%0A%20%20%22stroke%22%3A%20true%2C%0A%20%20%22weight%22%3A%203%0A%7D%0A%20%20%20%20%20%20%20%20%20%20%20%20%20%20%20%20%29.addTo%28map_eff47c844de245779793ccb2f8172862%29%3B%0A%20%20%20%20%20%20%20%20%20%20%20%20%0A%20%20%20%20%0A%20%20%20%20%20%20%20%20%20%20%20%20var%20popup_59dc92502890433d957cd4807d5e8491%20%3D%20L.popup%28%7BmaxWidth%3A%20%27300%27%7D%29%3B%0A%0A%20%20%20%20%20%20%20%20%20%20%20%20%0A%20%20%20%20%20%20%20%20%20%20%20%20%20%20%20%20var%20html_dd2cda864690481ba44b360126ad8fe2%20%3D%20%24%28%27%3Cdiv%20id%3D%22html_dd2cda864690481ba44b360126ad8fe2%22%20style%3D%22width%3A%20100.0%25%3B%20height%3A%20100.0%25%3B%22%3EPilar%20Cluster%200%3C/div%3E%27%29%5B0%5D%3B%0A%20%20%20%20%20%20%20%20%20%20%20%20%20%20%20%20popup_59dc92502890433d957cd4807d5e8491.setContent%28html_dd2cda864690481ba44b360126ad8fe2%29%3B%0A%20%20%20%20%20%20%20%20%20%20%20%20%0A%0A%20%20%20%20%20%20%20%20%20%20%20%20circle_marker_7caf42deb3404c5b88c64a29f648a5e6.bindPopup%28popup_59dc92502890433d957cd4807d5e8491%29%3B%0A%0A%20%20%20%20%20%20%20%20%20%20%20%20%0A%20%20%20%20%20%20%20%20%0A%20%20%20%20%0A%20%20%20%20%20%20%20%20%20%20%20%20var%20circle_marker_0059e5a4d5b24106b6356d23a91e7f96%20%3D%20L.circleMarker%28%0A%20%20%20%20%20%20%20%20%20%20%20%20%20%20%20%20%5B40.481389%2C-3.696944%5D%2C%0A%20%20%20%20%20%20%20%20%20%20%20%20%20%20%20%20%7B%0A%20%20%22bubblingMouseEvents%22%3A%20true%2C%0A%20%20%22color%22%3A%20%22%238000ff%22%2C%0A%20%20%22dashArray%22%3A%20null%2C%0A%20%20%22dashOffset%22%3A%20null%2C%0A%20%20%22fill%22%3A%20true%2C%0A%20%20%22fillColor%22%3A%20%22%238000ff%22%2C%0A%20%20%22fillOpacity%22%3A%200.7%2C%0A%20%20%22fillRule%22%3A%20%22evenodd%22%2C%0A%20%20%22lineCap%22%3A%20%22round%22%2C%0A%20%20%22lineJoin%22%3A%20%22round%22%2C%0A%20%20%22opacity%22%3A%201.0%2C%0A%20%20%22radius%22%3A%205%2C%0A%20%20%22stroke%22%3A%20true%2C%0A%20%20%22weight%22%3A%203%0A%7D%0A%20%20%20%20%20%20%20%20%20%20%20%20%20%20%20%20%29.addTo%28map_eff47c844de245779793ccb2f8172862%29%3B%0A%20%20%20%20%20%20%20%20%20%20%20%20%0A%20%20%20%20%0A%20%20%20%20%20%20%20%20%20%20%20%20var%20popup_67c1e156669641da961b31277993e52a%20%3D%20L.popup%28%7BmaxWidth%3A%20%27300%27%7D%29%3B%0A%0A%20%20%20%20%20%20%20%20%20%20%20%20%0A%20%20%20%20%20%20%20%20%20%20%20%20%20%20%20%20var%20html_ff5b531c4a7e4009922b7d21fe2a5774%20%3D%20%24%28%27%3Cdiv%20id%3D%22html_ff5b531c4a7e4009922b7d21fe2a5774%22%20style%3D%22width%3A%20100.0%25%3B%20height%3A%20100.0%25%3B%22%3ELa%20Paz%20Cluster%201%3C/div%3E%27%29%5B0%5D%3B%0A%20%20%20%20%20%20%20%20%20%20%20%20%20%20%20%20popup_67c1e156669641da961b31277993e52a.setContent%28html_ff5b531c4a7e4009922b7d21fe2a5774%29%3B%0A%20%20%20%20%20%20%20%20%20%20%20%20%0A%0A%20%20%20%20%20%20%20%20%20%20%20%20circle_marker_0059e5a4d5b24106b6356d23a91e7f96.bindPopup%28popup_67c1e156669641da961b31277993e52a%29%3B%0A%0A%20%20%20%20%20%20%20%20%20%20%20%20%0A%20%20%20%20%20%20%20%20%0A%20%20%20%20%0A%20%20%20%20%20%20%20%20%20%20%20%20var%20circle_marker_cb495854a1ae4d4d9f0abe3fea1e3d73%20%3D%20L.circleMarker%28%0A%20%20%20%20%20%20%20%20%20%20%20%20%20%20%20%20%5B40.505833%2C-3.685833%5D%2C%0A%20%20%20%20%20%20%20%20%20%20%20%20%20%20%20%20%7B%0A%20%20%22bubblingMouseEvents%22%3A%20true%2C%0A%20%20%22color%22%3A%20%22%238000ff%22%2C%0A%20%20%22dashArray%22%3A%20null%2C%0A%20%20%22dashOffset%22%3A%20null%2C%0A%20%20%22fill%22%3A%20true%2C%0A%20%20%22fillColor%22%3A%20%22%238000ff%22%2C%0A%20%20%22fillOpacity%22%3A%200.7%2C%0A%20%20%22fillRule%22%3A%20%22evenodd%22%2C%0A%20%20%22lineCap%22%3A%20%22round%22%2C%0A%20%20%22lineJoin%22%3A%20%22round%22%2C%0A%20%20%22opacity%22%3A%201.0%2C%0A%20%20%22radius%22%3A%205%2C%0A%20%20%22stroke%22%3A%20true%2C%0A%20%20%22weight%22%3A%203%0A%7D%0A%20%20%20%20%20%20%20%20%20%20%20%20%20%20%20%20%29.addTo%28map_eff47c844de245779793ccb2f8172862%29%3B%0A%20%20%20%20%20%20%20%20%20%20%20%20%0A%20%20%20%20%0A%20%20%20%20%20%20%20%20%20%20%20%20var%20popup_a60a9dc646614358afd7bf0a6d533dfc%20%3D%20L.popup%28%7BmaxWidth%3A%20%27300%27%7D%29%3B%0A%0A%20%20%20%20%20%20%20%20%20%20%20%20%0A%20%20%20%20%20%20%20%20%20%20%20%20%20%20%20%20var%20html_6ca1f8e8d33747d898a9ed6e802fa252%20%3D%20%24%28%27%3Cdiv%20id%3D%22html_6ca1f8e8d33747d898a9ed6e802fa252%22%20style%3D%22width%3A%20100.0%25%3B%20height%3A%20100.0%25%3B%22%3EValverde%20Cluster%201%3C/div%3E%27%29%5B0%5D%3B%0A%20%20%20%20%20%20%20%20%20%20%20%20%20%20%20%20popup_a60a9dc646614358afd7bf0a6d533dfc.setContent%28html_6ca1f8e8d33747d898a9ed6e802fa252%29%3B%0A%20%20%20%20%20%20%20%20%20%20%20%20%0A%0A%20%20%20%20%20%20%20%20%20%20%20%20circle_marker_cb495854a1ae4d4d9f0abe3fea1e3d73.bindPopup%28popup_a60a9dc646614358afd7bf0a6d533dfc%29%3B%0A%0A%20%20%20%20%20%20%20%20%20%20%20%20%0A%20%20%20%20%20%20%20%20%0A%20%20%20%20%0A%20%20%20%20%20%20%20%20%20%20%20%20var%20circle_marker_bdc8133513164cefa6a5aab4a2c2c546%20%3D%20L.circleMarker%28%0A%20%20%20%20%20%20%20%20%20%20%20%20%20%20%20%20%5B40.491667%2C-3.708056%5D%2C%0A%20%20%20%20%20%20%20%20%20%20%20%20%20%20%20%20%7B%0A%20%20%22bubblingMouseEvents%22%3A%20true%2C%0A%20%20%22color%22%3A%20%22%23ff0000%22%2C%0A%20%20%22dashArray%22%3A%20null%2C%0A%20%20%22dashOffset%22%3A%20null%2C%0A%20%20%22fill%22%3A%20true%2C%0A%20%20%22fillColor%22%3A%20%22%23ff0000%22%2C%0A%20%20%22fillOpacity%22%3A%200.7%2C%0A%20%20%22fillRule%22%3A%20%22evenodd%22%2C%0A%20%20%22lineCap%22%3A%20%22round%22%2C%0A%20%20%22lineJoin%22%3A%20%22round%22%2C%0A%20%20%22opacity%22%3A%201.0%2C%0A%20%20%22radius%22%3A%205%2C%0A%20%20%22stroke%22%3A%20true%2C%0A%20%20%22weight%22%3A%203%0A%7D%0A%20%20%20%20%20%20%20%20%20%20%20%20%20%20%20%20%29.addTo%28map_eff47c844de245779793ccb2f8172862%29%3B%0A%20%20%20%20%20%20%20%20%20%20%20%20%0A%20%20%20%20%0A%20%20%20%20%20%20%20%20%20%20%20%20var%20popup_9cf420fb69d7493d90a8d2593c217926%20%3D%20L.popup%28%7BmaxWidth%3A%20%27300%27%7D%29%3B%0A%0A%20%20%20%20%20%20%20%20%20%20%20%20%0A%20%20%20%20%20%20%20%20%20%20%20%20%20%20%20%20var%20html_32c871d51dbf4d1585464ebec0a57eb6%20%3D%20%24%28%27%3Cdiv%20id%3D%22html_32c871d51dbf4d1585464ebec0a57eb6%22%20style%3D%22width%3A%20100.0%25%3B%20height%3A%20100.0%25%3B%22%3EMirasierra%20Cluster%200%3C/div%3E%27%29%5B0%5D%3B%0A%20%20%20%20%20%20%20%20%20%20%20%20%20%20%20%20popup_9cf420fb69d7493d90a8d2593c217926.setContent%28html_32c871d51dbf4d1585464ebec0a57eb6%29%3B%0A%20%20%20%20%20%20%20%20%20%20%20%20%0A%0A%20%20%20%20%20%20%20%20%20%20%20%20circle_marker_bdc8133513164cefa6a5aab4a2c2c546.bindPopup%28popup_9cf420fb69d7493d90a8d2593c217926%29%3B%0A%0A%20%20%20%20%20%20%20%20%20%20%20%20%0A%20%20%20%20%20%20%20%20%0A%20%20%20%20%0A%20%20%20%20%20%20%20%20%20%20%20%20var%20circle_marker_40685d968f1e4e879ffa370f18e0f8eb%20%3D%20L.circleMarker%28%0A%20%20%20%20%20%20%20%20%20%20%20%20%20%20%20%20%5B40.556111%2C-3.703333%5D%2C%0A%20%20%20%20%20%20%20%20%20%20%20%20%20%20%20%20%7B%0A%20%20%22bubblingMouseEvents%22%3A%20true%2C%0A%20%20%22color%22%3A%20%22%23ff0000%22%2C%0A%20%20%22dashArray%22%3A%20null%2C%0A%20%20%22dashOffset%22%3A%20null%2C%0A%20%20%22fill%22%3A%20true%2C%0A%20%20%22fillColor%22%3A%20%22%23ff0000%22%2C%0A%20%20%22fillOpacity%22%3A%200.7%2C%0A%20%20%22fillRule%22%3A%20%22evenodd%22%2C%0A%20%20%22lineCap%22%3A%20%22round%22%2C%0A%20%20%22lineJoin%22%3A%20%22round%22%2C%0A%20%20%22opacity%22%3A%201.0%2C%0A%20%20%22radius%22%3A%205%2C%0A%20%20%22stroke%22%3A%20true%2C%0A%20%20%22weight%22%3A%203%0A%7D%0A%20%20%20%20%20%20%20%20%20%20%20%20%20%20%20%20%29.addTo%28map_eff47c844de245779793ccb2f8172862%29%3B%0A%20%20%20%20%20%20%20%20%20%20%20%20%0A%20%20%20%20%0A%20%20%20%20%20%20%20%20%20%20%20%20var%20popup_607bc04c40894faca3d3b8a88835622e%20%3D%20L.popup%28%7BmaxWidth%3A%20%27300%27%7D%29%3B%0A%0A%20%20%20%20%20%20%20%20%20%20%20%20%0A%20%20%20%20%20%20%20%20%20%20%20%20%20%20%20%20var%20html_b25d4a8b668c41d49a98b565d506714d%20%3D%20%24%28%27%3Cdiv%20id%3D%22html_b25d4a8b668c41d49a98b565d506714d%22%20style%3D%22width%3A%20100.0%25%3B%20height%3A%20100.0%25%3B%22%3EEl%20Goloso%20Cluster%200%3C/div%3E%27%29%5B0%5D%3B%0A%20%20%20%20%20%20%20%20%20%20%20%20%20%20%20%20popup_607bc04c40894faca3d3b8a88835622e.setContent%28html_b25d4a8b668c41d49a98b565d506714d%29%3B%0A%20%20%20%20%20%20%20%20%20%20%20%20%0A%0A%20%20%20%20%20%20%20%20%20%20%20%20circle_marker_40685d968f1e4e879ffa370f18e0f8eb.bindPopup%28popup_607bc04c40894faca3d3b8a88835622e%29%3B%0A%0A%20%20%20%20%20%20%20%20%20%20%20%20%0A%20%20%20%20%20%20%20%20%0A%20%20%20%20%0A%20%20%20%20%20%20%20%20%20%20%20%20var%20circle_marker_76a4bb6ec516458f98e80e5405201285%20%3D%20L.circleMarker%28%0A%20%20%20%20%20%20%20%20%20%20%20%20%20%20%20%20%5B40.481944%2C-3.7425%5D%2C%0A%20%20%20%20%20%20%20%20%20%20%20%20%20%20%20%20%7B%0A%20%20%22bubblingMouseEvents%22%3A%20true%2C%0A%20%20%22color%22%3A%20%22%23ff0000%22%2C%0A%20%20%22dashArray%22%3A%20null%2C%0A%20%20%22dashOffset%22%3A%20null%2C%0A%20%20%22fill%22%3A%20true%2C%0A%20%20%22fillColor%22%3A%20%22%23ff0000%22%2C%0A%20%20%22fillOpacity%22%3A%200.7%2C%0A%20%20%22fillRule%22%3A%20%22evenodd%22%2C%0A%20%20%22lineCap%22%3A%20%22round%22%2C%0A%20%20%22lineJoin%22%3A%20%22round%22%2C%0A%20%20%22opacity%22%3A%201.0%2C%0A%20%20%22radius%22%3A%205%2C%0A%20%20%22stroke%22%3A%20true%2C%0A%20%20%22weight%22%3A%203%0A%7D%0A%20%20%20%20%20%20%20%20%20%20%20%20%20%20%20%20%29.addTo%28map_eff47c844de245779793ccb2f8172862%29%3B%0A%20%20%20%20%20%20%20%20%20%20%20%20%0A%20%20%20%20%0A%20%20%20%20%20%20%20%20%20%20%20%20var%20popup_bc85aae5c0bd4d76b9df4540ca4a0db6%20%3D%20L.popup%28%7BmaxWidth%3A%20%27300%27%7D%29%3B%0A%0A%20%20%20%20%20%20%20%20%20%20%20%20%0A%20%20%20%20%20%20%20%20%20%20%20%20%20%20%20%20var%20html_ecd1846925904a7283a7d14058bfaf37%20%3D%20%24%28%27%3Cdiv%20id%3D%22html_ecd1846925904a7283a7d14058bfaf37%22%20style%3D%22width%3A%20100.0%25%3B%20height%3A%20100.0%25%3B%22%3ECasa%20de%20Campo%20Cluster%200%3C/div%3E%27%29%5B0%5D%3B%0A%20%20%20%20%20%20%20%20%20%20%20%20%20%20%20%20popup_bc85aae5c0bd4d76b9df4540ca4a0db6.setContent%28html_ecd1846925904a7283a7d14058bfaf37%29%3B%0A%20%20%20%20%20%20%20%20%20%20%20%20%0A%0A%20%20%20%20%20%20%20%20%20%20%20%20circle_marker_76a4bb6ec516458f98e80e5405201285.bindPopup%28popup_bc85aae5c0bd4d76b9df4540ca4a0db6%29%3B%0A%0A%20%20%20%20%20%20%20%20%20%20%20%20%0A%20%20%20%20%20%20%20%20%0A%20%20%20%20%0A%20%20%20%20%20%20%20%20%20%20%20%20var%20circle_marker_84947c30937b4b71a188362ac5ea19c6%20%3D%20L.circleMarker%28%0A%20%20%20%20%20%20%20%20%20%20%20%20%20%20%20%20%5B40.427778%2C-3.717778%5D%2C%0A%20%20%20%20%20%20%20%20%20%20%20%20%20%20%20%20%7B%0A%20%20%22bubblingMouseEvents%22%3A%20true%2C%0A%20%20%22color%22%3A%20%22%238000ff%22%2C%0A%20%20%22dashArray%22%3A%20null%2C%0A%20%20%22dashOffset%22%3A%20null%2C%0A%20%20%22fill%22%3A%20true%2C%0A%20%20%22fillColor%22%3A%20%22%238000ff%22%2C%0A%20%20%22fillOpacity%22%3A%200.7%2C%0A%20%20%22fillRule%22%3A%20%22evenodd%22%2C%0A%20%20%22lineCap%22%3A%20%22round%22%2C%0A%20%20%22lineJoin%22%3A%20%22round%22%2C%0A%20%20%22opacity%22%3A%201.0%2C%0A%20%20%22radius%22%3A%205%2C%0A%20%20%22stroke%22%3A%20true%2C%0A%20%20%22weight%22%3A%203%0A%7D%0A%20%20%20%20%20%20%20%20%20%20%20%20%20%20%20%20%29.addTo%28map_eff47c844de245779793ccb2f8172862%29%3B%0A%20%20%20%20%20%20%20%20%20%20%20%20%0A%20%20%20%20%0A%20%20%20%20%20%20%20%20%20%20%20%20var%20popup_dca6df279a254442a3fd0d20febe737a%20%3D%20L.popup%28%7BmaxWidth%3A%20%27300%27%7D%29%3B%0A%0A%20%20%20%20%20%20%20%20%20%20%20%20%0A%20%20%20%20%20%20%20%20%20%20%20%20%20%20%20%20var%20html_656fd7b0121b41a79b3bf7274b721a25%20%3D%20%24%28%27%3Cdiv%20id%3D%22html_656fd7b0121b41a79b3bf7274b721a25%22%20style%3D%22width%3A%20100.0%25%3B%20height%3A%20100.0%25%3B%22%3EArguelles%20Cluster%201%3C/div%3E%27%29%5B0%5D%3B%0A%20%20%20%20%20%20%20%20%20%20%20%20%20%20%20%20popup_dca6df279a254442a3fd0d20febe737a.setContent%28html_656fd7b0121b41a79b3bf7274b721a25%29%3B%0A%20%20%20%20%20%20%20%20%20%20%20%20%0A%0A%20%20%20%20%20%20%20%20%20%20%20%20circle_marker_84947c30937b4b71a188362ac5ea19c6.bindPopup%28popup_dca6df279a254442a3fd0d20febe737a%29%3B%0A%0A%20%20%20%20%20%20%20%20%20%20%20%20%0A%20%20%20%20%20%20%20%20%0A%20%20%20%20%0A%20%20%20%20%20%20%20%20%20%20%20%20var%20circle_marker_de080cb59ce34e038411014cb6676ac1%20%3D%20L.circleMarker%28%0A%20%20%20%20%20%20%20%20%20%20%20%20%20%20%20%20%5B40.443772%2C-3.726136%5D%2C%0A%20%20%20%20%20%20%20%20%20%20%20%20%20%20%20%20%7B%0A%20%20%22bubblingMouseEvents%22%3A%20true%2C%0A%20%20%22color%22%3A%20%22%23ff0000%22%2C%0A%20%20%22dashArray%22%3A%20null%2C%0A%20%20%22dashOffset%22%3A%20null%2C%0A%20%20%22fill%22%3A%20true%2C%0A%20%20%22fillColor%22%3A%20%22%23ff0000%22%2C%0A%20%20%22fillOpacity%22%3A%200.7%2C%0A%20%20%22fillRule%22%3A%20%22evenodd%22%2C%0A%20%20%22lineCap%22%3A%20%22round%22%2C%0A%20%20%22lineJoin%22%3A%20%22round%22%2C%0A%20%20%22opacity%22%3A%201.0%2C%0A%20%20%22radius%22%3A%205%2C%0A%20%20%22stroke%22%3A%20true%2C%0A%20%20%22weight%22%3A%203%0A%7D%0A%20%20%20%20%20%20%20%20%20%20%20%20%20%20%20%20%29.addTo%28map_eff47c844de245779793ccb2f8172862%29%3B%0A%20%20%20%20%20%20%20%20%20%20%20%20%0A%20%20%20%20%0A%20%20%20%20%20%20%20%20%20%20%20%20var%20popup_fd0ee8defd9d478f80bc2f0fdf3cf438%20%3D%20L.popup%28%7BmaxWidth%3A%20%27300%27%7D%29%3B%0A%0A%20%20%20%20%20%20%20%20%20%20%20%20%0A%20%20%20%20%20%20%20%20%20%20%20%20%20%20%20%20var%20html_089b5f8c1d654cbabca37b53fa0f7da9%20%3D%20%24%28%27%3Cdiv%20id%3D%22html_089b5f8c1d654cbabca37b53fa0f7da9%22%20style%3D%22width%3A%20100.0%25%3B%20height%3A%20100.0%25%3B%22%3ECiudad%20Universitaria%20Cluster%200%3C/div%3E%27%29%5B0%5D%3B%0A%20%20%20%20%20%20%20%20%20%20%20%20%20%20%20%20popup_fd0ee8defd9d478f80bc2f0fdf3cf438.setContent%28html_089b5f8c1d654cbabca37b53fa0f7da9%29%3B%0A%20%20%20%20%20%20%20%20%20%20%20%20%0A%0A%20%20%20%20%20%20%20%20%20%20%20%20circle_marker_de080cb59ce34e038411014cb6676ac1.bindPopup%28popup_fd0ee8defd9d478f80bc2f0fdf3cf438%29%3B%0A%0A%20%20%20%20%20%20%20%20%20%20%20%20%0A%20%20%20%20%20%20%20%20%0A%20%20%20%20%0A%20%20%20%20%20%20%20%20%20%20%20%20var%20circle_marker_8ba09d30f0f54c98b6996de152974a5a%20%3D%20L.circleMarker%28%0A%20%20%20%20%20%20%20%20%20%20%20%20%20%20%20%20%5B40.465%2C-3.718333%5D%2C%0A%20%20%20%20%20%20%20%20%20%20%20%20%20%20%20%20%7B%0A%20%20%22bubblingMouseEvents%22%3A%20true%2C%0A%20%20%22color%22%3A%20%22%23ff0000%22%2C%0A%20%20%22dashArray%22%3A%20null%2C%0A%20%20%22dashOffset%22%3A%20null%2C%0A%20%20%22fill%22%3A%20true%2C%0A%20%20%22fillColor%22%3A%20%22%23ff0000%22%2C%0A%20%20%22fillOpacity%22%3A%200.7%2C%0A%20%20%22fillRule%22%3A%20%22evenodd%22%2C%0A%20%20%22lineCap%22%3A%20%22round%22%2C%0A%20%20%22lineJoin%22%3A%20%22round%22%2C%0A%20%20%22opacity%22%3A%201.0%2C%0A%20%20%22radius%22%3A%205%2C%0A%20%20%22stroke%22%3A%20true%2C%0A%20%20%22weight%22%3A%203%0A%7D%0A%20%20%20%20%20%20%20%20%20%20%20%20%20%20%20%20%29.addTo%28map_eff47c844de245779793ccb2f8172862%29%3B%0A%20%20%20%20%20%20%20%20%20%20%20%20%0A%20%20%20%20%0A%20%20%20%20%20%20%20%20%20%20%20%20var%20popup_1d174fbbe4c54f4a8d41e27cef8d0bc7%20%3D%20L.popup%28%7BmaxWidth%3A%20%27300%27%7D%29%3B%0A%0A%20%20%20%20%20%20%20%20%20%20%20%20%0A%20%20%20%20%20%20%20%20%20%20%20%20%20%20%20%20var%20html_c37c683464134f0189d94b1eab78e533%20%3D%20%24%28%27%3Cdiv%20id%3D%22html_c37c683464134f0189d94b1eab78e533%22%20style%3D%22width%3A%20100.0%25%3B%20height%3A%20100.0%25%3B%22%3EValdezarza%20Cluster%200%3C/div%3E%27%29%5B0%5D%3B%0A%20%20%20%20%20%20%20%20%20%20%20%20%20%20%20%20popup_1d174fbbe4c54f4a8d41e27cef8d0bc7.setContent%28html_c37c683464134f0189d94b1eab78e533%29%3B%0A%20%20%20%20%20%20%20%20%20%20%20%20%0A%0A%20%20%20%20%20%20%20%20%20%20%20%20circle_marker_8ba09d30f0f54c98b6996de152974a5a.bindPopup%28popup_1d174fbbe4c54f4a8d41e27cef8d0bc7%29%3B%0A%0A%20%20%20%20%20%20%20%20%20%20%20%20%0A%20%20%20%20%20%20%20%20%0A%20%20%20%20%0A%20%20%20%20%20%20%20%20%20%20%20%20var%20circle_marker_4be0ef7463ad4ebeb76931f8000760ed%20%3D%20L.circleMarker%28%0A%20%20%20%20%20%20%20%20%20%20%20%20%20%20%20%20%5B40.472561%2C-3.780239%5D%2C%0A%20%20%20%20%20%20%20%20%20%20%20%20%20%20%20%20%7B%0A%20%20%22bubblingMouseEvents%22%3A%20true%2C%0A%20%20%22color%22%3A%20%22%23ff0000%22%2C%0A%20%20%22dashArray%22%3A%20null%2C%0A%20%20%22dashOffset%22%3A%20null%2C%0A%20%20%22fill%22%3A%20true%2C%0A%20%20%22fillColor%22%3A%20%22%23ff0000%22%2C%0A%20%20%22fillOpacity%22%3A%200.7%2C%0A%20%20%22fillRule%22%3A%20%22evenodd%22%2C%0A%20%20%22lineCap%22%3A%20%22round%22%2C%0A%20%20%22lineJoin%22%3A%20%22round%22%2C%0A%20%20%22opacity%22%3A%201.0%2C%0A%20%20%22radius%22%3A%205%2C%0A%20%20%22stroke%22%3A%20true%2C%0A%20%20%22weight%22%3A%203%0A%7D%0A%20%20%20%20%20%20%20%20%20%20%20%20%20%20%20%20%29.addTo%28map_eff47c844de245779793ccb2f8172862%29%3B%0A%20%20%20%20%20%20%20%20%20%20%20%20%0A%20%20%20%20%0A%20%20%20%20%20%20%20%20%20%20%20%20var%20popup_1f02082a1dea42768522259476a53418%20%3D%20L.popup%28%7BmaxWidth%3A%20%27300%27%7D%29%3B%0A%0A%20%20%20%20%20%20%20%20%20%20%20%20%0A%20%20%20%20%20%20%20%20%20%20%20%20%20%20%20%20var%20html_80154071e0084f92b8eeba2102988086%20%3D%20%24%28%27%3Cdiv%20id%3D%22html_80154071e0084f92b8eeba2102988086%22%20style%3D%22width%3A%20100.0%25%3B%20height%3A%20100.0%25%3B%22%3EValdemarin%20Cluster%200%3C/div%3E%27%29%5B0%5D%3B%0A%20%20%20%20%20%20%20%20%20%20%20%20%20%20%20%20popup_1f02082a1dea42768522259476a53418.setContent%28html_80154071e0084f92b8eeba2102988086%29%3B%0A%20%20%20%20%20%20%20%20%20%20%20%20%0A%0A%20%20%20%20%20%20%20%20%20%20%20%20circle_marker_4be0ef7463ad4ebeb76931f8000760ed.bindPopup%28popup_1f02082a1dea42768522259476a53418%29%3B%0A%0A%20%20%20%20%20%20%20%20%20%20%20%20%0A%20%20%20%20%20%20%20%20%0A%20%20%20%20%0A%20%20%20%20%20%20%20%20%20%20%20%20var%20circle_marker_ef05a5563bb84c528f797aa78d2f32dc%20%3D%20L.circleMarker%28%0A%20%20%20%20%20%20%20%20%20%20%20%20%20%20%20%20%5B40.4708%2C-3.825561%5D%2C%0A%20%20%20%20%20%20%20%20%20%20%20%20%20%20%20%20%7B%0A%20%20%22bubblingMouseEvents%22%3A%20true%2C%0A%20%20%22color%22%3A%20%22%23ff0000%22%2C%0A%20%20%22dashArray%22%3A%20null%2C%0A%20%20%22dashOffset%22%3A%20null%2C%0A%20%20%22fill%22%3A%20true%2C%0A%20%20%22fillColor%22%3A%20%22%23ff0000%22%2C%0A%20%20%22fillOpacity%22%3A%200.7%2C%0A%20%20%22fillRule%22%3A%20%22evenodd%22%2C%0A%20%20%22lineCap%22%3A%20%22round%22%2C%0A%20%20%22lineJoin%22%3A%20%22round%22%2C%0A%20%20%22opacity%22%3A%201.0%2C%0A%20%20%22radius%22%3A%205%2C%0A%20%20%22stroke%22%3A%20true%2C%0A%20%20%22weight%22%3A%203%0A%7D%0A%20%20%20%20%20%20%20%20%20%20%20%20%20%20%20%20%29.addTo%28map_eff47c844de245779793ccb2f8172862%29%3B%0A%20%20%20%20%20%20%20%20%20%20%20%20%0A%20%20%20%20%0A%20%20%20%20%20%20%20%20%20%20%20%20var%20popup_f124aa704be74adcb1c3009c388cb108%20%3D%20L.popup%28%7BmaxWidth%3A%20%27300%27%7D%29%3B%0A%0A%20%20%20%20%20%20%20%20%20%20%20%20%0A%20%20%20%20%20%20%20%20%20%20%20%20%20%20%20%20var%20html_305c72fa7ee9470abce90a468ad0e3b1%20%3D%20%24%28%27%3Cdiv%20id%3D%22html_305c72fa7ee9470abce90a468ad0e3b1%22%20style%3D%22width%3A%20100.0%25%3B%20height%3A%20100.0%25%3B%22%3EEl%20Plantio%20Cluster%200%3C/div%3E%27%29%5B0%5D%3B%0A%20%20%20%20%20%20%20%20%20%20%20%20%20%20%20%20popup_f124aa704be74adcb1c3009c388cb108.setContent%28html_305c72fa7ee9470abce90a468ad0e3b1%29%3B%0A%20%20%20%20%20%20%20%20%20%20%20%20%0A%0A%20%20%20%20%20%20%20%20%20%20%20%20circle_marker_ef05a5563bb84c528f797aa78d2f32dc.bindPopup%28popup_f124aa704be74adcb1c3009c388cb108%29%3B%0A%0A%20%20%20%20%20%20%20%20%20%20%20%20%0A%20%20%20%20%20%20%20%20%0A%20%20%20%20%0A%20%20%20%20%20%20%20%20%20%20%20%20var%20circle_marker_4a9d4ce3db6649588ba9272a6b9d8bd2%20%3D%20L.circleMarker%28%0A%20%20%20%20%20%20%20%20%20%20%20%20%20%20%20%20%5B40.45%2C-3.783333%5D%2C%0A%20%20%20%20%20%20%20%20%20%20%20%20%20%20%20%20%7B%0A%20%20%22bubblingMouseEvents%22%3A%20true%2C%0A%20%20%22color%22%3A%20%22%23ff0000%22%2C%0A%20%20%22dashArray%22%3A%20null%2C%0A%20%20%22dashOffset%22%3A%20null%2C%0A%20%20%22fill%22%3A%20true%2C%0A%20%20%22fillColor%22%3A%20%22%23ff0000%22%2C%0A%20%20%22fillOpacity%22%3A%200.7%2C%0A%20%20%22fillRule%22%3A%20%22evenodd%22%2C%0A%20%20%22lineCap%22%3A%20%22round%22%2C%0A%20%20%22lineJoin%22%3A%20%22round%22%2C%0A%20%20%22opacity%22%3A%201.0%2C%0A%20%20%22radius%22%3A%205%2C%0A%20%20%22stroke%22%3A%20true%2C%0A%20%20%22weight%22%3A%203%0A%7D%0A%20%20%20%20%20%20%20%20%20%20%20%20%20%20%20%20%29.addTo%28map_eff47c844de245779793ccb2f8172862%29%3B%0A%20%20%20%20%20%20%20%20%20%20%20%20%0A%20%20%20%20%0A%20%20%20%20%20%20%20%20%20%20%20%20var%20popup_7f24b726563d427599a2a89dbc82a0a4%20%3D%20L.popup%28%7BmaxWidth%3A%20%27300%27%7D%29%3B%0A%0A%20%20%20%20%20%20%20%20%20%20%20%20%0A%20%20%20%20%20%20%20%20%20%20%20%20%20%20%20%20var%20html_05729733dbf94dca9532bdb053afdd9d%20%3D%20%24%28%27%3Cdiv%20id%3D%22html_05729733dbf94dca9532bdb053afdd9d%22%20style%3D%22width%3A%20100.0%25%3B%20height%3A%20100.0%25%3B%22%3EAravaca%20Cluster%200%3C/div%3E%27%29%5B0%5D%3B%0A%20%20%20%20%20%20%20%20%20%20%20%20%20%20%20%20popup_7f24b726563d427599a2a89dbc82a0a4.setContent%28html_05729733dbf94dca9532bdb053afdd9d%29%3B%0A%20%20%20%20%20%20%20%20%20%20%20%20%0A%0A%20%20%20%20%20%20%20%20%20%20%20%20circle_marker_4a9d4ce3db6649588ba9272a6b9d8bd2.bindPopup%28popup_7f24b726563d427599a2a89dbc82a0a4%29%3B%0A%0A%20%20%20%20%20%20%20%20%20%20%20%20%0A%20%20%20%20%20%20%20%20%0A%20%20%20%20%0A%20%20%20%20%20%20%20%20%20%20%20%20var%20circle_marker_7592f29dc5a846799b3a01f40f6c510b%20%3D%20L.circleMarker%28%0A%20%20%20%20%20%20%20%20%20%20%20%20%20%20%20%20%5B40.406944%2C-3.726389%5D%2C%0A%20%20%20%20%20%20%20%20%20%20%20%20%20%20%20%20%7B%0A%20%20%22bubblingMouseEvents%22%3A%20true%2C%0A%20%20%22color%22%3A%20%22%238000ff%22%2C%0A%20%20%22dashArray%22%3A%20null%2C%0A%20%20%22dashOffset%22%3A%20null%2C%0A%20%20%22fill%22%3A%20true%2C%0A%20%20%22fillColor%22%3A%20%22%238000ff%22%2C%0A%20%20%22fillOpacity%22%3A%200.7%2C%0A%20%20%22fillRule%22%3A%20%22evenodd%22%2C%0A%20%20%22lineCap%22%3A%20%22round%22%2C%0A%20%20%22lineJoin%22%3A%20%22round%22%2C%0A%20%20%22opacity%22%3A%201.0%2C%0A%20%20%22radius%22%3A%205%2C%0A%20%20%22stroke%22%3A%20true%2C%0A%20%20%22weight%22%3A%203%0A%7D%0A%20%20%20%20%20%20%20%20%20%20%20%20%20%20%20%20%29.addTo%28map_eff47c844de245779793ccb2f8172862%29%3B%0A%20%20%20%20%20%20%20%20%20%20%20%20%0A%20%20%20%20%0A%20%20%20%20%20%20%20%20%20%20%20%20var%20popup_8de72ce89a59452ea8a4c6d5bbd07166%20%3D%20L.popup%28%7BmaxWidth%3A%20%27300%27%7D%29%3B%0A%0A%20%20%20%20%20%20%20%20%20%20%20%20%0A%20%20%20%20%20%20%20%20%20%20%20%20%20%20%20%20var%20html_1ee5d5d78e3b439eb3ce74b0d7341643%20%3D%20%24%28%27%3Cdiv%20id%3D%22html_1ee5d5d78e3b439eb3ce74b0d7341643%22%20style%3D%22width%3A%20100.0%25%3B%20height%3A%20100.0%25%3B%22%3ELos%20Carmenes%20Cluster%201%3C/div%3E%27%29%5B0%5D%3B%0A%20%20%20%20%20%20%20%20%20%20%20%20%20%20%20%20popup_8de72ce89a59452ea8a4c6d5bbd07166.setContent%28html_1ee5d5d78e3b439eb3ce74b0d7341643%29%3B%0A%20%20%20%20%20%20%20%20%20%20%20%20%0A%0A%20%20%20%20%20%20%20%20%20%20%20%20circle_marker_7592f29dc5a846799b3a01f40f6c510b.bindPopup%28popup_8de72ce89a59452ea8a4c6d5bbd07166%29%3B%0A%0A%20%20%20%20%20%20%20%20%20%20%20%20%0A%20%20%20%20%20%20%20%20%0A%20%20%20%20%0A%20%20%20%20%20%20%20%20%20%20%20%20var%20circle_marker_bfea0e82fa6241779285f9394f42e21f%20%3D%20L.circleMarker%28%0A%20%20%20%20%20%20%20%20%20%20%20%20%20%20%20%20%5B40.411944%2C-3.729722%5D%2C%0A%20%20%20%20%20%20%20%20%20%20%20%20%20%20%20%20%7B%0A%20%20%22bubblingMouseEvents%22%3A%20true%2C%0A%20%20%22color%22%3A%20%22%23ff0000%22%2C%0A%20%20%22dashArray%22%3A%20null%2C%0A%20%20%22dashOffset%22%3A%20null%2C%0A%20%20%22fill%22%3A%20true%2C%0A%20%20%22fillColor%22%3A%20%22%23ff0000%22%2C%0A%20%20%22fillOpacity%22%3A%200.7%2C%0A%20%20%22fillRule%22%3A%20%22evenodd%22%2C%0A%20%20%22lineCap%22%3A%20%22round%22%2C%0A%20%20%22lineJoin%22%3A%20%22round%22%2C%0A%20%20%22opacity%22%3A%201.0%2C%0A%20%20%22radius%22%3A%205%2C%0A%20%20%22stroke%22%3A%20true%2C%0A%20%20%22weight%22%3A%203%0A%7D%0A%20%20%20%20%20%20%20%20%20%20%20%20%20%20%20%20%29.addTo%28map_eff47c844de245779793ccb2f8172862%29%3B%0A%20%20%20%20%20%20%20%20%20%20%20%20%0A%20%20%20%20%0A%20%20%20%20%20%20%20%20%20%20%20%20var%20popup_0637791ae1c24037b9c34518578d851d%20%3D%20L.popup%28%7BmaxWidth%3A%20%27300%27%7D%29%3B%0A%0A%20%20%20%20%20%20%20%20%20%20%20%20%0A%20%20%20%20%20%20%20%20%20%20%20%20%20%20%20%20var%20html_eb312f5839d541a9a57983e9d6dca8c5%20%3D%20%24%28%27%3Cdiv%20id%3D%22html_eb312f5839d541a9a57983e9d6dca8c5%22%20style%3D%22width%3A%20100.0%25%3B%20height%3A%20100.0%25%3B%22%3EPuerta%20del%20Angel%20Cluster%200%3C/div%3E%27%29%5B0%5D%3B%0A%20%20%20%20%20%20%20%20%20%20%20%20%20%20%20%20popup_0637791ae1c24037b9c34518578d851d.setContent%28html_eb312f5839d541a9a57983e9d6dca8c5%29%3B%0A%20%20%20%20%20%20%20%20%20%20%20%20%0A%0A%20%20%20%20%20%20%20%20%20%20%20%20circle_marker_bfea0e82fa6241779285f9394f42e21f.bindPopup%28popup_0637791ae1c24037b9c34518578d851d%29%3B%0A%0A%20%20%20%20%20%20%20%20%20%20%20%20%0A%20%20%20%20%20%20%20%20%0A%20%20%20%20%0A%20%20%20%20%20%20%20%20%20%20%20%20var%20circle_marker_ee4a8c52a51c46928f19ad0250577c1d%20%3D%20L.circleMarker%28%0A%20%20%20%20%20%20%20%20%20%20%20%20%20%20%20%20%5B40.410556%2C-3.735833%5D%2C%0A%20%20%20%20%20%20%20%20%20%20%20%20%20%20%20%20%7B%0A%20%20%22bubblingMouseEvents%22%3A%20true%2C%0A%20%20%22color%22%3A%20%22%23ff0000%22%2C%0A%20%20%22dashArray%22%3A%20null%2C%0A%20%20%22dashOffset%22%3A%20null%2C%0A%20%20%22fill%22%3A%20true%2C%0A%20%20%22fillColor%22%3A%20%22%23ff0000%22%2C%0A%20%20%22fillOpacity%22%3A%200.7%2C%0A%20%20%22fillRule%22%3A%20%22evenodd%22%2C%0A%20%20%22lineCap%22%3A%20%22round%22%2C%0A%20%20%22lineJoin%22%3A%20%22round%22%2C%0A%20%20%22opacity%22%3A%201.0%2C%0A%20%20%22radius%22%3A%205%2C%0A%20%20%22stroke%22%3A%20true%2C%0A%20%20%22weight%22%3A%203%0A%7D%0A%20%20%20%20%20%20%20%20%20%20%20%20%20%20%20%20%29.addTo%28map_eff47c844de245779793ccb2f8172862%29%3B%0A%20%20%20%20%20%20%20%20%20%20%20%20%0A%20%20%20%20%0A%20%20%20%20%20%20%20%20%20%20%20%20var%20popup_8d9f9d1570f441138ae0ef780ebd9bc3%20%3D%20L.popup%28%7BmaxWidth%3A%20%27300%27%7D%29%3B%0A%0A%20%20%20%20%20%20%20%20%20%20%20%20%0A%20%20%20%20%20%20%20%20%20%20%20%20%20%20%20%20var%20html_425982a8ce784d9786629275bb62b195%20%3D%20%24%28%27%3Cdiv%20id%3D%22html_425982a8ce784d9786629275bb62b195%22%20style%3D%22width%3A%20100.0%25%3B%20height%3A%20100.0%25%3B%22%3ELucero%20Cluster%200%3C/div%3E%27%29%5B0%5D%3B%0A%20%20%20%20%20%20%20%20%20%20%20%20%20%20%20%20popup_8d9f9d1570f441138ae0ef780ebd9bc3.setContent%28html_425982a8ce784d9786629275bb62b195%29%3B%0A%20%20%20%20%20%20%20%20%20%20%20%20%0A%0A%20%20%20%20%20%20%20%20%20%20%20%20circle_marker_ee4a8c52a51c46928f19ad0250577c1d.bindPopup%28popup_8d9f9d1570f441138ae0ef780ebd9bc3%29%3B%0A%0A%20%20%20%20%20%20%20%20%20%20%20%20%0A%20%20%20%20%20%20%20%20%0A%20%20%20%20%0A%20%20%20%20%20%20%20%20%20%20%20%20var%20circle_marker_ebf6993384514cf7b6a49454b608bcb5%20%3D%20L.circleMarker%28%0A%20%20%20%20%20%20%20%20%20%20%20%20%20%20%20%20%5B40.3875%2C-3.754167%5D%2C%0A%20%20%20%20%20%20%20%20%20%20%20%20%20%20%20%20%7B%0A%20%20%22bubblingMouseEvents%22%3A%20true%2C%0A%20%20%22color%22%3A%20%22%238000ff%22%2C%0A%20%20%22dashArray%22%3A%20null%2C%0A%20%20%22dashOffset%22%3A%20null%2C%0A%20%20%22fill%22%3A%20true%2C%0A%20%20%22fillColor%22%3A%20%22%238000ff%22%2C%0A%20%20%22fillOpacity%22%3A%200.7%2C%0A%20%20%22fillRule%22%3A%20%22evenodd%22%2C%0A%20%20%22lineCap%22%3A%20%22round%22%2C%0A%20%20%22lineJoin%22%3A%20%22round%22%2C%0A%20%20%22opacity%22%3A%201.0%2C%0A%20%20%22radius%22%3A%205%2C%0A%20%20%22stroke%22%3A%20true%2C%0A%20%20%22weight%22%3A%203%0A%7D%0A%20%20%20%20%20%20%20%20%20%20%20%20%20%20%20%20%29.addTo%28map_eff47c844de245779793ccb2f8172862%29%3B%0A%20%20%20%20%20%20%20%20%20%20%20%20%0A%20%20%20%20%0A%20%20%20%20%20%20%20%20%20%20%20%20var%20popup_a9f3b63f2b8c4b1a8fdaa5a478b00562%20%3D%20L.popup%28%7BmaxWidth%3A%20%27300%27%7D%29%3B%0A%0A%20%20%20%20%20%20%20%20%20%20%20%20%0A%20%20%20%20%20%20%20%20%20%20%20%20%20%20%20%20var%20html_958e39a8b2854bdca6ebb5db289268f1%20%3D%20%24%28%27%3Cdiv%20id%3D%22html_958e39a8b2854bdca6ebb5db289268f1%22%20style%3D%22width%3A%20100.0%25%3B%20height%3A%20100.0%25%3B%22%3EAluche%20Cluster%201%3C/div%3E%27%29%5B0%5D%3B%0A%20%20%20%20%20%20%20%20%20%20%20%20%20%20%20%20popup_a9f3b63f2b8c4b1a8fdaa5a478b00562.setContent%28html_958e39a8b2854bdca6ebb5db289268f1%29%3B%0A%20%20%20%20%20%20%20%20%20%20%20%20%0A%0A%20%20%20%20%20%20%20%20%20%20%20%20circle_marker_ebf6993384514cf7b6a49454b608bcb5.bindPopup%28popup_a9f3b63f2b8c4b1a8fdaa5a478b00562%29%3B%0A%0A%20%20%20%20%20%20%20%20%20%20%20%20%0A%20%20%20%20%20%20%20%20%0A%20%20%20%20%0A%20%20%20%20%20%20%20%20%20%20%20%20var%20circle_marker_4ab6acf522bb48119e87b66f47f43c7f%20%3D%20L.circleMarker%28%0A%20%20%20%20%20%20%20%20%20%20%20%20%20%20%20%20%5B40.3875%2C-3.781944%5D%2C%0A%20%20%20%20%20%20%20%20%20%20%20%20%20%20%20%20%7B%0A%20%20%22bubblingMouseEvents%22%3A%20true%2C%0A%20%20%22color%22%3A%20%22%23ff0000%22%2C%0A%20%20%22dashArray%22%3A%20null%2C%0A%20%20%22dashOffset%22%3A%20null%2C%0A%20%20%22fill%22%3A%20true%2C%0A%20%20%22fillColor%22%3A%20%22%23ff0000%22%2C%0A%20%20%22fillOpacity%22%3A%200.7%2C%0A%20%20%22fillRule%22%3A%20%22evenodd%22%2C%0A%20%20%22lineCap%22%3A%20%22round%22%2C%0A%20%20%22lineJoin%22%3A%20%22round%22%2C%0A%20%20%22opacity%22%3A%201.0%2C%0A%20%20%22radius%22%3A%205%2C%0A%20%20%22stroke%22%3A%20true%2C%0A%20%20%22weight%22%3A%203%0A%7D%0A%20%20%20%20%20%20%20%20%20%20%20%20%20%20%20%20%29.addTo%28map_eff47c844de245779793ccb2f8172862%29%3B%0A%20%20%20%20%20%20%20%20%20%20%20%20%0A%20%20%20%20%0A%20%20%20%20%20%20%20%20%20%20%20%20var%20popup_fe3e5069dd6f4a778b50a7a44a953a5a%20%3D%20L.popup%28%7BmaxWidth%3A%20%27300%27%7D%29%3B%0A%0A%20%20%20%20%20%20%20%20%20%20%20%20%0A%20%20%20%20%20%20%20%20%20%20%20%20%20%20%20%20var%20html_6c7b854a2d3f4dea91cb82598ff11a9d%20%3D%20%24%28%27%3Cdiv%20id%3D%22html_6c7b854a2d3f4dea91cb82598ff11a9d%22%20style%3D%22width%3A%20100.0%25%3B%20height%3A%20100.0%25%3B%22%3ECampamento%20Cluster%200%3C/div%3E%27%29%5B0%5D%3B%0A%20%20%20%20%20%20%20%20%20%20%20%20%20%20%20%20popup_fe3e5069dd6f4a778b50a7a44a953a5a.setContent%28html_6c7b854a2d3f4dea91cb82598ff11a9d%29%3B%0A%20%20%20%20%20%20%20%20%20%20%20%20%0A%0A%20%20%20%20%20%20%20%20%20%20%20%20circle_marker_4ab6acf522bb48119e87b66f47f43c7f.bindPopup%28popup_fe3e5069dd6f4a778b50a7a44a953a5a%29%3B%0A%0A%20%20%20%20%20%20%20%20%20%20%20%20%0A%20%20%20%20%20%20%20%20%0A%20%20%20%20%0A%20%20%20%20%20%20%20%20%20%20%20%20var%20circle_marker_e2caee190e9b44be83d9a44f7199ec5a%20%3D%20L.circleMarker%28%0A%20%20%20%20%20%20%20%20%20%20%20%20%20%20%20%20%5B40.3775%2C-3.791111%5D%2C%0A%20%20%20%20%20%20%20%20%20%20%20%20%20%20%20%20%7B%0A%20%20%22bubblingMouseEvents%22%3A%20true%2C%0A%20%20%22color%22%3A%20%22%23ff0000%22%2C%0A%20%20%22dashArray%22%3A%20null%2C%0A%20%20%22dashOffset%22%3A%20null%2C%0A%20%20%22fill%22%3A%20true%2C%0A%20%20%22fillColor%22%3A%20%22%23ff0000%22%2C%0A%20%20%22fillOpacity%22%3A%200.7%2C%0A%20%20%22fillRule%22%3A%20%22evenodd%22%2C%0A%20%20%22lineCap%22%3A%20%22round%22%2C%0A%20%20%22lineJoin%22%3A%20%22round%22%2C%0A%20%20%22opacity%22%3A%201.0%2C%0A%20%20%22radius%22%3A%205%2C%0A%20%20%22stroke%22%3A%20true%2C%0A%20%20%22weight%22%3A%203%0A%7D%0A%20%20%20%20%20%20%20%20%20%20%20%20%20%20%20%20%29.addTo%28map_eff47c844de245779793ccb2f8172862%29%3B%0A%20%20%20%20%20%20%20%20%20%20%20%20%0A%20%20%20%20%0A%20%20%20%20%20%20%20%20%20%20%20%20var%20popup_7cfb809c17ee4ac0bb01ec5147d8ebd3%20%3D%20L.popup%28%7BmaxWidth%3A%20%27300%27%7D%29%3B%0A%0A%20%20%20%20%20%20%20%20%20%20%20%20%0A%20%20%20%20%20%20%20%20%20%20%20%20%20%20%20%20var%20html_f62ff6cfaabd4bf8a30bf541a90a7946%20%3D%20%24%28%27%3Cdiv%20id%3D%22html_f62ff6cfaabd4bf8a30bf541a90a7946%22%20style%3D%22width%3A%20100.0%25%3B%20height%3A%20100.0%25%3B%22%3ECuatro%20Vientos%20Cluster%200%3C/div%3E%27%29%5B0%5D%3B%0A%20%20%20%20%20%20%20%20%20%20%20%20%20%20%20%20popup_7cfb809c17ee4ac0bb01ec5147d8ebd3.setContent%28html_f62ff6cfaabd4bf8a30bf541a90a7946%29%3B%0A%20%20%20%20%20%20%20%20%20%20%20%20%0A%0A%20%20%20%20%20%20%20%20%20%20%20%20circle_marker_e2caee190e9b44be83d9a44f7199ec5a.bindPopup%28popup_7cfb809c17ee4ac0bb01ec5147d8ebd3%29%3B%0A%0A%20%20%20%20%20%20%20%20%20%20%20%20%0A%20%20%20%20%20%20%20%20%0A%20%20%20%20%0A%20%20%20%20%20%20%20%20%20%20%20%20var%20circle_marker_1689124c9770464eb922acb3c36bec36%20%3D%20L.circleMarker%28%0A%20%20%20%20%20%20%20%20%20%20%20%20%20%20%20%20%5B40.3775%2C-3.764167%5D%2C%0A%20%20%20%20%20%20%20%20%20%20%20%20%20%20%20%20%7B%0A%20%20%22bubblingMouseEvents%22%3A%20true%2C%0A%20%20%22color%22%3A%20%22%23ff0000%22%2C%0A%20%20%22dashArray%22%3A%20null%2C%0A%20%20%22dashOffset%22%3A%20null%2C%0A%20%20%22fill%22%3A%20true%2C%0A%20%20%22fillColor%22%3A%20%22%23ff0000%22%2C%0A%20%20%22fillOpacity%22%3A%200.7%2C%0A%20%20%22fillRule%22%3A%20%22evenodd%22%2C%0A%20%20%22lineCap%22%3A%20%22round%22%2C%0A%20%20%22lineJoin%22%3A%20%22round%22%2C%0A%20%20%22opacity%22%3A%201.0%2C%0A%20%20%22radius%22%3A%205%2C%0A%20%20%22stroke%22%3A%20true%2C%0A%20%20%22weight%22%3A%203%0A%7D%0A%20%20%20%20%20%20%20%20%20%20%20%20%20%20%20%20%29.addTo%28map_eff47c844de245779793ccb2f8172862%29%3B%0A%20%20%20%20%20%20%20%20%20%20%20%20%0A%20%20%20%20%0A%20%20%20%20%20%20%20%20%20%20%20%20var%20popup_acd385b2654649f384d2521bb6497cdc%20%3D%20L.popup%28%7BmaxWidth%3A%20%27300%27%7D%29%3B%0A%0A%20%20%20%20%20%20%20%20%20%20%20%20%0A%20%20%20%20%20%20%20%20%20%20%20%20%20%20%20%20var%20html_ffafd19493ca4ae69e07b0283311068e%20%3D%20%24%28%27%3Cdiv%20id%3D%22html_ffafd19493ca4ae69e07b0283311068e%22%20style%3D%22width%3A%20100.0%25%3B%20height%3A%20100.0%25%3B%22%3ELas%20Aguilas%20Cluster%200%3C/div%3E%27%29%5B0%5D%3B%0A%20%20%20%20%20%20%20%20%20%20%20%20%20%20%20%20popup_acd385b2654649f384d2521bb6497cdc.setContent%28html_ffafd19493ca4ae69e07b0283311068e%29%3B%0A%20%20%20%20%20%20%20%20%20%20%20%20%0A%0A%20%20%20%20%20%20%20%20%20%20%20%20circle_marker_1689124c9770464eb922acb3c36bec36.bindPopup%28popup_acd385b2654649f384d2521bb6497cdc%29%3B%0A%0A%20%20%20%20%20%20%20%20%20%20%20%20%0A%20%20%20%20%20%20%20%20%0A%20%20%20%20%0A%20%20%20%20%20%20%20%20%20%20%20%20var%20circle_marker_a9c1cfe396244d8e9b0d7415b0d1656a%20%3D%20L.circleMarker%28%0A%20%20%20%20%20%20%20%20%20%20%20%20%20%20%20%20%5B40.392778%2C-3.713889%5D%2C%0A%20%20%20%20%20%20%20%20%20%20%20%20%20%20%20%20%7B%0A%20%20%22bubblingMouseEvents%22%3A%20true%2C%0A%20%20%22color%22%3A%20%22%238000ff%22%2C%0A%20%20%22dashArray%22%3A%20null%2C%0A%20%20%22dashOffset%22%3A%20null%2C%0A%20%20%22fill%22%3A%20true%2C%0A%20%20%22fillColor%22%3A%20%22%238000ff%22%2C%0A%20%20%22fillOpacity%22%3A%200.7%2C%0A%20%20%22fillRule%22%3A%20%22evenodd%22%2C%0A%20%20%22lineCap%22%3A%20%22round%22%2C%0A%20%20%22lineJoin%22%3A%20%22round%22%2C%0A%20%20%22opacity%22%3A%201.0%2C%0A%20%20%22radius%22%3A%205%2C%0A%20%20%22stroke%22%3A%20true%2C%0A%20%20%22weight%22%3A%203%0A%7D%0A%20%20%20%20%20%20%20%20%20%20%20%20%20%20%20%20%29.addTo%28map_eff47c844de245779793ccb2f8172862%29%3B%0A%20%20%20%20%20%20%20%20%20%20%20%20%0A%20%20%20%20%0A%20%20%20%20%20%20%20%20%20%20%20%20var%20popup_5e5d84a48b7a4d628629de5e142e14fe%20%3D%20L.popup%28%7BmaxWidth%3A%20%27300%27%7D%29%3B%0A%0A%20%20%20%20%20%20%20%20%20%20%20%20%0A%20%20%20%20%20%20%20%20%20%20%20%20%20%20%20%20var%20html_9f1e49dc30b2405f8e660fcbcc35a07f%20%3D%20%24%28%27%3Cdiv%20id%3D%22html_9f1e49dc30b2405f8e660fcbcc35a07f%22%20style%3D%22width%3A%20100.0%25%3B%20height%3A%20100.0%25%3B%22%3EComillas%20Cluster%201%3C/div%3E%27%29%5B0%5D%3B%0A%20%20%20%20%20%20%20%20%20%20%20%20%20%20%20%20popup_5e5d84a48b7a4d628629de5e142e14fe.setContent%28html_9f1e49dc30b2405f8e660fcbcc35a07f%29%3B%0A%20%20%20%20%20%20%20%20%20%20%20%20%0A%0A%20%20%20%20%20%20%20%20%20%20%20%20circle_marker_a9c1cfe396244d8e9b0d7415b0d1656a.bindPopup%28popup_5e5d84a48b7a4d628629de5e142e14fe%29%3B%0A%0A%20%20%20%20%20%20%20%20%20%20%20%20%0A%20%20%20%20%20%20%20%20%0A%20%20%20%20%0A%20%20%20%20%20%20%20%20%20%20%20%20var%20circle_marker_ff1e61a16c53408fb1dc75bc885f35c4%20%3D%20L.circleMarker%28%0A%20%20%20%20%20%20%20%20%20%20%20%20%20%20%20%20%5B40.388889%2C-3.728056%5D%2C%0A%20%20%20%20%20%20%20%20%20%20%20%20%20%20%20%20%7B%0A%20%20%22bubblingMouseEvents%22%3A%20true%2C%0A%20%20%22color%22%3A%20%22%23ff0000%22%2C%0A%20%20%22dashArray%22%3A%20null%2C%0A%20%20%22dashOffset%22%3A%20null%2C%0A%20%20%22fill%22%3A%20true%2C%0A%20%20%22fillColor%22%3A%20%22%23ff0000%22%2C%0A%20%20%22fillOpacity%22%3A%200.7%2C%0A%20%20%22fillRule%22%3A%20%22evenodd%22%2C%0A%20%20%22lineCap%22%3A%20%22round%22%2C%0A%20%20%22lineJoin%22%3A%20%22round%22%2C%0A%20%20%22opacity%22%3A%201.0%2C%0A%20%20%22radius%22%3A%205%2C%0A%20%20%22stroke%22%3A%20true%2C%0A%20%20%22weight%22%3A%203%0A%7D%0A%20%20%20%20%20%20%20%20%20%20%20%20%20%20%20%20%29.addTo%28map_eff47c844de245779793ccb2f8172862%29%3B%0A%20%20%20%20%20%20%20%20%20%20%20%20%0A%20%20%20%20%0A%20%20%20%20%20%20%20%20%20%20%20%20var%20popup_c1fa1a11ef30496fb7c4e8c611f2f6c2%20%3D%20L.popup%28%7BmaxWidth%3A%20%27300%27%7D%29%3B%0A%0A%20%20%20%20%20%20%20%20%20%20%20%20%0A%20%20%20%20%20%20%20%20%20%20%20%20%20%20%20%20var%20html_e48f44c8184a48f88b640a640c1a8393%20%3D%20%24%28%27%3Cdiv%20id%3D%22html_e48f44c8184a48f88b640a640c1a8393%22%20style%3D%22width%3A%20100.0%25%3B%20height%3A%20100.0%25%3B%22%3EOpanel%20Cluster%200%3C/div%3E%27%29%5B0%5D%3B%0A%20%20%20%20%20%20%20%20%20%20%20%20%20%20%20%20popup_c1fa1a11ef30496fb7c4e8c611f2f6c2.setContent%28html_e48f44c8184a48f88b640a640c1a8393%29%3B%0A%20%20%20%20%20%20%20%20%20%20%20%20%0A%0A%20%20%20%20%20%20%20%20%20%20%20%20circle_marker_ff1e61a16c53408fb1dc75bc885f35c4.bindPopup%28popup_c1fa1a11ef30496fb7c4e8c611f2f6c2%29%3B%0A%0A%20%20%20%20%20%20%20%20%20%20%20%20%0A%20%20%20%20%20%20%20%20%0A%20%20%20%20%0A%20%20%20%20%20%20%20%20%20%20%20%20var%20circle_marker_f155f05bcc414a7384a7a743a98d1643%20%3D%20L.circleMarker%28%0A%20%20%20%20%20%20%20%20%20%20%20%20%20%20%20%20%5B40.398889%2C-3.726389%5D%2C%0A%20%20%20%20%20%20%20%20%20%20%20%20%20%20%20%20%7B%0A%20%20%22bubblingMouseEvents%22%3A%20true%2C%0A%20%20%22color%22%3A%20%22%23ff0000%22%2C%0A%20%20%22dashArray%22%3A%20null%2C%0A%20%20%22dashOffset%22%3A%20null%2C%0A%20%20%22fill%22%3A%20true%2C%0A%20%20%22fillColor%22%3A%20%22%23ff0000%22%2C%0A%20%20%22fillOpacity%22%3A%200.7%2C%0A%20%20%22fillRule%22%3A%20%22evenodd%22%2C%0A%20%20%22lineCap%22%3A%20%22round%22%2C%0A%20%20%22lineJoin%22%3A%20%22round%22%2C%0A%20%20%22opacity%22%3A%201.0%2C%0A%20%20%22radius%22%3A%205%2C%0A%20%20%22stroke%22%3A%20true%2C%0A%20%20%22weight%22%3A%203%0A%7D%0A%20%20%20%20%20%20%20%20%20%20%20%20%20%20%20%20%29.addTo%28map_eff47c844de245779793ccb2f8172862%29%3B%0A%20%20%20%20%20%20%20%20%20%20%20%20%0A%20%20%20%20%0A%20%20%20%20%20%20%20%20%20%20%20%20var%20popup_c449ae7b5f164cf588defcc7ec65b52e%20%3D%20L.popup%28%7BmaxWidth%3A%20%27300%27%7D%29%3B%0A%0A%20%20%20%20%20%20%20%20%20%20%20%20%0A%20%20%20%20%20%20%20%20%20%20%20%20%20%20%20%20var%20html_d7819009068249798c4202b8e4461b3d%20%3D%20%24%28%27%3Cdiv%20id%3D%22html_d7819009068249798c4202b8e4461b3d%22%20style%3D%22width%3A%20100.0%25%3B%20height%3A%20100.0%25%3B%22%3ESan%20Isidro%20Cluster%200%3C/div%3E%27%29%5B0%5D%3B%0A%20%20%20%20%20%20%20%20%20%20%20%20%20%20%20%20popup_c449ae7b5f164cf588defcc7ec65b52e.setContent%28html_d7819009068249798c4202b8e4461b3d%29%3B%0A%20%20%20%20%20%20%20%20%20%20%20%20%0A%0A%20%20%20%20%20%20%20%20%20%20%20%20circle_marker_f155f05bcc414a7384a7a743a98d1643.bindPopup%28popup_c449ae7b5f164cf588defcc7ec65b52e%29%3B%0A%0A%20%20%20%20%20%20%20%20%20%20%20%20%0A%20%20%20%20%20%20%20%20%0A%20%20%20%20%0A%20%20%20%20%20%20%20%20%20%20%20%20var%20circle_marker_12919ad6249549aeab0c6a310d4f018f%20%3D%20L.circleMarker%28%0A%20%20%20%20%20%20%20%20%20%20%20%20%20%20%20%20%5B40.386111%2C-3.738889%5D%2C%0A%20%20%20%20%20%20%20%20%20%20%20%20%20%20%20%20%7B%0A%20%20%22bubblingMouseEvents%22%3A%20true%2C%0A%20%20%22color%22%3A%20%22%23ff0000%22%2C%0A%20%20%22dashArray%22%3A%20null%2C%0A%20%20%22dashOffset%22%3A%20null%2C%0A%20%20%22fill%22%3A%20true%2C%0A%20%20%22fillColor%22%3A%20%22%23ff0000%22%2C%0A%20%20%22fillOpacity%22%3A%200.7%2C%0A%20%20%22fillRule%22%3A%20%22evenodd%22%2C%0A%20%20%22lineCap%22%3A%20%22round%22%2C%0A%20%20%22lineJoin%22%3A%20%22round%22%2C%0A%20%20%22opacity%22%3A%201.0%2C%0A%20%20%22radius%22%3A%205%2C%0A%20%20%22stroke%22%3A%20true%2C%0A%20%20%22weight%22%3A%203%0A%7D%0A%20%20%20%20%20%20%20%20%20%20%20%20%20%20%20%20%29.addTo%28map_eff47c844de245779793ccb2f8172862%29%3B%0A%20%20%20%20%20%20%20%20%20%20%20%20%0A%20%20%20%20%0A%20%20%20%20%20%20%20%20%20%20%20%20var%20popup_5b1556ea94bd45748c5280f7c501807d%20%3D%20L.popup%28%7BmaxWidth%3A%20%27300%27%7D%29%3B%0A%0A%20%20%20%20%20%20%20%20%20%20%20%20%0A%20%20%20%20%20%20%20%20%20%20%20%20%20%20%20%20var%20html_0d5bc69e73c44e088be45d94913a3963%20%3D%20%24%28%27%3Cdiv%20id%3D%22html_0d5bc69e73c44e088be45d94913a3963%22%20style%3D%22width%3A%20100.0%25%3B%20height%3A%20100.0%25%3B%22%3EVista%20Alegre%20Cluster%200%3C/div%3E%27%29%5B0%5D%3B%0A%20%20%20%20%20%20%20%20%20%20%20%20%20%20%20%20popup_5b1556ea94bd45748c5280f7c501807d.setContent%28html_0d5bc69e73c44e088be45d94913a3963%29%3B%0A%20%20%20%20%20%20%20%20%20%20%20%20%0A%0A%20%20%20%20%20%20%20%20%20%20%20%20circle_marker_12919ad6249549aeab0c6a310d4f018f.bindPopup%28popup_5b1556ea94bd45748c5280f7c501807d%29%3B%0A%0A%20%20%20%20%20%20%20%20%20%20%20%20%0A%20%20%20%20%20%20%20%20%0A%20%20%20%20%0A%20%20%20%20%20%20%20%20%20%20%20%20var%20circle_marker_558dc0edc6704a27b3c3fb7fb20436b0%20%3D%20L.circleMarker%28%0A%20%20%20%20%20%20%20%20%20%20%20%20%20%20%20%20%5B40.381944%2C-3.736389%5D%2C%0A%20%20%20%20%20%20%20%20%20%20%20%20%20%20%20%20%7B%0A%20%20%22bubblingMouseEvents%22%3A%20true%2C%0A%20%20%22color%22%3A%20%22%23ff0000%22%2C%0A%20%20%22dashArray%22%3A%20null%2C%0A%20%20%22dashOffset%22%3A%20null%2C%0A%20%20%22fill%22%3A%20true%2C%0A%20%20%22fillColor%22%3A%20%22%23ff0000%22%2C%0A%20%20%22fillOpacity%22%3A%200.7%2C%0A%20%20%22fillRule%22%3A%20%22evenodd%22%2C%0A%20%20%22lineCap%22%3A%20%22round%22%2C%0A%20%20%22lineJoin%22%3A%20%22round%22%2C%0A%20%20%22opacity%22%3A%201.0%2C%0A%20%20%22radius%22%3A%205%2C%0A%20%20%22stroke%22%3A%20true%2C%0A%20%20%22weight%22%3A%203%0A%7D%0A%20%20%20%20%20%20%20%20%20%20%20%20%20%20%20%20%29.addTo%28map_eff47c844de245779793ccb2f8172862%29%3B%0A%20%20%20%20%20%20%20%20%20%20%20%20%0A%20%20%20%20%0A%20%20%20%20%20%20%20%20%20%20%20%20var%20popup_f9220e067f3f4056a4ae8947454abb34%20%3D%20L.popup%28%7BmaxWidth%3A%20%27300%27%7D%29%3B%0A%0A%20%20%20%20%20%20%20%20%20%20%20%20%0A%20%20%20%20%20%20%20%20%20%20%20%20%20%20%20%20var%20html_086325eeabdf4b71905e8167d0b29fec%20%3D%20%24%28%27%3Cdiv%20id%3D%22html_086325eeabdf4b71905e8167d0b29fec%22%20style%3D%22width%3A%20100.0%25%3B%20height%3A%20100.0%25%3B%22%3EPuerta%20Bonita%20Cluster%200%3C/div%3E%27%29%5B0%5D%3B%0A%20%20%20%20%20%20%20%20%20%20%20%20%20%20%20%20popup_f9220e067f3f4056a4ae8947454abb34.setContent%28html_086325eeabdf4b71905e8167d0b29fec%29%3B%0A%20%20%20%20%20%20%20%20%20%20%20%20%0A%0A%20%20%20%20%20%20%20%20%20%20%20%20circle_marker_558dc0edc6704a27b3c3fb7fb20436b0.bindPopup%28popup_f9220e067f3f4056a4ae8947454abb34%29%3B%0A%0A%20%20%20%20%20%20%20%20%20%20%20%20%0A%20%20%20%20%20%20%20%20%0A%20%20%20%20%0A%20%20%20%20%20%20%20%20%20%20%20%20var%20circle_marker_22211ff7b08d49aab96ceca517ce1e44%20%3D%20L.circleMarker%28%0A%20%20%20%20%20%20%20%20%20%20%20%20%20%20%20%20%5B40.366667%2C-3.755%5D%2C%0A%20%20%20%20%20%20%20%20%20%20%20%20%20%20%20%20%7B%0A%20%20%22bubblingMouseEvents%22%3A%20true%2C%0A%20%20%22color%22%3A%20%22%23ff0000%22%2C%0A%20%20%22dashArray%22%3A%20null%2C%0A%20%20%22dashOffset%22%3A%20null%2C%0A%20%20%22fill%22%3A%20true%2C%0A%20%20%22fillColor%22%3A%20%22%23ff0000%22%2C%0A%20%20%22fillOpacity%22%3A%200.7%2C%0A%20%20%22fillRule%22%3A%20%22evenodd%22%2C%0A%20%20%22lineCap%22%3A%20%22round%22%2C%0A%20%20%22lineJoin%22%3A%20%22round%22%2C%0A%20%20%22opacity%22%3A%201.0%2C%0A%20%20%22radius%22%3A%205%2C%0A%20%20%22stroke%22%3A%20true%2C%0A%20%20%22weight%22%3A%203%0A%7D%0A%20%20%20%20%20%20%20%20%20%20%20%20%20%20%20%20%29.addTo%28map_eff47c844de245779793ccb2f8172862%29%3B%0A%20%20%20%20%20%20%20%20%20%20%20%20%0A%20%20%20%20%0A%20%20%20%20%20%20%20%20%20%20%20%20var%20popup_c2a89dd9d9294670ae16bbe69783bb4a%20%3D%20L.popup%28%7BmaxWidth%3A%20%27300%27%7D%29%3B%0A%0A%20%20%20%20%20%20%20%20%20%20%20%20%0A%20%20%20%20%20%20%20%20%20%20%20%20%20%20%20%20var%20html_d992e2e1c0704871b344ba9bbe4a5c23%20%3D%20%24%28%27%3Cdiv%20id%3D%22html_d992e2e1c0704871b344ba9bbe4a5c23%22%20style%3D%22width%3A%20100.0%25%3B%20height%3A%20100.0%25%3B%22%3EBuenavista%20Cluster%200%3C/div%3E%27%29%5B0%5D%3B%0A%20%20%20%20%20%20%20%20%20%20%20%20%20%20%20%20popup_c2a89dd9d9294670ae16bbe69783bb4a.setContent%28html_d992e2e1c0704871b344ba9bbe4a5c23%29%3B%0A%20%20%20%20%20%20%20%20%20%20%20%20%0A%0A%20%20%20%20%20%20%20%20%20%20%20%20circle_marker_22211ff7b08d49aab96ceca517ce1e44.bindPopup%28popup_c2a89dd9d9294670ae16bbe69783bb4a%29%3B%0A%0A%20%20%20%20%20%20%20%20%20%20%20%20%0A%20%20%20%20%20%20%20%20%0A%20%20%20%20%0A%20%20%20%20%20%20%20%20%20%20%20%20var%20circle_marker_7acf996b986d4df49480541db2194e2e%20%3D%20L.circleMarker%28%0A%20%20%20%20%20%20%20%20%20%20%20%20%20%20%20%20%5B40.380556%2C-3.723889%5D%2C%0A%20%20%20%20%20%20%20%20%20%20%20%20%20%20%20%20%7B%0A%20%20%22bubblingMouseEvents%22%3A%20true%2C%0A%20%20%22color%22%3A%20%22%23ff0000%22%2C%0A%20%20%22dashArray%22%3A%20null%2C%0A%20%20%22dashOffset%22%3A%20null%2C%0A%20%20%22fill%22%3A%20true%2C%0A%20%20%22fillColor%22%3A%20%22%23ff0000%22%2C%0A%20%20%22fillOpacity%22%3A%200.7%2C%0A%20%20%22fillRule%22%3A%20%22evenodd%22%2C%0A%20%20%22lineCap%22%3A%20%22round%22%2C%0A%20%20%22lineJoin%22%3A%20%22round%22%2C%0A%20%20%22opacity%22%3A%201.0%2C%0A%20%20%22radius%22%3A%205%2C%0A%20%20%22stroke%22%3A%20true%2C%0A%20%20%22weight%22%3A%203%0A%7D%0A%20%20%20%20%20%20%20%20%20%20%20%20%20%20%20%20%29.addTo%28map_eff47c844de245779793ccb2f8172862%29%3B%0A%20%20%20%20%20%20%20%20%20%20%20%20%0A%20%20%20%20%0A%20%20%20%20%20%20%20%20%20%20%20%20var%20popup_1565e4882a244519921f74d50ed0b9ec%20%3D%20L.popup%28%7BmaxWidth%3A%20%27300%27%7D%29%3B%0A%0A%20%20%20%20%20%20%20%20%20%20%20%20%0A%20%20%20%20%20%20%20%20%20%20%20%20%20%20%20%20var%20html_185c0bc5a77e46e784921c9154e9995b%20%3D%20%24%28%27%3Cdiv%20id%3D%22html_185c0bc5a77e46e784921c9154e9995b%22%20style%3D%22width%3A%20100.0%25%3B%20height%3A%20100.0%25%3B%22%3EAbrantes%20Cluster%200%3C/div%3E%27%29%5B0%5D%3B%0A%20%20%20%20%20%20%20%20%20%20%20%20%20%20%20%20popup_1565e4882a244519921f74d50ed0b9ec.setContent%28html_185c0bc5a77e46e784921c9154e9995b%29%3B%0A%20%20%20%20%20%20%20%20%20%20%20%20%0A%0A%20%20%20%20%20%20%20%20%20%20%20%20circle_marker_7acf996b986d4df49480541db2194e2e.bindPopup%28popup_1565e4882a244519921f74d50ed0b9ec%29%3B%0A%0A%20%20%20%20%20%20%20%20%20%20%20%20%0A%20%20%20%20%20%20%20%20%0A%20%20%20%20%0A%20%20%20%20%20%20%20%20%20%20%20%20var%20circle_marker_3dc2fea935d3407da87d6c9c8c782240%20%3D%20L.circleMarker%28%0A%20%20%20%20%20%20%20%20%20%20%20%20%20%20%20%20%5B40.368611%2C-3.711944%5D%2C%0A%20%20%20%20%20%20%20%20%20%20%20%20%20%20%20%20%7B%0A%20%20%22bubblingMouseEvents%22%3A%20true%2C%0A%20%20%22color%22%3A%20%22%23ff0000%22%2C%0A%20%20%22dashArray%22%3A%20null%2C%0A%20%20%22dashOffset%22%3A%20null%2C%0A%20%20%22fill%22%3A%20true%2C%0A%20%20%22fillColor%22%3A%20%22%23ff0000%22%2C%0A%20%20%22fillOpacity%22%3A%200.7%2C%0A%20%20%22fillRule%22%3A%20%22evenodd%22%2C%0A%20%20%22lineCap%22%3A%20%22round%22%2C%0A%20%20%22lineJoin%22%3A%20%22round%22%2C%0A%20%20%22opacity%22%3A%201.0%2C%0A%20%20%22radius%22%3A%205%2C%0A%20%20%22stroke%22%3A%20true%2C%0A%20%20%22weight%22%3A%203%0A%7D%0A%20%20%20%20%20%20%20%20%20%20%20%20%20%20%20%20%29.addTo%28map_eff47c844de245779793ccb2f8172862%29%3B%0A%20%20%20%20%20%20%20%20%20%20%20%20%0A%20%20%20%20%0A%20%20%20%20%20%20%20%20%20%20%20%20var%20popup_d24416e4303c46e1a349966789352c9b%20%3D%20L.popup%28%7BmaxWidth%3A%20%27300%27%7D%29%3B%0A%0A%20%20%20%20%20%20%20%20%20%20%20%20%0A%20%20%20%20%20%20%20%20%20%20%20%20%20%20%20%20var%20html_0c34bb35676a46839fca8edc5768f065%20%3D%20%24%28%27%3Cdiv%20id%3D%22html_0c34bb35676a46839fca8edc5768f065%22%20style%3D%22width%3A%20100.0%25%3B%20height%3A%20100.0%25%3B%22%3EOrcasitas%20Cluster%200%3C/div%3E%27%29%5B0%5D%3B%0A%20%20%20%20%20%20%20%20%20%20%20%20%20%20%20%20popup_d24416e4303c46e1a349966789352c9b.setContent%28html_0c34bb35676a46839fca8edc5768f065%29%3B%0A%20%20%20%20%20%20%20%20%20%20%20%20%0A%0A%20%20%20%20%20%20%20%20%20%20%20%20circle_marker_3dc2fea935d3407da87d6c9c8c782240.bindPopup%28popup_d24416e4303c46e1a349966789352c9b%29%3B%0A%0A%20%20%20%20%20%20%20%20%20%20%20%20%0A%20%20%20%20%20%20%20%20%0A%20%20%20%20%0A%20%20%20%20%20%20%20%20%20%20%20%20var%20circle_marker_33ba73839955430382fe796f87268347%20%3D%20L.circleMarker%28%0A%20%20%20%20%20%20%20%20%20%20%20%20%20%20%20%20%5B40.367222%2C-3.699167%5D%2C%0A%20%20%20%20%20%20%20%20%20%20%20%20%20%20%20%20%7B%0A%20%20%22bubblingMouseEvents%22%3A%20true%2C%0A%20%20%22color%22%3A%20%22%23ff0000%22%2C%0A%20%20%22dashArray%22%3A%20null%2C%0A%20%20%22dashOffset%22%3A%20null%2C%0A%20%20%22fill%22%3A%20true%2C%0A%20%20%22fillColor%22%3A%20%22%23ff0000%22%2C%0A%20%20%22fillOpacity%22%3A%200.7%2C%0A%20%20%22fillRule%22%3A%20%22evenodd%22%2C%0A%20%20%22lineCap%22%3A%20%22round%22%2C%0A%20%20%22lineJoin%22%3A%20%22round%22%2C%0A%20%20%22opacity%22%3A%201.0%2C%0A%20%20%22radius%22%3A%205%2C%0A%20%20%22stroke%22%3A%20true%2C%0A%20%20%22weight%22%3A%203%0A%7D%0A%20%20%20%20%20%20%20%20%20%20%20%20%20%20%20%20%29.addTo%28map_eff47c844de245779793ccb2f8172862%29%3B%0A%20%20%20%20%20%20%20%20%20%20%20%20%0A%20%20%20%20%0A%20%20%20%20%20%20%20%20%20%20%20%20var%20popup_0e223abf3a104b9bbafa0acd39a2b4d4%20%3D%20L.popup%28%7BmaxWidth%3A%20%27300%27%7D%29%3B%0A%0A%20%20%20%20%20%20%20%20%20%20%20%20%0A%20%20%20%20%20%20%20%20%20%20%20%20%20%20%20%20var%20html_a75ba4e465c54f87a43abcca070d12f0%20%3D%20%24%28%27%3Cdiv%20id%3D%22html_a75ba4e465c54f87a43abcca070d12f0%22%20style%3D%22width%3A%20100.0%25%3B%20height%3A%20100.0%25%3B%22%3EOrcasur%20Cluster%200%3C/div%3E%27%29%5B0%5D%3B%0A%20%20%20%20%20%20%20%20%20%20%20%20%20%20%20%20popup_0e223abf3a104b9bbafa0acd39a2b4d4.setContent%28html_a75ba4e465c54f87a43abcca070d12f0%29%3B%0A%20%20%20%20%20%20%20%20%20%20%20%20%0A%0A%20%20%20%20%20%20%20%20%20%20%20%20circle_marker_33ba73839955430382fe796f87268347.bindPopup%28popup_0e223abf3a104b9bbafa0acd39a2b4d4%29%3B%0A%0A%20%20%20%20%20%20%20%20%20%20%20%20%0A%20%20%20%20%20%20%20%20%0A%20%20%20%20%0A%20%20%20%20%20%20%20%20%20%20%20%20var%20circle_marker_7cc673c76b7c489db9d52420ff9d5a2e%20%3D%20L.circleMarker%28%0A%20%20%20%20%20%20%20%20%20%20%20%20%20%20%20%20%5B40.371667%2C-3.688333%5D%2C%0A%20%20%20%20%20%20%20%20%20%20%20%20%20%20%20%20%7B%0A%20%20%22bubblingMouseEvents%22%3A%20true%2C%0A%20%20%22color%22%3A%20%22%23ff0000%22%2C%0A%20%20%22dashArray%22%3A%20null%2C%0A%20%20%22dashOffset%22%3A%20null%2C%0A%20%20%22fill%22%3A%20true%2C%0A%20%20%22fillColor%22%3A%20%22%23ff0000%22%2C%0A%20%20%22fillOpacity%22%3A%200.7%2C%0A%20%20%22fillRule%22%3A%20%22evenodd%22%2C%0A%20%20%22lineCap%22%3A%20%22round%22%2C%0A%20%20%22lineJoin%22%3A%20%22round%22%2C%0A%20%20%22opacity%22%3A%201.0%2C%0A%20%20%22radius%22%3A%205%2C%0A%20%20%22stroke%22%3A%20true%2C%0A%20%20%22weight%22%3A%203%0A%7D%0A%20%20%20%20%20%20%20%20%20%20%20%20%20%20%20%20%29.addTo%28map_eff47c844de245779793ccb2f8172862%29%3B%0A%20%20%20%20%20%20%20%20%20%20%20%20%0A%20%20%20%20%0A%20%20%20%20%20%20%20%20%20%20%20%20var%20popup_cfb875fec2374845b09d7f4e97d3e95f%20%3D%20L.popup%28%7BmaxWidth%3A%20%27300%27%7D%29%3B%0A%0A%20%20%20%20%20%20%20%20%20%20%20%20%0A%20%20%20%20%20%20%20%20%20%20%20%20%20%20%20%20var%20html_8553ce0f4f02484baab1cd263888ffe4%20%3D%20%24%28%27%3Cdiv%20id%3D%22html_8553ce0f4f02484baab1cd263888ffe4%22%20style%3D%22width%3A%20100.0%25%3B%20height%3A%20100.0%25%3B%22%3ESan%20Fermin%20Cluster%200%3C/div%3E%27%29%5B0%5D%3B%0A%20%20%20%20%20%20%20%20%20%20%20%20%20%20%20%20popup_cfb875fec2374845b09d7f4e97d3e95f.setContent%28html_8553ce0f4f02484baab1cd263888ffe4%29%3B%0A%20%20%20%20%20%20%20%20%20%20%20%20%0A%0A%20%20%20%20%20%20%20%20%20%20%20%20circle_marker_7cc673c76b7c489db9d52420ff9d5a2e.bindPopup%28popup_cfb875fec2374845b09d7f4e97d3e95f%29%3B%0A%0A%20%20%20%20%20%20%20%20%20%20%20%20%0A%20%20%20%20%20%20%20%20%0A%20%20%20%20%0A%20%20%20%20%20%20%20%20%20%20%20%20var%20circle_marker_833e5315015644e69c1751395dd942a2%20%3D%20L.circleMarker%28%0A%20%20%20%20%20%20%20%20%20%20%20%20%20%20%20%20%5B40.383611%2C-3.698889%5D%2C%0A%20%20%20%20%20%20%20%20%20%20%20%20%20%20%20%20%7B%0A%20%20%22bubblingMouseEvents%22%3A%20true%2C%0A%20%20%22color%22%3A%20%22%23ff0000%22%2C%0A%20%20%22dashArray%22%3A%20null%2C%0A%20%20%22dashOffset%22%3A%20null%2C%0A%20%20%22fill%22%3A%20true%2C%0A%20%20%22fillColor%22%3A%20%22%23ff0000%22%2C%0A%20%20%22fillOpacity%22%3A%200.7%2C%0A%20%20%22fillRule%22%3A%20%22evenodd%22%2C%0A%20%20%22lineCap%22%3A%20%22round%22%2C%0A%20%20%22lineJoin%22%3A%20%22round%22%2C%0A%20%20%22opacity%22%3A%201.0%2C%0A%20%20%22radius%22%3A%205%2C%0A%20%20%22stroke%22%3A%20true%2C%0A%20%20%22weight%22%3A%203%0A%7D%0A%20%20%20%20%20%20%20%20%20%20%20%20%20%20%20%20%29.addTo%28map_eff47c844de245779793ccb2f8172862%29%3B%0A%20%20%20%20%20%20%20%20%20%20%20%20%0A%20%20%20%20%0A%20%20%20%20%20%20%20%20%20%20%20%20var%20popup_72e7721540d74be79522ef99668d6c37%20%3D%20L.popup%28%7BmaxWidth%3A%20%27300%27%7D%29%3B%0A%0A%20%20%20%20%20%20%20%20%20%20%20%20%0A%20%20%20%20%20%20%20%20%20%20%20%20%20%20%20%20var%20html_b8fa1d0f5e5d4e63850735517f8d887e%20%3D%20%24%28%27%3Cdiv%20id%3D%22html_b8fa1d0f5e5d4e63850735517f8d887e%22%20style%3D%22width%3A%20100.0%25%3B%20height%3A%20100.0%25%3B%22%3EAlmendrales%20Cluster%200%3C/div%3E%27%29%5B0%5D%3B%0A%20%20%20%20%20%20%20%20%20%20%20%20%20%20%20%20popup_72e7721540d74be79522ef99668d6c37.setContent%28html_b8fa1d0f5e5d4e63850735517f8d887e%29%3B%0A%20%20%20%20%20%20%20%20%20%20%20%20%0A%0A%20%20%20%20%20%20%20%20%20%20%20%20circle_marker_833e5315015644e69c1751395dd942a2.bindPopup%28popup_72e7721540d74be79522ef99668d6c37%29%3B%0A%0A%20%20%20%20%20%20%20%20%20%20%20%20%0A%20%20%20%20%20%20%20%20%0A%20%20%20%20%0A%20%20%20%20%20%20%20%20%20%20%20%20var%20circle_marker_64d7340cf2df4fbabfb2a66165ff34f2%20%3D%20L.circleMarker%28%0A%20%20%20%20%20%20%20%20%20%20%20%20%20%20%20%20%5B40.39%2C-3.707778%5D%2C%0A%20%20%20%20%20%20%20%20%20%20%20%20%20%20%20%20%7B%0A%20%20%22bubblingMouseEvents%22%3A%20true%2C%0A%20%20%22color%22%3A%20%22%23ff0000%22%2C%0A%20%20%22dashArray%22%3A%20null%2C%0A%20%20%22dashOffset%22%3A%20null%2C%0A%20%20%22fill%22%3A%20true%2C%0A%20%20%22fillColor%22%3A%20%22%23ff0000%22%2C%0A%20%20%22fillOpacity%22%3A%200.7%2C%0A%20%20%22fillRule%22%3A%20%22evenodd%22%2C%0A%20%20%22lineCap%22%3A%20%22round%22%2C%0A%20%20%22lineJoin%22%3A%20%22round%22%2C%0A%20%20%22opacity%22%3A%201.0%2C%0A%20%20%22radius%22%3A%205%2C%0A%20%20%22stroke%22%3A%20true%2C%0A%20%20%22weight%22%3A%203%0A%7D%0A%20%20%20%20%20%20%20%20%20%20%20%20%20%20%20%20%29.addTo%28map_eff47c844de245779793ccb2f8172862%29%3B%0A%20%20%20%20%20%20%20%20%20%20%20%20%0A%20%20%20%20%0A%20%20%20%20%20%20%20%20%20%20%20%20var%20popup_0ddfebdb888c4a739d21d9f2d6598b89%20%3D%20L.popup%28%7BmaxWidth%3A%20%27300%27%7D%29%3B%0A%0A%20%20%20%20%20%20%20%20%20%20%20%20%0A%20%20%20%20%20%20%20%20%20%20%20%20%20%20%20%20var%20html_c77c6b69b44a4f4eb485eea54a5cb1cc%20%3D%20%24%28%27%3Cdiv%20id%3D%22html_c77c6b69b44a4f4eb485eea54a5cb1cc%22%20style%3D%22width%3A%20100.0%25%3B%20height%3A%20100.0%25%3B%22%3EMoscardo%20Cluster%200%3C/div%3E%27%29%5B0%5D%3B%0A%20%20%20%20%20%20%20%20%20%20%20%20%20%20%20%20popup_0ddfebdb888c4a739d21d9f2d6598b89.setContent%28html_c77c6b69b44a4f4eb485eea54a5cb1cc%29%3B%0A%20%20%20%20%20%20%20%20%20%20%20%20%0A%0A%20%20%20%20%20%20%20%20%20%20%20%20circle_marker_64d7340cf2df4fbabfb2a66165ff34f2.bindPopup%28popup_0ddfebdb888c4a739d21d9f2d6598b89%29%3B%0A%0A%20%20%20%20%20%20%20%20%20%20%20%20%0A%20%20%20%20%20%20%20%20%0A%20%20%20%20%0A%20%20%20%20%20%20%20%20%20%20%20%20var%20circle_marker_e6d68017aa7e4ee0bd2d2a3590f913b3%20%3D%20L.circleMarker%28%0A%20%20%20%20%20%20%20%20%20%20%20%20%20%20%20%20%5B40.379167%2C-3.715278%5D%2C%0A%20%20%20%20%20%20%20%20%20%20%20%20%20%20%20%20%7B%0A%20%20%22bubblingMouseEvents%22%3A%20true%2C%0A%20%20%22color%22%3A%20%22%23ff0000%22%2C%0A%20%20%22dashArray%22%3A%20null%2C%0A%20%20%22dashOffset%22%3A%20null%2C%0A%20%20%22fill%22%3A%20true%2C%0A%20%20%22fillColor%22%3A%20%22%23ff0000%22%2C%0A%20%20%22fillOpacity%22%3A%200.7%2C%0A%20%20%22fillRule%22%3A%20%22evenodd%22%2C%0A%20%20%22lineCap%22%3A%20%22round%22%2C%0A%20%20%22lineJoin%22%3A%20%22round%22%2C%0A%20%20%22opacity%22%3A%201.0%2C%0A%20%20%22radius%22%3A%205%2C%0A%20%20%22stroke%22%3A%20true%2C%0A%20%20%22weight%22%3A%203%0A%7D%0A%20%20%20%20%20%20%20%20%20%20%20%20%20%20%20%20%29.addTo%28map_eff47c844de245779793ccb2f8172862%29%3B%0A%20%20%20%20%20%20%20%20%20%20%20%20%0A%20%20%20%20%0A%20%20%20%20%20%20%20%20%20%20%20%20var%20popup_f08b4c6f1e3b4b8ab40658e1aa50dc33%20%3D%20L.popup%28%7BmaxWidth%3A%20%27300%27%7D%29%3B%0A%0A%20%20%20%20%20%20%20%20%20%20%20%20%0A%20%20%20%20%20%20%20%20%20%20%20%20%20%20%20%20var%20html_811e5fa5c3764fd8836e6c618947a4f1%20%3D%20%24%28%27%3Cdiv%20id%3D%22html_811e5fa5c3764fd8836e6c618947a4f1%22%20style%3D%22width%3A%20100.0%25%3B%20height%3A%20100.0%25%3B%22%3EZof%C3%ADo%20Cluster%200%3C/div%3E%27%29%5B0%5D%3B%0A%20%20%20%20%20%20%20%20%20%20%20%20%20%20%20%20popup_f08b4c6f1e3b4b8ab40658e1aa50dc33.setContent%28html_811e5fa5c3764fd8836e6c618947a4f1%29%3B%0A%20%20%20%20%20%20%20%20%20%20%20%20%0A%0A%20%20%20%20%20%20%20%20%20%20%20%20circle_marker_e6d68017aa7e4ee0bd2d2a3590f913b3.bindPopup%28popup_f08b4c6f1e3b4b8ab40658e1aa50dc33%29%3B%0A%0A%20%20%20%20%20%20%20%20%20%20%20%20%0A%20%20%20%20%20%20%20%20%0A%20%20%20%20%0A%20%20%20%20%20%20%20%20%20%20%20%20var%20circle_marker_4611cfd56867429793f820eba19ebdd4%20%3D%20L.circleMarker%28%0A%20%20%20%20%20%20%20%20%20%20%20%20%20%20%20%20%5B40.378333%2C-3.706111%5D%2C%0A%20%20%20%20%20%20%20%20%20%20%20%20%20%20%20%20%7B%0A%20%20%22bubblingMouseEvents%22%3A%20true%2C%0A%20%20%22color%22%3A%20%22%23ff0000%22%2C%0A%20%20%22dashArray%22%3A%20null%2C%0A%20%20%22dashOffset%22%3A%20null%2C%0A%20%20%22fill%22%3A%20true%2C%0A%20%20%22fillColor%22%3A%20%22%23ff0000%22%2C%0A%20%20%22fillOpacity%22%3A%200.7%2C%0A%20%20%22fillRule%22%3A%20%22evenodd%22%2C%0A%20%20%22lineCap%22%3A%20%22round%22%2C%0A%20%20%22lineJoin%22%3A%20%22round%22%2C%0A%20%20%22opacity%22%3A%201.0%2C%0A%20%20%22radius%22%3A%205%2C%0A%20%20%22stroke%22%3A%20true%2C%0A%20%20%22weight%22%3A%203%0A%7D%0A%20%20%20%20%20%20%20%20%20%20%20%20%20%20%20%20%29.addTo%28map_eff47c844de245779793ccb2f8172862%29%3B%0A%20%20%20%20%20%20%20%20%20%20%20%20%0A%20%20%20%20%0A%20%20%20%20%20%20%20%20%20%20%20%20var%20popup_437b88fdbb0d4a0e85dc9f3771288984%20%3D%20L.popup%28%7BmaxWidth%3A%20%27300%27%7D%29%3B%0A%0A%20%20%20%20%20%20%20%20%20%20%20%20%0A%20%20%20%20%20%20%20%20%20%20%20%20%20%20%20%20var%20html_961d147e259642648b3d28a0262c272c%20%3D%20%24%28%27%3Cdiv%20id%3D%22html_961d147e259642648b3d28a0262c272c%22%20style%3D%22width%3A%20100.0%25%3B%20height%3A%20100.0%25%3B%22%3EPradolongo%20Cluster%200%3C/div%3E%27%29%5B0%5D%3B%0A%20%20%20%20%20%20%20%20%20%20%20%20%20%20%20%20popup_437b88fdbb0d4a0e85dc9f3771288984.setContent%28html_961d147e259642648b3d28a0262c272c%29%3B%0A%20%20%20%20%20%20%20%20%20%20%20%20%0A%0A%20%20%20%20%20%20%20%20%20%20%20%20circle_marker_4611cfd56867429793f820eba19ebdd4.bindPopup%28popup_437b88fdbb0d4a0e85dc9f3771288984%29%3B%0A%0A%20%20%20%20%20%20%20%20%20%20%20%20%0A%20%20%20%20%20%20%20%20%0A%20%20%20%20%0A%20%20%20%20%20%20%20%20%20%20%20%20var%20circle_marker_c4db4a5de5ec4efd985d2eb135f55494%20%3D%20L.circleMarker%28%0A%20%20%20%20%20%20%20%20%20%20%20%20%20%20%20%20%5B40.4%2C-3.683333%5D%2C%0A%20%20%20%20%20%20%20%20%20%20%20%20%20%20%20%20%7B%0A%20%20%22bubblingMouseEvents%22%3A%20true%2C%0A%20%20%22color%22%3A%20%22%23ff0000%22%2C%0A%20%20%22dashArray%22%3A%20null%2C%0A%20%20%22dashOffset%22%3A%20null%2C%0A%20%20%22fill%22%3A%20true%2C%0A%20%20%22fillColor%22%3A%20%22%23ff0000%22%2C%0A%20%20%22fillOpacity%22%3A%200.7%2C%0A%20%20%22fillRule%22%3A%20%22evenodd%22%2C%0A%20%20%22lineCap%22%3A%20%22round%22%2C%0A%20%20%22lineJoin%22%3A%20%22round%22%2C%0A%20%20%22opacity%22%3A%201.0%2C%0A%20%20%22radius%22%3A%205%2C%0A%20%20%22stroke%22%3A%20true%2C%0A%20%20%22weight%22%3A%203%0A%7D%0A%20%20%20%20%20%20%20%20%20%20%20%20%20%20%20%20%29.addTo%28map_eff47c844de245779793ccb2f8172862%29%3B%0A%20%20%20%20%20%20%20%20%20%20%20%20%0A%20%20%20%20%0A%20%20%20%20%20%20%20%20%20%20%20%20var%20popup_84f8b982c09c4311a48d06b9f07a5386%20%3D%20L.popup%28%7BmaxWidth%3A%20%27300%27%7D%29%3B%0A%0A%20%20%20%20%20%20%20%20%20%20%20%20%0A%20%20%20%20%20%20%20%20%20%20%20%20%20%20%20%20var%20html_7071dc41844647d8b769169d9d9784fb%20%3D%20%24%28%27%3Cdiv%20id%3D%22html_7071dc41844647d8b769169d9d9784fb%22%20style%3D%22width%3A%20100.0%25%3B%20height%3A%20100.0%25%3B%22%3EEntrevias%20Cluster%200%3C/div%3E%27%29%5B0%5D%3B%0A%20%20%20%20%20%20%20%20%20%20%20%20%20%20%20%20popup_84f8b982c09c4311a48d06b9f07a5386.setContent%28html_7071dc41844647d8b769169d9d9784fb%29%3B%0A%20%20%20%20%20%20%20%20%20%20%20%20%0A%0A%20%20%20%20%20%20%20%20%20%20%20%20circle_marker_c4db4a5de5ec4efd985d2eb135f55494.bindPopup%28popup_84f8b982c09c4311a48d06b9f07a5386%29%3B%0A%0A%20%20%20%20%20%20%20%20%20%20%20%20%0A%20%20%20%20%20%20%20%20%0A%20%20%20%20%0A%20%20%20%20%20%20%20%20%20%20%20%20var%20circle_marker_4def49f9fef848eb8bf5fca5f17de09d%20%3D%20L.circleMarker%28%0A%20%20%20%20%20%20%20%20%20%20%20%20%20%20%20%20%5B40.396389%2C-3.667222%5D%2C%0A%20%20%20%20%20%20%20%20%20%20%20%20%20%20%20%20%7B%0A%20%20%22bubblingMouseEvents%22%3A%20true%2C%0A%20%20%22color%22%3A%20%22%23ff0000%22%2C%0A%20%20%22dashArray%22%3A%20null%2C%0A%20%20%22dashOffset%22%3A%20null%2C%0A%20%20%22fill%22%3A%20true%2C%0A%20%20%22fillColor%22%3A%20%22%23ff0000%22%2C%0A%20%20%22fillOpacity%22%3A%200.7%2C%0A%20%20%22fillRule%22%3A%20%22evenodd%22%2C%0A%20%20%22lineCap%22%3A%20%22round%22%2C%0A%20%20%22lineJoin%22%3A%20%22round%22%2C%0A%20%20%22opacity%22%3A%201.0%2C%0A%20%20%22radius%22%3A%205%2C%0A%20%20%22stroke%22%3A%20true%2C%0A%20%20%22weight%22%3A%203%0A%7D%0A%20%20%20%20%20%20%20%20%20%20%20%20%20%20%20%20%29.addTo%28map_eff47c844de245779793ccb2f8172862%29%3B%0A%20%20%20%20%20%20%20%20%20%20%20%20%0A%20%20%20%20%0A%20%20%20%20%20%20%20%20%20%20%20%20var%20popup_9cb72725eb124ef38ab2872bc68be7a5%20%3D%20L.popup%28%7BmaxWidth%3A%20%27300%27%7D%29%3B%0A%0A%20%20%20%20%20%20%20%20%20%20%20%20%0A%20%20%20%20%20%20%20%20%20%20%20%20%20%20%20%20var%20html_1d3ab98d561348bc9c6e0357537d13b3%20%3D%20%24%28%27%3Cdiv%20id%3D%22html_1d3ab98d561348bc9c6e0357537d13b3%22%20style%3D%22width%3A%20100.0%25%3B%20height%3A%20100.0%25%3B%22%3ESan%20Diego%20Cluster%200%3C/div%3E%27%29%5B0%5D%3B%0A%20%20%20%20%20%20%20%20%20%20%20%20%20%20%20%20popup_9cb72725eb124ef38ab2872bc68be7a5.setContent%28html_1d3ab98d561348bc9c6e0357537d13b3%29%3B%0A%20%20%20%20%20%20%20%20%20%20%20%20%0A%0A%20%20%20%20%20%20%20%20%20%20%20%20circle_marker_4def49f9fef848eb8bf5fca5f17de09d.bindPopup%28popup_9cb72725eb124ef38ab2872bc68be7a5%29%3B%0A%0A%20%20%20%20%20%20%20%20%20%20%20%20%0A%20%20%20%20%20%20%20%20%0A%20%20%20%20%0A%20%20%20%20%20%20%20%20%20%20%20%20var%20circle_marker_9b1424c0bac848678b55dbdf343969f2%20%3D%20L.circleMarker%28%0A%20%20%20%20%20%20%20%20%20%20%20%20%20%20%20%20%5B40.387222%2C-3.657222%5D%2C%0A%20%20%20%20%20%20%20%20%20%20%20%20%20%20%20%20%7B%0A%20%20%22bubblingMouseEvents%22%3A%20true%2C%0A%20%20%22color%22%3A%20%22%23ff0000%22%2C%0A%20%20%22dashArray%22%3A%20null%2C%0A%20%20%22dashOffset%22%3A%20null%2C%0A%20%20%22fill%22%3A%20true%2C%0A%20%20%22fillColor%22%3A%20%22%23ff0000%22%2C%0A%20%20%22fillOpacity%22%3A%200.7%2C%0A%20%20%22fillRule%22%3A%20%22evenodd%22%2C%0A%20%20%22lineCap%22%3A%20%22round%22%2C%0A%20%20%22lineJoin%22%3A%20%22round%22%2C%0A%20%20%22opacity%22%3A%201.0%2C%0A%20%20%22radius%22%3A%205%2C%0A%20%20%22stroke%22%3A%20true%2C%0A%20%20%22weight%22%3A%203%0A%7D%0A%20%20%20%20%20%20%20%20%20%20%20%20%20%20%20%20%29.addTo%28map_eff47c844de245779793ccb2f8172862%29%3B%0A%20%20%20%20%20%20%20%20%20%20%20%20%0A%20%20%20%20%0A%20%20%20%20%20%20%20%20%20%20%20%20var%20popup_7334f268e79142928eb9c812591ac2c3%20%3D%20L.popup%28%7BmaxWidth%3A%20%27300%27%7D%29%3B%0A%0A%20%20%20%20%20%20%20%20%20%20%20%20%0A%20%20%20%20%20%20%20%20%20%20%20%20%20%20%20%20var%20html_86e0c29c776040e7b973e5b8e0d84d8d%20%3D%20%24%28%27%3Cdiv%20id%3D%22html_86e0c29c776040e7b973e5b8e0d84d8d%22%20style%3D%22width%3A%20100.0%25%3B%20height%3A%20100.0%25%3B%22%3EPalomeras%20Bajas%20Cluster%200%3C/div%3E%27%29%5B0%5D%3B%0A%20%20%20%20%20%20%20%20%20%20%20%20%20%20%20%20popup_7334f268e79142928eb9c812591ac2c3.setContent%28html_86e0c29c776040e7b973e5b8e0d84d8d%29%3B%0A%20%20%20%20%20%20%20%20%20%20%20%20%0A%0A%20%20%20%20%20%20%20%20%20%20%20%20circle_marker_9b1424c0bac848678b55dbdf343969f2.bindPopup%28popup_7334f268e79142928eb9c812591ac2c3%29%3B%0A%0A%20%20%20%20%20%20%20%20%20%20%20%20%0A%20%20%20%20%20%20%20%20%0A%20%20%20%20%0A%20%20%20%20%20%20%20%20%20%20%20%20var%20circle_marker_715f3824efa046a9bfcacecf6c12fd70%20%3D%20L.circleMarker%28%0A%20%20%20%20%20%20%20%20%20%20%20%20%20%20%20%20%5B40.387778%2C-3.639444%5D%2C%0A%20%20%20%20%20%20%20%20%20%20%20%20%20%20%20%20%7B%0A%20%20%22bubblingMouseEvents%22%3A%20true%2C%0A%20%20%22color%22%3A%20%22%23ff0000%22%2C%0A%20%20%22dashArray%22%3A%20null%2C%0A%20%20%22dashOffset%22%3A%20null%2C%0A%20%20%22fill%22%3A%20true%2C%0A%20%20%22fillColor%22%3A%20%22%23ff0000%22%2C%0A%20%20%22fillOpacity%22%3A%200.7%2C%0A%20%20%22fillRule%22%3A%20%22evenodd%22%2C%0A%20%20%22lineCap%22%3A%20%22round%22%2C%0A%20%20%22lineJoin%22%3A%20%22round%22%2C%0A%20%20%22opacity%22%3A%201.0%2C%0A%20%20%22radius%22%3A%205%2C%0A%20%20%22stroke%22%3A%20true%2C%0A%20%20%22weight%22%3A%203%0A%7D%0A%20%20%20%20%20%20%20%20%20%20%20%20%20%20%20%20%29.addTo%28map_eff47c844de245779793ccb2f8172862%29%3B%0A%20%20%20%20%20%20%20%20%20%20%20%20%0A%20%20%20%20%0A%20%20%20%20%20%20%20%20%20%20%20%20var%20popup_1671a3adcd4d49e7bb69283922ee61d5%20%3D%20L.popup%28%7BmaxWidth%3A%20%27300%27%7D%29%3B%0A%0A%20%20%20%20%20%20%20%20%20%20%20%20%0A%20%20%20%20%20%20%20%20%20%20%20%20%20%20%20%20var%20html_a67a8e3076ef49ed89cb5fde1ad6fb7c%20%3D%20%24%28%27%3Cdiv%20id%3D%22html_a67a8e3076ef49ed89cb5fde1ad6fb7c%22%20style%3D%22width%3A%20100.0%25%3B%20height%3A%20100.0%25%3B%22%3EPalomeras%20Sureste%20Cluster%200%3C/div%3E%27%29%5B0%5D%3B%0A%20%20%20%20%20%20%20%20%20%20%20%20%20%20%20%20popup_1671a3adcd4d49e7bb69283922ee61d5.setContent%28html_a67a8e3076ef49ed89cb5fde1ad6fb7c%29%3B%0A%20%20%20%20%20%20%20%20%20%20%20%20%0A%0A%20%20%20%20%20%20%20%20%20%20%20%20circle_marker_715f3824efa046a9bfcacecf6c12fd70.bindPopup%28popup_1671a3adcd4d49e7bb69283922ee61d5%29%3B%0A%0A%20%20%20%20%20%20%20%20%20%20%20%20%0A%20%20%20%20%20%20%20%20%0A%20%20%20%20%0A%20%20%20%20%20%20%20%20%20%20%20%20var%20circle_marker_7d465600f59f4cdfa3d9af522c6a333e%20%3D%20L.circleMarker%28%0A%20%20%20%20%20%20%20%20%20%20%20%20%20%20%20%20%5B40.3925%2C-3.649722%5D%2C%0A%20%20%20%20%20%20%20%20%20%20%20%20%20%20%20%20%7B%0A%20%20%22bubblingMouseEvents%22%3A%20true%2C%0A%20%20%22color%22%3A%20%22%23ff0000%22%2C%0A%20%20%22dashArray%22%3A%20null%2C%0A%20%20%22dashOffset%22%3A%20null%2C%0A%20%20%22fill%22%3A%20true%2C%0A%20%20%22fillColor%22%3A%20%22%23ff0000%22%2C%0A%20%20%22fillOpacity%22%3A%200.7%2C%0A%20%20%22fillRule%22%3A%20%22evenodd%22%2C%0A%20%20%22lineCap%22%3A%20%22round%22%2C%0A%20%20%22lineJoin%22%3A%20%22round%22%2C%0A%20%20%22opacity%22%3A%201.0%2C%0A%20%20%22radius%22%3A%205%2C%0A%20%20%22stroke%22%3A%20true%2C%0A%20%20%22weight%22%3A%203%0A%7D%0A%20%20%20%20%20%20%20%20%20%20%20%20%20%20%20%20%29.addTo%28map_eff47c844de245779793ccb2f8172862%29%3B%0A%20%20%20%20%20%20%20%20%20%20%20%20%0A%20%20%20%20%0A%20%20%20%20%20%20%20%20%20%20%20%20var%20popup_76e78f8457ae48b4835be06eb3021f56%20%3D%20L.popup%28%7BmaxWidth%3A%20%27300%27%7D%29%3B%0A%0A%20%20%20%20%20%20%20%20%20%20%20%20%0A%20%20%20%20%20%20%20%20%20%20%20%20%20%20%20%20var%20html_6e193e5256274d47871f5f697fd3c20e%20%3D%20%24%28%27%3Cdiv%20id%3D%22html_6e193e5256274d47871f5f697fd3c20e%22%20style%3D%22width%3A%20100.0%25%3B%20height%3A%20100.0%25%3B%22%3EPortazgo%20Cluster%200%3C/div%3E%27%29%5B0%5D%3B%0A%20%20%20%20%20%20%20%20%20%20%20%20%20%20%20%20popup_76e78f8457ae48b4835be06eb3021f56.setContent%28html_6e193e5256274d47871f5f697fd3c20e%29%3B%0A%20%20%20%20%20%20%20%20%20%20%20%20%0A%0A%20%20%20%20%20%20%20%20%20%20%20%20circle_marker_7d465600f59f4cdfa3d9af522c6a333e.bindPopup%28popup_76e78f8457ae48b4835be06eb3021f56%29%3B%0A%0A%20%20%20%20%20%20%20%20%20%20%20%20%0A%20%20%20%20%20%20%20%20%0A%20%20%20%20%0A%20%20%20%20%20%20%20%20%20%20%20%20var%20circle_marker_159da1b685db41779639365196ac4dcc%20%3D%20L.circleMarker%28%0A%20%20%20%20%20%20%20%20%20%20%20%20%20%20%20%20%5B40.400833%2C-3.663056%5D%2C%0A%20%20%20%20%20%20%20%20%20%20%20%20%20%20%20%20%7B%0A%20%20%22bubblingMouseEvents%22%3A%20true%2C%0A%20%20%22color%22%3A%20%22%23ff0000%22%2C%0A%20%20%22dashArray%22%3A%20null%2C%0A%20%20%22dashOffset%22%3A%20null%2C%0A%20%20%22fill%22%3A%20true%2C%0A%20%20%22fillColor%22%3A%20%22%23ff0000%22%2C%0A%20%20%22fillOpacity%22%3A%200.7%2C%0A%20%20%22fillRule%22%3A%20%22evenodd%22%2C%0A%20%20%22lineCap%22%3A%20%22round%22%2C%0A%20%20%22lineJoin%22%3A%20%22round%22%2C%0A%20%20%22opacity%22%3A%201.0%2C%0A%20%20%22radius%22%3A%205%2C%0A%20%20%22stroke%22%3A%20true%2C%0A%20%20%22weight%22%3A%203%0A%7D%0A%20%20%20%20%20%20%20%20%20%20%20%20%20%20%20%20%29.addTo%28map_eff47c844de245779793ccb2f8172862%29%3B%0A%20%20%20%20%20%20%20%20%20%20%20%20%0A%20%20%20%20%0A%20%20%20%20%20%20%20%20%20%20%20%20var%20popup_88b6e112197648e6bf76a7ee652cd53b%20%3D%20L.popup%28%7BmaxWidth%3A%20%27300%27%7D%29%3B%0A%0A%20%20%20%20%20%20%20%20%20%20%20%20%0A%20%20%20%20%20%20%20%20%20%20%20%20%20%20%20%20var%20html_76dcf8d47bbd414ebfca3b35253a2c70%20%3D%20%24%28%27%3Cdiv%20id%3D%22html_76dcf8d47bbd414ebfca3b35253a2c70%22%20style%3D%22width%3A%20100.0%25%3B%20height%3A%20100.0%25%3B%22%3ENumancia%20Cluster%200%3C/div%3E%27%29%5B0%5D%3B%0A%20%20%20%20%20%20%20%20%20%20%20%20%20%20%20%20popup_88b6e112197648e6bf76a7ee652cd53b.setContent%28html_76dcf8d47bbd414ebfca3b35253a2c70%29%3B%0A%20%20%20%20%20%20%20%20%20%20%20%20%0A%0A%20%20%20%20%20%20%20%20%20%20%20%20circle_marker_159da1b685db41779639365196ac4dcc.bindPopup%28popup_88b6e112197648e6bf76a7ee652cd53b%29%3B%0A%0A%20%20%20%20%20%20%20%20%20%20%20%20%0A%20%20%20%20%20%20%20%20%0A%20%20%20%20%0A%20%20%20%20%20%20%20%20%20%20%20%20var%20circle_marker_d435788e5e5e4b3181dc79d7a3d86a76%20%3D%20L.circleMarker%28%0A%20%20%20%20%20%20%20%20%20%20%20%20%20%20%20%20%5B40.394722%2C-3.633056%5D%2C%0A%20%20%20%20%20%20%20%20%20%20%20%20%20%20%20%20%7B%0A%20%20%22bubblingMouseEvents%22%3A%20true%2C%0A%20%20%22color%22%3A%20%22%23ff0000%22%2C%0A%20%20%22dashArray%22%3A%20null%2C%0A%20%20%22dashOffset%22%3A%20null%2C%0A%20%20%22fill%22%3A%20true%2C%0A%20%20%22fillColor%22%3A%20%22%23ff0000%22%2C%0A%20%20%22fillOpacity%22%3A%200.7%2C%0A%20%20%22fillRule%22%3A%20%22evenodd%22%2C%0A%20%20%22lineCap%22%3A%20%22round%22%2C%0A%20%20%22lineJoin%22%3A%20%22round%22%2C%0A%20%20%22opacity%22%3A%201.0%2C%0A%20%20%22radius%22%3A%205%2C%0A%20%20%22stroke%22%3A%20true%2C%0A%20%20%22weight%22%3A%203%0A%7D%0A%20%20%20%20%20%20%20%20%20%20%20%20%20%20%20%20%29.addTo%28map_eff47c844de245779793ccb2f8172862%29%3B%0A%20%20%20%20%20%20%20%20%20%20%20%20%0A%20%20%20%20%0A%20%20%20%20%20%20%20%20%20%20%20%20var%20popup_30104126049348d0901f7c993e42a03b%20%3D%20L.popup%28%7BmaxWidth%3A%20%27300%27%7D%29%3B%0A%0A%20%20%20%20%20%20%20%20%20%20%20%20%0A%20%20%20%20%20%20%20%20%20%20%20%20%20%20%20%20var%20html_708fa58cfd094c099691c63046457dc7%20%3D%20%24%28%27%3Cdiv%20id%3D%22html_708fa58cfd094c099691c63046457dc7%22%20style%3D%22width%3A%20100.0%25%3B%20height%3A%20100.0%25%3B%22%3EPavones%20Cluster%200%3C/div%3E%27%29%5B0%5D%3B%0A%20%20%20%20%20%20%20%20%20%20%20%20%20%20%20%20popup_30104126049348d0901f7c993e42a03b.setContent%28html_708fa58cfd094c099691c63046457dc7%29%3B%0A%20%20%20%20%20%20%20%20%20%20%20%20%0A%0A%20%20%20%20%20%20%20%20%20%20%20%20circle_marker_d435788e5e5e4b3181dc79d7a3d86a76.bindPopup%28popup_30104126049348d0901f7c993e42a03b%29%3B%0A%0A%20%20%20%20%20%20%20%20%20%20%20%20%0A%20%20%20%20%20%20%20%20%0A%20%20%20%20%0A%20%20%20%20%20%20%20%20%20%20%20%20var%20circle_marker_f44a2bfa679a4ab9aa35003cf9fd4f1d%20%3D%20L.circleMarker%28%0A%20%20%20%20%20%20%20%20%20%20%20%20%20%20%20%20%5B40.411389%2C-3.626944%5D%2C%0A%20%20%20%20%20%20%20%20%20%20%20%20%20%20%20%20%7B%0A%20%20%22bubblingMouseEvents%22%3A%20true%2C%0A%20%20%22color%22%3A%20%22%23ff0000%22%2C%0A%20%20%22dashArray%22%3A%20null%2C%0A%20%20%22dashOffset%22%3A%20null%2C%0A%20%20%22fill%22%3A%20true%2C%0A%20%20%22fillColor%22%3A%20%22%23ff0000%22%2C%0A%20%20%22fillOpacity%22%3A%200.7%2C%0A%20%20%22fillRule%22%3A%20%22evenodd%22%2C%0A%20%20%22lineCap%22%3A%20%22round%22%2C%0A%20%20%22lineJoin%22%3A%20%22round%22%2C%0A%20%20%22opacity%22%3A%201.0%2C%0A%20%20%22radius%22%3A%205%2C%0A%20%20%22stroke%22%3A%20true%2C%0A%20%20%22weight%22%3A%203%0A%7D%0A%20%20%20%20%20%20%20%20%20%20%20%20%20%20%20%20%29.addTo%28map_eff47c844de245779793ccb2f8172862%29%3B%0A%20%20%20%20%20%20%20%20%20%20%20%20%0A%20%20%20%20%0A%20%20%20%20%20%20%20%20%20%20%20%20var%20popup_9dc3d822d70e4168bb1d917da9b793f4%20%3D%20L.popup%28%7BmaxWidth%3A%20%27300%27%7D%29%3B%0A%0A%20%20%20%20%20%20%20%20%20%20%20%20%0A%20%20%20%20%20%20%20%20%20%20%20%20%20%20%20%20var%20html_d8174e17501643699860d9cec5bc68bf%20%3D%20%24%28%27%3Cdiv%20id%3D%22html_d8174e17501643699860d9cec5bc68bf%22%20style%3D%22width%3A%20100.0%25%3B%20height%3A%20100.0%25%3B%22%3EHorcajo%20Cluster%200%3C/div%3E%27%29%5B0%5D%3B%0A%20%20%20%20%20%20%20%20%20%20%20%20%20%20%20%20popup_9dc3d822d70e4168bb1d917da9b793f4.setContent%28html_d8174e17501643699860d9cec5bc68bf%29%3B%0A%20%20%20%20%20%20%20%20%20%20%20%20%0A%0A%20%20%20%20%20%20%20%20%20%20%20%20circle_marker_f44a2bfa679a4ab9aa35003cf9fd4f1d.bindPopup%28popup_9dc3d822d70e4168bb1d917da9b793f4%29%3B%0A%0A%20%20%20%20%20%20%20%20%20%20%20%20%0A%20%20%20%20%20%20%20%20%0A%20%20%20%20%0A%20%20%20%20%20%20%20%20%20%20%20%20var%20circle_marker_f7d36c53e00d4f9cab2163f96aecdbf2%20%3D%20L.circleMarker%28%0A%20%20%20%20%20%20%20%20%20%20%20%20%20%20%20%20%5B40.411111%2C-3.641111%5D%2C%0A%20%20%20%20%20%20%20%20%20%20%20%20%20%20%20%20%7B%0A%20%20%22bubblingMouseEvents%22%3A%20true%2C%0A%20%20%22color%22%3A%20%22%23ff0000%22%2C%0A%20%20%22dashArray%22%3A%20null%2C%0A%20%20%22dashOffset%22%3A%20null%2C%0A%20%20%22fill%22%3A%20true%2C%0A%20%20%22fillColor%22%3A%20%22%23ff0000%22%2C%0A%20%20%22fillOpacity%22%3A%200.7%2C%0A%20%20%22fillRule%22%3A%20%22evenodd%22%2C%0A%20%20%22lineCap%22%3A%20%22round%22%2C%0A%20%20%22lineJoin%22%3A%20%22round%22%2C%0A%20%20%22opacity%22%3A%201.0%2C%0A%20%20%22radius%22%3A%205%2C%0A%20%20%22stroke%22%3A%20true%2C%0A%20%20%22weight%22%3A%203%0A%7D%0A%20%20%20%20%20%20%20%20%20%20%20%20%20%20%20%20%29.addTo%28map_eff47c844de245779793ccb2f8172862%29%3B%0A%20%20%20%20%20%20%20%20%20%20%20%20%0A%20%20%20%20%0A%20%20%20%20%20%20%20%20%20%20%20%20var%20popup_968079d20ffd4a0bbabddde43c409e27%20%3D%20L.popup%28%7BmaxWidth%3A%20%27300%27%7D%29%3B%0A%0A%20%20%20%20%20%20%20%20%20%20%20%20%0A%20%20%20%20%20%20%20%20%20%20%20%20%20%20%20%20var%20html_80c51c6795564392877043fd23b377d2%20%3D%20%24%28%27%3Cdiv%20id%3D%22html_80c51c6795564392877043fd23b377d2%22%20style%3D%22width%3A%20100.0%25%3B%20height%3A%20100.0%25%3B%22%3EMarroquina%20Cluster%200%3C/div%3E%27%29%5B0%5D%3B%0A%20%20%20%20%20%20%20%20%20%20%20%20%20%20%20%20popup_968079d20ffd4a0bbabddde43c409e27.setContent%28html_80c51c6795564392877043fd23b377d2%29%3B%0A%20%20%20%20%20%20%20%20%20%20%20%20%0A%0A%20%20%20%20%20%20%20%20%20%20%20%20circle_marker_f7d36c53e00d4f9cab2163f96aecdbf2.bindPopup%28popup_968079d20ffd4a0bbabddde43c409e27%29%3B%0A%0A%20%20%20%20%20%20%20%20%20%20%20%20%0A%20%20%20%20%20%20%20%20%0A%20%20%20%20%0A%20%20%20%20%20%20%20%20%20%20%20%20var%20circle_marker_d1baa47a7596497cb65dce5d7967c208%20%3D%20L.circleMarker%28%0A%20%20%20%20%20%20%20%20%20%20%20%20%20%20%20%20%5B40.414167%2C-3.654722%5D%2C%0A%20%20%20%20%20%20%20%20%20%20%20%20%20%20%20%20%7B%0A%20%20%22bubblingMouseEvents%22%3A%20true%2C%0A%20%20%22color%22%3A%20%22%23ff0000%22%2C%0A%20%20%22dashArray%22%3A%20null%2C%0A%20%20%22dashOffset%22%3A%20null%2C%0A%20%20%22fill%22%3A%20true%2C%0A%20%20%22fillColor%22%3A%20%22%23ff0000%22%2C%0A%20%20%22fillOpacity%22%3A%200.7%2C%0A%20%20%22fillRule%22%3A%20%22evenodd%22%2C%0A%20%20%22lineCap%22%3A%20%22round%22%2C%0A%20%20%22lineJoin%22%3A%20%22round%22%2C%0A%20%20%22opacity%22%3A%201.0%2C%0A%20%20%22radius%22%3A%205%2C%0A%20%20%22stroke%22%3A%20true%2C%0A%20%20%22weight%22%3A%203%0A%7D%0A%20%20%20%20%20%20%20%20%20%20%20%20%20%20%20%20%29.addTo%28map_eff47c844de245779793ccb2f8172862%29%3B%0A%20%20%20%20%20%20%20%20%20%20%20%20%0A%20%20%20%20%0A%20%20%20%20%20%20%20%20%20%20%20%20var%20popup_7c5e3e5ab77d43998f11e3c8157ea35f%20%3D%20L.popup%28%7BmaxWidth%3A%20%27300%27%7D%29%3B%0A%0A%20%20%20%20%20%20%20%20%20%20%20%20%0A%20%20%20%20%20%20%20%20%20%20%20%20%20%20%20%20var%20html_60db574fb4f24cafa4f7d67e44ab15a7%20%3D%20%24%28%27%3Cdiv%20id%3D%22html_60db574fb4f24cafa4f7d67e44ab15a7%22%20style%3D%22width%3A%20100.0%25%3B%20height%3A%20100.0%25%3B%22%3EMedia%20Legua%20Cluster%200%3C/div%3E%27%29%5B0%5D%3B%0A%20%20%20%20%20%20%20%20%20%20%20%20%20%20%20%20popup_7c5e3e5ab77d43998f11e3c8157ea35f.setContent%28html_60db574fb4f24cafa4f7d67e44ab15a7%29%3B%0A%20%20%20%20%20%20%20%20%20%20%20%20%0A%0A%20%20%20%20%20%20%20%20%20%20%20%20circle_marker_d1baa47a7596497cb65dce5d7967c208.bindPopup%28popup_7c5e3e5ab77d43998f11e3c8157ea35f%29%3B%0A%0A%20%20%20%20%20%20%20%20%20%20%20%20%0A%20%20%20%20%20%20%20%20%0A%20%20%20%20%0A%20%20%20%20%20%20%20%20%20%20%20%20var%20circle_marker_0035727bd8644caab529e3fa460d35e8%20%3D%20L.circleMarker%28%0A%20%20%20%20%20%20%20%20%20%20%20%20%20%20%20%20%5B40.40139%2C-3.64528%5D%2C%0A%20%20%20%20%20%20%20%20%20%20%20%20%20%20%20%20%7B%0A%20%20%22bubblingMouseEvents%22%3A%20true%2C%0A%20%20%22color%22%3A%20%22%23ff0000%22%2C%0A%20%20%22dashArray%22%3A%20null%2C%0A%20%20%22dashOffset%22%3A%20null%2C%0A%20%20%22fill%22%3A%20true%2C%0A%20%20%22fillColor%22%3A%20%22%23ff0000%22%2C%0A%20%20%22fillOpacity%22%3A%200.7%2C%0A%20%20%22fillRule%22%3A%20%22evenodd%22%2C%0A%20%20%22lineCap%22%3A%20%22round%22%2C%0A%20%20%22lineJoin%22%3A%20%22round%22%2C%0A%20%20%22opacity%22%3A%201.0%2C%0A%20%20%22radius%22%3A%205%2C%0A%20%20%22stroke%22%3A%20true%2C%0A%20%20%22weight%22%3A%203%0A%7D%0A%20%20%20%20%20%20%20%20%20%20%20%20%20%20%20%20%29.addTo%28map_eff47c844de245779793ccb2f8172862%29%3B%0A%20%20%20%20%20%20%20%20%20%20%20%20%0A%20%20%20%20%0A%20%20%20%20%20%20%20%20%20%20%20%20var%20popup_693faaae0c6245cda9ffd9eeda43d76b%20%3D%20L.popup%28%7BmaxWidth%3A%20%27300%27%7D%29%3B%0A%0A%20%20%20%20%20%20%20%20%20%20%20%20%0A%20%20%20%20%20%20%20%20%20%20%20%20%20%20%20%20var%20html_edd507a6c89d42a3a1b5989cfcee2e96%20%3D%20%24%28%27%3Cdiv%20id%3D%22html_edd507a6c89d42a3a1b5989cfcee2e96%22%20style%3D%22width%3A%20100.0%25%3B%20height%3A%20100.0%25%3B%22%3EFontarron%20Cluster%200%3C/div%3E%27%29%5B0%5D%3B%0A%20%20%20%20%20%20%20%20%20%20%20%20%20%20%20%20popup_693faaae0c6245cda9ffd9eeda43d76b.setContent%28html_edd507a6c89d42a3a1b5989cfcee2e96%29%3B%0A%20%20%20%20%20%20%20%20%20%20%20%20%0A%0A%20%20%20%20%20%20%20%20%20%20%20%20circle_marker_0035727bd8644caab529e3fa460d35e8.bindPopup%28popup_693faaae0c6245cda9ffd9eeda43d76b%29%3B%0A%0A%20%20%20%20%20%20%20%20%20%20%20%20%0A%20%20%20%20%20%20%20%20%0A%20%20%20%20%0A%20%20%20%20%20%20%20%20%20%20%20%20var%20circle_marker_3dea969df29c4aef96ee68607e2816f7%20%3D%20L.circleMarker%28%0A%20%20%20%20%20%20%20%20%20%20%20%20%20%20%20%20%5B40.403056%2C-3.640278%5D%2C%0A%20%20%20%20%20%20%20%20%20%20%20%20%20%20%20%20%7B%0A%20%20%22bubblingMouseEvents%22%3A%20true%2C%0A%20%20%22color%22%3A%20%22%23ff0000%22%2C%0A%20%20%22dashArray%22%3A%20null%2C%0A%20%20%22dashOffset%22%3A%20null%2C%0A%20%20%22fill%22%3A%20true%2C%0A%20%20%22fillColor%22%3A%20%22%23ff0000%22%2C%0A%20%20%22fillOpacity%22%3A%200.7%2C%0A%20%20%22fillRule%22%3A%20%22evenodd%22%2C%0A%20%20%22lineCap%22%3A%20%22round%22%2C%0A%20%20%22lineJoin%22%3A%20%22round%22%2C%0A%20%20%22opacity%22%3A%201.0%2C%0A%20%20%22radius%22%3A%205%2C%0A%20%20%22stroke%22%3A%20true%2C%0A%20%20%22weight%22%3A%203%0A%7D%0A%20%20%20%20%20%20%20%20%20%20%20%20%20%20%20%20%29.addTo%28map_eff47c844de245779793ccb2f8172862%29%3B%0A%20%20%20%20%20%20%20%20%20%20%20%20%0A%20%20%20%20%0A%20%20%20%20%20%20%20%20%20%20%20%20var%20popup_31ab1bd7fa2244d084a6b30c27f18640%20%3D%20L.popup%28%7BmaxWidth%3A%20%27300%27%7D%29%3B%0A%0A%20%20%20%20%20%20%20%20%20%20%20%20%0A%20%20%20%20%20%20%20%20%20%20%20%20%20%20%20%20var%20html_5425e585de0b4500a9d6781119c92b04%20%3D%20%24%28%27%3Cdiv%20id%3D%22html_5425e585de0b4500a9d6781119c92b04%22%20style%3D%22width%3A%20100.0%25%3B%20height%3A%20100.0%25%3B%22%3EVinateros%20Cluster%200%3C/div%3E%27%29%5B0%5D%3B%0A%20%20%20%20%20%20%20%20%20%20%20%20%20%20%20%20popup_31ab1bd7fa2244d084a6b30c27f18640.setContent%28html_5425e585de0b4500a9d6781119c92b04%29%3B%0A%20%20%20%20%20%20%20%20%20%20%20%20%0A%0A%20%20%20%20%20%20%20%20%20%20%20%20circle_marker_3dea969df29c4aef96ee68607e2816f7.bindPopup%28popup_31ab1bd7fa2244d084a6b30c27f18640%29%3B%0A%0A%20%20%20%20%20%20%20%20%20%20%20%20%0A%20%20%20%20%20%20%20%20%0A%20%20%20%20%0A%20%20%20%20%20%20%20%20%20%20%20%20var%20circle_marker_e61e73baf16e4e0591f9e3d4d49379fe%20%3D%20L.circleMarker%28%0A%20%20%20%20%20%20%20%20%20%20%20%20%20%20%20%20%5B40.428333%2C-3.6575%5D%2C%0A%20%20%20%20%20%20%20%20%20%20%20%20%20%20%20%20%7B%0A%20%20%22bubblingMouseEvents%22%3A%20true%2C%0A%20%20%22color%22%3A%20%22%238000ff%22%2C%0A%20%20%22dashArray%22%3A%20null%2C%0A%20%20%22dashOffset%22%3A%20null%2C%0A%20%20%22fill%22%3A%20true%2C%0A%20%20%22fillColor%22%3A%20%22%238000ff%22%2C%0A%20%20%22fillOpacity%22%3A%200.7%2C%0A%20%20%22fillRule%22%3A%20%22evenodd%22%2C%0A%20%20%22lineCap%22%3A%20%22round%22%2C%0A%20%20%22lineJoin%22%3A%20%22round%22%2C%0A%20%20%22opacity%22%3A%201.0%2C%0A%20%20%22radius%22%3A%205%2C%0A%20%20%22stroke%22%3A%20true%2C%0A%20%20%22weight%22%3A%203%0A%7D%0A%20%20%20%20%20%20%20%20%20%20%20%20%20%20%20%20%29.addTo%28map_eff47c844de245779793ccb2f8172862%29%3B%0A%20%20%20%20%20%20%20%20%20%20%20%20%0A%20%20%20%20%0A%20%20%20%20%20%20%20%20%20%20%20%20var%20popup_94286ed491ab4f9499ce9323dfd8d46a%20%3D%20L.popup%28%7BmaxWidth%3A%20%27300%27%7D%29%3B%0A%0A%20%20%20%20%20%20%20%20%20%20%20%20%0A%20%20%20%20%20%20%20%20%20%20%20%20%20%20%20%20var%20html_84e13dd92ba244bea9e0dd87c3a760c2%20%3D%20%24%28%27%3Cdiv%20id%3D%22html_84e13dd92ba244bea9e0dd87c3a760c2%22%20style%3D%22width%3A%20100.0%25%3B%20height%3A%20100.0%25%3B%22%3EVentas%20Cluster%201%3C/div%3E%27%29%5B0%5D%3B%0A%20%20%20%20%20%20%20%20%20%20%20%20%20%20%20%20popup_94286ed491ab4f9499ce9323dfd8d46a.setContent%28html_84e13dd92ba244bea9e0dd87c3a760c2%29%3B%0A%20%20%20%20%20%20%20%20%20%20%20%20%0A%0A%20%20%20%20%20%20%20%20%20%20%20%20circle_marker_e61e73baf16e4e0591f9e3d4d49379fe.bindPopup%28popup_94286ed491ab4f9499ce9323dfd8d46a%29%3B%0A%0A%20%20%20%20%20%20%20%20%20%20%20%20%0A%20%20%20%20%20%20%20%20%0A%20%20%20%20%0A%20%20%20%20%20%20%20%20%20%20%20%20var%20circle_marker_b004d3cd4f894a28aaa5e2413b8d0a04%20%3D%20L.circleMarker%28%0A%20%20%20%20%20%20%20%20%20%20%20%20%20%20%20%20%5B40.425278%2C-3.635278%5D%2C%0A%20%20%20%20%20%20%20%20%20%20%20%20%20%20%20%20%7B%0A%20%20%22bubblingMouseEvents%22%3A%20true%2C%0A%20%20%22color%22%3A%20%22%23ff0000%22%2C%0A%20%20%22dashArray%22%3A%20null%2C%0A%20%20%22dashOffset%22%3A%20null%2C%0A%20%20%22fill%22%3A%20true%2C%0A%20%20%22fillColor%22%3A%20%22%23ff0000%22%2C%0A%20%20%22fillOpacity%22%3A%200.7%2C%0A%20%20%22fillRule%22%3A%20%22evenodd%22%2C%0A%20%20%22lineCap%22%3A%20%22round%22%2C%0A%20%20%22lineJoin%22%3A%20%22round%22%2C%0A%20%20%22opacity%22%3A%201.0%2C%0A%20%20%22radius%22%3A%205%2C%0A%20%20%22stroke%22%3A%20true%2C%0A%20%20%22weight%22%3A%203%0A%7D%0A%20%20%20%20%20%20%20%20%20%20%20%20%20%20%20%20%29.addTo%28map_eff47c844de245779793ccb2f8172862%29%3B%0A%20%20%20%20%20%20%20%20%20%20%20%20%0A%20%20%20%20%0A%20%20%20%20%20%20%20%20%20%20%20%20var%20popup_8e8a057b660f4c249825fc0c322e57d6%20%3D%20L.popup%28%7BmaxWidth%3A%20%27300%27%7D%29%3B%0A%0A%20%20%20%20%20%20%20%20%20%20%20%20%0A%20%20%20%20%20%20%20%20%20%20%20%20%20%20%20%20var%20html_2deeaaa098f144b28b556b4b2b2981cf%20%3D%20%24%28%27%3Cdiv%20id%3D%22html_2deeaaa098f144b28b556b4b2b2981cf%22%20style%3D%22width%3A%20100.0%25%3B%20height%3A%20100.0%25%3B%22%3EPueblo%20Nuevo%20Cluster%200%3C/div%3E%27%29%5B0%5D%3B%0A%20%20%20%20%20%20%20%20%20%20%20%20%20%20%20%20popup_8e8a057b660f4c249825fc0c322e57d6.setContent%28html_2deeaaa098f144b28b556b4b2b2981cf%29%3B%0A%20%20%20%20%20%20%20%20%20%20%20%20%0A%0A%20%20%20%20%20%20%20%20%20%20%20%20circle_marker_b004d3cd4f894a28aaa5e2413b8d0a04.bindPopup%28popup_8e8a057b660f4c249825fc0c322e57d6%29%3B%0A%0A%20%20%20%20%20%20%20%20%20%20%20%20%0A%20%20%20%20%20%20%20%20%0A%20%20%20%20%0A%20%20%20%20%20%20%20%20%20%20%20%20var%20circle_marker_143809f0b1b84a56983e058542a691ea%20%3D%20L.circleMarker%28%0A%20%20%20%20%20%20%20%20%20%20%20%20%20%20%20%20%5B40.4375%2C-3.642222%5D%2C%0A%20%20%20%20%20%20%20%20%20%20%20%20%20%20%20%20%7B%0A%20%20%22bubblingMouseEvents%22%3A%20true%2C%0A%20%20%22color%22%3A%20%22%23d4dd80%22%2C%0A%20%20%22dashArray%22%3A%20null%2C%0A%20%20%22dashOffset%22%3A%20null%2C%0A%20%20%22fill%22%3A%20true%2C%0A%20%20%22fillColor%22%3A%20%22%23d4dd80%22%2C%0A%20%20%22fillOpacity%22%3A%200.7%2C%0A%20%20%22fillRule%22%3A%20%22evenodd%22%2C%0A%20%20%22lineCap%22%3A%20%22round%22%2C%0A%20%20%22lineJoin%22%3A%20%22round%22%2C%0A%20%20%22opacity%22%3A%201.0%2C%0A%20%20%22radius%22%3A%205%2C%0A%20%20%22stroke%22%3A%20true%2C%0A%20%20%22weight%22%3A%203%0A%7D%0A%20%20%20%20%20%20%20%20%20%20%20%20%20%20%20%20%29.addTo%28map_eff47c844de245779793ccb2f8172862%29%3B%0A%20%20%20%20%20%20%20%20%20%20%20%20%0A%20%20%20%20%0A%20%20%20%20%20%20%20%20%20%20%20%20var%20popup_a50ed473340c48218d8c60b7c6bffd3c%20%3D%20L.popup%28%7BmaxWidth%3A%20%27300%27%7D%29%3B%0A%0A%20%20%20%20%20%20%20%20%20%20%20%20%0A%20%20%20%20%20%20%20%20%20%20%20%20%20%20%20%20var%20html_b277107943894fb48a35599731bd8348%20%3D%20%24%28%27%3Cdiv%20id%3D%22html_b277107943894fb48a35599731bd8348%22%20style%3D%22width%3A%20100.0%25%3B%20height%3A%20100.0%25%3B%22%3EQuintana%20Cluster%203%3C/div%3E%27%29%5B0%5D%3B%0A%20%20%20%20%20%20%20%20%20%20%20%20%20%20%20%20popup_a50ed473340c48218d8c60b7c6bffd3c.setContent%28html_b277107943894fb48a35599731bd8348%29%3B%0A%20%20%20%20%20%20%20%20%20%20%20%20%0A%0A%20%20%20%20%20%20%20%20%20%20%20%20circle_marker_143809f0b1b84a56983e058542a691ea.bindPopup%28popup_a50ed473340c48218d8c60b7c6bffd3c%29%3B%0A%0A%20%20%20%20%20%20%20%20%20%20%20%20%0A%20%20%20%20%20%20%20%20%0A%20%20%20%20%0A%20%20%20%20%20%20%20%20%20%20%20%20var%20circle_marker_d12d6a07f1c44faa9d7a0243e148f23e%20%3D%20L.circleMarker%28%0A%20%20%20%20%20%20%20%20%20%20%20%20%20%20%20%20%5B40.440278%2C-3.648056%5D%2C%0A%20%20%20%20%20%20%20%20%20%20%20%20%20%20%20%20%7B%0A%20%20%22bubblingMouseEvents%22%3A%20true%2C%0A%20%20%22color%22%3A%20%22%238000ff%22%2C%0A%20%20%22dashArray%22%3A%20null%2C%0A%20%20%22dashOffset%22%3A%20null%2C%0A%20%20%22fill%22%3A%20true%2C%0A%20%20%22fillColor%22%3A%20%22%238000ff%22%2C%0A%20%20%22fillOpacity%22%3A%200.7%2C%0A%20%20%22fillRule%22%3A%20%22evenodd%22%2C%0A%20%20%22lineCap%22%3A%20%22round%22%2C%0A%20%20%22lineJoin%22%3A%20%22round%22%2C%0A%20%20%22opacity%22%3A%201.0%2C%0A%20%20%22radius%22%3A%205%2C%0A%20%20%22stroke%22%3A%20true%2C%0A%20%20%22weight%22%3A%203%0A%7D%0A%20%20%20%20%20%20%20%20%20%20%20%20%20%20%20%20%29.addTo%28map_eff47c844de245779793ccb2f8172862%29%3B%0A%20%20%20%20%20%20%20%20%20%20%20%20%0A%20%20%20%20%0A%20%20%20%20%20%20%20%20%20%20%20%20var%20popup_f3edb4ab0fb34dc5be876028caea9ea0%20%3D%20L.popup%28%7BmaxWidth%3A%20%27300%27%7D%29%3B%0A%0A%20%20%20%20%20%20%20%20%20%20%20%20%0A%20%20%20%20%20%20%20%20%20%20%20%20%20%20%20%20var%20html_6e7e8767a2e446a8aeaccfc3beda1903%20%3D%20%24%28%27%3Cdiv%20id%3D%22html_6e7e8767a2e446a8aeaccfc3beda1903%22%20style%3D%22width%3A%20100.0%25%3B%20height%3A%20100.0%25%3B%22%3EConcepcion%20Cluster%201%3C/div%3E%27%29%5B0%5D%3B%0A%20%20%20%20%20%20%20%20%20%20%20%20%20%20%20%20popup_f3edb4ab0fb34dc5be876028caea9ea0.setContent%28html_6e7e8767a2e446a8aeaccfc3beda1903%29%3B%0A%20%20%20%20%20%20%20%20%20%20%20%20%0A%0A%20%20%20%20%20%20%20%20%20%20%20%20circle_marker_d12d6a07f1c44faa9d7a0243e148f23e.bindPopup%28popup_f3edb4ab0fb34dc5be876028caea9ea0%29%3B%0A%0A%20%20%20%20%20%20%20%20%20%20%20%20%0A%20%20%20%20%20%20%20%20%0A%20%20%20%20%0A%20%20%20%20%20%20%20%20%20%20%20%20var%20circle_marker_852ea32e24f34ddea3c262d4dcda62d6%20%3D%20L.circleMarker%28%0A%20%20%20%20%20%20%20%20%20%20%20%20%20%20%20%20%5B40.4425%2C-3.6525%5D%2C%0A%20%20%20%20%20%20%20%20%20%20%20%20%20%20%20%20%7B%0A%20%20%22bubblingMouseEvents%22%3A%20true%2C%0A%20%20%22color%22%3A%20%22%23ff0000%22%2C%0A%20%20%22dashArray%22%3A%20null%2C%0A%20%20%22dashOffset%22%3A%20null%2C%0A%20%20%22fill%22%3A%20true%2C%0A%20%20%22fillColor%22%3A%20%22%23ff0000%22%2C%0A%20%20%22fillOpacity%22%3A%200.7%2C%0A%20%20%22fillRule%22%3A%20%22evenodd%22%2C%0A%20%20%22lineCap%22%3A%20%22round%22%2C%0A%20%20%22lineJoin%22%3A%20%22round%22%2C%0A%20%20%22opacity%22%3A%201.0%2C%0A%20%20%22radius%22%3A%205%2C%0A%20%20%22stroke%22%3A%20true%2C%0A%20%20%22weight%22%3A%203%0A%7D%0A%20%20%20%20%20%20%20%20%20%20%20%20%20%20%20%20%29.addTo%28map_eff47c844de245779793ccb2f8172862%29%3B%0A%20%20%20%20%20%20%20%20%20%20%20%20%0A%20%20%20%20%0A%20%20%20%20%20%20%20%20%20%20%20%20var%20popup_9d12ab3fd8704fc6a5ee947026a4d9c6%20%3D%20L.popup%28%7BmaxWidth%3A%20%27300%27%7D%29%3B%0A%0A%20%20%20%20%20%20%20%20%20%20%20%20%0A%20%20%20%20%20%20%20%20%20%20%20%20%20%20%20%20var%20html_1a18cf9704fa4075b82981ca9260cade%20%3D%20%24%28%27%3Cdiv%20id%3D%22html_1a18cf9704fa4075b82981ca9260cade%22%20style%3D%22width%3A%20100.0%25%3B%20height%3A%20100.0%25%3B%22%3ESan%20Pascual%20Cluster%200%3C/div%3E%27%29%5B0%5D%3B%0A%20%20%20%20%20%20%20%20%20%20%20%20%20%20%20%20popup_9d12ab3fd8704fc6a5ee947026a4d9c6.setContent%28html_1a18cf9704fa4075b82981ca9260cade%29%3B%0A%20%20%20%20%20%20%20%20%20%20%20%20%0A%0A%20%20%20%20%20%20%20%20%20%20%20%20circle_marker_852ea32e24f34ddea3c262d4dcda62d6.bindPopup%28popup_9d12ab3fd8704fc6a5ee947026a4d9c6%29%3B%0A%0A%20%20%20%20%20%20%20%20%20%20%20%20%0A%20%20%20%20%20%20%20%20%0A%20%20%20%20%0A%20%20%20%20%20%20%20%20%20%20%20%20var%20circle_marker_90de3fce794e4337a6b3c93d1fc47bba%20%3D%20L.circleMarker%28%0A%20%20%20%20%20%20%20%20%20%20%20%20%20%20%20%20%5B40.45%2C-3.656667%5D%2C%0A%20%20%20%20%20%20%20%20%20%20%20%20%20%20%20%20%7B%0A%20%20%22bubblingMouseEvents%22%3A%20true%2C%0A%20%20%22color%22%3A%20%22%238000ff%22%2C%0A%20%20%22dashArray%22%3A%20null%2C%0A%20%20%22dashOffset%22%3A%20null%2C%0A%20%20%22fill%22%3A%20true%2C%0A%20%20%22fillColor%22%3A%20%22%238000ff%22%2C%0A%20%20%22fillOpacity%22%3A%200.7%2C%0A%20%20%22fillRule%22%3A%20%22evenodd%22%2C%0A%20%20%22lineCap%22%3A%20%22round%22%2C%0A%20%20%22lineJoin%22%3A%20%22round%22%2C%0A%20%20%22opacity%22%3A%201.0%2C%0A%20%20%22radius%22%3A%205%2C%0A%20%20%22stroke%22%3A%20true%2C%0A%20%20%22weight%22%3A%203%0A%7D%0A%20%20%20%20%20%20%20%20%20%20%20%20%20%20%20%20%29.addTo%28map_eff47c844de245779793ccb2f8172862%29%3B%0A%20%20%20%20%20%20%20%20%20%20%20%20%0A%20%20%20%20%0A%20%20%20%20%20%20%20%20%20%20%20%20var%20popup_b86f7664bd394eb485c6387adec51c89%20%3D%20L.popup%28%7BmaxWidth%3A%20%27300%27%7D%29%3B%0A%0A%20%20%20%20%20%20%20%20%20%20%20%20%0A%20%20%20%20%20%20%20%20%20%20%20%20%20%20%20%20var%20html_f90949abb4dd40aa8062f4df511b7aa0%20%3D%20%24%28%27%3Cdiv%20id%3D%22html_f90949abb4dd40aa8062f4df511b7aa0%22%20style%3D%22width%3A%20100.0%25%3B%20height%3A%20100.0%25%3B%22%3ESan%20Juan%20Bautista%20Cluster%201%3C/div%3E%27%29%5B0%5D%3B%0A%20%20%20%20%20%20%20%20%20%20%20%20%20%20%20%20popup_b86f7664bd394eb485c6387adec51c89.setContent%28html_f90949abb4dd40aa8062f4df511b7aa0%29%3B%0A%20%20%20%20%20%20%20%20%20%20%20%20%0A%0A%20%20%20%20%20%20%20%20%20%20%20%20circle_marker_90de3fce794e4337a6b3c93d1fc47bba.bindPopup%28popup_b86f7664bd394eb485c6387adec51c89%29%3B%0A%0A%20%20%20%20%20%20%20%20%20%20%20%20%0A%20%20%20%20%20%20%20%20%0A%20%20%20%20%0A%20%20%20%20%20%20%20%20%20%20%20%20var%20circle_marker_5727b7d039a14a8184770a0bc1895780%20%3D%20L.circleMarker%28%0A%20%20%20%20%20%20%20%20%20%20%20%20%20%20%20%20%5B40.456667%2C-3.661944%5D%2C%0A%20%20%20%20%20%20%20%20%20%20%20%20%20%20%20%20%7B%0A%20%20%22bubblingMouseEvents%22%3A%20true%2C%0A%20%20%22color%22%3A%20%22%23ff0000%22%2C%0A%20%20%22dashArray%22%3A%20null%2C%0A%20%20%22dashOffset%22%3A%20null%2C%0A%20%20%22fill%22%3A%20true%2C%0A%20%20%22fillColor%22%3A%20%22%23ff0000%22%2C%0A%20%20%22fillOpacity%22%3A%200.7%2C%0A%20%20%22fillRule%22%3A%20%22evenodd%22%2C%0A%20%20%22lineCap%22%3A%20%22round%22%2C%0A%20%20%22lineJoin%22%3A%20%22round%22%2C%0A%20%20%22opacity%22%3A%201.0%2C%0A%20%20%22radius%22%3A%205%2C%0A%20%20%22stroke%22%3A%20true%2C%0A%20%20%22weight%22%3A%203%0A%7D%0A%20%20%20%20%20%20%20%20%20%20%20%20%20%20%20%20%29.addTo%28map_eff47c844de245779793ccb2f8172862%29%3B%0A%20%20%20%20%20%20%20%20%20%20%20%20%0A%20%20%20%20%0A%20%20%20%20%20%20%20%20%20%20%20%20var%20popup_9fe34fa0dc54445ca3a913b922195972%20%3D%20L.popup%28%7BmaxWidth%3A%20%27300%27%7D%29%3B%0A%0A%20%20%20%20%20%20%20%20%20%20%20%20%0A%20%20%20%20%20%20%20%20%20%20%20%20%20%20%20%20var%20html_2a12b67e07be4d54a810cd2cae1b890c%20%3D%20%24%28%27%3Cdiv%20id%3D%22html_2a12b67e07be4d54a810cd2cae1b890c%22%20style%3D%22width%3A%20100.0%25%3B%20height%3A%20100.0%25%3B%22%3EColina%20Cluster%200%3C/div%3E%27%29%5B0%5D%3B%0A%20%20%20%20%20%20%20%20%20%20%20%20%20%20%20%20popup_9fe34fa0dc54445ca3a913b922195972.setContent%28html_2a12b67e07be4d54a810cd2cae1b890c%29%3B%0A%20%20%20%20%20%20%20%20%20%20%20%20%0A%0A%20%20%20%20%20%20%20%20%20%20%20%20circle_marker_5727b7d039a14a8184770a0bc1895780.bindPopup%28popup_9fe34fa0dc54445ca3a913b922195972%29%3B%0A%0A%20%20%20%20%20%20%20%20%20%20%20%20%0A%20%20%20%20%20%20%20%20%0A%20%20%20%20%0A%20%20%20%20%20%20%20%20%20%20%20%20var%20circle_marker_50e526ca117a441485e4e13332af388b%20%3D%20L.circleMarker%28%0A%20%20%20%20%20%20%20%20%20%20%20%20%20%20%20%20%5B40.466111%2C-3.666944%5D%2C%0A%20%20%20%20%20%20%20%20%20%20%20%20%20%20%20%20%7B%0A%20%20%22bubblingMouseEvents%22%3A%20true%2C%0A%20%20%22color%22%3A%20%22%238000ff%22%2C%0A%20%20%22dashArray%22%3A%20null%2C%0A%20%20%22dashOffset%22%3A%20null%2C%0A%20%20%22fill%22%3A%20true%2C%0A%20%20%22fillColor%22%3A%20%22%238000ff%22%2C%0A%20%20%22fillOpacity%22%3A%200.7%2C%0A%20%20%22fillRule%22%3A%20%22evenodd%22%2C%0A%20%20%22lineCap%22%3A%20%22round%22%2C%0A%20%20%22lineJoin%22%3A%20%22round%22%2C%0A%20%20%22opacity%22%3A%201.0%2C%0A%20%20%22radius%22%3A%205%2C%0A%20%20%22stroke%22%3A%20true%2C%0A%20%20%22weight%22%3A%203%0A%7D%0A%20%20%20%20%20%20%20%20%20%20%20%20%20%20%20%20%29.addTo%28map_eff47c844de245779793ccb2f8172862%29%3B%0A%20%20%20%20%20%20%20%20%20%20%20%20%0A%20%20%20%20%0A%20%20%20%20%20%20%20%20%20%20%20%20var%20popup_a717230819db4cb49ec35bfc9644bd19%20%3D%20L.popup%28%7BmaxWidth%3A%20%27300%27%7D%29%3B%0A%0A%20%20%20%20%20%20%20%20%20%20%20%20%0A%20%20%20%20%20%20%20%20%20%20%20%20%20%20%20%20var%20html_257ae7b71eaf455e8db10649e3be796d%20%3D%20%24%28%27%3Cdiv%20id%3D%22html_257ae7b71eaf455e8db10649e3be796d%22%20style%3D%22width%3A%20100.0%25%3B%20height%3A%20100.0%25%3B%22%3EAtalaya%20Cluster%201%3C/div%3E%27%29%5B0%5D%3B%0A%20%20%20%20%20%20%20%20%20%20%20%20%20%20%20%20popup_a717230819db4cb49ec35bfc9644bd19.setContent%28html_257ae7b71eaf455e8db10649e3be796d%29%3B%0A%20%20%20%20%20%20%20%20%20%20%20%20%0A%0A%20%20%20%20%20%20%20%20%20%20%20%20circle_marker_50e526ca117a441485e4e13332af388b.bindPopup%28popup_a717230819db4cb49ec35bfc9644bd19%29%3B%0A%0A%20%20%20%20%20%20%20%20%20%20%20%20%0A%20%20%20%20%20%20%20%20%0A%20%20%20%20%0A%20%20%20%20%20%20%20%20%20%20%20%20var%20circle_marker_97329012b7fc4cccb15505da014eaee7%20%3D%20L.circleMarker%28%0A%20%20%20%20%20%20%20%20%20%20%20%20%20%20%20%20%5B40.4744%2C-3.6697%5D%2C%0A%20%20%20%20%20%20%20%20%20%20%20%20%20%20%20%20%7B%0A%20%20%22bubblingMouseEvents%22%3A%20true%2C%0A%20%20%22color%22%3A%20%22%238000ff%22%2C%0A%20%20%22dashArray%22%3A%20null%2C%0A%20%20%22dashOffset%22%3A%20null%2C%0A%20%20%22fill%22%3A%20true%2C%0A%20%20%22fillColor%22%3A%20%22%238000ff%22%2C%0A%20%20%22fillOpacity%22%3A%200.7%2C%0A%20%20%22fillRule%22%3A%20%22evenodd%22%2C%0A%20%20%22lineCap%22%3A%20%22round%22%2C%0A%20%20%22lineJoin%22%3A%20%22round%22%2C%0A%20%20%22opacity%22%3A%201.0%2C%0A%20%20%22radius%22%3A%205%2C%0A%20%20%22stroke%22%3A%20true%2C%0A%20%20%22weight%22%3A%203%0A%7D%0A%20%20%20%20%20%20%20%20%20%20%20%20%20%20%20%20%29.addTo%28map_eff47c844de245779793ccb2f8172862%29%3B%0A%20%20%20%20%20%20%20%20%20%20%20%20%0A%20%20%20%20%0A%20%20%20%20%20%20%20%20%20%20%20%20var%20popup_cecc8d90c44548499478e80c63a894ba%20%3D%20L.popup%28%7BmaxWidth%3A%20%27300%27%7D%29%3B%0A%0A%20%20%20%20%20%20%20%20%20%20%20%20%0A%20%20%20%20%20%20%20%20%20%20%20%20%20%20%20%20var%20html_43a84d09295c40bc9d7d49b73d1dfba0%20%3D%20%24%28%27%3Cdiv%20id%3D%22html_43a84d09295c40bc9d7d49b73d1dfba0%22%20style%3D%22width%3A%20100.0%25%3B%20height%3A%20100.0%25%3B%22%3ECostillares%20Cluster%201%3C/div%3E%27%29%5B0%5D%3B%0A%20%20%20%20%20%20%20%20%20%20%20%20%20%20%20%20popup_cecc8d90c44548499478e80c63a894ba.setContent%28html_43a84d09295c40bc9d7d49b73d1dfba0%29%3B%0A%20%20%20%20%20%20%20%20%20%20%20%20%0A%0A%20%20%20%20%20%20%20%20%20%20%20%20circle_marker_97329012b7fc4cccb15505da014eaee7.bindPopup%28popup_cecc8d90c44548499478e80c63a894ba%29%3B%0A%0A%20%20%20%20%20%20%20%20%20%20%20%20%0A%20%20%20%20%20%20%20%20%0A%20%20%20%20%0A%20%20%20%20%20%20%20%20%20%20%20%20var%20circle_marker_7d4f2e59a1f34253a9095a8a6aacc435%20%3D%20L.circleMarker%28%0A%20%20%20%20%20%20%20%20%20%20%20%20%20%20%20%20%5B40.453611%2C-3.618056%5D%2C%0A%20%20%20%20%20%20%20%20%20%20%20%20%20%20%20%20%7B%0A%20%20%22bubblingMouseEvents%22%3A%20true%2C%0A%20%20%22color%22%3A%20%22%238000ff%22%2C%0A%20%20%22dashArray%22%3A%20null%2C%0A%20%20%22dashOffset%22%3A%20null%2C%0A%20%20%22fill%22%3A%20true%2C%0A%20%20%22fillColor%22%3A%20%22%238000ff%22%2C%0A%20%20%22fillOpacity%22%3A%200.7%2C%0A%20%20%22fillRule%22%3A%20%22evenodd%22%2C%0A%20%20%22lineCap%22%3A%20%22round%22%2C%0A%20%20%22lineJoin%22%3A%20%22round%22%2C%0A%20%20%22opacity%22%3A%201.0%2C%0A%20%20%22radius%22%3A%205%2C%0A%20%20%22stroke%22%3A%20true%2C%0A%20%20%22weight%22%3A%203%0A%7D%0A%20%20%20%20%20%20%20%20%20%20%20%20%20%20%20%20%29.addTo%28map_eff47c844de245779793ccb2f8172862%29%3B%0A%20%20%20%20%20%20%20%20%20%20%20%20%0A%20%20%20%20%0A%20%20%20%20%20%20%20%20%20%20%20%20var%20popup_e08029e615d341a483dd0fcf867dac50%20%3D%20L.popup%28%7BmaxWidth%3A%20%27300%27%7D%29%3B%0A%0A%20%20%20%20%20%20%20%20%20%20%20%20%0A%20%20%20%20%20%20%20%20%20%20%20%20%20%20%20%20var%20html_82a4049a0330468a962f9d0aa7314bbd%20%3D%20%24%28%27%3Cdiv%20id%3D%22html_82a4049a0330468a962f9d0aa7314bbd%22%20style%3D%22width%3A%20100.0%25%3B%20height%3A%20100.0%25%3B%22%3EPalomas%20Cluster%201%3C/div%3E%27%29%5B0%5D%3B%0A%20%20%20%20%20%20%20%20%20%20%20%20%20%20%20%20popup_e08029e615d341a483dd0fcf867dac50.setContent%28html_82a4049a0330468a962f9d0aa7314bbd%29%3B%0A%20%20%20%20%20%20%20%20%20%20%20%20%0A%0A%20%20%20%20%20%20%20%20%20%20%20%20circle_marker_7d4f2e59a1f34253a9095a8a6aacc435.bindPopup%28popup_e08029e615d341a483dd0fcf867dac50%29%3B%0A%0A%20%20%20%20%20%20%20%20%20%20%20%20%0A%20%20%20%20%20%20%20%20%0A%20%20%20%20%0A%20%20%20%20%20%20%20%20%20%20%20%20var%20circle_marker_91ce8cfa0def4e988b8366a969ea2cd7%20%3D%20L.circleMarker%28%0A%20%20%20%20%20%20%20%20%20%20%20%20%20%20%20%20%5B40.453611%2C-3.640278%5D%2C%0A%20%20%20%20%20%20%20%20%20%20%20%20%20%20%20%20%7B%0A%20%20%22bubblingMouseEvents%22%3A%20true%2C%0A%20%20%22color%22%3A%20%22%23ff0000%22%2C%0A%20%20%22dashArray%22%3A%20null%2C%0A%20%20%22dashOffset%22%3A%20null%2C%0A%20%20%22fill%22%3A%20true%2C%0A%20%20%22fillColor%22%3A%20%22%23ff0000%22%2C%0A%20%20%22fillOpacity%22%3A%200.7%2C%0A%20%20%22fillRule%22%3A%20%22evenodd%22%2C%0A%20%20%22lineCap%22%3A%20%22round%22%2C%0A%20%20%22lineJoin%22%3A%20%22round%22%2C%0A%20%20%22opacity%22%3A%201.0%2C%0A%20%20%22radius%22%3A%205%2C%0A%20%20%22stroke%22%3A%20true%2C%0A%20%20%22weight%22%3A%203%0A%7D%0A%20%20%20%20%20%20%20%20%20%20%20%20%20%20%20%20%29.addTo%28map_eff47c844de245779793ccb2f8172862%29%3B%0A%20%20%20%20%20%20%20%20%20%20%20%20%0A%20%20%20%20%0A%20%20%20%20%20%20%20%20%20%20%20%20var%20popup_55c425a8f0b448dd9939a9c61af1434c%20%3D%20L.popup%28%7BmaxWidth%3A%20%27300%27%7D%29%3B%0A%0A%20%20%20%20%20%20%20%20%20%20%20%20%0A%20%20%20%20%20%20%20%20%20%20%20%20%20%20%20%20var%20html_c36af37b1b3f472bb8ce94a082e73864%20%3D%20%24%28%27%3Cdiv%20id%3D%22html_c36af37b1b3f472bb8ce94a082e73864%22%20style%3D%22width%3A%20100.0%25%3B%20height%3A%20100.0%25%3B%22%3EPiovera%20Cluster%200%3C/div%3E%27%29%5B0%5D%3B%0A%20%20%20%20%20%20%20%20%20%20%20%20%20%20%20%20popup_55c425a8f0b448dd9939a9c61af1434c.setContent%28html_c36af37b1b3f472bb8ce94a082e73864%29%3B%0A%20%20%20%20%20%20%20%20%20%20%20%20%0A%0A%20%20%20%20%20%20%20%20%20%20%20%20circle_marker_91ce8cfa0def4e988b8366a969ea2cd7.bindPopup%28popup_55c425a8f0b448dd9939a9c61af1434c%29%3B%0A%0A%20%20%20%20%20%20%20%20%20%20%20%20%0A%20%20%20%20%20%20%20%20%0A%20%20%20%20%0A%20%20%20%20%20%20%20%20%20%20%20%20var%20circle_marker_bd79dc2d30304d958f2b87d13e11bd00%20%3D%20L.circleMarker%28%0A%20%20%20%20%20%20%20%20%20%20%20%20%20%20%20%20%5B40.459722%2C-3.645556%5D%2C%0A%20%20%20%20%20%20%20%20%20%20%20%20%20%20%20%20%7B%0A%20%20%22bubblingMouseEvents%22%3A%20true%2C%0A%20%20%22color%22%3A%20%22%238000ff%22%2C%0A%20%20%22dashArray%22%3A%20null%2C%0A%20%20%22dashOffset%22%3A%20null%2C%0A%20%20%22fill%22%3A%20true%2C%0A%20%20%22fillColor%22%3A%20%22%238000ff%22%2C%0A%20%20%22fillOpacity%22%3A%200.7%2C%0A%20%20%22fillRule%22%3A%20%22evenodd%22%2C%0A%20%20%22lineCap%22%3A%20%22round%22%2C%0A%20%20%22lineJoin%22%3A%20%22round%22%2C%0A%20%20%22opacity%22%3A%201.0%2C%0A%20%20%22radius%22%3A%205%2C%0A%20%20%22stroke%22%3A%20true%2C%0A%20%20%22weight%22%3A%203%0A%7D%0A%20%20%20%20%20%20%20%20%20%20%20%20%20%20%20%20%29.addTo%28map_eff47c844de245779793ccb2f8172862%29%3B%0A%20%20%20%20%20%20%20%20%20%20%20%20%0A%20%20%20%20%0A%20%20%20%20%20%20%20%20%20%20%20%20var%20popup_8066320dd1a24a2b845f3f4068f60b84%20%3D%20L.popup%28%7BmaxWidth%3A%20%27300%27%7D%29%3B%0A%0A%20%20%20%20%20%20%20%20%20%20%20%20%0A%20%20%20%20%20%20%20%20%20%20%20%20%20%20%20%20var%20html_b21ec421196c43429a2b2f6635aafa8f%20%3D%20%24%28%27%3Cdiv%20id%3D%22html_b21ec421196c43429a2b2f6635aafa8f%22%20style%3D%22width%3A%20100.0%25%3B%20height%3A%20100.0%25%3B%22%3ECanillas%20Cluster%201%3C/div%3E%27%29%5B0%5D%3B%0A%20%20%20%20%20%20%20%20%20%20%20%20%20%20%20%20popup_8066320dd1a24a2b845f3f4068f60b84.setContent%28html_b21ec421196c43429a2b2f6635aafa8f%29%3B%0A%20%20%20%20%20%20%20%20%20%20%20%20%0A%0A%20%20%20%20%20%20%20%20%20%20%20%20circle_marker_bd79dc2d30304d958f2b87d13e11bd00.bindPopup%28popup_8066320dd1a24a2b845f3f4068f60b84%29%3B%0A%0A%20%20%20%20%20%20%20%20%20%20%20%20%0A%20%20%20%20%20%20%20%20%0A%20%20%20%20%0A%20%20%20%20%20%20%20%20%20%20%20%20var%20circle_marker_245e7cbc993842bc9bf3b054c65034f5%20%3D%20L.circleMarker%28%0A%20%20%20%20%20%20%20%20%20%20%20%20%20%20%20%20%5B40.464722%2C-3.655556%5D%2C%0A%20%20%20%20%20%20%20%20%20%20%20%20%20%20%20%20%7B%0A%20%20%22bubblingMouseEvents%22%3A%20true%2C%0A%20%20%22color%22%3A%20%22%23ff0000%22%2C%0A%20%20%22dashArray%22%3A%20null%2C%0A%20%20%22dashOffset%22%3A%20null%2C%0A%20%20%22fill%22%3A%20true%2C%0A%20%20%22fillColor%22%3A%20%22%23ff0000%22%2C%0A%20%20%22fillOpacity%22%3A%200.7%2C%0A%20%20%22fillRule%22%3A%20%22evenodd%22%2C%0A%20%20%22lineCap%22%3A%20%22round%22%2C%0A%20%20%22lineJoin%22%3A%20%22round%22%2C%0A%20%20%22opacity%22%3A%201.0%2C%0A%20%20%22radius%22%3A%205%2C%0A%20%20%22stroke%22%3A%20true%2C%0A%20%20%22weight%22%3A%203%0A%7D%0A%20%20%20%20%20%20%20%20%20%20%20%20%20%20%20%20%29.addTo%28map_eff47c844de245779793ccb2f8172862%29%3B%0A%20%20%20%20%20%20%20%20%20%20%20%20%0A%20%20%20%20%0A%20%20%20%20%20%20%20%20%20%20%20%20var%20popup_5cb732a237864f6885de67283f926fae%20%3D%20L.popup%28%7BmaxWidth%3A%20%27300%27%7D%29%3B%0A%0A%20%20%20%20%20%20%20%20%20%20%20%20%0A%20%20%20%20%20%20%20%20%20%20%20%20%20%20%20%20var%20html_bdb1b33ad03741ddadd2a32db2665795%20%3D%20%24%28%27%3Cdiv%20id%3D%22html_bdb1b33ad03741ddadd2a32db2665795%22%20style%3D%22width%3A%20100.0%25%3B%20height%3A%20100.0%25%3B%22%3EPinar%20del%20Rey%20Cluster%200%3C/div%3E%27%29%5B0%5D%3B%0A%20%20%20%20%20%20%20%20%20%20%20%20%20%20%20%20popup_5cb732a237864f6885de67283f926fae.setContent%28html_bdb1b33ad03741ddadd2a32db2665795%29%3B%0A%20%20%20%20%20%20%20%20%20%20%20%20%0A%0A%20%20%20%20%20%20%20%20%20%20%20%20circle_marker_245e7cbc993842bc9bf3b054c65034f5.bindPopup%28popup_5cb732a237864f6885de67283f926fae%29%3B%0A%0A%20%20%20%20%20%20%20%20%20%20%20%20%0A%20%20%20%20%20%20%20%20%0A%20%20%20%20%0A%20%20%20%20%20%20%20%20%20%20%20%20var%20circle_marker_0162eeca5c4b41198a7066a0f67f8bff%20%3D%20L.circleMarker%28%0A%20%20%20%20%20%20%20%20%20%20%20%20%20%20%20%20%5B40.476389%2C-3.658056%5D%2C%0A%20%20%20%20%20%20%20%20%20%20%20%20%20%20%20%20%7B%0A%20%20%22bubblingMouseEvents%22%3A%20true%2C%0A%20%20%22color%22%3A%20%22%23ff0000%22%2C%0A%20%20%22dashArray%22%3A%20null%2C%0A%20%20%22dashOffset%22%3A%20null%2C%0A%20%20%22fill%22%3A%20true%2C%0A%20%20%22fillColor%22%3A%20%22%23ff0000%22%2C%0A%20%20%22fillOpacity%22%3A%200.7%2C%0A%20%20%22fillRule%22%3A%20%22evenodd%22%2C%0A%20%20%22lineCap%22%3A%20%22round%22%2C%0A%20%20%22lineJoin%22%3A%20%22round%22%2C%0A%20%20%22opacity%22%3A%201.0%2C%0A%20%20%22radius%22%3A%205%2C%0A%20%20%22stroke%22%3A%20true%2C%0A%20%20%22weight%22%3A%203%0A%7D%0A%20%20%20%20%20%20%20%20%20%20%20%20%20%20%20%20%29.addTo%28map_eff47c844de245779793ccb2f8172862%29%3B%0A%20%20%20%20%20%20%20%20%20%20%20%20%0A%20%20%20%20%0A%20%20%20%20%20%20%20%20%20%20%20%20var%20popup_f3207c37fa504ba2a25f427081580809%20%3D%20L.popup%28%7BmaxWidth%3A%20%27300%27%7D%29%3B%0A%0A%20%20%20%20%20%20%20%20%20%20%20%20%0A%20%20%20%20%20%20%20%20%20%20%20%20%20%20%20%20var%20html_d37f425956a5443bb4096b4057433a7a%20%3D%20%24%28%27%3Cdiv%20id%3D%22html_d37f425956a5443bb4096b4057433a7a%22%20style%3D%22width%3A%20100.0%25%3B%20height%3A%20100.0%25%3B%22%3EApostol%20Santiago%20Cluster%200%3C/div%3E%27%29%5B0%5D%3B%0A%20%20%20%20%20%20%20%20%20%20%20%20%20%20%20%20popup_f3207c37fa504ba2a25f427081580809.setContent%28html_d37f425956a5443bb4096b4057433a7a%29%3B%0A%20%20%20%20%20%20%20%20%20%20%20%20%0A%0A%20%20%20%20%20%20%20%20%20%20%20%20circle_marker_0162eeca5c4b41198a7066a0f67f8bff.bindPopup%28popup_f3207c37fa504ba2a25f427081580809%29%3B%0A%0A%20%20%20%20%20%20%20%20%20%20%20%20%0A%20%20%20%20%20%20%20%20%0A%20%20%20%20%0A%20%20%20%20%20%20%20%20%20%20%20%20var%20circle_marker_5678a3cac9c041d7b9b11be1b10735e2%20%3D%20L.circleMarker%28%0A%20%20%20%20%20%20%20%20%20%20%20%20%20%20%20%20%5B40.490556%2C-3.623889%5D%2C%0A%20%20%20%20%20%20%20%20%20%20%20%20%20%20%20%20%7B%0A%20%20%22bubblingMouseEvents%22%3A%20true%2C%0A%20%20%22color%22%3A%20%22%23ff0000%22%2C%0A%20%20%22dashArray%22%3A%20null%2C%0A%20%20%22dashOffset%22%3A%20null%2C%0A%20%20%22fill%22%3A%20true%2C%0A%20%20%22fillColor%22%3A%20%22%23ff0000%22%2C%0A%20%20%22fillOpacity%22%3A%200.7%2C%0A%20%20%22fillRule%22%3A%20%22evenodd%22%2C%0A%20%20%22lineCap%22%3A%20%22round%22%2C%0A%20%20%22lineJoin%22%3A%20%22round%22%2C%0A%20%20%22opacity%22%3A%201.0%2C%0A%20%20%22radius%22%3A%205%2C%0A%20%20%22stroke%22%3A%20true%2C%0A%20%20%22weight%22%3A%203%0A%7D%0A%20%20%20%20%20%20%20%20%20%20%20%20%20%20%20%20%29.addTo%28map_eff47c844de245779793ccb2f8172862%29%3B%0A%20%20%20%20%20%20%20%20%20%20%20%20%0A%20%20%20%20%0A%20%20%20%20%20%20%20%20%20%20%20%20var%20popup_6b365a1bf4d24c4c80cf3c0dcf10e13b%20%3D%20L.popup%28%7BmaxWidth%3A%20%27300%27%7D%29%3B%0A%0A%20%20%20%20%20%20%20%20%20%20%20%20%0A%20%20%20%20%20%20%20%20%20%20%20%20%20%20%20%20var%20html_9e60572d55ac45a3bd0a21134832a6e7%20%3D%20%24%28%27%3Cdiv%20id%3D%22html_9e60572d55ac45a3bd0a21134832a6e7%22%20style%3D%22width%3A%20100.0%25%3B%20height%3A%20100.0%25%3B%22%3EValdefuentes%20Cluster%200%3C/div%3E%27%29%5B0%5D%3B%0A%20%20%20%20%20%20%20%20%20%20%20%20%20%20%20%20popup_6b365a1bf4d24c4c80cf3c0dcf10e13b.setContent%28html_9e60572d55ac45a3bd0a21134832a6e7%29%3B%0A%20%20%20%20%20%20%20%20%20%20%20%20%0A%0A%20%20%20%20%20%20%20%20%20%20%20%20circle_marker_5678a3cac9c041d7b9b11be1b10735e2.bindPopup%28popup_6b365a1bf4d24c4c80cf3c0dcf10e13b%29%3B%0A%0A%20%20%20%20%20%20%20%20%20%20%20%20%0A%20%20%20%20%20%20%20%20%0A%20%20%20%20%0A%20%20%20%20%20%20%20%20%20%20%20%20var%20circle_marker_b4e01dd035f34984ac60133375701e18%20%3D%20L.circleMarker%28%0A%20%20%20%20%20%20%20%20%20%20%20%20%20%20%20%20%5B40.347778%2C-3.711667%5D%2C%0A%20%20%20%20%20%20%20%20%20%20%20%20%20%20%20%20%7B%0A%20%20%22bubblingMouseEvents%22%3A%20true%2C%0A%20%20%22color%22%3A%20%22%23ff0000%22%2C%0A%20%20%22dashArray%22%3A%20null%2C%0A%20%20%22dashOffset%22%3A%20null%2C%0A%20%20%22fill%22%3A%20true%2C%0A%20%20%22fillColor%22%3A%20%22%23ff0000%22%2C%0A%20%20%22fillOpacity%22%3A%200.7%2C%0A%20%20%22fillRule%22%3A%20%22evenodd%22%2C%0A%20%20%22lineCap%22%3A%20%22round%22%2C%0A%20%20%22lineJoin%22%3A%20%22round%22%2C%0A%20%20%22opacity%22%3A%201.0%2C%0A%20%20%22radius%22%3A%205%2C%0A%20%20%22stroke%22%3A%20true%2C%0A%20%20%22weight%22%3A%203%0A%7D%0A%20%20%20%20%20%20%20%20%20%20%20%20%20%20%20%20%29.addTo%28map_eff47c844de245779793ccb2f8172862%29%3B%0A%20%20%20%20%20%20%20%20%20%20%20%20%0A%20%20%20%20%0A%20%20%20%20%20%20%20%20%20%20%20%20var%20popup_e9b5d86ceef046d79c1e6cf00cc2caa5%20%3D%20L.popup%28%7BmaxWidth%3A%20%27300%27%7D%29%3B%0A%0A%20%20%20%20%20%20%20%20%20%20%20%20%0A%20%20%20%20%20%20%20%20%20%20%20%20%20%20%20%20var%20html_31a36634cd7f4cf88d738bb1f2fa9ddc%20%3D%20%24%28%27%3Cdiv%20id%3D%22html_31a36634cd7f4cf88d738bb1f2fa9ddc%22%20style%3D%22width%3A%20100.0%25%3B%20height%3A%20100.0%25%3B%22%3EVillaverde%20Alto%20Cluster%200%3C/div%3E%27%29%5B0%5D%3B%0A%20%20%20%20%20%20%20%20%20%20%20%20%20%20%20%20popup_e9b5d86ceef046d79c1e6cf00cc2caa5.setContent%28html_31a36634cd7f4cf88d738bb1f2fa9ddc%29%3B%0A%20%20%20%20%20%20%20%20%20%20%20%20%0A%0A%20%20%20%20%20%20%20%20%20%20%20%20circle_marker_b4e01dd035f34984ac60133375701e18.bindPopup%28popup_e9b5d86ceef046d79c1e6cf00cc2caa5%29%3B%0A%0A%20%20%20%20%20%20%20%20%20%20%20%20%0A%20%20%20%20%20%20%20%20%0A%20%20%20%20%0A%20%20%20%20%20%20%20%20%20%20%20%20var%20circle_marker_4223469148b24bd7b750ec5dbd839ab2%20%3D%20L.circleMarker%28%0A%20%20%20%20%20%20%20%20%20%20%20%20%20%20%20%20%5B40.343333%2C-3.688611%5D%2C%0A%20%20%20%20%20%20%20%20%20%20%20%20%20%20%20%20%7B%0A%20%20%22bubblingMouseEvents%22%3A%20true%2C%0A%20%20%22color%22%3A%20%22%23ff0000%22%2C%0A%20%20%22dashArray%22%3A%20null%2C%0A%20%20%22dashOffset%22%3A%20null%2C%0A%20%20%22fill%22%3A%20true%2C%0A%20%20%22fillColor%22%3A%20%22%23ff0000%22%2C%0A%20%20%22fillOpacity%22%3A%200.7%2C%0A%20%20%22fillRule%22%3A%20%22evenodd%22%2C%0A%20%20%22lineCap%22%3A%20%22round%22%2C%0A%20%20%22lineJoin%22%3A%20%22round%22%2C%0A%20%20%22opacity%22%3A%201.0%2C%0A%20%20%22radius%22%3A%205%2C%0A%20%20%22stroke%22%3A%20true%2C%0A%20%20%22weight%22%3A%203%0A%7D%0A%20%20%20%20%20%20%20%20%20%20%20%20%20%20%20%20%29.addTo%28map_eff47c844de245779793ccb2f8172862%29%3B%0A%20%20%20%20%20%20%20%20%20%20%20%20%0A%20%20%20%20%0A%20%20%20%20%20%20%20%20%20%20%20%20var%20popup_2f648dfebc064a71b16b44ec424baad6%20%3D%20L.popup%28%7BmaxWidth%3A%20%27300%27%7D%29%3B%0A%0A%20%20%20%20%20%20%20%20%20%20%20%20%0A%20%20%20%20%20%20%20%20%20%20%20%20%20%20%20%20var%20html_d7d87358044242478f7fdc5e26898edb%20%3D%20%24%28%27%3Cdiv%20id%3D%22html_d7d87358044242478f7fdc5e26898edb%22%20style%3D%22width%3A%20100.0%25%3B%20height%3A%20100.0%25%3B%22%3ESan%20Cristobal%20Cluster%200%3C/div%3E%27%29%5B0%5D%3B%0A%20%20%20%20%20%20%20%20%20%20%20%20%20%20%20%20popup_2f648dfebc064a71b16b44ec424baad6.setContent%28html_d7d87358044242478f7fdc5e26898edb%29%3B%0A%20%20%20%20%20%20%20%20%20%20%20%20%0A%0A%20%20%20%20%20%20%20%20%20%20%20%20circle_marker_4223469148b24bd7b750ec5dbd839ab2.bindPopup%28popup_2f648dfebc064a71b16b44ec424baad6%29%3B%0A%0A%20%20%20%20%20%20%20%20%20%20%20%20%0A%20%20%20%20%20%20%20%20%0A%20%20%20%20%0A%20%20%20%20%20%20%20%20%20%20%20%20var%20circle_marker_7da9cd6e37e149859021a1d598441c42%20%3D%20L.circleMarker%28%0A%20%20%20%20%20%20%20%20%20%20%20%20%20%20%20%20%5B40.343611%2C-3.679722%5D%2C%0A%20%20%20%20%20%20%20%20%20%20%20%20%20%20%20%20%7B%0A%20%20%22bubblingMouseEvents%22%3A%20true%2C%0A%20%20%22color%22%3A%20%22%23ff0000%22%2C%0A%20%20%22dashArray%22%3A%20null%2C%0A%20%20%22dashOffset%22%3A%20null%2C%0A%20%20%22fill%22%3A%20true%2C%0A%20%20%22fillColor%22%3A%20%22%23ff0000%22%2C%0A%20%20%22fillOpacity%22%3A%200.7%2C%0A%20%20%22fillRule%22%3A%20%22evenodd%22%2C%0A%20%20%22lineCap%22%3A%20%22round%22%2C%0A%20%20%22lineJoin%22%3A%20%22round%22%2C%0A%20%20%22opacity%22%3A%201.0%2C%0A%20%20%22radius%22%3A%205%2C%0A%20%20%22stroke%22%3A%20true%2C%0A%20%20%22weight%22%3A%203%0A%7D%0A%20%20%20%20%20%20%20%20%20%20%20%20%20%20%20%20%29.addTo%28map_eff47c844de245779793ccb2f8172862%29%3B%0A%20%20%20%20%20%20%20%20%20%20%20%20%0A%20%20%20%20%0A%20%20%20%20%20%20%20%20%20%20%20%20var%20popup_0fedb16c72c2409bb7f52aee020bc3e8%20%3D%20L.popup%28%7BmaxWidth%3A%20%27300%27%7D%29%3B%0A%0A%20%20%20%20%20%20%20%20%20%20%20%20%0A%20%20%20%20%20%20%20%20%20%20%20%20%20%20%20%20var%20html_3de51780a717483f8d2c2758e6dfbf6e%20%3D%20%24%28%27%3Cdiv%20id%3D%22html_3de51780a717483f8d2c2758e6dfbf6e%22%20style%3D%22width%3A%20100.0%25%3B%20height%3A%20100.0%25%3B%22%3EButarque%20Cluster%200%3C/div%3E%27%29%5B0%5D%3B%0A%20%20%20%20%20%20%20%20%20%20%20%20%20%20%20%20popup_0fedb16c72c2409bb7f52aee020bc3e8.setContent%28html_3de51780a717483f8d2c2758e6dfbf6e%29%3B%0A%20%20%20%20%20%20%20%20%20%20%20%20%0A%0A%20%20%20%20%20%20%20%20%20%20%20%20circle_marker_7da9cd6e37e149859021a1d598441c42.bindPopup%28popup_0fedb16c72c2409bb7f52aee020bc3e8%29%3B%0A%0A%20%20%20%20%20%20%20%20%20%20%20%20%0A%20%20%20%20%20%20%20%20%0A%20%20%20%20%0A%20%20%20%20%20%20%20%20%20%20%20%20var%20circle_marker_773b5c31220b43e39bf9e3bff53bacdf%20%3D%20L.circleMarker%28%0A%20%20%20%20%20%20%20%20%20%20%20%20%20%20%20%20%5B40.360278%2C-3.685556%5D%2C%0A%20%20%20%20%20%20%20%20%20%20%20%20%20%20%20%20%7B%0A%20%20%22bubblingMouseEvents%22%3A%20true%2C%0A%20%20%22color%22%3A%20%22%23ff0000%22%2C%0A%20%20%22dashArray%22%3A%20null%2C%0A%20%20%22dashOffset%22%3A%20null%2C%0A%20%20%22fill%22%3A%20true%2C%0A%20%20%22fillColor%22%3A%20%22%23ff0000%22%2C%0A%20%20%22fillOpacity%22%3A%200.7%2C%0A%20%20%22fillRule%22%3A%20%22evenodd%22%2C%0A%20%20%22lineCap%22%3A%20%22round%22%2C%0A%20%20%22lineJoin%22%3A%20%22round%22%2C%0A%20%20%22opacity%22%3A%201.0%2C%0A%20%20%22radius%22%3A%205%2C%0A%20%20%22stroke%22%3A%20true%2C%0A%20%20%22weight%22%3A%203%0A%7D%0A%20%20%20%20%20%20%20%20%20%20%20%20%20%20%20%20%29.addTo%28map_eff47c844de245779793ccb2f8172862%29%3B%0A%20%20%20%20%20%20%20%20%20%20%20%20%0A%20%20%20%20%0A%20%20%20%20%20%20%20%20%20%20%20%20var%20popup_0619b5a270494f87a7da0d504a01f0f6%20%3D%20L.popup%28%7BmaxWidth%3A%20%27300%27%7D%29%3B%0A%0A%20%20%20%20%20%20%20%20%20%20%20%20%0A%20%20%20%20%20%20%20%20%20%20%20%20%20%20%20%20var%20html_b8e0de31c1fc49b3892da90e6cc26ef7%20%3D%20%24%28%27%3Cdiv%20id%3D%22html_b8e0de31c1fc49b3892da90e6cc26ef7%22%20style%3D%22width%3A%20100.0%25%3B%20height%3A%20100.0%25%3B%22%3ELos%20Rosales%20Cluster%200%3C/div%3E%27%29%5B0%5D%3B%0A%20%20%20%20%20%20%20%20%20%20%20%20%20%20%20%20popup_0619b5a270494f87a7da0d504a01f0f6.setContent%28html_b8e0de31c1fc49b3892da90e6cc26ef7%29%3B%0A%20%20%20%20%20%20%20%20%20%20%20%20%0A%0A%20%20%20%20%20%20%20%20%20%20%20%20circle_marker_773b5c31220b43e39bf9e3bff53bacdf.bindPopup%28popup_0619b5a270494f87a7da0d504a01f0f6%29%3B%0A%0A%20%20%20%20%20%20%20%20%20%20%20%20%0A%20%20%20%20%20%20%20%20%0A%20%20%20%20%0A%20%20%20%20%20%20%20%20%20%20%20%20var%20circle_marker_c566af31b44b42578b590acb3e52fa5d%20%3D%20L.circleMarker%28%0A%20%20%20%20%20%20%20%20%20%20%20%20%20%20%20%20%5B40.356667%2C-3.699167%5D%2C%0A%20%20%20%20%20%20%20%20%20%20%20%20%20%20%20%20%7B%0A%20%20%22bubblingMouseEvents%22%3A%20true%2C%0A%20%20%22color%22%3A%20%22%23ff0000%22%2C%0A%20%20%22dashArray%22%3A%20null%2C%0A%20%20%22dashOffset%22%3A%20null%2C%0A%20%20%22fill%22%3A%20true%2C%0A%20%20%22fillColor%22%3A%20%22%23ff0000%22%2C%0A%20%20%22fillOpacity%22%3A%200.7%2C%0A%20%20%22fillRule%22%3A%20%22evenodd%22%2C%0A%20%20%22lineCap%22%3A%20%22round%22%2C%0A%20%20%22lineJoin%22%3A%20%22round%22%2C%0A%20%20%22opacity%22%3A%201.0%2C%0A%20%20%22radius%22%3A%205%2C%0A%20%20%22stroke%22%3A%20true%2C%0A%20%20%22weight%22%3A%203%0A%7D%0A%20%20%20%20%20%20%20%20%20%20%20%20%20%20%20%20%29.addTo%28map_eff47c844de245779793ccb2f8172862%29%3B%0A%20%20%20%20%20%20%20%20%20%20%20%20%0A%20%20%20%20%0A%20%20%20%20%20%20%20%20%20%20%20%20var%20popup_d341d6690b374af6a7685d8100258756%20%3D%20L.popup%28%7BmaxWidth%3A%20%27300%27%7D%29%3B%0A%0A%20%20%20%20%20%20%20%20%20%20%20%20%0A%20%20%20%20%20%20%20%20%20%20%20%20%20%20%20%20var%20html_4d2e33444e2e4f7ba68e9ebc7e04e94b%20%3D%20%24%28%27%3Cdiv%20id%3D%22html_4d2e33444e2e4f7ba68e9ebc7e04e94b%22%20style%3D%22width%3A%20100.0%25%3B%20height%3A%20100.0%25%3B%22%3ELos%20Angeles%20Cluster%200%3C/div%3E%27%29%5B0%5D%3B%0A%20%20%20%20%20%20%20%20%20%20%20%20%20%20%20%20popup_d341d6690b374af6a7685d8100258756.setContent%28html_4d2e33444e2e4f7ba68e9ebc7e04e94b%29%3B%0A%20%20%20%20%20%20%20%20%20%20%20%20%0A%0A%20%20%20%20%20%20%20%20%20%20%20%20circle_marker_c566af31b44b42578b590acb3e52fa5d.bindPopup%28popup_d341d6690b374af6a7685d8100258756%29%3B%0A%0A%20%20%20%20%20%20%20%20%20%20%20%20%0A%20%20%20%20%20%20%20%20%0A%20%20%20%20%0A%20%20%20%20%20%20%20%20%20%20%20%20var%20circle_marker_acd52f3b7e4b430cb8ca0992c29e718f%20%3D%20L.circleMarker%28%0A%20%20%20%20%20%20%20%20%20%20%20%20%20%20%20%20%5B40.359444%2C-3.636389%5D%2C%0A%20%20%20%20%20%20%20%20%20%20%20%20%20%20%20%20%7B%0A%20%20%22bubblingMouseEvents%22%3A%20true%2C%0A%20%20%22color%22%3A%20%22%23ff0000%22%2C%0A%20%20%22dashArray%22%3A%20null%2C%0A%20%20%22dashOffset%22%3A%20null%2C%0A%20%20%22fill%22%3A%20true%2C%0A%20%20%22fillColor%22%3A%20%22%23ff0000%22%2C%0A%20%20%22fillOpacity%22%3A%200.7%2C%0A%20%20%22fillRule%22%3A%20%22evenodd%22%2C%0A%20%20%22lineCap%22%3A%20%22round%22%2C%0A%20%20%22lineJoin%22%3A%20%22round%22%2C%0A%20%20%22opacity%22%3A%201.0%2C%0A%20%20%22radius%22%3A%205%2C%0A%20%20%22stroke%22%3A%20true%2C%0A%20%20%22weight%22%3A%203%0A%7D%0A%20%20%20%20%20%20%20%20%20%20%20%20%20%20%20%20%29.addTo%28map_eff47c844de245779793ccb2f8172862%29%3B%0A%20%20%20%20%20%20%20%20%20%20%20%20%0A%20%20%20%20%0A%20%20%20%20%20%20%20%20%20%20%20%20var%20popup_de49e75a48cf4980ae9dc997b7797626%20%3D%20L.popup%28%7BmaxWidth%3A%20%27300%27%7D%29%3B%0A%0A%20%20%20%20%20%20%20%20%20%20%20%20%0A%20%20%20%20%20%20%20%20%20%20%20%20%20%20%20%20var%20html_8248fe158e9c4cb483714216140312dd%20%3D%20%24%28%27%3Cdiv%20id%3D%22html_8248fe158e9c4cb483714216140312dd%22%20style%3D%22width%3A%20100.0%25%3B%20height%3A%20100.0%25%3B%22%3ECasco%20Historico%20de%20Vallecas%20Cluster%200%3C/div%3E%27%29%5B0%5D%3B%0A%20%20%20%20%20%20%20%20%20%20%20%20%20%20%20%20popup_de49e75a48cf4980ae9dc997b7797626.setContent%28html_8248fe158e9c4cb483714216140312dd%29%3B%0A%20%20%20%20%20%20%20%20%20%20%20%20%0A%0A%20%20%20%20%20%20%20%20%20%20%20%20circle_marker_acd52f3b7e4b430cb8ca0992c29e718f.bindPopup%28popup_de49e75a48cf4980ae9dc997b7797626%29%3B%0A%0A%20%20%20%20%20%20%20%20%20%20%20%20%0A%20%20%20%20%20%20%20%20%0A%20%20%20%20%0A%20%20%20%20%20%20%20%20%20%20%20%20var%20circle_marker_054ea3e3efba4757a7659cc67f54ad29%20%3D%20L.circleMarker%28%0A%20%20%20%20%20%20%20%20%20%20%20%20%20%20%20%20%5B40.383333%2C-3.611389%5D%2C%0A%20%20%20%20%20%20%20%20%20%20%20%20%20%20%20%20%7B%0A%20%20%22bubblingMouseEvents%22%3A%20true%2C%0A%20%20%22color%22%3A%20%22%23ff0000%22%2C%0A%20%20%22dashArray%22%3A%20null%2C%0A%20%20%22dashOffset%22%3A%20null%2C%0A%20%20%22fill%22%3A%20true%2C%0A%20%20%22fillColor%22%3A%20%22%23ff0000%22%2C%0A%20%20%22fillOpacity%22%3A%200.7%2C%0A%20%20%22fillRule%22%3A%20%22evenodd%22%2C%0A%20%20%22lineCap%22%3A%20%22round%22%2C%0A%20%20%22lineJoin%22%3A%20%22round%22%2C%0A%20%20%22opacity%22%3A%201.0%2C%0A%20%20%22radius%22%3A%205%2C%0A%20%20%22stroke%22%3A%20true%2C%0A%20%20%22weight%22%3A%203%0A%7D%0A%20%20%20%20%20%20%20%20%20%20%20%20%20%20%20%20%29.addTo%28map_eff47c844de245779793ccb2f8172862%29%3B%0A%20%20%20%20%20%20%20%20%20%20%20%20%0A%20%20%20%20%0A%20%20%20%20%20%20%20%20%20%20%20%20var%20popup_e2d2e96edf99499292f1580a7763cafb%20%3D%20L.popup%28%7BmaxWidth%3A%20%27300%27%7D%29%3B%0A%0A%20%20%20%20%20%20%20%20%20%20%20%20%0A%20%20%20%20%20%20%20%20%20%20%20%20%20%20%20%20var%20html_8b7c9c8130264cfaa36b5bf7501d9420%20%3D%20%24%28%27%3Cdiv%20id%3D%22html_8b7c9c8130264cfaa36b5bf7501d9420%22%20style%3D%22width%3A%20100.0%25%3B%20height%3A%20100.0%25%3B%22%3ESanta%20Eugenia%20Cluster%200%3C/div%3E%27%29%5B0%5D%3B%0A%20%20%20%20%20%20%20%20%20%20%20%20%20%20%20%20popup_e2d2e96edf99499292f1580a7763cafb.setContent%28html_8b7c9c8130264cfaa36b5bf7501d9420%29%3B%0A%20%20%20%20%20%20%20%20%20%20%20%20%0A%0A%20%20%20%20%20%20%20%20%20%20%20%20circle_marker_054ea3e3efba4757a7659cc67f54ad29.bindPopup%28popup_e2d2e96edf99499292f1580a7763cafb%29%3B%0A%0A%20%20%20%20%20%20%20%20%20%20%20%20%0A%20%20%20%20%20%20%20%20%0A%20%20%20%20%0A%20%20%20%20%20%20%20%20%20%20%20%20var%20circle_marker_faba424eba8241cc9db1eafc3d39b955%20%3D%20L.circleMarker%28%0A%20%20%20%20%20%20%20%20%20%20%20%20%20%20%20%20%5B40.365528%2C-3.603264%5D%2C%0A%20%20%20%20%20%20%20%20%20%20%20%20%20%20%20%20%7B%0A%20%20%22bubblingMouseEvents%22%3A%20true%2C%0A%20%20%22color%22%3A%20%22%23ff0000%22%2C%0A%20%20%22dashArray%22%3A%20null%2C%0A%20%20%22dashOffset%22%3A%20null%2C%0A%20%20%22fill%22%3A%20true%2C%0A%20%20%22fillColor%22%3A%20%22%23ff0000%22%2C%0A%20%20%22fillOpacity%22%3A%200.7%2C%0A%20%20%22fillRule%22%3A%20%22evenodd%22%2C%0A%20%20%22lineCap%22%3A%20%22round%22%2C%0A%20%20%22lineJoin%22%3A%20%22round%22%2C%0A%20%20%22opacity%22%3A%201.0%2C%0A%20%20%22radius%22%3A%205%2C%0A%20%20%22stroke%22%3A%20true%2C%0A%20%20%22weight%22%3A%203%0A%7D%0A%20%20%20%20%20%20%20%20%20%20%20%20%20%20%20%20%29.addTo%28map_eff47c844de245779793ccb2f8172862%29%3B%0A%20%20%20%20%20%20%20%20%20%20%20%20%0A%20%20%20%20%0A%20%20%20%20%20%20%20%20%20%20%20%20var%20popup_29478ccc40e54d1c9c724a9520cda0a0%20%3D%20L.popup%28%7BmaxWidth%3A%20%27300%27%7D%29%3B%0A%0A%20%20%20%20%20%20%20%20%20%20%20%20%0A%20%20%20%20%20%20%20%20%20%20%20%20%20%20%20%20var%20html_ff58a81d29be4683acce361eb9a0a977%20%3D%20%24%28%27%3Cdiv%20id%3D%22html_ff58a81d29be4683acce361eb9a0a977%22%20style%3D%22width%3A%20100.0%25%3B%20height%3A%20100.0%25%3B%22%3EEnsanche%20de%20Vallecas%20Cluster%200%3C/div%3E%27%29%5B0%5D%3B%0A%20%20%20%20%20%20%20%20%20%20%20%20%20%20%20%20popup_29478ccc40e54d1c9c724a9520cda0a0.setContent%28html_ff58a81d29be4683acce361eb9a0a977%29%3B%0A%20%20%20%20%20%20%20%20%20%20%20%20%0A%0A%20%20%20%20%20%20%20%20%20%20%20%20circle_marker_faba424eba8241cc9db1eafc3d39b955.bindPopup%28popup_29478ccc40e54d1c9c724a9520cda0a0%29%3B%0A%0A%20%20%20%20%20%20%20%20%20%20%20%20%0A%20%20%20%20%20%20%20%20%0A%20%20%20%20%0A%20%20%20%20%20%20%20%20%20%20%20%20var%20circle_marker_b5cee274e6d34f14a1a6d87ff23e3dde%20%3D%20L.circleMarker%28%0A%20%20%20%20%20%20%20%20%20%20%20%20%20%20%20%20%5B40.396944%2C-3.615%5D%2C%0A%20%20%20%20%20%20%20%20%20%20%20%20%20%20%20%20%7B%0A%20%20%22bubblingMouseEvents%22%3A%20true%2C%0A%20%20%22color%22%3A%20%22%23ff0000%22%2C%0A%20%20%22dashArray%22%3A%20null%2C%0A%20%20%22dashOffset%22%3A%20null%2C%0A%20%20%22fill%22%3A%20true%2C%0A%20%20%22fillColor%22%3A%20%22%23ff0000%22%2C%0A%20%20%22fillOpacity%22%3A%200.7%2C%0A%20%20%22fillRule%22%3A%20%22evenodd%22%2C%0A%20%20%22lineCap%22%3A%20%22round%22%2C%0A%20%20%22lineJoin%22%3A%20%22round%22%2C%0A%20%20%22opacity%22%3A%201.0%2C%0A%20%20%22radius%22%3A%205%2C%0A%20%20%22stroke%22%3A%20true%2C%0A%20%20%22weight%22%3A%203%0A%7D%0A%20%20%20%20%20%20%20%20%20%20%20%20%20%20%20%20%29.addTo%28map_eff47c844de245779793ccb2f8172862%29%3B%0A%20%20%20%20%20%20%20%20%20%20%20%20%0A%20%20%20%20%0A%20%20%20%20%20%20%20%20%20%20%20%20var%20popup_eda1bc4cc0d24f1096df92ebe8456e9e%20%3D%20L.popup%28%7BmaxWidth%3A%20%27300%27%7D%29%3B%0A%0A%20%20%20%20%20%20%20%20%20%20%20%20%0A%20%20%20%20%20%20%20%20%20%20%20%20%20%20%20%20var%20html_2365c6453b094323bf03656d74cd7115%20%3D%20%24%28%27%3Cdiv%20id%3D%22html_2365c6453b094323bf03656d74cd7115%22%20style%3D%22width%3A%20100.0%25%3B%20height%3A%20100.0%25%3B%22%3ECasco%20Hist%C3%B3rico%20de%20Vic%C3%A1lvaro%20Cluster%200%3C/div%3E%27%29%5B0%5D%3B%0A%20%20%20%20%20%20%20%20%20%20%20%20%20%20%20%20popup_eda1bc4cc0d24f1096df92ebe8456e9e.setContent%28html_2365c6453b094323bf03656d74cd7115%29%3B%0A%20%20%20%20%20%20%20%20%20%20%20%20%0A%0A%20%20%20%20%20%20%20%20%20%20%20%20circle_marker_b5cee274e6d34f14a1a6d87ff23e3dde.bindPopup%28popup_eda1bc4cc0d24f1096df92ebe8456e9e%29%3B%0A%0A%20%20%20%20%20%20%20%20%20%20%20%20%0A%20%20%20%20%20%20%20%20%0A%20%20%20%20%0A%20%20%20%20%20%20%20%20%20%20%20%20var%20circle_marker_2a7fd480d029446ab7f18528977d9083%20%3D%20L.circleMarker%28%0A%20%20%20%20%20%20%20%20%20%20%20%20%20%20%20%20%5B40.400046%2C-3.621561%5D%2C%0A%20%20%20%20%20%20%20%20%20%20%20%20%20%20%20%20%7B%0A%20%20%22bubblingMouseEvents%22%3A%20true%2C%0A%20%20%22color%22%3A%20%22%23ff0000%22%2C%0A%20%20%22dashArray%22%3A%20null%2C%0A%20%20%22dashOffset%22%3A%20null%2C%0A%20%20%22fill%22%3A%20true%2C%0A%20%20%22fillColor%22%3A%20%22%23ff0000%22%2C%0A%20%20%22fillOpacity%22%3A%200.7%2C%0A%20%20%22fillRule%22%3A%20%22evenodd%22%2C%0A%20%20%22lineCap%22%3A%20%22round%22%2C%0A%20%20%22lineJoin%22%3A%20%22round%22%2C%0A%20%20%22opacity%22%3A%201.0%2C%0A%20%20%22radius%22%3A%205%2C%0A%20%20%22stroke%22%3A%20true%2C%0A%20%20%22weight%22%3A%203%0A%7D%0A%20%20%20%20%20%20%20%20%20%20%20%20%20%20%20%20%29.addTo%28map_eff47c844de245779793ccb2f8172862%29%3B%0A%20%20%20%20%20%20%20%20%20%20%20%20%0A%20%20%20%20%0A%20%20%20%20%20%20%20%20%20%20%20%20var%20popup_6491d5d5a3524bc78777f64d831282e2%20%3D%20L.popup%28%7BmaxWidth%3A%20%27300%27%7D%29%3B%0A%0A%20%20%20%20%20%20%20%20%20%20%20%20%0A%20%20%20%20%20%20%20%20%20%20%20%20%20%20%20%20var%20html_61afc944d164472abba032b4edce07b9%20%3D%20%24%28%27%3Cdiv%20id%3D%22html_61afc944d164472abba032b4edce07b9%22%20style%3D%22width%3A%20100.0%25%3B%20height%3A%20100.0%25%3B%22%3EValdebernardo%20Cluster%200%3C/div%3E%27%29%5B0%5D%3B%0A%20%20%20%20%20%20%20%20%20%20%20%20%20%20%20%20popup_6491d5d5a3524bc78777f64d831282e2.setContent%28html_61afc944d164472abba032b4edce07b9%29%3B%0A%20%20%20%20%20%20%20%20%20%20%20%20%0A%0A%20%20%20%20%20%20%20%20%20%20%20%20circle_marker_2a7fd480d029446ab7f18528977d9083.bindPopup%28popup_6491d5d5a3524bc78777f64d831282e2%29%3B%0A%0A%20%20%20%20%20%20%20%20%20%20%20%20%0A%20%20%20%20%20%20%20%20%0A%20%20%20%20%0A%20%20%20%20%20%20%20%20%20%20%20%20var%20circle_marker_b0a2e439f7c2466cb8a4d9cc7c5a9277%20%3D%20L.circleMarker%28%0A%20%20%20%20%20%20%20%20%20%20%20%20%20%20%20%20%5B40.401583%2C-3.599094%5D%2C%0A%20%20%20%20%20%20%20%20%20%20%20%20%20%20%20%20%7B%0A%20%20%22bubblingMouseEvents%22%3A%20true%2C%0A%20%20%22color%22%3A%20%22%23ff0000%22%2C%0A%20%20%22dashArray%22%3A%20null%2C%0A%20%20%22dashOffset%22%3A%20null%2C%0A%20%20%22fill%22%3A%20true%2C%0A%20%20%22fillColor%22%3A%20%22%23ff0000%22%2C%0A%20%20%22fillOpacity%22%3A%200.7%2C%0A%20%20%22fillRule%22%3A%20%22evenodd%22%2C%0A%20%20%22lineCap%22%3A%20%22round%22%2C%0A%20%20%22lineJoin%22%3A%20%22round%22%2C%0A%20%20%22opacity%22%3A%201.0%2C%0A%20%20%22radius%22%3A%205%2C%0A%20%20%22stroke%22%3A%20true%2C%0A%20%20%22weight%22%3A%203%0A%7D%0A%20%20%20%20%20%20%20%20%20%20%20%20%20%20%20%20%29.addTo%28map_eff47c844de245779793ccb2f8172862%29%3B%0A%20%20%20%20%20%20%20%20%20%20%20%20%0A%20%20%20%20%0A%20%20%20%20%20%20%20%20%20%20%20%20var%20popup_e5bffb76035b45dba8d6c1edb6aa22b7%20%3D%20L.popup%28%7BmaxWidth%3A%20%27300%27%7D%29%3B%0A%0A%20%20%20%20%20%20%20%20%20%20%20%20%0A%20%20%20%20%20%20%20%20%20%20%20%20%20%20%20%20var%20html_27551366be7c479da30b9471058b1681%20%3D%20%24%28%27%3Cdiv%20id%3D%22html_27551366be7c479da30b9471058b1681%22%20style%3D%22width%3A%20100.0%25%3B%20height%3A%20100.0%25%3B%22%3EValderrivas%20Cluster%200%3C/div%3E%27%29%5B0%5D%3B%0A%20%20%20%20%20%20%20%20%20%20%20%20%20%20%20%20popup_e5bffb76035b45dba8d6c1edb6aa22b7.setContent%28html_27551366be7c479da30b9471058b1681%29%3B%0A%20%20%20%20%20%20%20%20%20%20%20%20%0A%0A%20%20%20%20%20%20%20%20%20%20%20%20circle_marker_b0a2e439f7c2466cb8a4d9cc7c5a9277.bindPopup%28popup_e5bffb76035b45dba8d6c1edb6aa22b7%29%3B%0A%0A%20%20%20%20%20%20%20%20%20%20%20%20%0A%20%20%20%20%20%20%20%20%0A%20%20%20%20%0A%20%20%20%20%20%20%20%20%20%20%20%20var%20circle_marker_cee79a9204dc4144afb1b66ea77b387c%20%3D%20L.circleMarker%28%0A%20%20%20%20%20%20%20%20%20%20%20%20%20%20%20%20%5B40.401433%2C-3.552617%5D%2C%0A%20%20%20%20%20%20%20%20%20%20%20%20%20%20%20%20%7B%0A%20%20%22bubblingMouseEvents%22%3A%20true%2C%0A%20%20%22color%22%3A%20%22%23ff0000%22%2C%0A%20%20%22dashArray%22%3A%20null%2C%0A%20%20%22dashOffset%22%3A%20null%2C%0A%20%20%22fill%22%3A%20true%2C%0A%20%20%22fillColor%22%3A%20%22%23ff0000%22%2C%0A%20%20%22fillOpacity%22%3A%200.7%2C%0A%20%20%22fillRule%22%3A%20%22evenodd%22%2C%0A%20%20%22lineCap%22%3A%20%22round%22%2C%0A%20%20%22lineJoin%22%3A%20%22round%22%2C%0A%20%20%22opacity%22%3A%201.0%2C%0A%20%20%22radius%22%3A%205%2C%0A%20%20%22stroke%22%3A%20true%2C%0A%20%20%22weight%22%3A%203%0A%7D%0A%20%20%20%20%20%20%20%20%20%20%20%20%20%20%20%20%29.addTo%28map_eff47c844de245779793ccb2f8172862%29%3B%0A%20%20%20%20%20%20%20%20%20%20%20%20%0A%20%20%20%20%0A%20%20%20%20%20%20%20%20%20%20%20%20var%20popup_7ba733464d8b452e90e0f5085b416a27%20%3D%20L.popup%28%7BmaxWidth%3A%20%27300%27%7D%29%3B%0A%0A%20%20%20%20%20%20%20%20%20%20%20%20%0A%20%20%20%20%20%20%20%20%20%20%20%20%20%20%20%20var%20html_e0de8b711daa49048591cf75b83c2234%20%3D%20%24%28%27%3Cdiv%20id%3D%22html_e0de8b711daa49048591cf75b83c2234%22%20style%3D%22width%3A%20100.0%25%3B%20height%3A%20100.0%25%3B%22%3EEl%20Canaveral%20Cluster%200%3C/div%3E%27%29%5B0%5D%3B%0A%20%20%20%20%20%20%20%20%20%20%20%20%20%20%20%20popup_7ba733464d8b452e90e0f5085b416a27.setContent%28html_e0de8b711daa49048591cf75b83c2234%29%3B%0A%20%20%20%20%20%20%20%20%20%20%20%20%0A%0A%20%20%20%20%20%20%20%20%20%20%20%20circle_marker_cee79a9204dc4144afb1b66ea77b387c.bindPopup%28popup_7ba733464d8b452e90e0f5085b416a27%29%3B%0A%0A%20%20%20%20%20%20%20%20%20%20%20%20%0A%20%20%20%20%20%20%20%20%0A%20%20%20%20%0A%20%20%20%20%20%20%20%20%20%20%20%20var%20circle_marker_4b169c9a9c8d40ce92e3e71e26706be4%20%3D%20L.circleMarker%28%0A%20%20%20%20%20%20%20%20%20%20%20%20%20%20%20%20%5B40.428056%2C-3.625278%5D%2C%0A%20%20%20%20%20%20%20%20%20%20%20%20%20%20%20%20%7B%0A%20%20%22bubblingMouseEvents%22%3A%20true%2C%0A%20%20%22color%22%3A%20%22%238000ff%22%2C%0A%20%20%22dashArray%22%3A%20null%2C%0A%20%20%22dashOffset%22%3A%20null%2C%0A%20%20%22fill%22%3A%20true%2C%0A%20%20%22fillColor%22%3A%20%22%238000ff%22%2C%0A%20%20%22fillOpacity%22%3A%200.7%2C%0A%20%20%22fillRule%22%3A%20%22evenodd%22%2C%0A%20%20%22lineCap%22%3A%20%22round%22%2C%0A%20%20%22lineJoin%22%3A%20%22round%22%2C%0A%20%20%22opacity%22%3A%201.0%2C%0A%20%20%22radius%22%3A%205%2C%0A%20%20%22stroke%22%3A%20true%2C%0A%20%20%22weight%22%3A%203%0A%7D%0A%20%20%20%20%20%20%20%20%20%20%20%20%20%20%20%20%29.addTo%28map_eff47c844de245779793ccb2f8172862%29%3B%0A%20%20%20%20%20%20%20%20%20%20%20%20%0A%20%20%20%20%0A%20%20%20%20%20%20%20%20%20%20%20%20var%20popup_355f165d60e04735ab566a0ac0167ca3%20%3D%20L.popup%28%7BmaxWidth%3A%20%27300%27%7D%29%3B%0A%0A%20%20%20%20%20%20%20%20%20%20%20%20%0A%20%20%20%20%20%20%20%20%20%20%20%20%20%20%20%20var%20html_c9ee0790354640a2bdb817124561ac7a%20%3D%20%24%28%27%3Cdiv%20id%3D%22html_c9ee0790354640a2bdb817124561ac7a%22%20style%3D%22width%3A%20100.0%25%3B%20height%3A%20100.0%25%3B%22%3ESimancas%20Cluster%201%3C/div%3E%27%29%5B0%5D%3B%0A%20%20%20%20%20%20%20%20%20%20%20%20%20%20%20%20popup_355f165d60e04735ab566a0ac0167ca3.setContent%28html_c9ee0790354640a2bdb817124561ac7a%29%3B%0A%20%20%20%20%20%20%20%20%20%20%20%20%0A%0A%20%20%20%20%20%20%20%20%20%20%20%20circle_marker_4b169c9a9c8d40ce92e3e71e26706be4.bindPopup%28popup_355f165d60e04735ab566a0ac0167ca3%29%3B%0A%0A%20%20%20%20%20%20%20%20%20%20%20%20%0A%20%20%20%20%20%20%20%20%0A%20%20%20%20%0A%20%20%20%20%20%20%20%20%20%20%20%20var%20circle_marker_13239fd541c54563bd177f4015375f76%20%3D%20L.circleMarker%28%0A%20%20%20%20%20%20%20%20%20%20%20%20%20%20%20%20%5B40.430278%2C-3.618889%5D%2C%0A%20%20%20%20%20%20%20%20%20%20%20%20%20%20%20%20%7B%0A%20%20%22bubblingMouseEvents%22%3A%20true%2C%0A%20%20%22color%22%3A%20%22%23ff0000%22%2C%0A%20%20%22dashArray%22%3A%20null%2C%0A%20%20%22dashOffset%22%3A%20null%2C%0A%20%20%22fill%22%3A%20true%2C%0A%20%20%22fillColor%22%3A%20%22%23ff0000%22%2C%0A%20%20%22fillOpacity%22%3A%200.7%2C%0A%20%20%22fillRule%22%3A%20%22evenodd%22%2C%0A%20%20%22lineCap%22%3A%20%22round%22%2C%0A%20%20%22lineJoin%22%3A%20%22round%22%2C%0A%20%20%22opacity%22%3A%201.0%2C%0A%20%20%22radius%22%3A%205%2C%0A%20%20%22stroke%22%3A%20true%2C%0A%20%20%22weight%22%3A%203%0A%7D%0A%20%20%20%20%20%20%20%20%20%20%20%20%20%20%20%20%29.addTo%28map_eff47c844de245779793ccb2f8172862%29%3B%0A%20%20%20%20%20%20%20%20%20%20%20%20%0A%20%20%20%20%0A%20%20%20%20%20%20%20%20%20%20%20%20var%20popup_c79f9a8c49704c2eb6b864efc5c0ee1e%20%3D%20L.popup%28%7BmaxWidth%3A%20%27300%27%7D%29%3B%0A%0A%20%20%20%20%20%20%20%20%20%20%20%20%0A%20%20%20%20%20%20%20%20%20%20%20%20%20%20%20%20var%20html_fc23c162d1a547cf9de374703fd653dd%20%3D%20%24%28%27%3Cdiv%20id%3D%22html_fc23c162d1a547cf9de374703fd653dd%22%20style%3D%22width%3A%20100.0%25%3B%20height%3A%20100.0%25%3B%22%3EHellin%20Cluster%200%3C/div%3E%27%29%5B0%5D%3B%0A%20%20%20%20%20%20%20%20%20%20%20%20%20%20%20%20popup_c79f9a8c49704c2eb6b864efc5c0ee1e.setContent%28html_fc23c162d1a547cf9de374703fd653dd%29%3B%0A%20%20%20%20%20%20%20%20%20%20%20%20%0A%0A%20%20%20%20%20%20%20%20%20%20%20%20circle_marker_13239fd541c54563bd177f4015375f76.bindPopup%28popup_c79f9a8c49704c2eb6b864efc5c0ee1e%29%3B%0A%0A%20%20%20%20%20%20%20%20%20%20%20%20%0A%20%20%20%20%20%20%20%20%0A%20%20%20%20%0A%20%20%20%20%20%20%20%20%20%20%20%20var%20circle_marker_f3c50cbd6f7c438e87c052c8ec26b0d9%20%3D%20L.circleMarker%28%0A%20%20%20%20%20%20%20%20%20%20%20%20%20%20%20%20%5B40.430278%2C-3.619444%5D%2C%0A%20%20%20%20%20%20%20%20%20%20%20%20%20%20%20%20%7B%0A%20%20%22bubblingMouseEvents%22%3A%20true%2C%0A%20%20%22color%22%3A%20%22%23ff0000%22%2C%0A%20%20%22dashArray%22%3A%20null%2C%0A%20%20%22dashOffset%22%3A%20null%2C%0A%20%20%22fill%22%3A%20true%2C%0A%20%20%22fillColor%22%3A%20%22%23ff0000%22%2C%0A%20%20%22fillOpacity%22%3A%200.7%2C%0A%20%20%22fillRule%22%3A%20%22evenodd%22%2C%0A%20%20%22lineCap%22%3A%20%22round%22%2C%0A%20%20%22lineJoin%22%3A%20%22round%22%2C%0A%20%20%22opacity%22%3A%201.0%2C%0A%20%20%22radius%22%3A%205%2C%0A%20%20%22stroke%22%3A%20true%2C%0A%20%20%22weight%22%3A%203%0A%7D%0A%20%20%20%20%20%20%20%20%20%20%20%20%20%20%20%20%29.addTo%28map_eff47c844de245779793ccb2f8172862%29%3B%0A%20%20%20%20%20%20%20%20%20%20%20%20%0A%20%20%20%20%0A%20%20%20%20%20%20%20%20%20%20%20%20var%20popup_b5118fd16a244bd88a29562f3509dcd0%20%3D%20L.popup%28%7BmaxWidth%3A%20%27300%27%7D%29%3B%0A%0A%20%20%20%20%20%20%20%20%20%20%20%20%0A%20%20%20%20%20%20%20%20%20%20%20%20%20%20%20%20var%20html_0c4695fe9e4b4f84b0ce2b1af5092cb3%20%3D%20%24%28%27%3Cdiv%20id%3D%22html_0c4695fe9e4b4f84b0ce2b1af5092cb3%22%20style%3D%22width%3A%20100.0%25%3B%20height%3A%20100.0%25%3B%22%3EAmposta%20Cluster%200%3C/div%3E%27%29%5B0%5D%3B%0A%20%20%20%20%20%20%20%20%20%20%20%20%20%20%20%20popup_b5118fd16a244bd88a29562f3509dcd0.setContent%28html_0c4695fe9e4b4f84b0ce2b1af5092cb3%29%3B%0A%20%20%20%20%20%20%20%20%20%20%20%20%0A%0A%20%20%20%20%20%20%20%20%20%20%20%20circle_marker_f3c50cbd6f7c438e87c052c8ec26b0d9.bindPopup%28popup_b5118fd16a244bd88a29562f3509dcd0%29%3B%0A%0A%20%20%20%20%20%20%20%20%20%20%20%20%0A%20%20%20%20%20%20%20%20%0A%20%20%20%20%0A%20%20%20%20%20%20%20%20%20%20%20%20var%20circle_marker_2e441f1ea147412b90181b452e3d6142%20%3D%20L.circleMarker%28%0A%20%20%20%20%20%20%20%20%20%20%20%20%20%20%20%20%5B40.423889%2C-3.613056%5D%2C%0A%20%20%20%20%20%20%20%20%20%20%20%20%20%20%20%20%7B%0A%20%20%22bubblingMouseEvents%22%3A%20true%2C%0A%20%20%22color%22%3A%20%22%23ff0000%22%2C%0A%20%20%22dashArray%22%3A%20null%2C%0A%20%20%22dashOffset%22%3A%20null%2C%0A%20%20%22fill%22%3A%20true%2C%0A%20%20%22fillColor%22%3A%20%22%23ff0000%22%2C%0A%20%20%22fillOpacity%22%3A%200.7%2C%0A%20%20%22fillRule%22%3A%20%22evenodd%22%2C%0A%20%20%22lineCap%22%3A%20%22round%22%2C%0A%20%20%22lineJoin%22%3A%20%22round%22%2C%0A%20%20%22opacity%22%3A%201.0%2C%0A%20%20%22radius%22%3A%205%2C%0A%20%20%22stroke%22%3A%20true%2C%0A%20%20%22weight%22%3A%203%0A%7D%0A%20%20%20%20%20%20%20%20%20%20%20%20%20%20%20%20%29.addTo%28map_eff47c844de245779793ccb2f8172862%29%3B%0A%20%20%20%20%20%20%20%20%20%20%20%20%0A%20%20%20%20%0A%20%20%20%20%20%20%20%20%20%20%20%20var%20popup_7fd78ce509fc4668a3fdea94d62a4838%20%3D%20L.popup%28%7BmaxWidth%3A%20%27300%27%7D%29%3B%0A%0A%20%20%20%20%20%20%20%20%20%20%20%20%0A%20%20%20%20%20%20%20%20%20%20%20%20%20%20%20%20var%20html_b4206126d99b4ffb93c121881e79c8ae%20%3D%20%24%28%27%3Cdiv%20id%3D%22html_b4206126d99b4ffb93c121881e79c8ae%22%20style%3D%22width%3A%20100.0%25%3B%20height%3A%20100.0%25%3B%22%3EArcos%20Cluster%200%3C/div%3E%27%29%5B0%5D%3B%0A%20%20%20%20%20%20%20%20%20%20%20%20%20%20%20%20popup_7fd78ce509fc4668a3fdea94d62a4838.setContent%28html_b4206126d99b4ffb93c121881e79c8ae%29%3B%0A%20%20%20%20%20%20%20%20%20%20%20%20%0A%0A%20%20%20%20%20%20%20%20%20%20%20%20circle_marker_2e441f1ea147412b90181b452e3d6142.bindPopup%28popup_7fd78ce509fc4668a3fdea94d62a4838%29%3B%0A%0A%20%20%20%20%20%20%20%20%20%20%20%20%0A%20%20%20%20%20%20%20%20%0A%20%20%20%20%0A%20%20%20%20%20%20%20%20%20%20%20%20var%20circle_marker_1a7e8db85da04f6cac531211884d9ca2%20%3D%20L.circleMarker%28%0A%20%20%20%20%20%20%20%20%20%20%20%20%20%20%20%20%5B40.436111%2C-3.599444%5D%2C%0A%20%20%20%20%20%20%20%20%20%20%20%20%20%20%20%20%7B%0A%20%20%22bubblingMouseEvents%22%3A%20true%2C%0A%20%20%22color%22%3A%20%22%23ff0000%22%2C%0A%20%20%22dashArray%22%3A%20null%2C%0A%20%20%22dashOffset%22%3A%20null%2C%0A%20%20%22fill%22%3A%20true%2C%0A%20%20%22fillColor%22%3A%20%22%23ff0000%22%2C%0A%20%20%22fillOpacity%22%3A%200.7%2C%0A%20%20%22fillRule%22%3A%20%22evenodd%22%2C%0A%20%20%22lineCap%22%3A%20%22round%22%2C%0A%20%20%22lineJoin%22%3A%20%22round%22%2C%0A%20%20%22opacity%22%3A%201.0%2C%0A%20%20%22radius%22%3A%205%2C%0A%20%20%22stroke%22%3A%20true%2C%0A%20%20%22weight%22%3A%203%0A%7D%0A%20%20%20%20%20%20%20%20%20%20%20%20%20%20%20%20%29.addTo%28map_eff47c844de245779793ccb2f8172862%29%3B%0A%20%20%20%20%20%20%20%20%20%20%20%20%0A%20%20%20%20%0A%20%20%20%20%20%20%20%20%20%20%20%20var%20popup_54710dc1944f485fa9da238d68545827%20%3D%20L.popup%28%7BmaxWidth%3A%20%27300%27%7D%29%3B%0A%0A%20%20%20%20%20%20%20%20%20%20%20%20%0A%20%20%20%20%20%20%20%20%20%20%20%20%20%20%20%20var%20html_a95363bcc0964945bb546c6f2f0cc2d7%20%3D%20%24%28%27%3Cdiv%20id%3D%22html_a95363bcc0964945bb546c6f2f0cc2d7%22%20style%3D%22width%3A%20100.0%25%3B%20height%3A%20100.0%25%3B%22%3ERosas%20Cluster%200%3C/div%3E%27%29%5B0%5D%3B%0A%20%20%20%20%20%20%20%20%20%20%20%20%20%20%20%20popup_54710dc1944f485fa9da238d68545827.setContent%28html_a95363bcc0964945bb546c6f2f0cc2d7%29%3B%0A%20%20%20%20%20%20%20%20%20%20%20%20%0A%0A%20%20%20%20%20%20%20%20%20%20%20%20circle_marker_1a7e8db85da04f6cac531211884d9ca2.bindPopup%28popup_54710dc1944f485fa9da238d68545827%29%3B%0A%0A%20%20%20%20%20%20%20%20%20%20%20%20%0A%20%20%20%20%20%20%20%20%0A%20%20%20%20%0A%20%20%20%20%20%20%20%20%20%20%20%20var%20circle_marker_34c645cec4a6428a8d28a99b83e81995%20%3D%20L.circleMarker%28%0A%20%20%20%20%20%20%20%20%20%20%20%20%20%20%20%20%5B40.443611%2C-3.595%5D%2C%0A%20%20%20%20%20%20%20%20%20%20%20%20%20%20%20%20%7B%0A%20%20%22bubblingMouseEvents%22%3A%20true%2C%0A%20%20%22color%22%3A%20%22%23ff0000%22%2C%0A%20%20%22dashArray%22%3A%20null%2C%0A%20%20%22dashOffset%22%3A%20null%2C%0A%20%20%22fill%22%3A%20true%2C%0A%20%20%22fillColor%22%3A%20%22%23ff0000%22%2C%0A%20%20%22fillOpacity%22%3A%200.7%2C%0A%20%20%22fillRule%22%3A%20%22evenodd%22%2C%0A%20%20%22lineCap%22%3A%20%22round%22%2C%0A%20%20%22lineJoin%22%3A%20%22round%22%2C%0A%20%20%22opacity%22%3A%201.0%2C%0A%20%20%22radius%22%3A%205%2C%0A%20%20%22stroke%22%3A%20true%2C%0A%20%20%22weight%22%3A%203%0A%7D%0A%20%20%20%20%20%20%20%20%20%20%20%20%20%20%20%20%29.addTo%28map_eff47c844de245779793ccb2f8172862%29%3B%0A%20%20%20%20%20%20%20%20%20%20%20%20%0A%20%20%20%20%0A%20%20%20%20%20%20%20%20%20%20%20%20var%20popup_e88be19820ee4a509ac74aa903f88854%20%3D%20L.popup%28%7BmaxWidth%3A%20%27300%27%7D%29%3B%0A%0A%20%20%20%20%20%20%20%20%20%20%20%20%0A%20%20%20%20%20%20%20%20%20%20%20%20%20%20%20%20var%20html_86c50b6c03c74fcbb769809d57d20ae1%20%3D%20%24%28%27%3Cdiv%20id%3D%22html_86c50b6c03c74fcbb769809d57d20ae1%22%20style%3D%22width%3A%20100.0%25%3B%20height%3A%20100.0%25%3B%22%3ERejas%20Cluster%200%3C/div%3E%27%29%5B0%5D%3B%0A%20%20%20%20%20%20%20%20%20%20%20%20%20%20%20%20popup_e88be19820ee4a509ac74aa903f88854.setContent%28html_86c50b6c03c74fcbb769809d57d20ae1%29%3B%0A%20%20%20%20%20%20%20%20%20%20%20%20%0A%0A%20%20%20%20%20%20%20%20%20%20%20%20circle_marker_34c645cec4a6428a8d28a99b83e81995.bindPopup%28popup_e88be19820ee4a509ac74aa903f88854%29%3B%0A%0A%20%20%20%20%20%20%20%20%20%20%20%20%0A%20%20%20%20%20%20%20%20%0A%20%20%20%20%0A%20%20%20%20%20%20%20%20%20%20%20%20var%20circle_marker_03185a7515ea4df4a27e9ac99239a0f3%20%3D%20L.circleMarker%28%0A%20%20%20%20%20%20%20%20%20%20%20%20%20%20%20%20%5B40.45%2C-3.616667%5D%2C%0A%20%20%20%20%20%20%20%20%20%20%20%20%20%20%20%20%7B%0A%20%20%22bubblingMouseEvents%22%3A%20true%2C%0A%20%20%22color%22%3A%20%22%23ff0000%22%2C%0A%20%20%22dashArray%22%3A%20null%2C%0A%20%20%22dashOffset%22%3A%20null%2C%0A%20%20%22fill%22%3A%20true%2C%0A%20%20%22fillColor%22%3A%20%22%23ff0000%22%2C%0A%20%20%22fillOpacity%22%3A%200.7%2C%0A%20%20%22fillRule%22%3A%20%22evenodd%22%2C%0A%20%20%22lineCap%22%3A%20%22round%22%2C%0A%20%20%22lineJoin%22%3A%20%22round%22%2C%0A%20%20%22opacity%22%3A%201.0%2C%0A%20%20%22radius%22%3A%205%2C%0A%20%20%22stroke%22%3A%20true%2C%0A%20%20%22weight%22%3A%203%0A%7D%0A%20%20%20%20%20%20%20%20%20%20%20%20%20%20%20%20%29.addTo%28map_eff47c844de245779793ccb2f8172862%29%3B%0A%20%20%20%20%20%20%20%20%20%20%20%20%0A%20%20%20%20%0A%20%20%20%20%20%20%20%20%20%20%20%20var%20popup_889ce6f89ea347aa98a933eec62c857e%20%3D%20L.popup%28%7BmaxWidth%3A%20%27300%27%7D%29%3B%0A%0A%20%20%20%20%20%20%20%20%20%20%20%20%0A%20%20%20%20%20%20%20%20%20%20%20%20%20%20%20%20var%20html_0a5ab297fe1c44b7a23b117412cb6908%20%3D%20%24%28%27%3Cdiv%20id%3D%22html_0a5ab297fe1c44b7a23b117412cb6908%22%20style%3D%22width%3A%20100.0%25%3B%20height%3A%20100.0%25%3B%22%3ECanillejas%20Cluster%200%3C/div%3E%27%29%5B0%5D%3B%0A%20%20%20%20%20%20%20%20%20%20%20%20%20%20%20%20popup_889ce6f89ea347aa98a933eec62c857e.setContent%28html_0a5ab297fe1c44b7a23b117412cb6908%29%3B%0A%20%20%20%20%20%20%20%20%20%20%20%20%0A%0A%20%20%20%20%20%20%20%20%20%20%20%20circle_marker_03185a7515ea4df4a27e9ac99239a0f3.bindPopup%28popup_889ce6f89ea347aa98a933eec62c857e%29%3B%0A%0A%20%20%20%20%20%20%20%20%20%20%20%20%0A%20%20%20%20%20%20%20%20%0A%20%20%20%20%0A%20%20%20%20%20%20%20%20%20%20%20%20var%20circle_marker_cba8be279f84457795a942cb1fe55300%20%3D%20L.circleMarker%28%0A%20%20%20%20%20%20%20%20%20%20%20%20%20%20%20%20%5B40.444444%2C-3.633056%5D%2C%0A%20%20%20%20%20%20%20%20%20%20%20%20%20%20%20%20%7B%0A%20%20%22bubblingMouseEvents%22%3A%20true%2C%0A%20%20%22color%22%3A%20%22%23ff0000%22%2C%0A%20%20%22dashArray%22%3A%20null%2C%0A%20%20%22dashOffset%22%3A%20null%2C%0A%20%20%22fill%22%3A%20true%2C%0A%20%20%22fillColor%22%3A%20%22%23ff0000%22%2C%0A%20%20%22fillOpacity%22%3A%200.7%2C%0A%20%20%22fillRule%22%3A%20%22evenodd%22%2C%0A%20%20%22lineCap%22%3A%20%22round%22%2C%0A%20%20%22lineJoin%22%3A%20%22round%22%2C%0A%20%20%22opacity%22%3A%201.0%2C%0A%20%20%22radius%22%3A%205%2C%0A%20%20%22stroke%22%3A%20true%2C%0A%20%20%22weight%22%3A%203%0A%7D%0A%20%20%20%20%20%20%20%20%20%20%20%20%20%20%20%20%29.addTo%28map_eff47c844de245779793ccb2f8172862%29%3B%0A%20%20%20%20%20%20%20%20%20%20%20%20%0A%20%20%20%20%0A%20%20%20%20%20%20%20%20%20%20%20%20var%20popup_915f765f07a64a65aed5f0e5cac0ed06%20%3D%20L.popup%28%7BmaxWidth%3A%20%27300%27%7D%29%3B%0A%0A%20%20%20%20%20%20%20%20%20%20%20%20%0A%20%20%20%20%20%20%20%20%20%20%20%20%20%20%20%20var%20html_ca758056cc3b49188123da7b01ebee38%20%3D%20%24%28%27%3Cdiv%20id%3D%22html_ca758056cc3b49188123da7b01ebee38%22%20style%3D%22width%3A%20100.0%25%3B%20height%3A%20100.0%25%3B%22%3EEl%20Salvador%20Cluster%200%3C/div%3E%27%29%5B0%5D%3B%0A%20%20%20%20%20%20%20%20%20%20%20%20%20%20%20%20popup_915f765f07a64a65aed5f0e5cac0ed06.setContent%28html_ca758056cc3b49188123da7b01ebee38%29%3B%0A%20%20%20%20%20%20%20%20%20%20%20%20%0A%0A%20%20%20%20%20%20%20%20%20%20%20%20circle_marker_cba8be279f84457795a942cb1fe55300.bindPopup%28popup_915f765f07a64a65aed5f0e5cac0ed06%29%3B%0A%0A%20%20%20%20%20%20%20%20%20%20%20%20%0A%20%20%20%20%20%20%20%20%0A%20%20%20%20%0A%20%20%20%20%20%20%20%20%20%20%20%20var%20circle_marker_aa60b1c2770e462d9125790963188ecf%20%3D%20L.circleMarker%28%0A%20%20%20%20%20%20%20%20%20%20%20%20%20%20%20%20%5B40.428056%2C-3.625278%5D%2C%0A%20%20%20%20%20%20%20%20%20%20%20%20%20%20%20%20%7B%0A%20%20%22bubblingMouseEvents%22%3A%20true%2C%0A%20%20%22color%22%3A%20%22%23ff0000%22%2C%0A%20%20%22dashArray%22%3A%20null%2C%0A%20%20%22dashOffset%22%3A%20null%2C%0A%20%20%22fill%22%3A%20true%2C%0A%20%20%22fillColor%22%3A%20%22%23ff0000%22%2C%0A%20%20%22fillOpacity%22%3A%200.7%2C%0A%20%20%22fillRule%22%3A%20%22evenodd%22%2C%0A%20%20%22lineCap%22%3A%20%22round%22%2C%0A%20%20%22lineJoin%22%3A%20%22round%22%2C%0A%20%20%22opacity%22%3A%201.0%2C%0A%20%20%22radius%22%3A%205%2C%0A%20%20%22stroke%22%3A%20true%2C%0A%20%20%22weight%22%3A%203%0A%7D%0A%20%20%20%20%20%20%20%20%20%20%20%20%20%20%20%20%29.addTo%28map_eff47c844de245779793ccb2f8172862%29%3B%0A%20%20%20%20%20%20%20%20%20%20%20%20%0A%20%20%20%20%0A%20%20%20%20%20%20%20%20%20%20%20%20var%20popup_0ad8417ca95b436d8ede8e272049b0ea%20%3D%20L.popup%28%7BmaxWidth%3A%20%27300%27%7D%29%3B%0A%0A%20%20%20%20%20%20%20%20%20%20%20%20%0A%20%20%20%20%20%20%20%20%20%20%20%20%20%20%20%20var%20html_bd2a9cb55d88438ab3940377e08a3732%20%3D%20%24%28%27%3Cdiv%20id%3D%22html_bd2a9cb55d88438ab3940377e08a3732%22%20style%3D%22width%3A%20100.0%25%3B%20height%3A%20100.0%25%3B%22%3EAlameda%20de%20Osuna%20Cluster%200%3C/div%3E%27%29%5B0%5D%3B%0A%20%20%20%20%20%20%20%20%20%20%20%20%20%20%20%20popup_0ad8417ca95b436d8ede8e272049b0ea.setContent%28html_bd2a9cb55d88438ab3940377e08a3732%29%3B%0A%20%20%20%20%20%20%20%20%20%20%20%20%0A%0A%20%20%20%20%20%20%20%20%20%20%20%20circle_marker_aa60b1c2770e462d9125790963188ecf.bindPopup%28popup_0ad8417ca95b436d8ede8e272049b0ea%29%3B%0A%0A%20%20%20%20%20%20%20%20%20%20%20%20%0A%20%20%20%20%20%20%20%20%0A%20%20%20%20%0A%20%20%20%20%20%20%20%20%20%20%20%20var%20circle_marker_b0cdb9870d454c8a968b05c48b6091a1%20%3D%20L.circleMarker%28%0A%20%20%20%20%20%20%20%20%20%20%20%20%20%20%20%20%5B40.494167%2C-3.566944%5D%2C%0A%20%20%20%20%20%20%20%20%20%20%20%20%20%20%20%20%7B%0A%20%20%22bubblingMouseEvents%22%3A%20true%2C%0A%20%20%22color%22%3A%20%22%23ff0000%22%2C%0A%20%20%22dashArray%22%3A%20null%2C%0A%20%20%22dashOffset%22%3A%20null%2C%0A%20%20%22fill%22%3A%20true%2C%0A%20%20%22fillColor%22%3A%20%22%23ff0000%22%2C%0A%20%20%22fillOpacity%22%3A%200.7%2C%0A%20%20%22fillRule%22%3A%20%22evenodd%22%2C%0A%20%20%22lineCap%22%3A%20%22round%22%2C%0A%20%20%22lineJoin%22%3A%20%22round%22%2C%0A%20%20%22opacity%22%3A%201.0%2C%0A%20%20%22radius%22%3A%205%2C%0A%20%20%22stroke%22%3A%20true%2C%0A%20%20%22weight%22%3A%203%0A%7D%0A%20%20%20%20%20%20%20%20%20%20%20%20%20%20%20%20%29.addTo%28map_eff47c844de245779793ccb2f8172862%29%3B%0A%20%20%20%20%20%20%20%20%20%20%20%20%0A%20%20%20%20%0A%20%20%20%20%20%20%20%20%20%20%20%20var%20popup_922cfb4ab216425088e62e430988e205%20%3D%20L.popup%28%7BmaxWidth%3A%20%27300%27%7D%29%3B%0A%0A%20%20%20%20%20%20%20%20%20%20%20%20%0A%20%20%20%20%20%20%20%20%20%20%20%20%20%20%20%20var%20html_a02c6f3f3bdc419f891b906b9c106de7%20%3D%20%24%28%27%3Cdiv%20id%3D%22html_a02c6f3f3bdc419f891b906b9c106de7%22%20style%3D%22width%3A%20100.0%25%3B%20height%3A%20100.0%25%3B%22%3EAeropuerto%20Cluster%200%3C/div%3E%27%29%5B0%5D%3B%0A%20%20%20%20%20%20%20%20%20%20%20%20%20%20%20%20popup_922cfb4ab216425088e62e430988e205.setContent%28html_a02c6f3f3bdc419f891b906b9c106de7%29%3B%0A%20%20%20%20%20%20%20%20%20%20%20%20%0A%0A%20%20%20%20%20%20%20%20%20%20%20%20circle_marker_b0cdb9870d454c8a968b05c48b6091a1.bindPopup%28popup_922cfb4ab216425088e62e430988e205%29%3B%0A%0A%20%20%20%20%20%20%20%20%20%20%20%20%0A%20%20%20%20%20%20%20%20%0A%20%20%20%20%0A%20%20%20%20%20%20%20%20%20%20%20%20var%20circle_marker_9f65ec1367cb472a83cbb291fa87289b%20%3D%20L.circleMarker%28%0A%20%20%20%20%20%20%20%20%20%20%20%20%20%20%20%20%5B40.473611%2C-3.577222%5D%2C%0A%20%20%20%20%20%20%20%20%20%20%20%20%20%20%20%20%7B%0A%20%20%22bubblingMouseEvents%22%3A%20true%2C%0A%20%20%22color%22%3A%20%22%238000ff%22%2C%0A%20%20%22dashArray%22%3A%20null%2C%0A%20%20%22dashOffset%22%3A%20null%2C%0A%20%20%22fill%22%3A%20true%2C%0A%20%20%22fillColor%22%3A%20%22%238000ff%22%2C%0A%20%20%22fillOpacity%22%3A%200.7%2C%0A%20%20%22fillRule%22%3A%20%22evenodd%22%2C%0A%20%20%22lineCap%22%3A%20%22round%22%2C%0A%20%20%22lineJoin%22%3A%20%22round%22%2C%0A%20%20%22opacity%22%3A%201.0%2C%0A%20%20%22radius%22%3A%205%2C%0A%20%20%22stroke%22%3A%20true%2C%0A%20%20%22weight%22%3A%203%0A%7D%0A%20%20%20%20%20%20%20%20%20%20%20%20%20%20%20%20%29.addTo%28map_eff47c844de245779793ccb2f8172862%29%3B%0A%20%20%20%20%20%20%20%20%20%20%20%20%0A%20%20%20%20%0A%20%20%20%20%20%20%20%20%20%20%20%20var%20popup_d64ae70965df479a9911e96b09e0f98a%20%3D%20L.popup%28%7BmaxWidth%3A%20%27300%27%7D%29%3B%0A%0A%20%20%20%20%20%20%20%20%20%20%20%20%0A%20%20%20%20%20%20%20%20%20%20%20%20%20%20%20%20var%20html_c407529b46294a77a0ec7c3ff84ba054%20%3D%20%24%28%27%3Cdiv%20id%3D%22html_c407529b46294a77a0ec7c3ff84ba054%22%20style%3D%22width%3A%20100.0%25%3B%20height%3A%20100.0%25%3B%22%3ECasco%20Historico%20de%20Barajas%20Cluster%201%3C/div%3E%27%29%5B0%5D%3B%0A%20%20%20%20%20%20%20%20%20%20%20%20%20%20%20%20popup_d64ae70965df479a9911e96b09e0f98a.setContent%28html_c407529b46294a77a0ec7c3ff84ba054%29%3B%0A%20%20%20%20%20%20%20%20%20%20%20%20%0A%0A%20%20%20%20%20%20%20%20%20%20%20%20circle_marker_9f65ec1367cb472a83cbb291fa87289b.bindPopup%28popup_d64ae70965df479a9911e96b09e0f98a%29%3B%0A%0A%20%20%20%20%20%20%20%20%20%20%20%20%0A%20%20%20%20%20%20%20%20%0A%20%20%20%20%0A%20%20%20%20%20%20%20%20%20%20%20%20var%20circle_marker_187005c1e26d4aa4849623dd3c50a88f%20%3D%20L.circleMarker%28%0A%20%20%20%20%20%20%20%20%20%20%20%20%20%20%20%20%5B40.476667%2C-3.614167%5D%2C%0A%20%20%20%20%20%20%20%20%20%20%20%20%20%20%20%20%7B%0A%20%20%22bubblingMouseEvents%22%3A%20true%2C%0A%20%20%22color%22%3A%20%22%23ff0000%22%2C%0A%20%20%22dashArray%22%3A%20null%2C%0A%20%20%22dashOffset%22%3A%20null%2C%0A%20%20%22fill%22%3A%20true%2C%0A%20%20%22fillColor%22%3A%20%22%23ff0000%22%2C%0A%20%20%22fillOpacity%22%3A%200.7%2C%0A%20%20%22fillRule%22%3A%20%22evenodd%22%2C%0A%20%20%22lineCap%22%3A%20%22round%22%2C%0A%20%20%22lineJoin%22%3A%20%22round%22%2C%0A%20%20%22opacity%22%3A%201.0%2C%0A%20%20%22radius%22%3A%205%2C%0A%20%20%22stroke%22%3A%20true%2C%0A%20%20%22weight%22%3A%203%0A%7D%0A%20%20%20%20%20%20%20%20%20%20%20%20%20%20%20%20%29.addTo%28map_eff47c844de245779793ccb2f8172862%29%3B%0A%20%20%20%20%20%20%20%20%20%20%20%20%0A%20%20%20%20%0A%20%20%20%20%20%20%20%20%20%20%20%20var%20popup_6378c659db244956ae1ab1eaea6c13c6%20%3D%20L.popup%28%7BmaxWidth%3A%20%27300%27%7D%29%3B%0A%0A%20%20%20%20%20%20%20%20%20%20%20%20%0A%20%20%20%20%20%20%20%20%20%20%20%20%20%20%20%20var%20html_4d29c6e8af354a7295ed16a1d28c6cbe%20%3D%20%24%28%27%3Cdiv%20id%3D%22html_4d29c6e8af354a7295ed16a1d28c6cbe%22%20style%3D%22width%3A%20100.0%25%3B%20height%3A%20100.0%25%3B%22%3ETimon%20Cluster%200%3C/div%3E%27%29%5B0%5D%3B%0A%20%20%20%20%20%20%20%20%20%20%20%20%20%20%20%20popup_6378c659db244956ae1ab1eaea6c13c6.setContent%28html_4d29c6e8af354a7295ed16a1d28c6cbe%29%3B%0A%20%20%20%20%20%20%20%20%20%20%20%20%0A%0A%20%20%20%20%20%20%20%20%20%20%20%20circle_marker_187005c1e26d4aa4849623dd3c50a88f.bindPopup%28popup_6378c659db244956ae1ab1eaea6c13c6%29%3B%0A%0A%20%20%20%20%20%20%20%20%20%20%20%20%0A%20%20%20%20%20%20%20%20%0A%20%20%20%20%0A%20%20%20%20%20%20%20%20%20%20%20%20var%20circle_marker_7d9d699679dc47ca83b0ed277fbe9002%20%3D%20L.circleMarker%28%0A%20%20%20%20%20%20%20%20%20%20%20%20%20%20%20%20%5B40.464444%2C-3.59%5D%2C%0A%20%20%20%20%20%20%20%20%20%20%20%20%20%20%20%20%7B%0A%20%20%22bubblingMouseEvents%22%3A%20true%2C%0A%20%20%22color%22%3A%20%22%238000ff%22%2C%0A%20%20%22dashArray%22%3A%20null%2C%0A%20%20%22dashOffset%22%3A%20null%2C%0A%20%20%22fill%22%3A%20true%2C%0A%20%20%22fillColor%22%3A%20%22%238000ff%22%2C%0A%20%20%22fillOpacity%22%3A%200.7%2C%0A%20%20%22fillRule%22%3A%20%22evenodd%22%2C%0A%20%20%22lineCap%22%3A%20%22round%22%2C%0A%20%20%22lineJoin%22%3A%20%22round%22%2C%0A%20%20%22opacity%22%3A%201.0%2C%0A%20%20%22radius%22%3A%205%2C%0A%20%20%22stroke%22%3A%20true%2C%0A%20%20%22weight%22%3A%203%0A%7D%0A%20%20%20%20%20%20%20%20%20%20%20%20%20%20%20%20%29.addTo%28map_eff47c844de245779793ccb2f8172862%29%3B%0A%20%20%20%20%20%20%20%20%20%20%20%20%0A%20%20%20%20%0A%20%20%20%20%20%20%20%20%20%20%20%20var%20popup_308f20a7c83043209c03d4e88fe5e2cb%20%3D%20L.popup%28%7BmaxWidth%3A%20%27300%27%7D%29%3B%0A%0A%20%20%20%20%20%20%20%20%20%20%20%20%0A%20%20%20%20%20%20%20%20%20%20%20%20%20%20%20%20var%20html_6392e417043c4309b111678df524b159%20%3D%20%24%28%27%3Cdiv%20id%3D%22html_6392e417043c4309b111678df524b159%22%20style%3D%22width%3A%20100.0%25%3B%20height%3A%20100.0%25%3B%22%3ECorralejos%20Cluster%201%3C/div%3E%27%29%5B0%5D%3B%0A%20%20%20%20%20%20%20%20%20%20%20%20%20%20%20%20popup_308f20a7c83043209c03d4e88fe5e2cb.setContent%28html_6392e417043c4309b111678df524b159%29%3B%0A%20%20%20%20%20%20%20%20%20%20%20%20%0A%0A%20%20%20%20%20%20%20%20%20%20%20%20circle_marker_7d9d699679dc47ca83b0ed277fbe9002.bindPopup%28popup_308f20a7c83043209c03d4e88fe5e2cb%29%3B%0A%0A%20%20%20%20%20%20%20%20%20%20%20%20%0A%20%20%20%20%20%20%20%20%0A%3C/script%3E onload=\"this.contentDocument.open();this.contentDocument.write(    decodeURIComponent(this.getAttribute('data-html')));this.contentDocument.close();\" allowfullscreen webkitallowfullscreen mozallowfullscreen></iframe></div></div>"
      ],
      "text/plain": [
       "<folium.folium.Map at 0x13599f89fc8>"
      ]
     },
     "execution_count": 43,
     "metadata": {},
     "output_type": "execute_result"
    }
   ],
   "source": [
    "# define latitude and longitude\n",
    "latitude = mad_neigh_coord['Latitude'][0]\n",
    "longitude = mad_neigh_coord['Longitude'][0]\n",
    "\n",
    "# create map\n",
    "map_clusters = folium.Map(location = [latitude, longitude], zoom_start = 11)\n",
    "\n",
    "# set color scheme for the clusters\n",
    "x = np.arange(kclusters)\n",
    "ys = [i + x + (i*x)**2 for i in range(kclusters)]\n",
    "colors_array = cm.rainbow(np.linspace(0, 1, len(ys)))\n",
    "rainbow = [colors.rgb2hex(i) for i in colors_array]\n",
    "\n",
    "# add markers to the map\n",
    "markers_colors = []\n",
    "for lat, lon, poi, cluster in zip(mad_for_cluster['Latitude'], mad_for_cluster['Longitude'], mad_for_cluster['Neighborhood'], mad_for_cluster['Cluster Number']):\n",
    "    label = folium.Popup(str(poi) + ' Cluster ' + str(cluster), parse_html = True)\n",
    "    folium.CircleMarker(\n",
    "        [lat, lon],\n",
    "        radius = 5,\n",
    "        popup = label,\n",
    "        color = rainbow[cluster-1],\n",
    "        fill = True,\n",
    "        fill_color = rainbow[cluster-1],\n",
    "        fill_opacity = 0.7).add_to(map_clusters)\n",
    "       \n",
    "map_clusters"
   ]
  },
  {
   "cell_type": "markdown",
   "metadata": {
    "ExecuteTime": {
     "end_time": "2021-03-27T00:07:28.831773Z",
     "start_time": "2021-03-27T00:05:23.201Z"
    }
   },
   "source": [
    "#### Select the most suitable cluster of neighborhoods"
   ]
  },
  {
   "cell_type": "markdown",
   "metadata": {},
   "source": [
    "Once we defined the clusters, we chose that one which better met our migrants' need for 'natural' venues within the top 10 by neighborhood in the major part of the cluster:"
   ]
  },
  {
   "cell_type": "code",
   "execution_count": 44,
   "metadata": {
    "ExecuteTime": {
     "end_time": "2021-03-27T18:03:01.016902Z",
     "start_time": "2021-03-27T18:03:00.986979Z"
    }
   },
   "outputs": [
    {
     "name": "stdout",
     "output_type": "stream",
     "text": [
      "(80, 11)\n"
     ]
    },
    {
     "data": {
      "text/html": [
       "<div>\n",
       "<style scoped>\n",
       "    .dataframe tbody tr th:only-of-type {\n",
       "        vertical-align: middle;\n",
       "    }\n",
       "\n",
       "    .dataframe tbody tr th {\n",
       "        vertical-align: top;\n",
       "    }\n",
       "\n",
       "    .dataframe thead th {\n",
       "        text-align: right;\n",
       "    }\n",
       "</style>\n",
       "<table border=\"1\" class=\"dataframe\">\n",
       "  <thead>\n",
       "    <tr style=\"text-align: right;\">\n",
       "      <th></th>\n",
       "      <th>Neighborhood</th>\n",
       "      <th>1st Most Common Venue</th>\n",
       "      <th>2nd Most Common Venue</th>\n",
       "      <th>3rd Most Common Venue</th>\n",
       "      <th>4th Most Common Venue</th>\n",
       "      <th>5th Most Common Venue</th>\n",
       "      <th>6th Most Common Venue</th>\n",
       "      <th>7th Most Common Venue</th>\n",
       "      <th>8th Most Common Venue</th>\n",
       "      <th>9th Most Common Venue</th>\n",
       "      <th>10th Most Common Venue</th>\n",
       "    </tr>\n",
       "  </thead>\n",
       "  <tbody>\n",
       "    <tr>\n",
       "      <th>5</th>\n",
       "      <td>Sol</td>\n",
       "      <td>Cosmetics Shop</td>\n",
       "      <td>Hostel</td>\n",
       "      <td>Hotel</td>\n",
       "      <td>Electronics Store</td>\n",
       "      <td>Mediterranean Restaurant</td>\n",
       "      <td>Pastry Shop</td>\n",
       "      <td>Bookstore</td>\n",
       "      <td>Restaurant</td>\n",
       "      <td>Farmers Market</td>\n",
       "      <td>Exhibit</td>\n",
       "    </tr>\n",
       "    <tr>\n",
       "      <th>11</th>\n",
       "      <td>Palos de Moguer</td>\n",
       "      <td>Bar</td>\n",
       "      <td>Bookstore</td>\n",
       "      <td>Tapas Restaurant</td>\n",
       "      <td>Restaurant</td>\n",
       "      <td>Park</td>\n",
       "      <td>Museum</td>\n",
       "      <td>Italian Restaurant</td>\n",
       "      <td>Chinese Restaurant</td>\n",
       "      <td>Sushi Restaurant</td>\n",
       "      <td>Garden</td>\n",
       "    </tr>\n",
       "    <tr>\n",
       "      <th>13</th>\n",
       "      <td>Pacifico</td>\n",
       "      <td>Hotel</td>\n",
       "      <td>Spanish Restaurant</td>\n",
       "      <td>Platform</td>\n",
       "      <td>Garden</td>\n",
       "      <td>Gym</td>\n",
       "      <td>Brewery</td>\n",
       "      <td>Food &amp; Drink Shop</td>\n",
       "      <td>Tapas Restaurant</td>\n",
       "      <td>Soccer Field</td>\n",
       "      <td>Bar</td>\n",
       "    </tr>\n",
       "    <tr>\n",
       "      <th>17</th>\n",
       "      <td>Los Jeronimos</td>\n",
       "      <td>Restaurant</td>\n",
       "      <td>Hotel</td>\n",
       "      <td>Park</td>\n",
       "      <td>Art Museum</td>\n",
       "      <td>Art Gallery</td>\n",
       "      <td>Event Space</td>\n",
       "      <td>Gastropub</td>\n",
       "      <td>Tapas Restaurant</td>\n",
       "      <td>Garden</td>\n",
       "      <td>City Hall</td>\n",
       "    </tr>\n",
       "    <tr>\n",
       "      <th>18</th>\n",
       "      <td>Nino Jesus</td>\n",
       "      <td>Fountain</td>\n",
       "      <td>Supermarket</td>\n",
       "      <td>Tapas Restaurant</td>\n",
       "      <td>Bar</td>\n",
       "      <td>Plaza</td>\n",
       "      <td>Food Court</td>\n",
       "      <td>Food &amp; Drink Shop</td>\n",
       "      <td>Food Service</td>\n",
       "      <td>Food</td>\n",
       "      <td>Flower Shop</td>\n",
       "    </tr>\n",
       "  </tbody>\n",
       "</table>\n",
       "</div>"
      ],
      "text/plain": [
       "       Neighborhood 1st Most Common Venue 2nd Most Common Venue  \\\n",
       "5               Sol        Cosmetics Shop                Hostel   \n",
       "11  Palos de Moguer                   Bar             Bookstore   \n",
       "13         Pacifico                 Hotel    Spanish Restaurant   \n",
       "17    Los Jeronimos            Restaurant                 Hotel   \n",
       "18       Nino Jesus              Fountain           Supermarket   \n",
       "\n",
       "   3rd Most Common Venue 4th Most Common Venue     5th Most Common Venue  \\\n",
       "5                  Hotel     Electronics Store  Mediterranean Restaurant   \n",
       "11      Tapas Restaurant            Restaurant                      Park   \n",
       "13              Platform                Garden                       Gym   \n",
       "17                  Park            Art Museum               Art Gallery   \n",
       "18      Tapas Restaurant                   Bar                     Plaza   \n",
       "\n",
       "   6th Most Common Venue 7th Most Common Venue 8th Most Common Venue  \\\n",
       "5            Pastry Shop             Bookstore            Restaurant   \n",
       "11                Museum    Italian Restaurant    Chinese Restaurant   \n",
       "13               Brewery     Food & Drink Shop      Tapas Restaurant   \n",
       "17           Event Space             Gastropub      Tapas Restaurant   \n",
       "18            Food Court     Food & Drink Shop          Food Service   \n",
       "\n",
       "   9th Most Common Venue 10th Most Common Venue  \n",
       "5         Farmers Market                Exhibit  \n",
       "11      Sushi Restaurant                 Garden  \n",
       "13          Soccer Field                    Bar  \n",
       "17                Garden              City Hall  \n",
       "18                  Food            Flower Shop  "
      ]
     },
     "execution_count": 44,
     "metadata": {},
     "output_type": "execute_result"
    }
   ],
   "source": [
    "# cluster 1\n",
    "cluster_1 = mad_for_cluster.loc[mad_for_cluster['Cluster Number'] == 0]\n",
    "cluster_1 = cluster_1.drop(['District', 'Cluster Number', 'Latitude', 'Longitude'], axis = 1)\n",
    "\n",
    "# display shape and cluster\n",
    "print(cluster_1.shape)\n",
    "cluster_1.head()"
   ]
  },
  {
   "cell_type": "code",
   "execution_count": 45,
   "metadata": {
    "ExecuteTime": {
     "end_time": "2021-03-27T18:03:01.032848Z",
     "start_time": "2021-03-27T18:03:01.018892Z"
    }
   },
   "outputs": [
    {
     "name": "stdout",
     "output_type": "stream",
     "text": [
      "Cluster 2 shape is: (41, 11)\n",
      "Cluster 3 shape is: (2, 11)\n",
      "Cluster 4 shape is: (8, 11)\n"
     ]
    }
   ],
   "source": [
    "# cluster 2\n",
    "cluster_2 = mad_for_cluster.loc[mad_for_cluster['Cluster Number'] == 1]\n",
    "cluster_2 = cluster_2.drop(['District', 'Cluster Number', 'Latitude', 'Longitude'], axis = 1)\n",
    "\n",
    "# cluster 3\n",
    "cluster_3 = mad_for_cluster.loc[mad_for_cluster['Cluster Number'] == 2]\n",
    "cluster_3 = cluster_3.drop(['District', 'Cluster Number', 'Latitude', 'Longitude'], axis = 1)\n",
    "\n",
    "# cluster 4\n",
    "cluster_4 = mad_for_cluster.loc[mad_for_cluster['Cluster Number'] == 3]\n",
    "cluster_4 = cluster_4.drop(['District', 'Cluster Number', 'Latitude', 'Longitude'], axis = 1)\n",
    "\n",
    "# display shape of the other clusters\n",
    "print('Cluster 2 shape is: ' + str(cluster_2.shape))\n",
    "print('Cluster 3 shape is: ' + str(cluster_3.shape))\n",
    "print('Cluster 4 shape is: ' + str(cluster_4.shape))"
   ]
  },
  {
   "cell_type": "markdown",
   "metadata": {},
   "source": [
    "After a visual inspection **cluster 1** seemed to be the most suitable one for our purposes."
   ]
  },
  {
   "cell_type": "markdown",
   "metadata": {},
   "source": [
    "#### Shortlist the 'most natural' neighborhoods from selected cluster"
   ]
  },
  {
   "cell_type": "markdown",
   "metadata": {},
   "source": [
    "In any case, **cluster 1** was the biggest one, with 80 neighborhoods still in, so a follow-up process to shortlist those to top 10 neighborhoods with a more 'natural' profile within the cluster was run.\n",
    "\n",
    "To do so, we substituted with a value of **1** those top 10 venues by neighborhood which met a 'natural' profile and with a value of **0** those which not. That made easier to later generate a cumulative value over which to rank the neighborhoods as more or less 'natural'.\n",
    "\n",
    "A subset of the top 10 'natural' neighborhoods within the cluster was selected to proceed with final analysis upon them:"
   ]
  },
  {
   "cell_type": "code",
   "execution_count": 46,
   "metadata": {
    "ExecuteTime": {
     "end_time": "2021-03-27T18:03:01.063777Z",
     "start_time": "2021-03-27T18:03:01.033845Z"
    }
   },
   "outputs": [],
   "source": [
    "# list of natural and sport places\n",
    "natural = ['Mediterranean Restaurant', 'Falafel Restaurant', 'Vegetarian / Vegan Restaurant', 'Spanish Restaurant', 'Juice Bar', 'Farmers Market', 'Grocery Store', 'Fish Market', 'Market', 'Fruit & Vegetable Store', 'Health Food Store', 'Bakery', 'Park', 'Plaza', 'Garden',\n",
    "           'Pet Store', 'Sports Club', 'Athletics & Sports', 'Soccer Field', 'Soccer Stadium', 'Golf Course', 'Sporting Goods Shop', 'Gym', 'Pool', 'Stadium', 'Dance Studio', 'Gym / Fitness Center', 'Tennis Stadium', 'Racetrack', 'Skating Rink', 'Gym Pool', 'Skate Park', 'Tennis Court', 'Basketball Court', 'Bowling Alley']\n",
    "\n",
    "# list of non-natural and sport places\n",
    "non_natural = ['Accessories Store', 'Airport Lounge', 'Airport Service', 'Airport Terminal', 'American Restaurant', 'Aquarium', 'Arcade', 'Argentinian Restaurant', 'Art Gallery', 'Art Museum', 'Asian Restaurant', 'Auto Workshop', 'Bar', 'BBQ Joint', 'Bed & Breakfast', 'Beer Bar', 'Beer Garden', 'Big Box Store', 'Bistro', 'Boarding House', 'Bookstore', 'Boutique', 'Brazilian Restaurant', 'Breakfast Spot', 'Brewery', 'Bubble Tea Shop', 'Building', 'Burger Joint', 'Bus Station', 'Café', 'Cafeteria', 'Camera Store', 'Campground', 'Candy Store', 'Chinese Restaurant', 'Chocolate Shop', 'Circus', 'City Hall', 'Clothing Store', 'Cocktail Bar', 'Coffee Shop', 'College Cafeteria', 'College Residence Hall', 'Colombian Restaurant', 'Comfort Food Restaurant', 'Concert Hall', 'Construction & Landscaping', 'Convenience Store', 'Cosmetics Shop', 'Cupcake Shop', 'Deli / Bodega', 'Department Store', 'Dessert Shop', 'Diner', 'Duty-free Shop', 'Electronics Store', 'Embassy / Consulate', 'Escape Room', 'Event Space', 'Exhibit', 'Fabric Shop', 'Fast Food Restaurant', 'Fish & Chips Shop', 'Flea Market', 'Flower Shop', 'Food', 'Food & Drink Shop', 'Food Court', 'Food Service', 'Food Truck', 'Fountain', 'Furniture / Home Store', 'Gas Station', 'Gastropub', 'General Entertainment', 'German Restaurant', 'Himalayan Restaurant', 'Hostel', 'Hotel', 'Ice Cream Shop', 'Indian Restaurant', 'Irish Pub', 'IT Services', 'Italian Restaurant', 'Japanese Restaurant', 'Karaoke Bar', 'Kebab Restaurant', 'Latin American Restaurant', 'Light Rail Station', 'Lingerie Store', 'Lottery Retailer', 'Massage Studio', 'Metro Station', 'Mexican Restaurant', 'Miscellaneous Shop', 'Mobile Phone Shop', 'Monument / Landmark', 'Motorcycle Shop', 'Multiplex', 'Museum', 'Music School', 'Music Store', 'Music Venue', 'New American Restaurant', 'Nightclub', 'Office', 'Other Repair Shop', 'Paella Restaurant', 'Paper / Office Supplies Store', 'Peruvian Restaurant', 'Pharmacy', 'Photography Studio', 'Pie Shop', 'Pizza Place', 'Platform', 'Playground', 'Pub', 'Public Art', 'Residential', 'Residential Building (Apartment / Condo)', 'Restaurant', 'Rock Club', 'Salon / Barbershop', 'Sandwich Place', 'Scandinavian Restaurant', 'Scenic Lookout', 'Science Museum', 'Seafood Restaurant', 'Shopping Mall', 'Smoke Shop', 'Snack Place', 'Spa', 'Sports Bar', 'Steakhouse', 'Sushi Restaurant', 'Supermarket', 'Tapas Restaurant', 'Tea Room', 'Theater', 'Theme Park', 'Toy / Game Store', 'Track Stadium', 'Trail', 'Train', 'Train Station', 'Video Game Store', \"Women's Store\", 'Zoo']\n",
    "\n",
    "# replace natural venues by value 1 and non-natural venues by value 0\n",
    "cluster = cluster_1[1:].replace(to_replace = [natural], value = 1)\n",
    "cluster = cluster[1:].replace(to_replace=[non_natural], value=0).reset_index()\n",
    "\n",
    "# calculate the total value of the neighborhoods by top 10 venues\n",
    "cluster['Natural Rank'] = cluster.iloc[:, 1:].sum(axis = 1)\n",
    "\n",
    "# sort neighborhoods by total natural venues value\n",
    "cluster = cluster.sort_values(by = ['Natural Rank'], ascending=False).reset_index()\n",
    "\n",
    "# slice dataframe and generate definitive one\n",
    "natural_neighborhoods = cluster.iloc[:10, :]\n",
    "natural_neighborhoods = natural_neighborhoods.loc[:, ['Neighborhood', 'Natural Rank']]"
   ]
  },
  {
   "cell_type": "markdown",
   "metadata": {},
   "source": [
    "We complemented the 'natural' rank value with other information around the average size, and average renting prices of the accommodation in the diverse neighborhoods of the shortlist:"
   ]
  },
  {
   "cell_type": "code",
   "execution_count": 47,
   "metadata": {
    "ExecuteTime": {
     "end_time": "2021-03-27T18:03:01.095692Z",
     "start_time": "2021-03-27T18:03:01.064777Z"
    }
   },
   "outputs": [
    {
     "data": {
      "text/html": [
       "<div>\n",
       "<style scoped>\n",
       "    .dataframe tbody tr th:only-of-type {\n",
       "        vertical-align: middle;\n",
       "    }\n",
       "\n",
       "    .dataframe tbody tr th {\n",
       "        vertical-align: top;\n",
       "    }\n",
       "\n",
       "    .dataframe thead th {\n",
       "        text-align: right;\n",
       "    }\n",
       "</style>\n",
       "<table border=\"1\" class=\"dataframe\">\n",
       "  <thead>\n",
       "    <tr style=\"text-align: right;\">\n",
       "      <th></th>\n",
       "      <th>District</th>\n",
       "      <th>Neighborhood</th>\n",
       "      <th>Latitude</th>\n",
       "      <th>Longitude</th>\n",
       "      <th>Natural Rank</th>\n",
       "      <th>Average Home Size m2</th>\n",
       "      <th>Rental m2 EUR</th>\n",
       "      <th>Average Rental EUR</th>\n",
       "    </tr>\n",
       "  </thead>\n",
       "  <tbody>\n",
       "    <tr>\n",
       "      <th>0</th>\n",
       "      <td>Fuencarral-El Pardo</td>\n",
       "      <td>Fuentelarreina</td>\n",
       "      <td>40.481944</td>\n",
       "      <td>-3.742500</td>\n",
       "      <td>7</td>\n",
       "      <td>269</td>\n",
       "      <td>12.30</td>\n",
       "      <td>3308.70</td>\n",
       "    </tr>\n",
       "    <tr>\n",
       "      <th>1</th>\n",
       "      <td>Moncloa-Aravaca</td>\n",
       "      <td>Valdezarza</td>\n",
       "      <td>40.465000</td>\n",
       "      <td>-3.718333</td>\n",
       "      <td>6</td>\n",
       "      <td>88</td>\n",
       "      <td>12.30</td>\n",
       "      <td>1082.40</td>\n",
       "    </tr>\n",
       "    <tr>\n",
       "      <th>2</th>\n",
       "      <td>Carabanchel</td>\n",
       "      <td>Abrantes</td>\n",
       "      <td>40.380556</td>\n",
       "      <td>-3.723889</td>\n",
       "      <td>6</td>\n",
       "      <td>84</td>\n",
       "      <td>10.40</td>\n",
       "      <td>873.60</td>\n",
       "    </tr>\n",
       "    <tr>\n",
       "      <th>3</th>\n",
       "      <td>Moratalaz</td>\n",
       "      <td>Horcajo</td>\n",
       "      <td>40.411389</td>\n",
       "      <td>-3.626944</td>\n",
       "      <td>6</td>\n",
       "      <td>141</td>\n",
       "      <td>9.68</td>\n",
       "      <td>1364.88</td>\n",
       "    </tr>\n",
       "    <tr>\n",
       "      <th>4</th>\n",
       "      <td>Villaverde</td>\n",
       "      <td>San Cristobal</td>\n",
       "      <td>40.343333</td>\n",
       "      <td>-3.688611</td>\n",
       "      <td>6</td>\n",
       "      <td>69</td>\n",
       "      <td>10.61</td>\n",
       "      <td>732.09</td>\n",
       "    </tr>\n",
       "    <tr>\n",
       "      <th>5</th>\n",
       "      <td>Latina</td>\n",
       "      <td>Puerta del Angel</td>\n",
       "      <td>40.411944</td>\n",
       "      <td>-3.729722</td>\n",
       "      <td>5</td>\n",
       "      <td>83</td>\n",
       "      <td>13.10</td>\n",
       "      <td>1087.30</td>\n",
       "    </tr>\n",
       "    <tr>\n",
       "      <th>6</th>\n",
       "      <td>Latina</td>\n",
       "      <td>Las Aguilas</td>\n",
       "      <td>40.377500</td>\n",
       "      <td>-3.764167</td>\n",
       "      <td>5</td>\n",
       "      <td>84</td>\n",
       "      <td>10.00</td>\n",
       "      <td>840.00</td>\n",
       "    </tr>\n",
       "    <tr>\n",
       "      <th>7</th>\n",
       "      <td>Usera</td>\n",
       "      <td>Almendrales</td>\n",
       "      <td>40.383611</td>\n",
       "      <td>-3.698889</td>\n",
       "      <td>5</td>\n",
       "      <td>91</td>\n",
       "      <td>11.70</td>\n",
       "      <td>1064.70</td>\n",
       "    </tr>\n",
       "    <tr>\n",
       "      <th>8</th>\n",
       "      <td>Moratalaz</td>\n",
       "      <td>Media Legua</td>\n",
       "      <td>40.414167</td>\n",
       "      <td>-3.654722</td>\n",
       "      <td>5</td>\n",
       "      <td>99</td>\n",
       "      <td>11.30</td>\n",
       "      <td>1118.70</td>\n",
       "    </tr>\n",
       "    <tr>\n",
       "      <th>9</th>\n",
       "      <td>Hortaleza</td>\n",
       "      <td>Apostol Santiago</td>\n",
       "      <td>40.476389</td>\n",
       "      <td>-3.658056</td>\n",
       "      <td>5</td>\n",
       "      <td>109</td>\n",
       "      <td>10.80</td>\n",
       "      <td>1177.20</td>\n",
       "    </tr>\n",
       "  </tbody>\n",
       "</table>\n",
       "</div>"
      ],
      "text/plain": [
       "              District      Neighborhood   Latitude  Longitude  Natural Rank  \\\n",
       "0  Fuencarral-El Pardo    Fuentelarreina  40.481944  -3.742500             7   \n",
       "1      Moncloa-Aravaca        Valdezarza  40.465000  -3.718333             6   \n",
       "2          Carabanchel          Abrantes  40.380556  -3.723889             6   \n",
       "3            Moratalaz           Horcajo  40.411389  -3.626944             6   \n",
       "4           Villaverde     San Cristobal  40.343333  -3.688611             6   \n",
       "5               Latina  Puerta del Angel  40.411944  -3.729722             5   \n",
       "6               Latina       Las Aguilas  40.377500  -3.764167             5   \n",
       "7                Usera       Almendrales  40.383611  -3.698889             5   \n",
       "8            Moratalaz       Media Legua  40.414167  -3.654722             5   \n",
       "9            Hortaleza  Apostol Santiago  40.476389  -3.658056             5   \n",
       "\n",
       "   Average Home Size m2  Rental m2 EUR  Average Rental EUR  \n",
       "0                   269          12.30             3308.70  \n",
       "1                    88          12.30             1082.40  \n",
       "2                    84          10.40              873.60  \n",
       "3                   141           9.68             1364.88  \n",
       "4                    69          10.61              732.09  \n",
       "5                    83          13.10             1087.30  \n",
       "6                    84          10.00              840.00  \n",
       "7                    91          11.70             1064.70  \n",
       "8                    99          11.30             1118.70  \n",
       "9                   109          10.80             1177.20  "
      ]
     },
     "execution_count": 47,
     "metadata": {},
     "output_type": "execute_result"
    }
   ],
   "source": [
    "# merge 1 = natural_neighborhoods + buildings\n",
    "mad_rental_options = pd.merge(natural_neighborhoods, buildings, on='Neighborhood')\n",
    "\n",
    "# merge 2 = merged + rental\n",
    "mad_rental_options = pd.merge(mad_rental_options, rental, on='Neighborhood')\n",
    "\n",
    "# generate a new column with calculated data\n",
    "mad_rental_options['Average Rental EUR'] = mad_rental_options['Average Home Size m2'] * mad_rental_options['Rental m2 EUR'] \n",
    "\n",
    "# attach coordinates to dataframe\n",
    "neigh_natural = pd.merge(mad_neigh_coord, mad_rental_options, on='Neighborhood')\n",
    "\n",
    "# sort neighborhoods by total natural venues value\n",
    "neigh_natural = neigh_natural.sort_values(by = ['Natural Rank'], ascending=False).reset_index().drop(['index'], axis = 1)\n",
    "\n",
    "# display dataframe\n",
    "neigh_natural"
   ]
  },
  {
   "cell_type": "markdown",
   "metadata": {},
   "source": [
    "We displayed over a map with `Folium` this shortlist of neighborhoods too:"
   ]
  },
  {
   "cell_type": "code",
   "execution_count": 48,
   "metadata": {
    "ExecuteTime": {
     "end_time": "2021-03-27T18:03:01.204949Z",
     "start_time": "2021-03-27T18:03:01.096689Z"
    }
   },
   "outputs": [
    {
     "data": {
      "text/html": [
       "<div style=\"width:100%;\"><div style=\"position:relative;width:100%;height:0;padding-bottom:60%;\"><span style=\"color:#565656\">Make this Notebook Trusted to load map: File -> Trust Notebook</span><iframe src=\"about:blank\" style=\"position:absolute;width:100%;height:100%;left:0;top:0;border:none !important;\" data-html=%3C%21DOCTYPE%20html%3E%0A%3Chead%3E%20%20%20%20%0A%20%20%20%20%3Cmeta%20http-equiv%3D%22content-type%22%20content%3D%22text/html%3B%20charset%3DUTF-8%22%20/%3E%0A%20%20%20%20%3Cscript%3EL_PREFER_CANVAS%20%3D%20false%3B%20L_NO_TOUCH%20%3D%20false%3B%20L_DISABLE_3D%20%3D%20false%3B%3C/script%3E%0A%20%20%20%20%3Cscript%20src%3D%22https%3A//cdn.jsdelivr.net/npm/leaflet%401.2.0/dist/leaflet.js%22%3E%3C/script%3E%0A%20%20%20%20%3Cscript%20src%3D%22https%3A//ajax.googleapis.com/ajax/libs/jquery/1.11.1/jquery.min.js%22%3E%3C/script%3E%0A%20%20%20%20%3Cscript%20src%3D%22https%3A//maxcdn.bootstrapcdn.com/bootstrap/3.2.0/js/bootstrap.min.js%22%3E%3C/script%3E%0A%20%20%20%20%3Cscript%20src%3D%22https%3A//cdnjs.cloudflare.com/ajax/libs/Leaflet.awesome-markers/2.0.2/leaflet.awesome-markers.js%22%3E%3C/script%3E%0A%20%20%20%20%3Clink%20rel%3D%22stylesheet%22%20href%3D%22https%3A//cdn.jsdelivr.net/npm/leaflet%401.2.0/dist/leaflet.css%22/%3E%0A%20%20%20%20%3Clink%20rel%3D%22stylesheet%22%20href%3D%22https%3A//maxcdn.bootstrapcdn.com/bootstrap/3.2.0/css/bootstrap.min.css%22/%3E%0A%20%20%20%20%3Clink%20rel%3D%22stylesheet%22%20href%3D%22https%3A//maxcdn.bootstrapcdn.com/bootstrap/3.2.0/css/bootstrap-theme.min.css%22/%3E%0A%20%20%20%20%3Clink%20rel%3D%22stylesheet%22%20href%3D%22https%3A//maxcdn.bootstrapcdn.com/font-awesome/4.6.3/css/font-awesome.min.css%22/%3E%0A%20%20%20%20%3Clink%20rel%3D%22stylesheet%22%20href%3D%22https%3A//cdnjs.cloudflare.com/ajax/libs/Leaflet.awesome-markers/2.0.2/leaflet.awesome-markers.css%22/%3E%0A%20%20%20%20%3Clink%20rel%3D%22stylesheet%22%20href%3D%22https%3A//rawgit.com/python-visualization/folium/master/folium/templates/leaflet.awesome.rotate.css%22/%3E%0A%20%20%20%20%3Cstyle%3Ehtml%2C%20body%20%7Bwidth%3A%20100%25%3Bheight%3A%20100%25%3Bmargin%3A%200%3Bpadding%3A%200%3B%7D%3C/style%3E%0A%20%20%20%20%3Cstyle%3E%23map%20%7Bposition%3Aabsolute%3Btop%3A0%3Bbottom%3A0%3Bright%3A0%3Bleft%3A0%3B%7D%3C/style%3E%0A%20%20%20%20%0A%20%20%20%20%20%20%20%20%20%20%20%20%3Cstyle%3E%20%23map_12c4a960d20240df91be89681a757588%20%7B%0A%20%20%20%20%20%20%20%20%20%20%20%20%20%20%20%20position%20%3A%20relative%3B%0A%20%20%20%20%20%20%20%20%20%20%20%20%20%20%20%20width%20%3A%20100.0%25%3B%0A%20%20%20%20%20%20%20%20%20%20%20%20%20%20%20%20height%3A%20100.0%25%3B%0A%20%20%20%20%20%20%20%20%20%20%20%20%20%20%20%20left%3A%200.0%25%3B%0A%20%20%20%20%20%20%20%20%20%20%20%20%20%20%20%20top%3A%200.0%25%3B%0A%20%20%20%20%20%20%20%20%20%20%20%20%20%20%20%20%7D%0A%20%20%20%20%20%20%20%20%20%20%20%20%3C/style%3E%0A%20%20%20%20%20%20%20%20%0A%3C/head%3E%0A%3Cbody%3E%20%20%20%20%0A%20%20%20%20%0A%20%20%20%20%20%20%20%20%20%20%20%20%3Cdiv%20class%3D%22folium-map%22%20id%3D%22map_12c4a960d20240df91be89681a757588%22%20%3E%3C/div%3E%0A%20%20%20%20%20%20%20%20%0A%3C/body%3E%0A%3Cscript%3E%20%20%20%20%0A%20%20%20%20%0A%0A%20%20%20%20%20%20%20%20%20%20%20%20%0A%20%20%20%20%20%20%20%20%20%20%20%20%20%20%20%20var%20bounds%20%3D%20null%3B%0A%20%20%20%20%20%20%20%20%20%20%20%20%0A%0A%20%20%20%20%20%20%20%20%20%20%20%20var%20map_12c4a960d20240df91be89681a757588%20%3D%20L.map%28%0A%20%20%20%20%20%20%20%20%20%20%20%20%20%20%20%20%20%20%20%20%20%20%20%20%20%20%20%20%20%20%20%20%20%20%27map_12c4a960d20240df91be89681a757588%27%2C%0A%20%20%20%20%20%20%20%20%20%20%20%20%20%20%20%20%20%20%20%20%20%20%20%20%20%20%20%20%20%20%20%20%20%20%7Bcenter%3A%20%5B40.415%2C-3.713333%5D%2C%0A%20%20%20%20%20%20%20%20%20%20%20%20%20%20%20%20%20%20%20%20%20%20%20%20%20%20%20%20%20%20%20%20%20%20zoom%3A%2011%2C%0A%20%20%20%20%20%20%20%20%20%20%20%20%20%20%20%20%20%20%20%20%20%20%20%20%20%20%20%20%20%20%20%20%20%20maxBounds%3A%20bounds%2C%0A%20%20%20%20%20%20%20%20%20%20%20%20%20%20%20%20%20%20%20%20%20%20%20%20%20%20%20%20%20%20%20%20%20%20layers%3A%20%5B%5D%2C%0A%20%20%20%20%20%20%20%20%20%20%20%20%20%20%20%20%20%20%20%20%20%20%20%20%20%20%20%20%20%20%20%20%20%20worldCopyJump%3A%20false%2C%0A%20%20%20%20%20%20%20%20%20%20%20%20%20%20%20%20%20%20%20%20%20%20%20%20%20%20%20%20%20%20%20%20%20%20crs%3A%20L.CRS.EPSG3857%0A%20%20%20%20%20%20%20%20%20%20%20%20%20%20%20%20%20%20%20%20%20%20%20%20%20%20%20%20%20%20%20%20%20%7D%29%3B%0A%20%20%20%20%20%20%20%20%20%20%20%20%0A%20%20%20%20%20%20%20%20%0A%20%20%20%20%0A%20%20%20%20%20%20%20%20%20%20%20%20var%20tile_layer_dc55a147db4440b499db6598ca498990%20%3D%20L.tileLayer%28%0A%20%20%20%20%20%20%20%20%20%20%20%20%20%20%20%20%27https%3A//%7Bs%7D.tile.openstreetmap.org/%7Bz%7D/%7Bx%7D/%7By%7D.png%27%2C%0A%20%20%20%20%20%20%20%20%20%20%20%20%20%20%20%20%7B%0A%20%20%22attribution%22%3A%20null%2C%0A%20%20%22detectRetina%22%3A%20false%2C%0A%20%20%22maxZoom%22%3A%2018%2C%0A%20%20%22minZoom%22%3A%201%2C%0A%20%20%22noWrap%22%3A%20false%2C%0A%20%20%22subdomains%22%3A%20%22abc%22%0A%7D%0A%20%20%20%20%20%20%20%20%20%20%20%20%20%20%20%20%29.addTo%28map_12c4a960d20240df91be89681a757588%29%3B%0A%20%20%20%20%20%20%20%20%0A%20%20%20%20%0A%20%20%20%20%20%20%20%20%20%20%20%20var%20circle_marker_2e1a38cbdd1f4331b5abcaf7bdf629af%20%3D%20L.circleMarker%28%0A%20%20%20%20%20%20%20%20%20%20%20%20%20%20%20%20%5B40.481944%2C-3.7425%5D%2C%0A%20%20%20%20%20%20%20%20%20%20%20%20%20%20%20%20%7B%0A%20%20%22bubblingMouseEvents%22%3A%20true%2C%0A%20%20%22color%22%3A%20%22green%22%2C%0A%20%20%22dashArray%22%3A%20null%2C%0A%20%20%22dashOffset%22%3A%20null%2C%0A%20%20%22fill%22%3A%20true%2C%0A%20%20%22fillColor%22%3A%20%22green%22%2C%0A%20%20%22fillOpacity%22%3A%200.7%2C%0A%20%20%22fillRule%22%3A%20%22evenodd%22%2C%0A%20%20%22lineCap%22%3A%20%22round%22%2C%0A%20%20%22lineJoin%22%3A%20%22round%22%2C%0A%20%20%22opacity%22%3A%201.0%2C%0A%20%20%22radius%22%3A%205%2C%0A%20%20%22stroke%22%3A%20true%2C%0A%20%20%22weight%22%3A%203%0A%7D%0A%20%20%20%20%20%20%20%20%20%20%20%20%20%20%20%20%29.addTo%28map_12c4a960d20240df91be89681a757588%29%3B%0A%20%20%20%20%20%20%20%20%20%20%20%20%0A%20%20%20%20%0A%20%20%20%20%20%20%20%20%20%20%20%20var%20popup_ab5723e21c4242c7b54bdc3b3215d6a3%20%3D%20L.popup%28%7BmaxWidth%3A%20%27300%27%7D%29%3B%0A%0A%20%20%20%20%20%20%20%20%20%20%20%20%0A%20%20%20%20%20%20%20%20%20%20%20%20%20%20%20%20var%20html_d9549970edc7473aa9215082bf1e2fad%20%3D%20%24%28%27%3Cdiv%20id%3D%22html_d9549970edc7473aa9215082bf1e2fad%22%20style%3D%22width%3A%20100.0%25%3B%20height%3A%20100.0%25%3B%22%3EFuentelarreina%2C%20Fuencarral-El%20Pardo%3C/div%3E%27%29%5B0%5D%3B%0A%20%20%20%20%20%20%20%20%20%20%20%20%20%20%20%20popup_ab5723e21c4242c7b54bdc3b3215d6a3.setContent%28html_d9549970edc7473aa9215082bf1e2fad%29%3B%0A%20%20%20%20%20%20%20%20%20%20%20%20%0A%0A%20%20%20%20%20%20%20%20%20%20%20%20circle_marker_2e1a38cbdd1f4331b5abcaf7bdf629af.bindPopup%28popup_ab5723e21c4242c7b54bdc3b3215d6a3%29%3B%0A%0A%20%20%20%20%20%20%20%20%20%20%20%20%0A%20%20%20%20%20%20%20%20%0A%20%20%20%20%0A%20%20%20%20%20%20%20%20%20%20%20%20var%20circle_marker_2ef3d3880071434081510978c19cdcc5%20%3D%20L.circleMarker%28%0A%20%20%20%20%20%20%20%20%20%20%20%20%20%20%20%20%5B40.465%2C-3.718333%5D%2C%0A%20%20%20%20%20%20%20%20%20%20%20%20%20%20%20%20%7B%0A%20%20%22bubblingMouseEvents%22%3A%20true%2C%0A%20%20%22color%22%3A%20%22green%22%2C%0A%20%20%22dashArray%22%3A%20null%2C%0A%20%20%22dashOffset%22%3A%20null%2C%0A%20%20%22fill%22%3A%20true%2C%0A%20%20%22fillColor%22%3A%20%22green%22%2C%0A%20%20%22fillOpacity%22%3A%200.7%2C%0A%20%20%22fillRule%22%3A%20%22evenodd%22%2C%0A%20%20%22lineCap%22%3A%20%22round%22%2C%0A%20%20%22lineJoin%22%3A%20%22round%22%2C%0A%20%20%22opacity%22%3A%201.0%2C%0A%20%20%22radius%22%3A%205%2C%0A%20%20%22stroke%22%3A%20true%2C%0A%20%20%22weight%22%3A%203%0A%7D%0A%20%20%20%20%20%20%20%20%20%20%20%20%20%20%20%20%29.addTo%28map_12c4a960d20240df91be89681a757588%29%3B%0A%20%20%20%20%20%20%20%20%20%20%20%20%0A%20%20%20%20%0A%20%20%20%20%20%20%20%20%20%20%20%20var%20popup_09e40b33dcce4dc99c25059e74cd1fd0%20%3D%20L.popup%28%7BmaxWidth%3A%20%27300%27%7D%29%3B%0A%0A%20%20%20%20%20%20%20%20%20%20%20%20%0A%20%20%20%20%20%20%20%20%20%20%20%20%20%20%20%20var%20html_2509c58908d44c4d836d37156b0ea121%20%3D%20%24%28%27%3Cdiv%20id%3D%22html_2509c58908d44c4d836d37156b0ea121%22%20style%3D%22width%3A%20100.0%25%3B%20height%3A%20100.0%25%3B%22%3EValdezarza%2C%20Moncloa-Aravaca%3C/div%3E%27%29%5B0%5D%3B%0A%20%20%20%20%20%20%20%20%20%20%20%20%20%20%20%20popup_09e40b33dcce4dc99c25059e74cd1fd0.setContent%28html_2509c58908d44c4d836d37156b0ea121%29%3B%0A%20%20%20%20%20%20%20%20%20%20%20%20%0A%0A%20%20%20%20%20%20%20%20%20%20%20%20circle_marker_2ef3d3880071434081510978c19cdcc5.bindPopup%28popup_09e40b33dcce4dc99c25059e74cd1fd0%29%3B%0A%0A%20%20%20%20%20%20%20%20%20%20%20%20%0A%20%20%20%20%20%20%20%20%0A%20%20%20%20%0A%20%20%20%20%20%20%20%20%20%20%20%20var%20circle_marker_f527be5bed964f7f8221aa50e7ed400e%20%3D%20L.circleMarker%28%0A%20%20%20%20%20%20%20%20%20%20%20%20%20%20%20%20%5B40.380556%2C-3.723889%5D%2C%0A%20%20%20%20%20%20%20%20%20%20%20%20%20%20%20%20%7B%0A%20%20%22bubblingMouseEvents%22%3A%20true%2C%0A%20%20%22color%22%3A%20%22green%22%2C%0A%20%20%22dashArray%22%3A%20null%2C%0A%20%20%22dashOffset%22%3A%20null%2C%0A%20%20%22fill%22%3A%20true%2C%0A%20%20%22fillColor%22%3A%20%22green%22%2C%0A%20%20%22fillOpacity%22%3A%200.7%2C%0A%20%20%22fillRule%22%3A%20%22evenodd%22%2C%0A%20%20%22lineCap%22%3A%20%22round%22%2C%0A%20%20%22lineJoin%22%3A%20%22round%22%2C%0A%20%20%22opacity%22%3A%201.0%2C%0A%20%20%22radius%22%3A%205%2C%0A%20%20%22stroke%22%3A%20true%2C%0A%20%20%22weight%22%3A%203%0A%7D%0A%20%20%20%20%20%20%20%20%20%20%20%20%20%20%20%20%29.addTo%28map_12c4a960d20240df91be89681a757588%29%3B%0A%20%20%20%20%20%20%20%20%20%20%20%20%0A%20%20%20%20%0A%20%20%20%20%20%20%20%20%20%20%20%20var%20popup_be62727a04c14b68bd5f23d77c19deac%20%3D%20L.popup%28%7BmaxWidth%3A%20%27300%27%7D%29%3B%0A%0A%20%20%20%20%20%20%20%20%20%20%20%20%0A%20%20%20%20%20%20%20%20%20%20%20%20%20%20%20%20var%20html_a51a7f790064475194826654a56627ab%20%3D%20%24%28%27%3Cdiv%20id%3D%22html_a51a7f790064475194826654a56627ab%22%20style%3D%22width%3A%20100.0%25%3B%20height%3A%20100.0%25%3B%22%3EAbrantes%2C%20Carabanchel%3C/div%3E%27%29%5B0%5D%3B%0A%20%20%20%20%20%20%20%20%20%20%20%20%20%20%20%20popup_be62727a04c14b68bd5f23d77c19deac.setContent%28html_a51a7f790064475194826654a56627ab%29%3B%0A%20%20%20%20%20%20%20%20%20%20%20%20%0A%0A%20%20%20%20%20%20%20%20%20%20%20%20circle_marker_f527be5bed964f7f8221aa50e7ed400e.bindPopup%28popup_be62727a04c14b68bd5f23d77c19deac%29%3B%0A%0A%20%20%20%20%20%20%20%20%20%20%20%20%0A%20%20%20%20%20%20%20%20%0A%20%20%20%20%0A%20%20%20%20%20%20%20%20%20%20%20%20var%20circle_marker_a72e4ae855f14445bf6a66182d6bfb94%20%3D%20L.circleMarker%28%0A%20%20%20%20%20%20%20%20%20%20%20%20%20%20%20%20%5B40.411389%2C-3.626944%5D%2C%0A%20%20%20%20%20%20%20%20%20%20%20%20%20%20%20%20%7B%0A%20%20%22bubblingMouseEvents%22%3A%20true%2C%0A%20%20%22color%22%3A%20%22green%22%2C%0A%20%20%22dashArray%22%3A%20null%2C%0A%20%20%22dashOffset%22%3A%20null%2C%0A%20%20%22fill%22%3A%20true%2C%0A%20%20%22fillColor%22%3A%20%22green%22%2C%0A%20%20%22fillOpacity%22%3A%200.7%2C%0A%20%20%22fillRule%22%3A%20%22evenodd%22%2C%0A%20%20%22lineCap%22%3A%20%22round%22%2C%0A%20%20%22lineJoin%22%3A%20%22round%22%2C%0A%20%20%22opacity%22%3A%201.0%2C%0A%20%20%22radius%22%3A%205%2C%0A%20%20%22stroke%22%3A%20true%2C%0A%20%20%22weight%22%3A%203%0A%7D%0A%20%20%20%20%20%20%20%20%20%20%20%20%20%20%20%20%29.addTo%28map_12c4a960d20240df91be89681a757588%29%3B%0A%20%20%20%20%20%20%20%20%20%20%20%20%0A%20%20%20%20%0A%20%20%20%20%20%20%20%20%20%20%20%20var%20popup_9124ba5e2b40487f82cf5e7cf1fe363d%20%3D%20L.popup%28%7BmaxWidth%3A%20%27300%27%7D%29%3B%0A%0A%20%20%20%20%20%20%20%20%20%20%20%20%0A%20%20%20%20%20%20%20%20%20%20%20%20%20%20%20%20var%20html_7172ab8e4ec240afa8034fbd96052e8d%20%3D%20%24%28%27%3Cdiv%20id%3D%22html_7172ab8e4ec240afa8034fbd96052e8d%22%20style%3D%22width%3A%20100.0%25%3B%20height%3A%20100.0%25%3B%22%3EHorcajo%2C%20Moratalaz%3C/div%3E%27%29%5B0%5D%3B%0A%20%20%20%20%20%20%20%20%20%20%20%20%20%20%20%20popup_9124ba5e2b40487f82cf5e7cf1fe363d.setContent%28html_7172ab8e4ec240afa8034fbd96052e8d%29%3B%0A%20%20%20%20%20%20%20%20%20%20%20%20%0A%0A%20%20%20%20%20%20%20%20%20%20%20%20circle_marker_a72e4ae855f14445bf6a66182d6bfb94.bindPopup%28popup_9124ba5e2b40487f82cf5e7cf1fe363d%29%3B%0A%0A%20%20%20%20%20%20%20%20%20%20%20%20%0A%20%20%20%20%20%20%20%20%0A%20%20%20%20%0A%20%20%20%20%20%20%20%20%20%20%20%20var%20circle_marker_8f06eaac61fc46d38b7248ed9f424c69%20%3D%20L.circleMarker%28%0A%20%20%20%20%20%20%20%20%20%20%20%20%20%20%20%20%5B40.343333%2C-3.688611%5D%2C%0A%20%20%20%20%20%20%20%20%20%20%20%20%20%20%20%20%7B%0A%20%20%22bubblingMouseEvents%22%3A%20true%2C%0A%20%20%22color%22%3A%20%22green%22%2C%0A%20%20%22dashArray%22%3A%20null%2C%0A%20%20%22dashOffset%22%3A%20null%2C%0A%20%20%22fill%22%3A%20true%2C%0A%20%20%22fillColor%22%3A%20%22green%22%2C%0A%20%20%22fillOpacity%22%3A%200.7%2C%0A%20%20%22fillRule%22%3A%20%22evenodd%22%2C%0A%20%20%22lineCap%22%3A%20%22round%22%2C%0A%20%20%22lineJoin%22%3A%20%22round%22%2C%0A%20%20%22opacity%22%3A%201.0%2C%0A%20%20%22radius%22%3A%205%2C%0A%20%20%22stroke%22%3A%20true%2C%0A%20%20%22weight%22%3A%203%0A%7D%0A%20%20%20%20%20%20%20%20%20%20%20%20%20%20%20%20%29.addTo%28map_12c4a960d20240df91be89681a757588%29%3B%0A%20%20%20%20%20%20%20%20%20%20%20%20%0A%20%20%20%20%0A%20%20%20%20%20%20%20%20%20%20%20%20var%20popup_d00b3656244742acb57ba8adacd0b532%20%3D%20L.popup%28%7BmaxWidth%3A%20%27300%27%7D%29%3B%0A%0A%20%20%20%20%20%20%20%20%20%20%20%20%0A%20%20%20%20%20%20%20%20%20%20%20%20%20%20%20%20var%20html_b6562793657c418a8a6bb55006ea93da%20%3D%20%24%28%27%3Cdiv%20id%3D%22html_b6562793657c418a8a6bb55006ea93da%22%20style%3D%22width%3A%20100.0%25%3B%20height%3A%20100.0%25%3B%22%3ESan%20Cristobal%2C%20Villaverde%3C/div%3E%27%29%5B0%5D%3B%0A%20%20%20%20%20%20%20%20%20%20%20%20%20%20%20%20popup_d00b3656244742acb57ba8adacd0b532.setContent%28html_b6562793657c418a8a6bb55006ea93da%29%3B%0A%20%20%20%20%20%20%20%20%20%20%20%20%0A%0A%20%20%20%20%20%20%20%20%20%20%20%20circle_marker_8f06eaac61fc46d38b7248ed9f424c69.bindPopup%28popup_d00b3656244742acb57ba8adacd0b532%29%3B%0A%0A%20%20%20%20%20%20%20%20%20%20%20%20%0A%20%20%20%20%20%20%20%20%0A%20%20%20%20%0A%20%20%20%20%20%20%20%20%20%20%20%20var%20circle_marker_1b6b9603170046b8a4b3ec0986d458ba%20%3D%20L.circleMarker%28%0A%20%20%20%20%20%20%20%20%20%20%20%20%20%20%20%20%5B40.411944%2C-3.729722%5D%2C%0A%20%20%20%20%20%20%20%20%20%20%20%20%20%20%20%20%7B%0A%20%20%22bubblingMouseEvents%22%3A%20true%2C%0A%20%20%22color%22%3A%20%22green%22%2C%0A%20%20%22dashArray%22%3A%20null%2C%0A%20%20%22dashOffset%22%3A%20null%2C%0A%20%20%22fill%22%3A%20true%2C%0A%20%20%22fillColor%22%3A%20%22green%22%2C%0A%20%20%22fillOpacity%22%3A%200.7%2C%0A%20%20%22fillRule%22%3A%20%22evenodd%22%2C%0A%20%20%22lineCap%22%3A%20%22round%22%2C%0A%20%20%22lineJoin%22%3A%20%22round%22%2C%0A%20%20%22opacity%22%3A%201.0%2C%0A%20%20%22radius%22%3A%205%2C%0A%20%20%22stroke%22%3A%20true%2C%0A%20%20%22weight%22%3A%203%0A%7D%0A%20%20%20%20%20%20%20%20%20%20%20%20%20%20%20%20%29.addTo%28map_12c4a960d20240df91be89681a757588%29%3B%0A%20%20%20%20%20%20%20%20%20%20%20%20%0A%20%20%20%20%0A%20%20%20%20%20%20%20%20%20%20%20%20var%20popup_a6a212c7642f42d0924ca2203d31a931%20%3D%20L.popup%28%7BmaxWidth%3A%20%27300%27%7D%29%3B%0A%0A%20%20%20%20%20%20%20%20%20%20%20%20%0A%20%20%20%20%20%20%20%20%20%20%20%20%20%20%20%20var%20html_b5496dba174146c4b7fc9778ddc5aaad%20%3D%20%24%28%27%3Cdiv%20id%3D%22html_b5496dba174146c4b7fc9778ddc5aaad%22%20style%3D%22width%3A%20100.0%25%3B%20height%3A%20100.0%25%3B%22%3EPuerta%20del%20Angel%2C%20Latina%3C/div%3E%27%29%5B0%5D%3B%0A%20%20%20%20%20%20%20%20%20%20%20%20%20%20%20%20popup_a6a212c7642f42d0924ca2203d31a931.setContent%28html_b5496dba174146c4b7fc9778ddc5aaad%29%3B%0A%20%20%20%20%20%20%20%20%20%20%20%20%0A%0A%20%20%20%20%20%20%20%20%20%20%20%20circle_marker_1b6b9603170046b8a4b3ec0986d458ba.bindPopup%28popup_a6a212c7642f42d0924ca2203d31a931%29%3B%0A%0A%20%20%20%20%20%20%20%20%20%20%20%20%0A%20%20%20%20%20%20%20%20%0A%20%20%20%20%0A%20%20%20%20%20%20%20%20%20%20%20%20var%20circle_marker_b35f35dd2c204fb89ab655b8876bb7ff%20%3D%20L.circleMarker%28%0A%20%20%20%20%20%20%20%20%20%20%20%20%20%20%20%20%5B40.3775%2C-3.764167%5D%2C%0A%20%20%20%20%20%20%20%20%20%20%20%20%20%20%20%20%7B%0A%20%20%22bubblingMouseEvents%22%3A%20true%2C%0A%20%20%22color%22%3A%20%22green%22%2C%0A%20%20%22dashArray%22%3A%20null%2C%0A%20%20%22dashOffset%22%3A%20null%2C%0A%20%20%22fill%22%3A%20true%2C%0A%20%20%22fillColor%22%3A%20%22green%22%2C%0A%20%20%22fillOpacity%22%3A%200.7%2C%0A%20%20%22fillRule%22%3A%20%22evenodd%22%2C%0A%20%20%22lineCap%22%3A%20%22round%22%2C%0A%20%20%22lineJoin%22%3A%20%22round%22%2C%0A%20%20%22opacity%22%3A%201.0%2C%0A%20%20%22radius%22%3A%205%2C%0A%20%20%22stroke%22%3A%20true%2C%0A%20%20%22weight%22%3A%203%0A%7D%0A%20%20%20%20%20%20%20%20%20%20%20%20%20%20%20%20%29.addTo%28map_12c4a960d20240df91be89681a757588%29%3B%0A%20%20%20%20%20%20%20%20%20%20%20%20%0A%20%20%20%20%0A%20%20%20%20%20%20%20%20%20%20%20%20var%20popup_b9b5277f28b74ecfad2b23491eef84db%20%3D%20L.popup%28%7BmaxWidth%3A%20%27300%27%7D%29%3B%0A%0A%20%20%20%20%20%20%20%20%20%20%20%20%0A%20%20%20%20%20%20%20%20%20%20%20%20%20%20%20%20var%20html_40c8cf36b4aa4fbcb509bed5d1f9d87e%20%3D%20%24%28%27%3Cdiv%20id%3D%22html_40c8cf36b4aa4fbcb509bed5d1f9d87e%22%20style%3D%22width%3A%20100.0%25%3B%20height%3A%20100.0%25%3B%22%3ELas%20Aguilas%2C%20Latina%3C/div%3E%27%29%5B0%5D%3B%0A%20%20%20%20%20%20%20%20%20%20%20%20%20%20%20%20popup_b9b5277f28b74ecfad2b23491eef84db.setContent%28html_40c8cf36b4aa4fbcb509bed5d1f9d87e%29%3B%0A%20%20%20%20%20%20%20%20%20%20%20%20%0A%0A%20%20%20%20%20%20%20%20%20%20%20%20circle_marker_b35f35dd2c204fb89ab655b8876bb7ff.bindPopup%28popup_b9b5277f28b74ecfad2b23491eef84db%29%3B%0A%0A%20%20%20%20%20%20%20%20%20%20%20%20%0A%20%20%20%20%20%20%20%20%0A%20%20%20%20%0A%20%20%20%20%20%20%20%20%20%20%20%20var%20circle_marker_af2a308ef34043fca554e11c8b5f6a5d%20%3D%20L.circleMarker%28%0A%20%20%20%20%20%20%20%20%20%20%20%20%20%20%20%20%5B40.383611%2C-3.698889%5D%2C%0A%20%20%20%20%20%20%20%20%20%20%20%20%20%20%20%20%7B%0A%20%20%22bubblingMouseEvents%22%3A%20true%2C%0A%20%20%22color%22%3A%20%22green%22%2C%0A%20%20%22dashArray%22%3A%20null%2C%0A%20%20%22dashOffset%22%3A%20null%2C%0A%20%20%22fill%22%3A%20true%2C%0A%20%20%22fillColor%22%3A%20%22green%22%2C%0A%20%20%22fillOpacity%22%3A%200.7%2C%0A%20%20%22fillRule%22%3A%20%22evenodd%22%2C%0A%20%20%22lineCap%22%3A%20%22round%22%2C%0A%20%20%22lineJoin%22%3A%20%22round%22%2C%0A%20%20%22opacity%22%3A%201.0%2C%0A%20%20%22radius%22%3A%205%2C%0A%20%20%22stroke%22%3A%20true%2C%0A%20%20%22weight%22%3A%203%0A%7D%0A%20%20%20%20%20%20%20%20%20%20%20%20%20%20%20%20%29.addTo%28map_12c4a960d20240df91be89681a757588%29%3B%0A%20%20%20%20%20%20%20%20%20%20%20%20%0A%20%20%20%20%0A%20%20%20%20%20%20%20%20%20%20%20%20var%20popup_424adfb977e740fe8ea6911d844547d4%20%3D%20L.popup%28%7BmaxWidth%3A%20%27300%27%7D%29%3B%0A%0A%20%20%20%20%20%20%20%20%20%20%20%20%0A%20%20%20%20%20%20%20%20%20%20%20%20%20%20%20%20var%20html_40afb9a3e4bc451188f7cebc64b7f1c9%20%3D%20%24%28%27%3Cdiv%20id%3D%22html_40afb9a3e4bc451188f7cebc64b7f1c9%22%20style%3D%22width%3A%20100.0%25%3B%20height%3A%20100.0%25%3B%22%3EAlmendrales%2C%20Usera%3C/div%3E%27%29%5B0%5D%3B%0A%20%20%20%20%20%20%20%20%20%20%20%20%20%20%20%20popup_424adfb977e740fe8ea6911d844547d4.setContent%28html_40afb9a3e4bc451188f7cebc64b7f1c9%29%3B%0A%20%20%20%20%20%20%20%20%20%20%20%20%0A%0A%20%20%20%20%20%20%20%20%20%20%20%20circle_marker_af2a308ef34043fca554e11c8b5f6a5d.bindPopup%28popup_424adfb977e740fe8ea6911d844547d4%29%3B%0A%0A%20%20%20%20%20%20%20%20%20%20%20%20%0A%20%20%20%20%20%20%20%20%0A%20%20%20%20%0A%20%20%20%20%20%20%20%20%20%20%20%20var%20circle_marker_aec506b84958461e934f1732200dcfce%20%3D%20L.circleMarker%28%0A%20%20%20%20%20%20%20%20%20%20%20%20%20%20%20%20%5B40.414167%2C-3.654722%5D%2C%0A%20%20%20%20%20%20%20%20%20%20%20%20%20%20%20%20%7B%0A%20%20%22bubblingMouseEvents%22%3A%20true%2C%0A%20%20%22color%22%3A%20%22green%22%2C%0A%20%20%22dashArray%22%3A%20null%2C%0A%20%20%22dashOffset%22%3A%20null%2C%0A%20%20%22fill%22%3A%20true%2C%0A%20%20%22fillColor%22%3A%20%22green%22%2C%0A%20%20%22fillOpacity%22%3A%200.7%2C%0A%20%20%22fillRule%22%3A%20%22evenodd%22%2C%0A%20%20%22lineCap%22%3A%20%22round%22%2C%0A%20%20%22lineJoin%22%3A%20%22round%22%2C%0A%20%20%22opacity%22%3A%201.0%2C%0A%20%20%22radius%22%3A%205%2C%0A%20%20%22stroke%22%3A%20true%2C%0A%20%20%22weight%22%3A%203%0A%7D%0A%20%20%20%20%20%20%20%20%20%20%20%20%20%20%20%20%29.addTo%28map_12c4a960d20240df91be89681a757588%29%3B%0A%20%20%20%20%20%20%20%20%20%20%20%20%0A%20%20%20%20%0A%20%20%20%20%20%20%20%20%20%20%20%20var%20popup_71f6fb60a0264c24a7f67ae2a04c9d99%20%3D%20L.popup%28%7BmaxWidth%3A%20%27300%27%7D%29%3B%0A%0A%20%20%20%20%20%20%20%20%20%20%20%20%0A%20%20%20%20%20%20%20%20%20%20%20%20%20%20%20%20var%20html_c7f0010a1d03412baacc7bc0b83f96ea%20%3D%20%24%28%27%3Cdiv%20id%3D%22html_c7f0010a1d03412baacc7bc0b83f96ea%22%20style%3D%22width%3A%20100.0%25%3B%20height%3A%20100.0%25%3B%22%3EMedia%20Legua%2C%20Moratalaz%3C/div%3E%27%29%5B0%5D%3B%0A%20%20%20%20%20%20%20%20%20%20%20%20%20%20%20%20popup_71f6fb60a0264c24a7f67ae2a04c9d99.setContent%28html_c7f0010a1d03412baacc7bc0b83f96ea%29%3B%0A%20%20%20%20%20%20%20%20%20%20%20%20%0A%0A%20%20%20%20%20%20%20%20%20%20%20%20circle_marker_aec506b84958461e934f1732200dcfce.bindPopup%28popup_71f6fb60a0264c24a7f67ae2a04c9d99%29%3B%0A%0A%20%20%20%20%20%20%20%20%20%20%20%20%0A%20%20%20%20%20%20%20%20%0A%20%20%20%20%0A%20%20%20%20%20%20%20%20%20%20%20%20var%20circle_marker_1b6ebf0eedb2439593e506d6252014f0%20%3D%20L.circleMarker%28%0A%20%20%20%20%20%20%20%20%20%20%20%20%20%20%20%20%5B40.476389%2C-3.658056%5D%2C%0A%20%20%20%20%20%20%20%20%20%20%20%20%20%20%20%20%7B%0A%20%20%22bubblingMouseEvents%22%3A%20true%2C%0A%20%20%22color%22%3A%20%22green%22%2C%0A%20%20%22dashArray%22%3A%20null%2C%0A%20%20%22dashOffset%22%3A%20null%2C%0A%20%20%22fill%22%3A%20true%2C%0A%20%20%22fillColor%22%3A%20%22green%22%2C%0A%20%20%22fillOpacity%22%3A%200.7%2C%0A%20%20%22fillRule%22%3A%20%22evenodd%22%2C%0A%20%20%22lineCap%22%3A%20%22round%22%2C%0A%20%20%22lineJoin%22%3A%20%22round%22%2C%0A%20%20%22opacity%22%3A%201.0%2C%0A%20%20%22radius%22%3A%205%2C%0A%20%20%22stroke%22%3A%20true%2C%0A%20%20%22weight%22%3A%203%0A%7D%0A%20%20%20%20%20%20%20%20%20%20%20%20%20%20%20%20%29.addTo%28map_12c4a960d20240df91be89681a757588%29%3B%0A%20%20%20%20%20%20%20%20%20%20%20%20%0A%20%20%20%20%0A%20%20%20%20%20%20%20%20%20%20%20%20var%20popup_7b822ebdb4ec407596a36a822f98dfba%20%3D%20L.popup%28%7BmaxWidth%3A%20%27300%27%7D%29%3B%0A%0A%20%20%20%20%20%20%20%20%20%20%20%20%0A%20%20%20%20%20%20%20%20%20%20%20%20%20%20%20%20var%20html_afd77a926e8c4dbbb800070e04ebc5b7%20%3D%20%24%28%27%3Cdiv%20id%3D%22html_afd77a926e8c4dbbb800070e04ebc5b7%22%20style%3D%22width%3A%20100.0%25%3B%20height%3A%20100.0%25%3B%22%3EApostol%20Santiago%2C%20Hortaleza%3C/div%3E%27%29%5B0%5D%3B%0A%20%20%20%20%20%20%20%20%20%20%20%20%20%20%20%20popup_7b822ebdb4ec407596a36a822f98dfba.setContent%28html_afd77a926e8c4dbbb800070e04ebc5b7%29%3B%0A%20%20%20%20%20%20%20%20%20%20%20%20%0A%0A%20%20%20%20%20%20%20%20%20%20%20%20circle_marker_1b6ebf0eedb2439593e506d6252014f0.bindPopup%28popup_7b822ebdb4ec407596a36a822f98dfba%29%3B%0A%0A%20%20%20%20%20%20%20%20%20%20%20%20%0A%20%20%20%20%20%20%20%20%0A%3C/script%3E onload=\"this.contentDocument.open();this.contentDocument.write(    decodeURIComponent(this.getAttribute('data-html')));this.contentDocument.close();\" allowfullscreen webkitallowfullscreen mozallowfullscreen></iframe></div></div>"
      ],
      "text/plain": [
       "<folium.folium.Map at 0x1359b0f1dc8>"
      ]
     },
     "execution_count": 48,
     "metadata": {},
     "output_type": "execute_result"
    }
   ],
   "source": [
    "# create map of Madrid city using latitude and longitude values\n",
    "map_neigh_natural = folium.Map(location = [latitude, longitude], zoom_start = 11)\n",
    "\n",
    "# add markers to map\n",
    "for lat, lng, borough, neighborhood in zip(neigh_natural['Latitude'], neigh_natural['Longitude'], neigh_natural['District'], neigh_natural['Neighborhood']):\n",
    "    label = '{}, {}'.format(neighborhood, borough)\n",
    "    label = folium.Popup(label, parse_html = True)\n",
    "    folium.CircleMarker(\n",
    "        [lat, lng],\n",
    "        radius = 5,\n",
    "        popup = label,\n",
    "        color = 'green',\n",
    "        fill = True,\n",
    "        fill_color = 'green',\n",
    "        fill_opacity = 0.7,\n",
    "        parse_html = False).add_to(map_neigh_natural)  \n",
    "    \n",
    "map_neigh_natural"
   ]
  },
  {
   "cell_type": "markdown",
   "metadata": {},
   "source": [
    "### Final 'natural' neighborhoods selection based on migrants' salary level"
   ]
  },
  {
   "cell_type": "markdown",
   "metadata": {},
   "source": [
    "The last step of our analysis was to provide insights to the diverse profiles of migrants, mostly based on their salary levels, about which options from the final pool of 'natural' neighborhoods might be the best for them to enjoy the kind of life they'd like to whilst not putting in danger their economic viability.\n",
    "\n",
    "In this case, we considered a migrant should never spend more than 40% of the total gross salary in accommodation costs:"
   ]
  },
  {
   "cell_type": "code",
   "execution_count": 49,
   "metadata": {
    "ExecuteTime": {
     "end_time": "2021-03-27T18:03:01.220907Z",
     "start_time": "2021-03-27T18:03:01.206947Z"
    }
   },
   "outputs": [
    {
     "data": {
      "text/html": [
       "<div>\n",
       "<style scoped>\n",
       "    .dataframe tbody tr th:only-of-type {\n",
       "        vertical-align: middle;\n",
       "    }\n",
       "\n",
       "    .dataframe tbody tr th {\n",
       "        vertical-align: top;\n",
       "    }\n",
       "\n",
       "    .dataframe thead th {\n",
       "        text-align: right;\n",
       "    }\n",
       "</style>\n",
       "<table border=\"1\" class=\"dataframe\">\n",
       "  <thead>\n",
       "    <tr style=\"text-align: right;\">\n",
       "      <th></th>\n",
       "      <th>Year Salary</th>\n",
       "      <th>Monthly Allowance (in EUR)</th>\n",
       "    </tr>\n",
       "    <tr>\n",
       "      <th>Range</th>\n",
       "      <th></th>\n",
       "      <th></th>\n",
       "    </tr>\n",
       "  </thead>\n",
       "  <tbody>\n",
       "    <tr>\n",
       "      <th>1</th>\n",
       "      <td>27671.67</td>\n",
       "      <td>922.39</td>\n",
       "    </tr>\n",
       "    <tr>\n",
       "      <th>2</th>\n",
       "      <td>32237.00</td>\n",
       "      <td>1074.57</td>\n",
       "    </tr>\n",
       "    <tr>\n",
       "      <th>3</th>\n",
       "      <td>48129.33</td>\n",
       "      <td>1604.31</td>\n",
       "    </tr>\n",
       "  </tbody>\n",
       "</table>\n",
       "</div>"
      ],
      "text/plain": [
       "       Year Salary  Monthly Allowance (in EUR)\n",
       "Range                                         \n",
       "1         27671.67                      922.39\n",
       "2         32237.00                     1074.57\n",
       "3         48129.33                     1604.31"
      ]
     },
     "execution_count": 49,
     "metadata": {},
     "output_type": "execute_result"
    }
   ],
   "source": [
    "# define salary values as integers for later calculations\n",
    "salary['Year Salary'] = salary['Year Salary'].astype(int)\n",
    "\n",
    "# group by salary ranges and generate a montly allowance column for renting limit\n",
    "salary_range = salary.groupby('Range')[['Year Salary', 'Range']].mean().astype(float).round(2)\n",
    "salary_range['Monthly Allowance (in EUR)'] = ((salary_range['Year Salary'] / 12) * 0.4).astype(float).round(2)\n",
    "salary_range"
   ]
  },
  {
   "cell_type": "markdown",
   "metadata": {},
   "source": [
    "Finally, let's define 3 exclusive scenarios on possible target neighborhoods to live in based on the salary range defined for the migrant and the average renting price of the accommodation in such neighborhoods:  "
   ]
  },
  {
   "cell_type": "code",
   "execution_count": 50,
   "metadata": {
    "ExecuteTime": {
     "end_time": "2021-03-27T18:03:01.235899Z",
     "start_time": "2021-03-27T18:03:01.221906Z"
    }
   },
   "outputs": [
    {
     "data": {
      "text/html": [
       "<div>\n",
       "<style scoped>\n",
       "    .dataframe tbody tr th:only-of-type {\n",
       "        vertical-align: middle;\n",
       "    }\n",
       "\n",
       "    .dataframe tbody tr th {\n",
       "        vertical-align: top;\n",
       "    }\n",
       "\n",
       "    .dataframe thead th {\n",
       "        text-align: right;\n",
       "    }\n",
       "</style>\n",
       "<table border=\"1\" class=\"dataframe\">\n",
       "  <thead>\n",
       "    <tr style=\"text-align: right;\">\n",
       "      <th></th>\n",
       "      <th>District</th>\n",
       "      <th>Neighborhood</th>\n",
       "      <th>Natural Rank</th>\n",
       "      <th>Average Home Size m2</th>\n",
       "      <th>Average Rental EUR</th>\n",
       "    </tr>\n",
       "  </thead>\n",
       "  <tbody>\n",
       "    <tr>\n",
       "      <th>2</th>\n",
       "      <td>Carabanchel</td>\n",
       "      <td>Abrantes</td>\n",
       "      <td>6</td>\n",
       "      <td>84</td>\n",
       "      <td>873.60</td>\n",
       "    </tr>\n",
       "    <tr>\n",
       "      <th>4</th>\n",
       "      <td>Villaverde</td>\n",
       "      <td>San Cristobal</td>\n",
       "      <td>6</td>\n",
       "      <td>69</td>\n",
       "      <td>732.09</td>\n",
       "    </tr>\n",
       "    <tr>\n",
       "      <th>6</th>\n",
       "      <td>Latina</td>\n",
       "      <td>Las Aguilas</td>\n",
       "      <td>5</td>\n",
       "      <td>84</td>\n",
       "      <td>840.00</td>\n",
       "    </tr>\n",
       "  </tbody>\n",
       "</table>\n",
       "</div>"
      ],
      "text/plain": [
       "      District   Neighborhood  Natural Rank  Average Home Size m2  \\\n",
       "2  Carabanchel       Abrantes             6                    84   \n",
       "4   Villaverde  San Cristobal             6                    69   \n",
       "6       Latina    Las Aguilas             5                    84   \n",
       "\n",
       "   Average Rental EUR  \n",
       "2              873.60  \n",
       "4              732.09  \n",
       "6              840.00  "
      ]
     },
     "execution_count": 50,
     "metadata": {},
     "output_type": "execute_result"
    }
   ],
   "source": [
    "# scenario salary range 1\n",
    "treshold_1 = salary_range.iloc[0,1].astype(float).round(0)\n",
    "\n",
    "# select doable options for such salary\n",
    "mad_natural_1 = neigh_natural[neigh_natural['Average Rental EUR'] < treshold_1]\n",
    "mad_natural_1 = mad_natural_1[['District', 'Neighborhood', 'Natural Rank', 'Average Home Size m2', 'Average Rental EUR']] \n",
    "mad_natural_1"
   ]
  },
  {
   "cell_type": "code",
   "execution_count": 51,
   "metadata": {
    "ExecuteTime": {
     "end_time": "2021-03-27T18:03:01.253824Z",
     "start_time": "2021-03-27T18:03:01.236865Z"
    }
   },
   "outputs": [
    {
     "data": {
      "text/html": [
       "<div>\n",
       "<style scoped>\n",
       "    .dataframe tbody tr th:only-of-type {\n",
       "        vertical-align: middle;\n",
       "    }\n",
       "\n",
       "    .dataframe tbody tr th {\n",
       "        vertical-align: top;\n",
       "    }\n",
       "\n",
       "    .dataframe thead th {\n",
       "        text-align: right;\n",
       "    }\n",
       "</style>\n",
       "<table border=\"1\" class=\"dataframe\">\n",
       "  <thead>\n",
       "    <tr style=\"text-align: right;\">\n",
       "      <th></th>\n",
       "      <th>District</th>\n",
       "      <th>Neighborhood</th>\n",
       "      <th>Natural Rank</th>\n",
       "      <th>Average Home Size m2</th>\n",
       "      <th>Average Rental EUR</th>\n",
       "    </tr>\n",
       "  </thead>\n",
       "  <tbody>\n",
       "    <tr>\n",
       "      <th>7</th>\n",
       "      <td>Usera</td>\n",
       "      <td>Almendrales</td>\n",
       "      <td>5</td>\n",
       "      <td>91</td>\n",
       "      <td>1064.7</td>\n",
       "    </tr>\n",
       "  </tbody>\n",
       "</table>\n",
       "</div>"
      ],
      "text/plain": [
       "  District Neighborhood  Natural Rank  Average Home Size m2  \\\n",
       "7    Usera  Almendrales             5                    91   \n",
       "\n",
       "   Average Rental EUR  \n",
       "7              1064.7  "
      ]
     },
     "execution_count": 51,
     "metadata": {},
     "output_type": "execute_result"
    }
   ],
   "source": [
    "# scenario salary range 2\n",
    "treshold_2 = salary_range.iloc[1,1].astype(float).round(0)\n",
    "\n",
    "# select doable options for such salary\n",
    "mad_natural_2 = neigh_natural[(neigh_natural['Average Rental EUR'] < treshold_2) & (neigh_natural['Average Rental EUR'] > treshold_1)]\n",
    "mad_natural_2 = mad_natural_2[['District', 'Neighborhood', 'Natural Rank', 'Average Home Size m2', 'Average Rental EUR']] \n",
    "mad_natural_2"
   ]
  },
  {
   "cell_type": "code",
   "execution_count": 52,
   "metadata": {
    "ExecuteTime": {
     "end_time": "2021-03-27T18:03:01.282745Z",
     "start_time": "2021-03-27T18:03:01.255813Z"
    }
   },
   "outputs": [
    {
     "data": {
      "text/html": [
       "<div>\n",
       "<style scoped>\n",
       "    .dataframe tbody tr th:only-of-type {\n",
       "        vertical-align: middle;\n",
       "    }\n",
       "\n",
       "    .dataframe tbody tr th {\n",
       "        vertical-align: top;\n",
       "    }\n",
       "\n",
       "    .dataframe thead th {\n",
       "        text-align: right;\n",
       "    }\n",
       "</style>\n",
       "<table border=\"1\" class=\"dataframe\">\n",
       "  <thead>\n",
       "    <tr style=\"text-align: right;\">\n",
       "      <th></th>\n",
       "      <th>District</th>\n",
       "      <th>Neighborhood</th>\n",
       "      <th>Natural Rank</th>\n",
       "      <th>Average Home Size m2</th>\n",
       "      <th>Average Rental EUR</th>\n",
       "    </tr>\n",
       "  </thead>\n",
       "  <tbody>\n",
       "    <tr>\n",
       "      <th>1</th>\n",
       "      <td>Moncloa-Aravaca</td>\n",
       "      <td>Valdezarza</td>\n",
       "      <td>6</td>\n",
       "      <td>88</td>\n",
       "      <td>1082.40</td>\n",
       "    </tr>\n",
       "    <tr>\n",
       "      <th>3</th>\n",
       "      <td>Moratalaz</td>\n",
       "      <td>Horcajo</td>\n",
       "      <td>6</td>\n",
       "      <td>141</td>\n",
       "      <td>1364.88</td>\n",
       "    </tr>\n",
       "    <tr>\n",
       "      <th>5</th>\n",
       "      <td>Latina</td>\n",
       "      <td>Puerta del Angel</td>\n",
       "      <td>5</td>\n",
       "      <td>83</td>\n",
       "      <td>1087.30</td>\n",
       "    </tr>\n",
       "    <tr>\n",
       "      <th>8</th>\n",
       "      <td>Moratalaz</td>\n",
       "      <td>Media Legua</td>\n",
       "      <td>5</td>\n",
       "      <td>99</td>\n",
       "      <td>1118.70</td>\n",
       "    </tr>\n",
       "    <tr>\n",
       "      <th>9</th>\n",
       "      <td>Hortaleza</td>\n",
       "      <td>Apostol Santiago</td>\n",
       "      <td>5</td>\n",
       "      <td>109</td>\n",
       "      <td>1177.20</td>\n",
       "    </tr>\n",
       "  </tbody>\n",
       "</table>\n",
       "</div>"
      ],
      "text/plain": [
       "          District      Neighborhood  Natural Rank  Average Home Size m2  \\\n",
       "1  Moncloa-Aravaca        Valdezarza             6                    88   \n",
       "3        Moratalaz           Horcajo             6                   141   \n",
       "5           Latina  Puerta del Angel             5                    83   \n",
       "8        Moratalaz       Media Legua             5                    99   \n",
       "9        Hortaleza  Apostol Santiago             5                   109   \n",
       "\n",
       "   Average Rental EUR  \n",
       "1             1082.40  \n",
       "3             1364.88  \n",
       "5             1087.30  \n",
       "8             1118.70  \n",
       "9             1177.20  "
      ]
     },
     "execution_count": 52,
     "metadata": {},
     "output_type": "execute_result"
    }
   ],
   "source": [
    "# scenario salary range 3\n",
    "treshold_3 = salary_range.iloc[2,1].astype(float).round(0)\n",
    "\n",
    "# select doable options for such salary\n",
    "mad_natural_3 = neigh_natural[(neigh_natural['Average Rental EUR'] < treshold_3) & (neigh_natural['Average Rental EUR'] > treshold_2)]\n",
    "mad_natural_3 = mad_natural_3[['District', 'Neighborhood', 'Natural Rank', 'Average Home Size m2', 'Average Rental EUR']] \n",
    "mad_natural_3"
   ]
  },
  {
   "cell_type": "markdown",
   "metadata": {},
   "source": [
    "## Results and Discussion"
   ]
  },
  {
   "cell_type": "markdown",
   "metadata": {},
   "source": [
    "Our analysis showed that Madrid is a better city of choice in Spain for migrants looking for an environment which is full of venues and places where to live following a more 'natural' way of living, even if doing so in the downtown area.\n",
    "\n",
    "This was proved statistically, being also noticeable that Madrid has more 'natural' venues under all the expected categories (except restaurants), and also that these 'natural' venues have a more homogeneous distribution across the diverse areas of the city there than in Barcelona.  \n",
    "\n",
    "But choosing one city or the other was only one of the targets of this analysis. After obtaining Madrid as the suitable candidate city for 'natural' migrants, we followed a funneling process to first determine via a k-means clustering analysis which was the best candidate pool of neighborhoods to migrate to within the city, to later go more granular into where to really land based on the migrants' economic level.\n",
    "\n",
    "We determined 4 was the best and more balanced number of clusters to define a priori during the process. From those, cluster 1, with a big amount of neighborhoods included (80 out of the total 131 neighborhoods in the city of Madrid), seemed the one with a most homogeneous and natural-driven profile of areas included. \n",
    "\n",
    "Anyway, as said, having 80 elements in this group would not help much with doing a suitable options recommendation. For this reason we needed to shortlist those to a more manageable amount of top 10 more 'natural' neighborhoods. Surprisingly, there was no specific geographic concentration of these neighborhoods in any given area of the city, with the best candidates being spread all across Madrid downtown.\n",
    "\n",
    "From those top 10 candidate neighborhoods we found that one, Fuentelarreina, in the North, with huge average house sizes and renting prices, was completely out of scope of any migrant with annual gross salaries below EUR50k. The other 9 candidate neighborhoods appeared in any of the 3 alternative (and exclusive) proposition groups based on salary ranges.\n",
    "\n",
    "Of course, being that said, for example, someone in the salary range 3 (between EUR40k and EUR50k yearly), like a Doctor or an Architect, would likely chose as a preference to live in the neighborhood of Horcajo. Must be willing to spend money on accommodation in the upper bound of the range, but would be getting in return the highest possible value of 'natural' likeliness (6) and the average biggest houses (141 m$^{2}$) to live in."
   ]
  },
  {
   "cell_type": "markdown",
   "metadata": {},
   "source": [
    "## Conclusion"
   ]
  },
  {
   "cell_type": "markdown",
   "metadata": {},
   "source": [
    "The purpose of this project was to help possible migrant candidates (under a specific 'natural life' persona group) to Spain to chose the best city for them, whether being Madrid or Barcelona.\n",
    "\n",
    "Once the best candidate city chosen (herein Madrid), we tried to provide the most accurate recommendations possible to narrow down the destination neighborhoods based on their 'natural life' profile likeliness. We also framed alternative options based on the migrants' economic capacity, so that they could choose to spend a fair amount on accommodation while still having the kind of life they would be looking for.   \n",
    "\n",
    "Of course, this is just a help for migrants to make a documented choice beyond just using a possible job opportunity to decide where to move to. Many other factors like proximity to job place, access to major roads, levels of noise, contamination levels, etc., would also need to be taken into account, and these may need to be handled by the own migrants when trying to make the final decision. "
   ]
  },
  {
   "cell_type": "markdown",
   "metadata": {
    "ExecuteTime": {
     "end_time": "2021-03-27T18:00:47.523899Z",
     "start_time": "2021-03-27T18:00:47.516910Z"
    }
   },
   "source": [
    "## Convert .ipynb file into .html"
   ]
  },
  {
   "cell_type": "code",
   "execution_count": 53,
   "metadata": {
    "ExecuteTime": {
     "end_time": "2021-03-27T18:03:02.940947Z",
     "start_time": "2021-03-27T18:03:01.283741Z"
    }
   },
   "outputs": [
    {
     "data": {
      "text/plain": [
       "0"
      ]
     },
     "execution_count": 53,
     "metadata": {},
     "output_type": "execute_result"
    }
   ],
   "source": [
    "import os\n",
    "\n",
    "os.system('jupyter nbconvert --to html IBM_capstone_notebook_Madrid_or_Barcelona.ipynb')"
   ]
  },
  {
   "cell_type": "markdown",
   "metadata": {},
   "source": [
    "2021 Sergio Hidalgo - sergio.hidalgo@thetamize.com"
   ]
  }
 ],
 "metadata": {
  "hide_input": false,
  "kernelspec": {
   "display_name": "Python 3",
   "language": "python",
   "name": "python3"
  },
  "language_info": {
   "codemirror_mode": {
    "name": "ipython",
    "version": 3
   },
   "file_extension": ".py",
   "mimetype": "text/x-python",
   "name": "python",
   "nbconvert_exporter": "python",
   "pygments_lexer": "ipython3",
   "version": "3.7.6"
  },
  "toc": {
   "base_numbering": 1,
   "nav_menu": {},
   "number_sections": true,
   "sideBar": true,
   "skip_h1_title": false,
   "title_cell": "Table of Contents",
   "title_sidebar": "Contents",
   "toc_cell": false,
   "toc_position": {},
   "toc_section_display": true,
   "toc_window_display": false
  },
  "varInspector": {
   "cols": {
    "lenName": 16,
    "lenType": 16,
    "lenVar": 40
   },
   "kernels_config": {
    "python": {
     "delete_cmd_postfix": "",
     "delete_cmd_prefix": "del ",
     "library": "var_list.py",
     "varRefreshCmd": "print(var_dic_list())"
    },
    "r": {
     "delete_cmd_postfix": ") ",
     "delete_cmd_prefix": "rm(",
     "library": "var_list.r",
     "varRefreshCmd": "cat(var_dic_list()) "
    }
   },
   "types_to_exclude": [
    "module",
    "function",
    "builtin_function_or_method",
    "instance",
    "_Feature"
   ],
   "window_display": false
  }
 },
 "nbformat": 4,
 "nbformat_minor": 4
}
